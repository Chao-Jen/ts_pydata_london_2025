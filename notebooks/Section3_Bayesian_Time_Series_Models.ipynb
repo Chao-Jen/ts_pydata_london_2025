{
 "cells": [
  {
   "cell_type": "markdown",
   "metadata": {},
   "source": [
    "# Section 3: Bayesian Time Series Models\n",
    "\n",
    "#### PyData London 2025 - Bayesian Time Series Analysis with PyMC\n",
    "\n",
    "---\n",
    "\n",
    "In this section, we'll explore the landscape of Bayesian time series models, from simple random walks to sophisticated state-space models and Gaussian processes. These models provide the foundation for understanding temporal patterns and making probabilistic forecasts."
   ]
  },
  {
   "cell_type": "code",
   "execution_count": 1,
   "metadata": {},
   "outputs": [
    {
     "name": "stdout",
     "output_type": "stream",
     "text": [
      "🔧 Libraries loaded successfully!\n"
     ]
    }
   ],
   "source": [
    "import numpy as np\n",
    "import polars as pl\n",
    "import plotly.express as px\n",
    "import plotly.graph_objects as go\n",
    "import pymc as pm\n",
    "import pytensor.tensor as pt\n",
    "import arviz as az\n",
    "import warnings\n",
    "\n",
    "az.style.use(\"arviz-darkgrid\")\n",
    "warnings.filterwarnings('ignore')\n",
    "\n",
    "# Set random seed for reproducibility\n",
    "RNG = np.random.default_rng(RANDOM_SEED:=42)\n",
    "\n",
    "print(\"🔧 Libraries loaded successfully!\")\n"
   ]
  },
  {
   "cell_type": "markdown",
   "metadata": {},
   "source": [
    "Our first motivating example will be the population dymanics of the arctic ground squirrel (*Urocitellus parryii*) in the Kluane region of the Yukon Territory, Canada. Typically, arctic hare get all the attention, with their cyclic population dynamics being a classic example of a predator-prey system. However, the arctic ground squirrel is a more abundant species, and their population dynamics are also interesting.\n",
    "\n",
    "![Arctic ground squirrel](images/Arctic-Ground-Squirrel.jpg)\n",
    "\n",
    "Below are densities, estimated independently twice per year from mark-recapture data."
   ]
  },
  {
   "cell_type": "code",
   "execution_count": 2,
   "metadata": {},
   "outputs": [],
   "source": [
    "# Load data and filter for years up to 1999\n",
    "squirrel_data = pl.read_csv('../data/arctic_ground_squirrels_timeseries.csv')\n",
    "\n",
    "# Create plot data with both spring and summer for context\n",
    "squirrel_plot = (squirrel_data\n",
    "    .filter(pl.col('Average_per_ha').is_not_null())\n",
    "    .filter(pl.col('Year') <= 1999)\n",
    "    .sort(['Year', 'Season'])\n",
    "    .with_columns([\n",
    "        pl.when(pl.col('Season') == 'Spring')\n",
    "        .then(pl.col('Year') + 0.25)\n",
    "        .otherwise(pl.col('Year') + 0.5)\n",
    "        .alias('Year_fractional')\n",
    "    ])\n",
    ")"
   ]
  },
  {
   "cell_type": "code",
   "execution_count": 3,
   "metadata": {},
   "outputs": [
    {
     "data": {
      "application/vnd.plotly.v1+json": {
       "config": {
        "plotlyServerURL": "https://plot.ly"
       },
       "data": [
        {
         "hovertemplate": [
          "<b>Year:</b> 1990<br><b>Season:</b> Spring<br><b>Density:</b> 1.75 per hectare<extra></extra>",
          "<b>Year:</b> 1990<br><b>Season:</b> Summer<br><b>Density:</b> 1.24 per hectare<extra></extra>",
          "<b>Year:</b> 1991<br><b>Season:</b> Spring<br><b>Density:</b> 1.50 per hectare<extra></extra>",
          "<b>Year:</b> 1992<br><b>Season:</b> Summer<br><b>Density:</b> 0.81 per hectare<extra></extra>",
          "<b>Year:</b> 1992<br><b>Season:</b> Spring<br><b>Density:</b> 0.55 per hectare<extra></extra>",
          "<b>Year:</b> 1992<br><b>Season:</b> Summer<br><b>Density:</b> 0.54 per hectare<extra></extra>",
          "<b>Year:</b> 1993<br><b>Season:</b> Spring<br><b>Density:</b> 0.44 per hectare<extra></extra>",
          "<b>Year:</b> 1994<br><b>Season:</b> Summer<br><b>Density:</b> 0.93 per hectare<extra></extra>",
          "<b>Year:</b> 1994<br><b>Season:</b> Spring<br><b>Density:</b> 0.45 per hectare<extra></extra>",
          "<b>Year:</b> 1994<br><b>Season:</b> Summer<br><b>Density:</b> 1.44 per hectare<extra></extra>",
          "<b>Year:</b> 1995<br><b>Season:</b> Spring<br><b>Density:</b> 1.13 per hectare<extra></extra>",
          "<b>Year:</b> 1996<br><b>Season:</b> Summer<br><b>Density:</b> 2.01 per hectare<extra></extra>",
          "<b>Year:</b> 1996<br><b>Season:</b> Spring<br><b>Density:</b> 1.08 per hectare<extra></extra>",
          "<b>Year:</b> 1996<br><b>Season:</b> Summer<br><b>Density:</b> 1.37 per hectare<extra></extra>",
          "<b>Year:</b> 1997<br><b>Season:</b> Spring<br><b>Density:</b> 1.03 per hectare<extra></extra>",
          "<b>Year:</b> 1998<br><b>Season:</b> Summer<br><b>Density:</b> 1.32 per hectare<extra></extra>",
          "<b>Year:</b> 1998<br><b>Season:</b> Spring<br><b>Density:</b> 1.55 per hectare<extra></extra>",
          "<b>Year:</b> 1998<br><b>Season:</b> Summer<br><b>Density:</b> 1.34 per hectare<extra></extra>",
          "<b>Year:</b> 1999<br><b>Season:</b> Spring<br><b>Density:</b> 1.16 per hectare<extra></extra>",
          "<b>Year:</b> 2000<br><b>Season:</b> Summer<br><b>Density:</b> 0.90 per hectare<extra></extra>"
         ],
         "line": {
          "color": "steelblue",
          "width": 2
         },
         "marker": {
          "color": [
           "green",
           "orange",
           "green",
           "orange",
           "green",
           "orange",
           "green",
           "orange",
           "green",
           "orange",
           "green",
           "orange",
           "green",
           "orange",
           "green",
           "orange",
           "green",
           "orange",
           "green",
           "orange"
          ],
          "size": 8,
          "symbol": [
           "circle",
           "square",
           "circle",
           "square",
           "circle",
           "square",
           "circle",
           "square",
           "circle",
           "square",
           "circle",
           "square",
           "circle",
           "square",
           "circle",
           "square",
           "circle",
           "square",
           "circle",
           "square"
          ]
         },
         "mode": "lines+markers",
         "name": "Population Density",
         "text": [
          "Spring",
          "Summer",
          "Spring",
          "Summer",
          "Spring",
          "Summer",
          "Spring",
          "Summer",
          "Spring",
          "Summer",
          "Spring",
          "Summer",
          "Spring",
          "Summer",
          "Spring",
          "Summer",
          "Spring",
          "Summer",
          "Spring",
          "Summer"
         ],
         "type": "scatter",
         "x": {
          "bdata": "AAAAAAAZn0AAAAAAABqfQAAAAAAAHZ9AAAAAAAAen0AAAAAAACGfQAAAAAAAIp9AAAAAAAAln0AAAAAAACafQAAAAAAAKZ9AAAAAAAAqn0AAAAAAAC2fQAAAAAAALp9AAAAAAAAxn0AAAAAAADKfQAAAAAAANZ9AAAAAAAA2n0AAAAAAADmfQAAAAAAAOp9AAAAAAAA9n0AAAAAAAD6fQA==",
          "dtype": "f8"
         },
         "y": {
          "bdata": "AAAAAAAA/D/D9Shcj8LzPwAAAAAAAPg/7FG4HoXr6T+amZmZmZnhP0jhehSuR+E/KlyPwvUo3D/D9Shcj8LtP8zMzMzMzNw/HoXrUbge9z8VrkfhehTyPx6F61G4HgBANDMzMzMz8T/f4AuTqeL1P3sUrkfhevA/0GbV52oL9T/MzMzMzMz4P36MuWsJefU/eHqlLEN88j80XrpJDMLsPw==",
          "dtype": "f8"
         }
        }
       ],
       "layout": {
        "annotations": [
         {
          "bgcolor": "rgba(255,255,255,0.8)",
          "bordercolor": "gray",
          "borderwidth": 1,
          "font": {
           "size": 12
          },
          "showarrow": false,
          "text": "🟢 Spring &nbsp;&nbsp; 🟠 Summer",
          "x": 0.02,
          "xref": "paper",
          "y": 0.98,
          "yref": "paper"
         }
        ],
        "height": 500,
        "showlegend": false,
        "template": {
         "data": {
          "bar": [
           {
            "error_x": {
             "color": "#2a3f5f"
            },
            "error_y": {
             "color": "#2a3f5f"
            },
            "marker": {
             "line": {
              "color": "white",
              "width": 0.5
             },
             "pattern": {
              "fillmode": "overlay",
              "size": 10,
              "solidity": 0.2
             }
            },
            "type": "bar"
           }
          ],
          "barpolar": [
           {
            "marker": {
             "line": {
              "color": "white",
              "width": 0.5
             },
             "pattern": {
              "fillmode": "overlay",
              "size": 10,
              "solidity": 0.2
             }
            },
            "type": "barpolar"
           }
          ],
          "carpet": [
           {
            "aaxis": {
             "endlinecolor": "#2a3f5f",
             "gridcolor": "#C8D4E3",
             "linecolor": "#C8D4E3",
             "minorgridcolor": "#C8D4E3",
             "startlinecolor": "#2a3f5f"
            },
            "baxis": {
             "endlinecolor": "#2a3f5f",
             "gridcolor": "#C8D4E3",
             "linecolor": "#C8D4E3",
             "minorgridcolor": "#C8D4E3",
             "startlinecolor": "#2a3f5f"
            },
            "type": "carpet"
           }
          ],
          "choropleth": [
           {
            "colorbar": {
             "outlinewidth": 0,
             "ticks": ""
            },
            "type": "choropleth"
           }
          ],
          "contour": [
           {
            "colorbar": {
             "outlinewidth": 0,
             "ticks": ""
            },
            "colorscale": [
             [
              0,
              "#0d0887"
             ],
             [
              0.1111111111111111,
              "#46039f"
             ],
             [
              0.2222222222222222,
              "#7201a8"
             ],
             [
              0.3333333333333333,
              "#9c179e"
             ],
             [
              0.4444444444444444,
              "#bd3786"
             ],
             [
              0.5555555555555556,
              "#d8576b"
             ],
             [
              0.6666666666666666,
              "#ed7953"
             ],
             [
              0.7777777777777778,
              "#fb9f3a"
             ],
             [
              0.8888888888888888,
              "#fdca26"
             ],
             [
              1,
              "#f0f921"
             ]
            ],
            "type": "contour"
           }
          ],
          "contourcarpet": [
           {
            "colorbar": {
             "outlinewidth": 0,
             "ticks": ""
            },
            "type": "contourcarpet"
           }
          ],
          "heatmap": [
           {
            "colorbar": {
             "outlinewidth": 0,
             "ticks": ""
            },
            "colorscale": [
             [
              0,
              "#0d0887"
             ],
             [
              0.1111111111111111,
              "#46039f"
             ],
             [
              0.2222222222222222,
              "#7201a8"
             ],
             [
              0.3333333333333333,
              "#9c179e"
             ],
             [
              0.4444444444444444,
              "#bd3786"
             ],
             [
              0.5555555555555556,
              "#d8576b"
             ],
             [
              0.6666666666666666,
              "#ed7953"
             ],
             [
              0.7777777777777778,
              "#fb9f3a"
             ],
             [
              0.8888888888888888,
              "#fdca26"
             ],
             [
              1,
              "#f0f921"
             ]
            ],
            "type": "heatmap"
           }
          ],
          "histogram": [
           {
            "marker": {
             "pattern": {
              "fillmode": "overlay",
              "size": 10,
              "solidity": 0.2
             }
            },
            "type": "histogram"
           }
          ],
          "histogram2d": [
           {
            "colorbar": {
             "outlinewidth": 0,
             "ticks": ""
            },
            "colorscale": [
             [
              0,
              "#0d0887"
             ],
             [
              0.1111111111111111,
              "#46039f"
             ],
             [
              0.2222222222222222,
              "#7201a8"
             ],
             [
              0.3333333333333333,
              "#9c179e"
             ],
             [
              0.4444444444444444,
              "#bd3786"
             ],
             [
              0.5555555555555556,
              "#d8576b"
             ],
             [
              0.6666666666666666,
              "#ed7953"
             ],
             [
              0.7777777777777778,
              "#fb9f3a"
             ],
             [
              0.8888888888888888,
              "#fdca26"
             ],
             [
              1,
              "#f0f921"
             ]
            ],
            "type": "histogram2d"
           }
          ],
          "histogram2dcontour": [
           {
            "colorbar": {
             "outlinewidth": 0,
             "ticks": ""
            },
            "colorscale": [
             [
              0,
              "#0d0887"
             ],
             [
              0.1111111111111111,
              "#46039f"
             ],
             [
              0.2222222222222222,
              "#7201a8"
             ],
             [
              0.3333333333333333,
              "#9c179e"
             ],
             [
              0.4444444444444444,
              "#bd3786"
             ],
             [
              0.5555555555555556,
              "#d8576b"
             ],
             [
              0.6666666666666666,
              "#ed7953"
             ],
             [
              0.7777777777777778,
              "#fb9f3a"
             ],
             [
              0.8888888888888888,
              "#fdca26"
             ],
             [
              1,
              "#f0f921"
             ]
            ],
            "type": "histogram2dcontour"
           }
          ],
          "mesh3d": [
           {
            "colorbar": {
             "outlinewidth": 0,
             "ticks": ""
            },
            "type": "mesh3d"
           }
          ],
          "parcoords": [
           {
            "line": {
             "colorbar": {
              "outlinewidth": 0,
              "ticks": ""
             }
            },
            "type": "parcoords"
           }
          ],
          "pie": [
           {
            "automargin": true,
            "type": "pie"
           }
          ],
          "scatter": [
           {
            "fillpattern": {
             "fillmode": "overlay",
             "size": 10,
             "solidity": 0.2
            },
            "type": "scatter"
           }
          ],
          "scatter3d": [
           {
            "line": {
             "colorbar": {
              "outlinewidth": 0,
              "ticks": ""
             }
            },
            "marker": {
             "colorbar": {
              "outlinewidth": 0,
              "ticks": ""
             }
            },
            "type": "scatter3d"
           }
          ],
          "scattercarpet": [
           {
            "marker": {
             "colorbar": {
              "outlinewidth": 0,
              "ticks": ""
             }
            },
            "type": "scattercarpet"
           }
          ],
          "scattergeo": [
           {
            "marker": {
             "colorbar": {
              "outlinewidth": 0,
              "ticks": ""
             }
            },
            "type": "scattergeo"
           }
          ],
          "scattergl": [
           {
            "marker": {
             "colorbar": {
              "outlinewidth": 0,
              "ticks": ""
             }
            },
            "type": "scattergl"
           }
          ],
          "scattermap": [
           {
            "marker": {
             "colorbar": {
              "outlinewidth": 0,
              "ticks": ""
             }
            },
            "type": "scattermap"
           }
          ],
          "scattermapbox": [
           {
            "marker": {
             "colorbar": {
              "outlinewidth": 0,
              "ticks": ""
             }
            },
            "type": "scattermapbox"
           }
          ],
          "scatterpolar": [
           {
            "marker": {
             "colorbar": {
              "outlinewidth": 0,
              "ticks": ""
             }
            },
            "type": "scatterpolar"
           }
          ],
          "scatterpolargl": [
           {
            "marker": {
             "colorbar": {
              "outlinewidth": 0,
              "ticks": ""
             }
            },
            "type": "scatterpolargl"
           }
          ],
          "scatterternary": [
           {
            "marker": {
             "colorbar": {
              "outlinewidth": 0,
              "ticks": ""
             }
            },
            "type": "scatterternary"
           }
          ],
          "surface": [
           {
            "colorbar": {
             "outlinewidth": 0,
             "ticks": ""
            },
            "colorscale": [
             [
              0,
              "#0d0887"
             ],
             [
              0.1111111111111111,
              "#46039f"
             ],
             [
              0.2222222222222222,
              "#7201a8"
             ],
             [
              0.3333333333333333,
              "#9c179e"
             ],
             [
              0.4444444444444444,
              "#bd3786"
             ],
             [
              0.5555555555555556,
              "#d8576b"
             ],
             [
              0.6666666666666666,
              "#ed7953"
             ],
             [
              0.7777777777777778,
              "#fb9f3a"
             ],
             [
              0.8888888888888888,
              "#fdca26"
             ],
             [
              1,
              "#f0f921"
             ]
            ],
            "type": "surface"
           }
          ],
          "table": [
           {
            "cells": {
             "fill": {
              "color": "#EBF0F8"
             },
             "line": {
              "color": "white"
             }
            },
            "header": {
             "fill": {
              "color": "#C8D4E3"
             },
             "line": {
              "color": "white"
             }
            },
            "type": "table"
           }
          ]
         },
         "layout": {
          "annotationdefaults": {
           "arrowcolor": "#2a3f5f",
           "arrowhead": 0,
           "arrowwidth": 1
          },
          "autotypenumbers": "strict",
          "coloraxis": {
           "colorbar": {
            "outlinewidth": 0,
            "ticks": ""
           }
          },
          "colorscale": {
           "diverging": [
            [
             0,
             "#8e0152"
            ],
            [
             0.1,
             "#c51b7d"
            ],
            [
             0.2,
             "#de77ae"
            ],
            [
             0.3,
             "#f1b6da"
            ],
            [
             0.4,
             "#fde0ef"
            ],
            [
             0.5,
             "#f7f7f7"
            ],
            [
             0.6,
             "#e6f5d0"
            ],
            [
             0.7,
             "#b8e186"
            ],
            [
             0.8,
             "#7fbc41"
            ],
            [
             0.9,
             "#4d9221"
            ],
            [
             1,
             "#276419"
            ]
           ],
           "sequential": [
            [
             0,
             "#0d0887"
            ],
            [
             0.1111111111111111,
             "#46039f"
            ],
            [
             0.2222222222222222,
             "#7201a8"
            ],
            [
             0.3333333333333333,
             "#9c179e"
            ],
            [
             0.4444444444444444,
             "#bd3786"
            ],
            [
             0.5555555555555556,
             "#d8576b"
            ],
            [
             0.6666666666666666,
             "#ed7953"
            ],
            [
             0.7777777777777778,
             "#fb9f3a"
            ],
            [
             0.8888888888888888,
             "#fdca26"
            ],
            [
             1,
             "#f0f921"
            ]
           ],
           "sequentialminus": [
            [
             0,
             "#0d0887"
            ],
            [
             0.1111111111111111,
             "#46039f"
            ],
            [
             0.2222222222222222,
             "#7201a8"
            ],
            [
             0.3333333333333333,
             "#9c179e"
            ],
            [
             0.4444444444444444,
             "#bd3786"
            ],
            [
             0.5555555555555556,
             "#d8576b"
            ],
            [
             0.6666666666666666,
             "#ed7953"
            ],
            [
             0.7777777777777778,
             "#fb9f3a"
            ],
            [
             0.8888888888888888,
             "#fdca26"
            ],
            [
             1,
             "#f0f921"
            ]
           ]
          },
          "colorway": [
           "#636efa",
           "#EF553B",
           "#00cc96",
           "#ab63fa",
           "#FFA15A",
           "#19d3f3",
           "#FF6692",
           "#B6E880",
           "#FF97FF",
           "#FECB52"
          ],
          "font": {
           "color": "#2a3f5f"
          },
          "geo": {
           "bgcolor": "white",
           "lakecolor": "white",
           "landcolor": "white",
           "showlakes": true,
           "showland": true,
           "subunitcolor": "#C8D4E3"
          },
          "hoverlabel": {
           "align": "left"
          },
          "hovermode": "closest",
          "mapbox": {
           "style": "light"
          },
          "paper_bgcolor": "white",
          "plot_bgcolor": "white",
          "polar": {
           "angularaxis": {
            "gridcolor": "#EBF0F8",
            "linecolor": "#EBF0F8",
            "ticks": ""
           },
           "bgcolor": "white",
           "radialaxis": {
            "gridcolor": "#EBF0F8",
            "linecolor": "#EBF0F8",
            "ticks": ""
           }
          },
          "scene": {
           "xaxis": {
            "backgroundcolor": "white",
            "gridcolor": "#DFE8F3",
            "gridwidth": 2,
            "linecolor": "#EBF0F8",
            "showbackground": true,
            "ticks": "",
            "zerolinecolor": "#EBF0F8"
           },
           "yaxis": {
            "backgroundcolor": "white",
            "gridcolor": "#DFE8F3",
            "gridwidth": 2,
            "linecolor": "#EBF0F8",
            "showbackground": true,
            "ticks": "",
            "zerolinecolor": "#EBF0F8"
           },
           "zaxis": {
            "backgroundcolor": "white",
            "gridcolor": "#DFE8F3",
            "gridwidth": 2,
            "linecolor": "#EBF0F8",
            "showbackground": true,
            "ticks": "",
            "zerolinecolor": "#EBF0F8"
           }
          },
          "shapedefaults": {
           "line": {
            "color": "#2a3f5f"
           }
          },
          "ternary": {
           "aaxis": {
            "gridcolor": "#DFE8F3",
            "linecolor": "#A2B1C6",
            "ticks": ""
           },
           "baxis": {
            "gridcolor": "#DFE8F3",
            "linecolor": "#A2B1C6",
            "ticks": ""
           },
           "bgcolor": "white",
           "caxis": {
            "gridcolor": "#DFE8F3",
            "linecolor": "#A2B1C6",
            "ticks": ""
           }
          },
          "title": {
           "x": 0.05
          },
          "xaxis": {
           "automargin": true,
           "gridcolor": "#EBF0F8",
           "linecolor": "#EBF0F8",
           "ticks": "",
           "title": {
            "standoff": 15
           },
           "zerolinecolor": "#EBF0F8",
           "zerolinewidth": 2
          },
          "yaxis": {
           "automargin": true,
           "gridcolor": "#EBF0F8",
           "linecolor": "#EBF0F8",
           "ticks": "",
           "title": {
            "standoff": 15
           },
           "zerolinecolor": "#EBF0F8",
           "zerolinewidth": 2
          }
         }
        },
        "title": {
         "font": {
          "size": 16
         },
         "text": "Arctic Ground Squirrel Population Density - Spring and Summer (1990-1999)",
         "x": 0.5
        },
        "width": 900,
        "xaxis": {
         "title": {
          "text": "Year"
         }
        },
        "yaxis": {
         "title": {
          "text": "Population Density (per hectare)"
         }
        }
       }
      }
     },
     "metadata": {},
     "output_type": "display_data"
    }
   ],
   "source": [
    "# Create marker colors and symbols based on season\n",
    "marker_colors = ['green' if season == 'Spring' else 'orange' for season in squirrel_plot['Season']]\n",
    "marker_symbols = ['circle' if season == 'Spring' else 'square' for season in squirrel_plot['Season']]\n",
    "hover_text = [f'<b>Year:</b> {year:.0f}<br><b>Season:</b> {season}<br><b>Density:</b> {density:.2f} per hectare<extra></extra>' \n",
    "              for year, season, density in zip(squirrel_plot['Year_fractional'], squirrel_plot['Season'], squirrel_plot['Average_per_ha'])]\n",
    "\n",
    "fig = go.Figure()\n",
    "\n",
    "fig.add_trace(go.Scatter(\n",
    "    x=squirrel_plot['Year_fractional'],\n",
    "    y=squirrel_plot['Average_per_ha'],\n",
    "    mode='lines+markers',\n",
    "    name='Population Density',\n",
    "    line=dict(color='steelblue', width=2),\n",
    "    marker=dict(\n",
    "        size=8,\n",
    "        color=marker_colors,\n",
    "        symbol=marker_symbols\n",
    "    ),\n",
    "    text=squirrel_plot['Season'],\n",
    "    hovertemplate=hover_text\n",
    "))\n",
    "\n",
    "fig.update_layout(\n",
    "    title=dict(\n",
    "        text='Arctic Ground Squirrel Population Density - Spring and Summer (1990-1999)',\n",
    "        x=0.5,\n",
    "        font=dict(size=16)\n",
    "    ),\n",
    "    xaxis_title='Year',\n",
    "    yaxis_title='Population Density (per hectare)',\n",
    "    width=900,\n",
    "    height=500,\n",
    "    showlegend=False,\n",
    "    template='plotly_white'\n",
    ")\n",
    "\n",
    "fig.add_annotation(\n",
    "    x=0.02, y=0.98,\n",
    "    xref='paper', yref='paper',\n",
    "    text='🟢 Spring &nbsp;&nbsp; 🟠 Summer',\n",
    "    showarrow=False,\n",
    "    font=dict(size=12),\n",
    "    bgcolor='rgba(255,255,255,0.8)',\n",
    "    bordercolor='gray',\n",
    "    borderwidth=1\n",
    ")\n",
    "\n",
    "fig.show()"
   ]
  },
  {
   "cell_type": "markdown",
   "metadata": {},
   "source": [
    "## Random Walk Models\n",
    "\n",
    "The regression model that we fit in the previous notebook assumes a linear relationship between predictor and response variables. This is a parametric regression - it uses just a few parameters (slope and intercept) to describe the entire relationship.\n",
    "\n",
    "In contrast, **non-parametric models** use many parameters to flexibly adapt to the data's structure without imposing strong assumptions about functional form. They aren't actually without parameters; rather, the number of parameters varies with the quantity of data.\n",
    "\n",
    "We'll demonstrate this flexibility using a random walk, where each observation depends only on the previous value plus random noise:\n",
    "\n",
    "$$y_t = y_{t-1} + \\epsilon_t$$\n",
    "\n",
    "Here, $\\epsilon_t$ represents the **innovation** or step size, which is drawn from a probability distribution at each time point $t$.\n",
    "\n",
    "### Gaussian Random Walk\n",
    "\n",
    "A **Gaussian Random Walk** is a specific flavor of random walk where the innovations are Gaussian, $\\epsilon_t \\sim \\mathcal{N}(0, \\sigma^2)$.\n",
    "\n",
    "This structure allows random walks to adapt to various trend patterns without imposing rigid functional forms. Moreover, the variance of the random walk is non-stationary, reflecting our decreasing confidence in long-term predictions. \n",
    "\n",
    "$\\text{Var}(y_t) = t \\cdot \\sigma^2$\n",
    "\n",
    "### State-Space Approach\n",
    "\n",
    "In our implementation, we are going to separate the **latent random walk process** from the **observation process**, creating a state-space structure:\n",
    "\n",
    "**State equation**: $x_t = x_{t-1} + \\epsilon_t$ where $\\epsilon_t \\sim \\mathcal{N}(0, \\sigma_{\\text{walk}}^2)$\n",
    "\n",
    "**Observation equation**: $y_t = x_t + \\nu_t$ where $\\nu_t \\sim \\mathcal{N}(0, \\sigma_{\\text{obs}}^2)$\n",
    "\n",
    "This separation allows us to distinguish between **process noise** (how much the underlying state changes) and **measurement noise** (how much error exists in our observations).\n",
    "\n",
    "Let's implement a Gaussian random walk in PyMC to model the Arctic ground squirrel population data. To keep things simple, we will only model the summer population."
   ]
  },
  {
   "cell_type": "code",
   "execution_count": 4,
   "metadata": {},
   "outputs": [],
   "source": [
    "# Extract summer data only for modeling\n",
    "squirrel_summer = (squirrel_data\n",
    "    .filter(pl.col('Average_per_ha').is_not_null())\n",
    "    .filter(pl.col('Season') == 'Summer')\n",
    "    .filter(pl.col('Year') <= 1999)\n",
    "    .sort('Year')\n",
    "    .with_row_index('time_index')\n",
    ")\n",
    "\n",
    "# Model variables (summer data only)\n",
    "squirrel_density = squirrel_summer['Average_per_ha'].to_numpy()\n",
    "years = squirrel_summer['Year'].to_numpy().astype(int)\n",
    "n_years = len(years)\n",
    "time_idx = np.arange(n_years)\n",
    "time_normalized = (time_idx - time_idx.mean()) / time_idx.std()"
   ]
  },
  {
   "cell_type": "code",
   "execution_count": 5,
   "metadata": {},
   "outputs": [],
   "source": [
    "# Simple Random Walk for Ground Squirrel Summer Population\n",
    "with pm.Model(coords={'time': years}) as simple_rw_model:\n",
    "    \n",
    "    # Step size of the random walk (innovation standard deviation)\n",
    "    sigma_walk = pm.HalfNormal('sigma_walk', sigma=1.0)\n",
    "    \n",
    "    # Initial value distribution\n",
    "    init_dist = pm.Normal.dist(mu=0, sigma=1)\n",
    "    \n",
    "    # Gaussian random walk process using dims\n",
    "    log_walk = pm.GaussianRandomWalk('log_walk', \n",
    "        mu=0,  # no drift\n",
    "        sigma=sigma_walk, \n",
    "        init_dist=init_dist,\n",
    "        dims='time')\n",
    "    \n",
    "    walk = pm.Deterministic('walk', pm.math.exp(log_walk))\n",
    "    \n",
    "    # Observation noise (measurement error)\n",
    "    sigma_obs = pm.HalfNormal('sigma_obs', sigma=1.0)\n",
    "    \n",
    "    # Likelihood: observed squirrel density data are noisy observations of the walk\n",
    "    y = pm.LogNormal('y', mu=log_walk, sigma=sigma_obs, observed=squirrel_density, dims='time')"
   ]
  },
  {
   "cell_type": "code",
   "execution_count": 6,
   "metadata": {},
   "outputs": [
    {
     "name": "stderr",
     "output_type": "stream",
     "text": [
      "Initializing NUTS using jitter+adapt_diag...\n",
      "Multiprocess sampling (4 chains in 4 jobs)\n",
      "NUTS: [sigma_walk, log_walk, sigma_obs]\n"
     ]
    },
    {
     "data": {
      "application/vnd.jupyter.widget-view+json": {
       "model_id": "7f574c4914994db28aaf452204d86977",
       "version_major": 2,
       "version_minor": 0
      },
      "text/plain": [
       "Output()"
      ]
     },
     "metadata": {},
     "output_type": "display_data"
    },
    {
     "data": {
      "text/html": [
       "<pre style=\"white-space:pre;overflow-x:auto;line-height:normal;font-family:Menlo,'DejaVu Sans Mono',consolas,'Courier New',monospace\"></pre>\n"
      ],
      "text/plain": []
     },
     "metadata": {},
     "output_type": "display_data"
    },
    {
     "ename": "ConnectionResetError",
     "evalue": "[Errno 104] Connection reset by peer",
     "output_type": "error",
     "traceback": [
      "\u001b[31m---------------------------------------------------------------------------\u001b[39m",
      "\u001b[31mConnectionResetError\u001b[39m                      Traceback (most recent call last)",
      "\u001b[36mCell\u001b[39m\u001b[36m \u001b[39m\u001b[32mIn[6]\u001b[39m\u001b[32m, line 2\u001b[39m\n\u001b[32m      1\u001b[39m \u001b[38;5;28;01mwith\u001b[39;00m simple_rw_model:\n\u001b[32m----> \u001b[39m\u001b[32m2\u001b[39m     trace_simple_rw = \u001b[43mpm\u001b[49m\u001b[43m.\u001b[49m\u001b[43msample\u001b[49m\u001b[43m(\u001b[49m\u001b[32;43m1000\u001b[39;49m\u001b[43m,\u001b[49m\u001b[43m \u001b[49m\u001b[43mtune\u001b[49m\u001b[43m=\u001b[49m\u001b[32;43m1000\u001b[39;49m\u001b[43m,\u001b[49m\u001b[43m \u001b[49m\u001b[43mrandom_seed\u001b[49m\u001b[43m=\u001b[49m\u001b[43mRANDOM_SEED\u001b[49m\u001b[43m)\u001b[49m\n",
      "\u001b[36mFile \u001b[39m\u001b[32m~/repos/ts_pydata_london_2025/.pixi/envs/default/lib/python3.13/site-packages/pymc/sampling/mcmc.py:935\u001b[39m, in \u001b[36msample\u001b[39m\u001b[34m(draws, tune, chains, cores, random_seed, progressbar, progressbar_theme, step, var_names, nuts_sampler, initvals, init, jitter_max_retries, n_init, trace, discard_tuned_samples, compute_convergence_checks, keep_warning_stat, return_inferencedata, idata_kwargs, nuts_sampler_kwargs, callback, mp_ctx, blas_cores, model, compile_kwargs, **kwargs)\u001b[39m\n\u001b[32m    933\u001b[39m _print_step_hierarchy(step)\n\u001b[32m    934\u001b[39m \u001b[38;5;28;01mtry\u001b[39;00m:\n\u001b[32m--> \u001b[39m\u001b[32m935\u001b[39m     \u001b[43m_mp_sample\u001b[49m\u001b[43m(\u001b[49m\u001b[43m*\u001b[49m\u001b[43m*\u001b[49m\u001b[43msample_args\u001b[49m\u001b[43m,\u001b[49m\u001b[43m \u001b[49m\u001b[43m*\u001b[49m\u001b[43m*\u001b[49m\u001b[43mparallel_args\u001b[49m\u001b[43m)\u001b[49m\n\u001b[32m    936\u001b[39m \u001b[38;5;28;01mexcept\u001b[39;00m pickle.PickleError:\n\u001b[32m    937\u001b[39m     _log.warning(\u001b[33m\"\u001b[39m\u001b[33mCould not pickle model, sampling singlethreaded.\u001b[39m\u001b[33m\"\u001b[39m)\n",
      "\u001b[36mFile \u001b[39m\u001b[32m~/repos/ts_pydata_london_2025/.pixi/envs/default/lib/python3.13/site-packages/pymc/sampling/mcmc.py:1411\u001b[39m, in \u001b[36m_mp_sample\u001b[39m\u001b[34m(draws, tune, step, chains, cores, rngs, start, progressbar, progressbar_theme, traces, model, callback, blas_cores, mp_ctx, **kwargs)\u001b[39m\n\u001b[32m   1409\u001b[39m \u001b[38;5;28;01mtry\u001b[39;00m:\n\u001b[32m   1410\u001b[39m     \u001b[38;5;28;01mwith\u001b[39;00m sampler:\n\u001b[32m-> \u001b[39m\u001b[32m1411\u001b[39m \u001b[43m        \u001b[49m\u001b[38;5;28;43;01mfor\u001b[39;49;00m\u001b[43m \u001b[49m\u001b[43mdraw\u001b[49m\u001b[43m \u001b[49m\u001b[38;5;129;43;01min\u001b[39;49;00m\u001b[43m \u001b[49m\u001b[43msampler\u001b[49m\u001b[43m:\u001b[49m\n\u001b[32m   1412\u001b[39m \u001b[43m            \u001b[49m\u001b[43mstrace\u001b[49m\u001b[43m \u001b[49m\u001b[43m=\u001b[49m\u001b[43m \u001b[49m\u001b[43mtraces\u001b[49m\u001b[43m[\u001b[49m\u001b[43mdraw\u001b[49m\u001b[43m.\u001b[49m\u001b[43mchain\u001b[49m\u001b[43m]\u001b[49m\n\u001b[32m   1413\u001b[39m \u001b[43m            \u001b[49m\u001b[38;5;28;43;01mif\u001b[39;49;00m\u001b[43m \u001b[49m\u001b[38;5;129;43;01mnot\u001b[39;49;00m\u001b[43m \u001b[49m\u001b[43mzarr_recording\u001b[49m\u001b[43m:\u001b[49m\n\u001b[32m   1414\u001b[39m \u001b[43m                \u001b[49m\u001b[38;5;66;43;03m# Zarr recording happens in each process\u001b[39;49;00m\n",
      "\u001b[36mFile \u001b[39m\u001b[32m~/repos/ts_pydata_london_2025/.pixi/envs/default/lib/python3.13/site-packages/pymc/sampling/parallel.py:510\u001b[39m, in \u001b[36mParallelSampler.__iter__\u001b[39m\u001b[34m(self)\u001b[39m\n\u001b[32m    508\u001b[39m \u001b[38;5;28;01mwith\u001b[39;00m \u001b[38;5;28mself\u001b[39m._progress:\n\u001b[32m    509\u001b[39m     \u001b[38;5;28;01mwhile\u001b[39;00m \u001b[38;5;28mself\u001b[39m._active:\n\u001b[32m--> \u001b[39m\u001b[32m510\u001b[39m         draw = \u001b[43mProcessAdapter\u001b[49m\u001b[43m.\u001b[49m\u001b[43mrecv_draw\u001b[49m\u001b[43m(\u001b[49m\u001b[38;5;28;43mself\u001b[39;49m\u001b[43m.\u001b[49m\u001b[43m_active\u001b[49m\u001b[43m)\u001b[49m\n\u001b[32m    511\u001b[39m         proc, is_last, draw, tuning, stats = draw\n\u001b[32m    513\u001b[39m         \u001b[38;5;28mself\u001b[39m._progress.update(\n\u001b[32m    514\u001b[39m             chain_idx=proc.chain, is_last=is_last, draw=draw, tuning=tuning, stats=stats\n\u001b[32m    515\u001b[39m         )\n",
      "\u001b[36mFile \u001b[39m\u001b[32m~/repos/ts_pydata_london_2025/.pixi/envs/default/lib/python3.13/site-packages/pymc/sampling/parallel.py:371\u001b[39m, in \u001b[36mProcessAdapter.recv_draw\u001b[39m\u001b[34m(processes, timeout)\u001b[39m\n\u001b[32m    369\u001b[39m idxs = {\u001b[38;5;28mid\u001b[39m(proc._msg_pipe): proc \u001b[38;5;28;01mfor\u001b[39;00m proc \u001b[38;5;129;01min\u001b[39;00m processes}\n\u001b[32m    370\u001b[39m proc = idxs[\u001b[38;5;28mid\u001b[39m(ready[\u001b[32m0\u001b[39m])]\n\u001b[32m--> \u001b[39m\u001b[32m371\u001b[39m msg = \u001b[43mready\u001b[49m\u001b[43m[\u001b[49m\u001b[32;43m0\u001b[39;49m\u001b[43m]\u001b[49m\u001b[43m.\u001b[49m\u001b[43mrecv\u001b[49m\u001b[43m(\u001b[49m\u001b[43m)\u001b[49m\n\u001b[32m    373\u001b[39m \u001b[38;5;28;01mif\u001b[39;00m msg[\u001b[32m0\u001b[39m] == \u001b[33m\"\u001b[39m\u001b[33merror\u001b[39m\u001b[33m\"\u001b[39m:\n\u001b[32m    374\u001b[39m     old_error = msg[\u001b[32m1\u001b[39m]\n",
      "\u001b[36mFile \u001b[39m\u001b[32m~/repos/ts_pydata_london_2025/.pixi/envs/default/lib/python3.13/multiprocessing/connection.py:250\u001b[39m, in \u001b[36m_ConnectionBase.recv\u001b[39m\u001b[34m(self)\u001b[39m\n\u001b[32m    248\u001b[39m \u001b[38;5;28mself\u001b[39m._check_closed()\n\u001b[32m    249\u001b[39m \u001b[38;5;28mself\u001b[39m._check_readable()\n\u001b[32m--> \u001b[39m\u001b[32m250\u001b[39m buf = \u001b[38;5;28;43mself\u001b[39;49m\u001b[43m.\u001b[49m\u001b[43m_recv_bytes\u001b[49m\u001b[43m(\u001b[49m\u001b[43m)\u001b[49m\n\u001b[32m    251\u001b[39m \u001b[38;5;28;01mreturn\u001b[39;00m _ForkingPickler.loads(buf.getbuffer())\n",
      "\u001b[36mFile \u001b[39m\u001b[32m~/repos/ts_pydata_london_2025/.pixi/envs/default/lib/python3.13/multiprocessing/connection.py:430\u001b[39m, in \u001b[36mConnection._recv_bytes\u001b[39m\u001b[34m(self, maxsize)\u001b[39m\n\u001b[32m    429\u001b[39m \u001b[38;5;28;01mdef\u001b[39;00m\u001b[38;5;250m \u001b[39m\u001b[34m_recv_bytes\u001b[39m(\u001b[38;5;28mself\u001b[39m, maxsize=\u001b[38;5;28;01mNone\u001b[39;00m):\n\u001b[32m--> \u001b[39m\u001b[32m430\u001b[39m     buf = \u001b[38;5;28;43mself\u001b[39;49m\u001b[43m.\u001b[49m\u001b[43m_recv\u001b[49m\u001b[43m(\u001b[49m\u001b[32;43m4\u001b[39;49m\u001b[43m)\u001b[49m\n\u001b[32m    431\u001b[39m     size, = struct.unpack(\u001b[33m\"\u001b[39m\u001b[33m!i\u001b[39m\u001b[33m\"\u001b[39m, buf.getvalue())\n\u001b[32m    432\u001b[39m     \u001b[38;5;28;01mif\u001b[39;00m size == -\u001b[32m1\u001b[39m:\n",
      "\u001b[36mFile \u001b[39m\u001b[32m~/repos/ts_pydata_london_2025/.pixi/envs/default/lib/python3.13/multiprocessing/connection.py:395\u001b[39m, in \u001b[36mConnection._recv\u001b[39m\u001b[34m(self, size, read)\u001b[39m\n\u001b[32m    393\u001b[39m remaining = size\n\u001b[32m    394\u001b[39m \u001b[38;5;28;01mwhile\u001b[39;00m remaining > \u001b[32m0\u001b[39m:\n\u001b[32m--> \u001b[39m\u001b[32m395\u001b[39m     chunk = \u001b[43mread\u001b[49m\u001b[43m(\u001b[49m\u001b[43mhandle\u001b[49m\u001b[43m,\u001b[49m\u001b[43m \u001b[49m\u001b[43mremaining\u001b[49m\u001b[43m)\u001b[49m\n\u001b[32m    396\u001b[39m     n = \u001b[38;5;28mlen\u001b[39m(chunk)\n\u001b[32m    397\u001b[39m     \u001b[38;5;28;01mif\u001b[39;00m n == \u001b[32m0\u001b[39m:\n",
      "\u001b[31mConnectionResetError\u001b[39m: [Errno 104] Connection reset by peer"
     ]
    }
   ],
   "source": [
    "with simple_rw_model:\n",
    "    trace_simple_rw = pm.sample(1000, tune=1000, random_seed=RANDOM_SEED)"
   ]
  },
  {
   "cell_type": "code",
   "execution_count": null,
   "metadata": {},
   "outputs": [
    {
     "name": "stdout",
     "output_type": "stream",
     "text": [
      "🎯 **Simple Random Walk Results for Ground Squirrel Summer Population**:\n",
      "             mean     sd  hdi_3%  hdi_97%  mcse_mean  mcse_sd  ess_bulk  \\\n",
      "sigma_walk  0.347  0.166   0.043    0.611      0.008    0.004     283.0   \n",
      "sigma_obs   0.229  0.152   0.028    0.480      0.011    0.004     137.0   \n",
      "\n",
      "            ess_tail  r_hat  \n",
      "sigma_walk     183.0   1.01  \n",
      "sigma_obs      145.0   1.03  \n"
     ]
    }
   ],
   "source": [
    "print(\"🎯 **Simple Random Walk Results for Ground Squirrel Summer Population**:\")\n",
    "print(az.summary(trace_simple_rw, var_names=['sigma_walk', 'sigma_obs']))"
   ]
  },
  {
   "cell_type": "code",
   "execution_count": null,
   "metadata": {},
   "outputs": [
    {
     "name": "stderr",
     "output_type": "stream",
     "text": [
      "Sampling: [y]\n"
     ]
    },
    {
     "data": {
      "application/vnd.jupyter.widget-view+json": {
       "model_id": "1008dca44bdd45b2ae753ab281f33c8d",
       "version_major": 2,
       "version_minor": 0
      },
      "text/plain": [
       "Output()"
      ]
     },
     "metadata": {},
     "output_type": "display_data"
    },
    {
     "data": {
      "text/html": [
       "<pre style=\"white-space:pre;overflow-x:auto;line-height:normal;font-family:Menlo,'DejaVu Sans Mono',consolas,'Courier New',monospace\"></pre>\n"
      ],
      "text/plain": []
     },
     "metadata": {},
     "output_type": "display_data"
    }
   ],
   "source": [
    "with simple_rw_model:\n",
    "    pm.sample_posterior_predictive(trace_simple_rw, extend_inferencedata=True,\n",
    "                                   random_seed=RANDOM_SEED)"
   ]
  },
  {
   "cell_type": "code",
   "execution_count": null,
   "metadata": {},
   "outputs": [
    {
     "data": {
      "application/vnd.plotly.v1+json": {
       "config": {
        "plotlyServerURL": "https://plot.ly"
       },
       "data": [
        {
         "fill": "toself",
         "fillcolor": "rgba(144, 238, 144, 0.2)",
         "line": {
          "color": "rgba(255,255,255,0)"
         },
         "name": "Posterior Predictive 95% HDI",
         "showlegend": true,
         "type": "scatter",
         "x": {
          "bdata": "xgfHB8gHyQfKB8sHzAfNB84HzwfPB84HzQfMB8sHygfJB8gHxwfGBw==",
          "dtype": "i2"
         },
         "y": {
          "bdata": "XV39AkZt/T+lP1AirM/4P58AGszNHPc/p2YPB5rP+z8k+3e5TuoBQN/qlRGsCgVApDFg+xeYAUAcIq/qopUBQIZ92GbzUAFACP1zSeij/T/DnakVRszbP6KEEG4uPOI/joplR8dH4T8orBugw4LhP6jElFpHlOI/ppS2q8RS4z/aCnN5q5XbP2lCUl76RdI/icvW9dmC1z/JmtVsahTbPw==",
          "dtype": "f8"
         }
        },
        {
         "fill": "toself",
         "fillcolor": "rgba(0, 100, 80, 0.2)",
         "line": {
          "color": "rgba(255,255,255,0)"
         },
         "name": "Random Walk 95% HDI",
         "showlegend": true,
         "type": "scatter",
         "x": {
          "bdata": "xgfHB8gHyQfKB8sHzAfNB84HzwfPB84HzQfMB8sHygfJB8gHxwfGBw==",
          "dtype": "i2"
         },
         "y": {
          "bdata": "a97odoYv+D8TNQeLRA/0P8HzQ7LSiPI/11hiYz6X9T/r5IEQoXX8PxLMLsaATAJA0EBlndiB/T8LbPRG1fj7P6Z4PoYq//o/CkMz2REs+D+uVeWVVmnlPyBXfzKEWuo/NgnrbjXP6z8Z6rUQOMntP7jz372Jve8/Hw+S3TNo6z93KdpHj9flP2lNt54JkNw/XJ61NegA4z9PjtvesjrmPw==",
          "dtype": "f8"
         }
        },
        {
         "line": {
          "color": "darkgreen",
          "width": 3
         },
         "mode": "lines",
         "name": "Estimated Random Walk",
         "type": "scatter",
         "x": {
          "bdata": "xgfHB8gHyQfKB8sHzAfNB84Hzwc=",
          "dtype": "i2"
         },
         "y": {
          "bdata": "WLgsz1st8j+HJKzlshvsP94m7pMAPuc/cVy+PcyP7z/fZKaiBKD1P3f8AEWIH/s/37TNdeUf9j/24WcFbhH1P650wlWgjPQ/PC9mhOhs8D8=",
          "dtype": "f8"
         }
        },
        {
         "marker": {
          "color": "red",
          "line": {
           "color": "darkred",
           "width": 2
          },
          "size": 8,
          "symbol": "circle"
         },
         "mode": "markers",
         "name": "Observed Data",
         "type": "scatter",
         "x": {
          "bdata": "xgfHB8gHyQfKB8sHzAfNB84Hzwc=",
          "dtype": "i2"
         },
         "y": {
          "bdata": "w/UoXI/C8z/sUbgehevpP0jhehSuR+E/w/UoXI/C7T8ehetRuB73Px6F61G4HgBA3+ALk6ni9T/QZtXnagv1P36MuWsJefU/NF66SQzC7D8=",
          "dtype": "f8"
         }
        }
       ],
       "layout": {
        "height": 500,
        "legend": {
         "bgcolor": "rgba(255,255,255,0.8)",
         "bordercolor": "gray",
         "borderwidth": 1,
         "x": 0.02,
         "y": 0.98
        },
        "template": {
         "data": {
          "bar": [
           {
            "error_x": {
             "color": "#2a3f5f"
            },
            "error_y": {
             "color": "#2a3f5f"
            },
            "marker": {
             "line": {
              "color": "white",
              "width": 0.5
             },
             "pattern": {
              "fillmode": "overlay",
              "size": 10,
              "solidity": 0.2
             }
            },
            "type": "bar"
           }
          ],
          "barpolar": [
           {
            "marker": {
             "line": {
              "color": "white",
              "width": 0.5
             },
             "pattern": {
              "fillmode": "overlay",
              "size": 10,
              "solidity": 0.2
             }
            },
            "type": "barpolar"
           }
          ],
          "carpet": [
           {
            "aaxis": {
             "endlinecolor": "#2a3f5f",
             "gridcolor": "#C8D4E3",
             "linecolor": "#C8D4E3",
             "minorgridcolor": "#C8D4E3",
             "startlinecolor": "#2a3f5f"
            },
            "baxis": {
             "endlinecolor": "#2a3f5f",
             "gridcolor": "#C8D4E3",
             "linecolor": "#C8D4E3",
             "minorgridcolor": "#C8D4E3",
             "startlinecolor": "#2a3f5f"
            },
            "type": "carpet"
           }
          ],
          "choropleth": [
           {
            "colorbar": {
             "outlinewidth": 0,
             "ticks": ""
            },
            "type": "choropleth"
           }
          ],
          "contour": [
           {
            "colorbar": {
             "outlinewidth": 0,
             "ticks": ""
            },
            "colorscale": [
             [
              0,
              "#0d0887"
             ],
             [
              0.1111111111111111,
              "#46039f"
             ],
             [
              0.2222222222222222,
              "#7201a8"
             ],
             [
              0.3333333333333333,
              "#9c179e"
             ],
             [
              0.4444444444444444,
              "#bd3786"
             ],
             [
              0.5555555555555556,
              "#d8576b"
             ],
             [
              0.6666666666666666,
              "#ed7953"
             ],
             [
              0.7777777777777778,
              "#fb9f3a"
             ],
             [
              0.8888888888888888,
              "#fdca26"
             ],
             [
              1,
              "#f0f921"
             ]
            ],
            "type": "contour"
           }
          ],
          "contourcarpet": [
           {
            "colorbar": {
             "outlinewidth": 0,
             "ticks": ""
            },
            "type": "contourcarpet"
           }
          ],
          "heatmap": [
           {
            "colorbar": {
             "outlinewidth": 0,
             "ticks": ""
            },
            "colorscale": [
             [
              0,
              "#0d0887"
             ],
             [
              0.1111111111111111,
              "#46039f"
             ],
             [
              0.2222222222222222,
              "#7201a8"
             ],
             [
              0.3333333333333333,
              "#9c179e"
             ],
             [
              0.4444444444444444,
              "#bd3786"
             ],
             [
              0.5555555555555556,
              "#d8576b"
             ],
             [
              0.6666666666666666,
              "#ed7953"
             ],
             [
              0.7777777777777778,
              "#fb9f3a"
             ],
             [
              0.8888888888888888,
              "#fdca26"
             ],
             [
              1,
              "#f0f921"
             ]
            ],
            "type": "heatmap"
           }
          ],
          "histogram": [
           {
            "marker": {
             "pattern": {
              "fillmode": "overlay",
              "size": 10,
              "solidity": 0.2
             }
            },
            "type": "histogram"
           }
          ],
          "histogram2d": [
           {
            "colorbar": {
             "outlinewidth": 0,
             "ticks": ""
            },
            "colorscale": [
             [
              0,
              "#0d0887"
             ],
             [
              0.1111111111111111,
              "#46039f"
             ],
             [
              0.2222222222222222,
              "#7201a8"
             ],
             [
              0.3333333333333333,
              "#9c179e"
             ],
             [
              0.4444444444444444,
              "#bd3786"
             ],
             [
              0.5555555555555556,
              "#d8576b"
             ],
             [
              0.6666666666666666,
              "#ed7953"
             ],
             [
              0.7777777777777778,
              "#fb9f3a"
             ],
             [
              0.8888888888888888,
              "#fdca26"
             ],
             [
              1,
              "#f0f921"
             ]
            ],
            "type": "histogram2d"
           }
          ],
          "histogram2dcontour": [
           {
            "colorbar": {
             "outlinewidth": 0,
             "ticks": ""
            },
            "colorscale": [
             [
              0,
              "#0d0887"
             ],
             [
              0.1111111111111111,
              "#46039f"
             ],
             [
              0.2222222222222222,
              "#7201a8"
             ],
             [
              0.3333333333333333,
              "#9c179e"
             ],
             [
              0.4444444444444444,
              "#bd3786"
             ],
             [
              0.5555555555555556,
              "#d8576b"
             ],
             [
              0.6666666666666666,
              "#ed7953"
             ],
             [
              0.7777777777777778,
              "#fb9f3a"
             ],
             [
              0.8888888888888888,
              "#fdca26"
             ],
             [
              1,
              "#f0f921"
             ]
            ],
            "type": "histogram2dcontour"
           }
          ],
          "mesh3d": [
           {
            "colorbar": {
             "outlinewidth": 0,
             "ticks": ""
            },
            "type": "mesh3d"
           }
          ],
          "parcoords": [
           {
            "line": {
             "colorbar": {
              "outlinewidth": 0,
              "ticks": ""
             }
            },
            "type": "parcoords"
           }
          ],
          "pie": [
           {
            "automargin": true,
            "type": "pie"
           }
          ],
          "scatter": [
           {
            "fillpattern": {
             "fillmode": "overlay",
             "size": 10,
             "solidity": 0.2
            },
            "type": "scatter"
           }
          ],
          "scatter3d": [
           {
            "line": {
             "colorbar": {
              "outlinewidth": 0,
              "ticks": ""
             }
            },
            "marker": {
             "colorbar": {
              "outlinewidth": 0,
              "ticks": ""
             }
            },
            "type": "scatter3d"
           }
          ],
          "scattercarpet": [
           {
            "marker": {
             "colorbar": {
              "outlinewidth": 0,
              "ticks": ""
             }
            },
            "type": "scattercarpet"
           }
          ],
          "scattergeo": [
           {
            "marker": {
             "colorbar": {
              "outlinewidth": 0,
              "ticks": ""
             }
            },
            "type": "scattergeo"
           }
          ],
          "scattergl": [
           {
            "marker": {
             "colorbar": {
              "outlinewidth": 0,
              "ticks": ""
             }
            },
            "type": "scattergl"
           }
          ],
          "scattermap": [
           {
            "marker": {
             "colorbar": {
              "outlinewidth": 0,
              "ticks": ""
             }
            },
            "type": "scattermap"
           }
          ],
          "scattermapbox": [
           {
            "marker": {
             "colorbar": {
              "outlinewidth": 0,
              "ticks": ""
             }
            },
            "type": "scattermapbox"
           }
          ],
          "scatterpolar": [
           {
            "marker": {
             "colorbar": {
              "outlinewidth": 0,
              "ticks": ""
             }
            },
            "type": "scatterpolar"
           }
          ],
          "scatterpolargl": [
           {
            "marker": {
             "colorbar": {
              "outlinewidth": 0,
              "ticks": ""
             }
            },
            "type": "scatterpolargl"
           }
          ],
          "scatterternary": [
           {
            "marker": {
             "colorbar": {
              "outlinewidth": 0,
              "ticks": ""
             }
            },
            "type": "scatterternary"
           }
          ],
          "surface": [
           {
            "colorbar": {
             "outlinewidth": 0,
             "ticks": ""
            },
            "colorscale": [
             [
              0,
              "#0d0887"
             ],
             [
              0.1111111111111111,
              "#46039f"
             ],
             [
              0.2222222222222222,
              "#7201a8"
             ],
             [
              0.3333333333333333,
              "#9c179e"
             ],
             [
              0.4444444444444444,
              "#bd3786"
             ],
             [
              0.5555555555555556,
              "#d8576b"
             ],
             [
              0.6666666666666666,
              "#ed7953"
             ],
             [
              0.7777777777777778,
              "#fb9f3a"
             ],
             [
              0.8888888888888888,
              "#fdca26"
             ],
             [
              1,
              "#f0f921"
             ]
            ],
            "type": "surface"
           }
          ],
          "table": [
           {
            "cells": {
             "fill": {
              "color": "#EBF0F8"
             },
             "line": {
              "color": "white"
             }
            },
            "header": {
             "fill": {
              "color": "#C8D4E3"
             },
             "line": {
              "color": "white"
             }
            },
            "type": "table"
           }
          ]
         },
         "layout": {
          "annotationdefaults": {
           "arrowcolor": "#2a3f5f",
           "arrowhead": 0,
           "arrowwidth": 1
          },
          "autotypenumbers": "strict",
          "coloraxis": {
           "colorbar": {
            "outlinewidth": 0,
            "ticks": ""
           }
          },
          "colorscale": {
           "diverging": [
            [
             0,
             "#8e0152"
            ],
            [
             0.1,
             "#c51b7d"
            ],
            [
             0.2,
             "#de77ae"
            ],
            [
             0.3,
             "#f1b6da"
            ],
            [
             0.4,
             "#fde0ef"
            ],
            [
             0.5,
             "#f7f7f7"
            ],
            [
             0.6,
             "#e6f5d0"
            ],
            [
             0.7,
             "#b8e186"
            ],
            [
             0.8,
             "#7fbc41"
            ],
            [
             0.9,
             "#4d9221"
            ],
            [
             1,
             "#276419"
            ]
           ],
           "sequential": [
            [
             0,
             "#0d0887"
            ],
            [
             0.1111111111111111,
             "#46039f"
            ],
            [
             0.2222222222222222,
             "#7201a8"
            ],
            [
             0.3333333333333333,
             "#9c179e"
            ],
            [
             0.4444444444444444,
             "#bd3786"
            ],
            [
             0.5555555555555556,
             "#d8576b"
            ],
            [
             0.6666666666666666,
             "#ed7953"
            ],
            [
             0.7777777777777778,
             "#fb9f3a"
            ],
            [
             0.8888888888888888,
             "#fdca26"
            ],
            [
             1,
             "#f0f921"
            ]
           ],
           "sequentialminus": [
            [
             0,
             "#0d0887"
            ],
            [
             0.1111111111111111,
             "#46039f"
            ],
            [
             0.2222222222222222,
             "#7201a8"
            ],
            [
             0.3333333333333333,
             "#9c179e"
            ],
            [
             0.4444444444444444,
             "#bd3786"
            ],
            [
             0.5555555555555556,
             "#d8576b"
            ],
            [
             0.6666666666666666,
             "#ed7953"
            ],
            [
             0.7777777777777778,
             "#fb9f3a"
            ],
            [
             0.8888888888888888,
             "#fdca26"
            ],
            [
             1,
             "#f0f921"
            ]
           ]
          },
          "colorway": [
           "#636efa",
           "#EF553B",
           "#00cc96",
           "#ab63fa",
           "#FFA15A",
           "#19d3f3",
           "#FF6692",
           "#B6E880",
           "#FF97FF",
           "#FECB52"
          ],
          "font": {
           "color": "#2a3f5f"
          },
          "geo": {
           "bgcolor": "white",
           "lakecolor": "white",
           "landcolor": "white",
           "showlakes": true,
           "showland": true,
           "subunitcolor": "#C8D4E3"
          },
          "hoverlabel": {
           "align": "left"
          },
          "hovermode": "closest",
          "mapbox": {
           "style": "light"
          },
          "paper_bgcolor": "white",
          "plot_bgcolor": "white",
          "polar": {
           "angularaxis": {
            "gridcolor": "#EBF0F8",
            "linecolor": "#EBF0F8",
            "ticks": ""
           },
           "bgcolor": "white",
           "radialaxis": {
            "gridcolor": "#EBF0F8",
            "linecolor": "#EBF0F8",
            "ticks": ""
           }
          },
          "scene": {
           "xaxis": {
            "backgroundcolor": "white",
            "gridcolor": "#DFE8F3",
            "gridwidth": 2,
            "linecolor": "#EBF0F8",
            "showbackground": true,
            "ticks": "",
            "zerolinecolor": "#EBF0F8"
           },
           "yaxis": {
            "backgroundcolor": "white",
            "gridcolor": "#DFE8F3",
            "gridwidth": 2,
            "linecolor": "#EBF0F8",
            "showbackground": true,
            "ticks": "",
            "zerolinecolor": "#EBF0F8"
           },
           "zaxis": {
            "backgroundcolor": "white",
            "gridcolor": "#DFE8F3",
            "gridwidth": 2,
            "linecolor": "#EBF0F8",
            "showbackground": true,
            "ticks": "",
            "zerolinecolor": "#EBF0F8"
           }
          },
          "shapedefaults": {
           "line": {
            "color": "#2a3f5f"
           }
          },
          "ternary": {
           "aaxis": {
            "gridcolor": "#DFE8F3",
            "linecolor": "#A2B1C6",
            "ticks": ""
           },
           "baxis": {
            "gridcolor": "#DFE8F3",
            "linecolor": "#A2B1C6",
            "ticks": ""
           },
           "bgcolor": "white",
           "caxis": {
            "gridcolor": "#DFE8F3",
            "linecolor": "#A2B1C6",
            "ticks": ""
           }
          },
          "title": {
           "x": 0.05
          },
          "xaxis": {
           "automargin": true,
           "gridcolor": "#EBF0F8",
           "linecolor": "#EBF0F8",
           "ticks": "",
           "title": {
            "standoff": 15
           },
           "zerolinecolor": "#EBF0F8",
           "zerolinewidth": 2
          },
          "yaxis": {
           "automargin": true,
           "gridcolor": "#EBF0F8",
           "linecolor": "#EBF0F8",
           "ticks": "",
           "title": {
            "standoff": 15
           },
           "zerolinecolor": "#EBF0F8",
           "zerolinewidth": 2
          }
         }
        },
        "title": {
         "font": {
          "size": 16
         },
         "text": "Simple Random Walk Model - Arctic Ground Squirrel Summer Population",
         "x": 0.5
        },
        "width": 900,
        "xaxis": {
         "title": {
          "text": "Year"
         }
        },
        "yaxis": {
         "title": {
          "text": "Population Density (per hectare)"
         }
        }
       }
      }
     },
     "metadata": {},
     "output_type": "display_data"
    }
   ],
   "source": [
    "walk_samples = az.extract(trace_simple_rw)['walk']\n",
    "y_samples = az.extract(trace_simple_rw, group='posterior_predictive')['y']\n",
    "\n",
    "walk_mean = walk_samples.mean(dim='sample')\n",
    "walk_hdi = az.hdi(trace_simple_rw, var_names=['walk'])['walk']\n",
    "\n",
    "y_mean = y_samples.mean(dim='sample')\n",
    "y_hdi = az.hdi(trace_simple_rw, group='posterior_predictive', var_names=['y'])['y']\n",
    "\n",
    "go.Figure().add_trace(go.Scatter(\n",
    "    x=np.concatenate([years, years[::-1]]),\n",
    "    y=np.concatenate([y_hdi[:, 1], y_hdi[::-1, 0]]),\n",
    "    fill='toself',\n",
    "    fillcolor='rgba(144, 238, 144, 0.2)',\n",
    "    line=dict(color='rgba(255,255,255,0)'),\n",
    "    name='Posterior Predictive 95% HDI',\n",
    "    showlegend=True\n",
    ")).add_trace(go.Scatter(\n",
    "    x=np.concatenate([years, years[::-1]]),\n",
    "    y=np.concatenate([walk_hdi[:, 1], walk_hdi[::-1, 0]]),\n",
    "    fill='toself',\n",
    "    fillcolor='rgba(0, 100, 80, 0.2)',\n",
    "    line=dict(color='rgba(255,255,255,0)'),\n",
    "    name='Random Walk 95% HDI',\n",
    "    showlegend=True\n",
    ")).add_trace(go.Scatter(\n",
    "    x=years,\n",
    "    y=walk_mean,\n",
    "    mode='lines',\n",
    "    name='Estimated Random Walk',\n",
    "    line=dict(color='darkgreen', width=3)\n",
    ")).add_trace(go.Scatter(\n",
    "    x=years,\n",
    "    y=squirrel_density,\n",
    "    mode='markers',\n",
    "    name='Observed Data',\n",
    "    marker=dict(\n",
    "        size=8,\n",
    "        color='red',\n",
    "        symbol='circle',\n",
    "        line=dict(width=2, color='darkred')\n",
    "    )\n",
    ")).update_layout(\n",
    "    title=dict(\n",
    "        text='Simple Random Walk Model - Arctic Ground Squirrel Summer Population',\n",
    "        x=0.5,\n",
    "        font=dict(size=16)\n",
    "    ),\n",
    "    xaxis_title='Year',\n",
    "    yaxis_title='Population Density (per hectare)',\n",
    "    width=900,\n",
    "    height=500,\n",
    "    template='plotly_white',\n",
    "    legend=dict(\n",
    "        x=0.02,\n",
    "        y=0.98,\n",
    "        bgcolor='rgba(255,255,255,0.8)',\n",
    "        bordercolor='gray',\n",
    "        borderwidth=1\n",
    "    )\n",
    ")"
   ]
  },
  {
   "cell_type": "markdown",
   "metadata": {},
   "source": [
    "### Forecasting with Random Walk Models\n",
    "\n",
    "One of the key advantages of Bayesian time series models is their ability to generate **probabilistic forecasts** that naturally quantify uncertainty. For random walk models, forecasting involves extending the stochastic process beyond the observed data.\n",
    "\n",
    "**Mathematical Foundation of Random Walk Forecasting**:\n",
    "\n",
    "For a random walk $y_t = y_{t-1} + \\epsilon_t$ where $\\epsilon_t \\sim \\mathcal{N}(0, \\sigma^2)$, the **h-step ahead forecast** from time $T$ is:\n",
    "\n",
    "$$\\hat{y}_{T+h|T} = y_T$$\n",
    "\n",
    "The **forecast variance** grows linearly with the forecast horizon:\n",
    "\n",
    "$$\\text{Var}(y_{T+h|T}) = h \\cdot \\sigma^2$$\n",
    "\n",
    "This means that:\n",
    "- **Point forecasts** remain constant at the last observed value\n",
    "- **Prediction intervals** widen linearly with time, reflecting increasing uncertainty\n",
    "- **Long-term forecasts** become highly uncertain, which is realistic for many natural processes\n",
    "\n",
    "Let's generate 10-year forecasts (2000-2009) for the Arctic ground squirrel population using parameters from our fitted random walk model."
   ]
  },
  {
   "cell_type": "code",
   "execution_count": null,
   "metadata": {},
   "outputs": [
    {
     "data": {
      "application/vnd.plotly.v1+json": {
       "config": {
        "plotlyServerURL": "https://plot.ly"
       },
       "data": [
        {
         "marker": {
          "color": "red",
          "line": {
           "color": "darkred",
           "width": 2
          },
          "size": 8,
          "symbol": "circle"
         },
         "mode": "markers",
         "name": "Observed Data",
         "type": "scatter",
         "x": {
          "bdata": "xgfHB8gHyQfKB8sHzAfNB84Hzwc=",
          "dtype": "i2"
         },
         "y": {
          "bdata": "w/UoXI/C8z/sUbgehevpP0jhehSuR+E/w/UoXI/C7T8ehetRuB73Px6F61G4HgBA3+ALk6ni9T/QZtXnagv1P36MuWsJefU/NF66SQzC7D8=",
          "dtype": "f8"
         }
        },
        {
         "line": {
          "color": "blue",
          "width": 3
         },
         "mode": "lines",
         "name": "Forecast Median",
         "type": "scatter",
         "x": {
          "bdata": "0AfRB9IH0wfUB9UH1gfXB9gH2Qc=",
          "dtype": "i2"
         },
         "y": {
          "bdata": "TsiZemPR7z+JBPAa6hDwP9Pkr2DFR/A/olB3KPMv8D84dWyL8zLwP5gkuNRfyvA/x1IiXLL58D8uI+PlzP7wP9Lrtyfy1vA/JLqpVteO8D8=",
          "dtype": "f8"
         }
        },
        {
         "fill": "toself",
         "fillcolor": "rgba(0, 100, 80, 0.2)",
         "line": {
          "color": "rgba(255,255,255,0)"
         },
         "name": "95% HDI",
         "showlegend": true,
         "type": "scatter",
         "x": {
          "bdata": "0AfRB9IH0wfUB9UH1gfXB9gH2QfZB9gH1wfWB9UH1AfTB9IH0QfQBw==",
          "dtype": "i2"
         },
         "y": {
          "bdata": "ieNTKFyJA0COzvAMcFEHQJYSfnAbNQpAofHd/doJD0CHQ4uMRzwSQNstsX3KqxRAgIbAJyMfFUB4aIAZhlsYQMafIS8FnxpAv5p8h2M/HUAMFYvdy6w8P4wJLAsGKF4/WLkeVyvlbj9Jp6NaskF2P2ma8o4XgIM/JS9YchFnaD92nNKwIGSIP7e5gCg0Dak/pLQeyDDGwD/bQUSbaKTRPw==",
          "dtype": "f8"
         }
        }
       ],
       "layout": {
        "height": 500,
        "legend": {
         "bgcolor": "rgba(255,255,255,0.8)",
         "bordercolor": "gray",
         "borderwidth": 1,
         "x": 0.02,
         "y": 0.98
        },
        "template": {
         "data": {
          "bar": [
           {
            "error_x": {
             "color": "#2a3f5f"
            },
            "error_y": {
             "color": "#2a3f5f"
            },
            "marker": {
             "line": {
              "color": "white",
              "width": 0.5
             },
             "pattern": {
              "fillmode": "overlay",
              "size": 10,
              "solidity": 0.2
             }
            },
            "type": "bar"
           }
          ],
          "barpolar": [
           {
            "marker": {
             "line": {
              "color": "white",
              "width": 0.5
             },
             "pattern": {
              "fillmode": "overlay",
              "size": 10,
              "solidity": 0.2
             }
            },
            "type": "barpolar"
           }
          ],
          "carpet": [
           {
            "aaxis": {
             "endlinecolor": "#2a3f5f",
             "gridcolor": "#C8D4E3",
             "linecolor": "#C8D4E3",
             "minorgridcolor": "#C8D4E3",
             "startlinecolor": "#2a3f5f"
            },
            "baxis": {
             "endlinecolor": "#2a3f5f",
             "gridcolor": "#C8D4E3",
             "linecolor": "#C8D4E3",
             "minorgridcolor": "#C8D4E3",
             "startlinecolor": "#2a3f5f"
            },
            "type": "carpet"
           }
          ],
          "choropleth": [
           {
            "colorbar": {
             "outlinewidth": 0,
             "ticks": ""
            },
            "type": "choropleth"
           }
          ],
          "contour": [
           {
            "colorbar": {
             "outlinewidth": 0,
             "ticks": ""
            },
            "colorscale": [
             [
              0,
              "#0d0887"
             ],
             [
              0.1111111111111111,
              "#46039f"
             ],
             [
              0.2222222222222222,
              "#7201a8"
             ],
             [
              0.3333333333333333,
              "#9c179e"
             ],
             [
              0.4444444444444444,
              "#bd3786"
             ],
             [
              0.5555555555555556,
              "#d8576b"
             ],
             [
              0.6666666666666666,
              "#ed7953"
             ],
             [
              0.7777777777777778,
              "#fb9f3a"
             ],
             [
              0.8888888888888888,
              "#fdca26"
             ],
             [
              1,
              "#f0f921"
             ]
            ],
            "type": "contour"
           }
          ],
          "contourcarpet": [
           {
            "colorbar": {
             "outlinewidth": 0,
             "ticks": ""
            },
            "type": "contourcarpet"
           }
          ],
          "heatmap": [
           {
            "colorbar": {
             "outlinewidth": 0,
             "ticks": ""
            },
            "colorscale": [
             [
              0,
              "#0d0887"
             ],
             [
              0.1111111111111111,
              "#46039f"
             ],
             [
              0.2222222222222222,
              "#7201a8"
             ],
             [
              0.3333333333333333,
              "#9c179e"
             ],
             [
              0.4444444444444444,
              "#bd3786"
             ],
             [
              0.5555555555555556,
              "#d8576b"
             ],
             [
              0.6666666666666666,
              "#ed7953"
             ],
             [
              0.7777777777777778,
              "#fb9f3a"
             ],
             [
              0.8888888888888888,
              "#fdca26"
             ],
             [
              1,
              "#f0f921"
             ]
            ],
            "type": "heatmap"
           }
          ],
          "histogram": [
           {
            "marker": {
             "pattern": {
              "fillmode": "overlay",
              "size": 10,
              "solidity": 0.2
             }
            },
            "type": "histogram"
           }
          ],
          "histogram2d": [
           {
            "colorbar": {
             "outlinewidth": 0,
             "ticks": ""
            },
            "colorscale": [
             [
              0,
              "#0d0887"
             ],
             [
              0.1111111111111111,
              "#46039f"
             ],
             [
              0.2222222222222222,
              "#7201a8"
             ],
             [
              0.3333333333333333,
              "#9c179e"
             ],
             [
              0.4444444444444444,
              "#bd3786"
             ],
             [
              0.5555555555555556,
              "#d8576b"
             ],
             [
              0.6666666666666666,
              "#ed7953"
             ],
             [
              0.7777777777777778,
              "#fb9f3a"
             ],
             [
              0.8888888888888888,
              "#fdca26"
             ],
             [
              1,
              "#f0f921"
             ]
            ],
            "type": "histogram2d"
           }
          ],
          "histogram2dcontour": [
           {
            "colorbar": {
             "outlinewidth": 0,
             "ticks": ""
            },
            "colorscale": [
             [
              0,
              "#0d0887"
             ],
             [
              0.1111111111111111,
              "#46039f"
             ],
             [
              0.2222222222222222,
              "#7201a8"
             ],
             [
              0.3333333333333333,
              "#9c179e"
             ],
             [
              0.4444444444444444,
              "#bd3786"
             ],
             [
              0.5555555555555556,
              "#d8576b"
             ],
             [
              0.6666666666666666,
              "#ed7953"
             ],
             [
              0.7777777777777778,
              "#fb9f3a"
             ],
             [
              0.8888888888888888,
              "#fdca26"
             ],
             [
              1,
              "#f0f921"
             ]
            ],
            "type": "histogram2dcontour"
           }
          ],
          "mesh3d": [
           {
            "colorbar": {
             "outlinewidth": 0,
             "ticks": ""
            },
            "type": "mesh3d"
           }
          ],
          "parcoords": [
           {
            "line": {
             "colorbar": {
              "outlinewidth": 0,
              "ticks": ""
             }
            },
            "type": "parcoords"
           }
          ],
          "pie": [
           {
            "automargin": true,
            "type": "pie"
           }
          ],
          "scatter": [
           {
            "fillpattern": {
             "fillmode": "overlay",
             "size": 10,
             "solidity": 0.2
            },
            "type": "scatter"
           }
          ],
          "scatter3d": [
           {
            "line": {
             "colorbar": {
              "outlinewidth": 0,
              "ticks": ""
             }
            },
            "marker": {
             "colorbar": {
              "outlinewidth": 0,
              "ticks": ""
             }
            },
            "type": "scatter3d"
           }
          ],
          "scattercarpet": [
           {
            "marker": {
             "colorbar": {
              "outlinewidth": 0,
              "ticks": ""
             }
            },
            "type": "scattercarpet"
           }
          ],
          "scattergeo": [
           {
            "marker": {
             "colorbar": {
              "outlinewidth": 0,
              "ticks": ""
             }
            },
            "type": "scattergeo"
           }
          ],
          "scattergl": [
           {
            "marker": {
             "colorbar": {
              "outlinewidth": 0,
              "ticks": ""
             }
            },
            "type": "scattergl"
           }
          ],
          "scattermap": [
           {
            "marker": {
             "colorbar": {
              "outlinewidth": 0,
              "ticks": ""
             }
            },
            "type": "scattermap"
           }
          ],
          "scattermapbox": [
           {
            "marker": {
             "colorbar": {
              "outlinewidth": 0,
              "ticks": ""
             }
            },
            "type": "scattermapbox"
           }
          ],
          "scatterpolar": [
           {
            "marker": {
             "colorbar": {
              "outlinewidth": 0,
              "ticks": ""
             }
            },
            "type": "scatterpolar"
           }
          ],
          "scatterpolargl": [
           {
            "marker": {
             "colorbar": {
              "outlinewidth": 0,
              "ticks": ""
             }
            },
            "type": "scatterpolargl"
           }
          ],
          "scatterternary": [
           {
            "marker": {
             "colorbar": {
              "outlinewidth": 0,
              "ticks": ""
             }
            },
            "type": "scatterternary"
           }
          ],
          "surface": [
           {
            "colorbar": {
             "outlinewidth": 0,
             "ticks": ""
            },
            "colorscale": [
             [
              0,
              "#0d0887"
             ],
             [
              0.1111111111111111,
              "#46039f"
             ],
             [
              0.2222222222222222,
              "#7201a8"
             ],
             [
              0.3333333333333333,
              "#9c179e"
             ],
             [
              0.4444444444444444,
              "#bd3786"
             ],
             [
              0.5555555555555556,
              "#d8576b"
             ],
             [
              0.6666666666666666,
              "#ed7953"
             ],
             [
              0.7777777777777778,
              "#fb9f3a"
             ],
             [
              0.8888888888888888,
              "#fdca26"
             ],
             [
              1,
              "#f0f921"
             ]
            ],
            "type": "surface"
           }
          ],
          "table": [
           {
            "cells": {
             "fill": {
              "color": "#EBF0F8"
             },
             "line": {
              "color": "white"
             }
            },
            "header": {
             "fill": {
              "color": "#C8D4E3"
             },
             "line": {
              "color": "white"
             }
            },
            "type": "table"
           }
          ]
         },
         "layout": {
          "annotationdefaults": {
           "arrowcolor": "#2a3f5f",
           "arrowhead": 0,
           "arrowwidth": 1
          },
          "autotypenumbers": "strict",
          "coloraxis": {
           "colorbar": {
            "outlinewidth": 0,
            "ticks": ""
           }
          },
          "colorscale": {
           "diverging": [
            [
             0,
             "#8e0152"
            ],
            [
             0.1,
             "#c51b7d"
            ],
            [
             0.2,
             "#de77ae"
            ],
            [
             0.3,
             "#f1b6da"
            ],
            [
             0.4,
             "#fde0ef"
            ],
            [
             0.5,
             "#f7f7f7"
            ],
            [
             0.6,
             "#e6f5d0"
            ],
            [
             0.7,
             "#b8e186"
            ],
            [
             0.8,
             "#7fbc41"
            ],
            [
             0.9,
             "#4d9221"
            ],
            [
             1,
             "#276419"
            ]
           ],
           "sequential": [
            [
             0,
             "#0d0887"
            ],
            [
             0.1111111111111111,
             "#46039f"
            ],
            [
             0.2222222222222222,
             "#7201a8"
            ],
            [
             0.3333333333333333,
             "#9c179e"
            ],
            [
             0.4444444444444444,
             "#bd3786"
            ],
            [
             0.5555555555555556,
             "#d8576b"
            ],
            [
             0.6666666666666666,
             "#ed7953"
            ],
            [
             0.7777777777777778,
             "#fb9f3a"
            ],
            [
             0.8888888888888888,
             "#fdca26"
            ],
            [
             1,
             "#f0f921"
            ]
           ],
           "sequentialminus": [
            [
             0,
             "#0d0887"
            ],
            [
             0.1111111111111111,
             "#46039f"
            ],
            [
             0.2222222222222222,
             "#7201a8"
            ],
            [
             0.3333333333333333,
             "#9c179e"
            ],
            [
             0.4444444444444444,
             "#bd3786"
            ],
            [
             0.5555555555555556,
             "#d8576b"
            ],
            [
             0.6666666666666666,
             "#ed7953"
            ],
            [
             0.7777777777777778,
             "#fb9f3a"
            ],
            [
             0.8888888888888888,
             "#fdca26"
            ],
            [
             1,
             "#f0f921"
            ]
           ]
          },
          "colorway": [
           "#636efa",
           "#EF553B",
           "#00cc96",
           "#ab63fa",
           "#FFA15A",
           "#19d3f3",
           "#FF6692",
           "#B6E880",
           "#FF97FF",
           "#FECB52"
          ],
          "font": {
           "color": "#2a3f5f"
          },
          "geo": {
           "bgcolor": "white",
           "lakecolor": "white",
           "landcolor": "white",
           "showlakes": true,
           "showland": true,
           "subunitcolor": "#C8D4E3"
          },
          "hoverlabel": {
           "align": "left"
          },
          "hovermode": "closest",
          "mapbox": {
           "style": "light"
          },
          "paper_bgcolor": "white",
          "plot_bgcolor": "white",
          "polar": {
           "angularaxis": {
            "gridcolor": "#EBF0F8",
            "linecolor": "#EBF0F8",
            "ticks": ""
           },
           "bgcolor": "white",
           "radialaxis": {
            "gridcolor": "#EBF0F8",
            "linecolor": "#EBF0F8",
            "ticks": ""
           }
          },
          "scene": {
           "xaxis": {
            "backgroundcolor": "white",
            "gridcolor": "#DFE8F3",
            "gridwidth": 2,
            "linecolor": "#EBF0F8",
            "showbackground": true,
            "ticks": "",
            "zerolinecolor": "#EBF0F8"
           },
           "yaxis": {
            "backgroundcolor": "white",
            "gridcolor": "#DFE8F3",
            "gridwidth": 2,
            "linecolor": "#EBF0F8",
            "showbackground": true,
            "ticks": "",
            "zerolinecolor": "#EBF0F8"
           },
           "zaxis": {
            "backgroundcolor": "white",
            "gridcolor": "#DFE8F3",
            "gridwidth": 2,
            "linecolor": "#EBF0F8",
            "showbackground": true,
            "ticks": "",
            "zerolinecolor": "#EBF0F8"
           }
          },
          "shapedefaults": {
           "line": {
            "color": "#2a3f5f"
           }
          },
          "ternary": {
           "aaxis": {
            "gridcolor": "#DFE8F3",
            "linecolor": "#A2B1C6",
            "ticks": ""
           },
           "baxis": {
            "gridcolor": "#DFE8F3",
            "linecolor": "#A2B1C6",
            "ticks": ""
           },
           "bgcolor": "white",
           "caxis": {
            "gridcolor": "#DFE8F3",
            "linecolor": "#A2B1C6",
            "ticks": ""
           }
          },
          "title": {
           "x": 0.05
          },
          "xaxis": {
           "automargin": true,
           "gridcolor": "#EBF0F8",
           "linecolor": "#EBF0F8",
           "ticks": "",
           "title": {
            "standoff": 15
           },
           "zerolinecolor": "#EBF0F8",
           "zerolinewidth": 2
          },
          "yaxis": {
           "automargin": true,
           "gridcolor": "#EBF0F8",
           "linecolor": "#EBF0F8",
           "ticks": "",
           "title": {
            "standoff": 15
           },
           "zerolinecolor": "#EBF0F8",
           "zerolinewidth": 2
          }
         }
        },
        "title": {
         "font": {
          "size": 16
         },
         "text": "10-Year Forecast for Arctic Ground Squirrel Summer Population (2000-2009)",
         "x": 0.5
        },
        "width": 900,
        "xaxis": {
         "title": {
          "text": "Year"
         }
        },
        "yaxis": {
         "range": [
          0,
          null
         ],
         "title": {
          "text": "Population Density (per hectare)"
         }
        }
       }
      }
     },
     "metadata": {},
     "output_type": "display_data"
    }
   ],
   "source": [
    "# Define forecast years (2000-2009)\n",
    "forecast_years = np.arange(2000, 2010)\n",
    "n_forecast = len(forecast_years)\n",
    "\n",
    "posterior = az.extract(trace_simple_rw)\n",
    "log_walk_samples = posterior['log_walk'].to_numpy()  \n",
    "sigma_walk_samples = posterior['sigma_walk'].to_numpy()\n",
    "sigma_obs_samples = posterior['sigma_obs'].to_numpy()\n",
    "\n",
    "final_log_state_samples = log_walk_samples[-1, :]\n",
    "n_samples = len(final_log_state_samples)\n",
    "\n",
    "random_steps = np.random.normal(\n",
    "    loc=0, \n",
    "    scale=sigma_walk_samples[:, np.newaxis], \n",
    "    size=(n_samples, n_forecast)\n",
    ")\n",
    "\n",
    "# Create the random walks using cumulative sum\n",
    "future_increments = np.cumsum(random_steps, axis=1)\n",
    "\n",
    "future_log_means = final_log_state_samples[:, np.newaxis] + future_increments\n",
    "\n",
    "Z = np.random.normal(0, 1, size=(n_samples, n_forecast))\n",
    "\n",
    "future_trajectories = np.exp(future_log_means + sigma_obs_samples[:, np.newaxis] * Z)\n",
    "\n",
    "rw_forecast_median = np.median(future_trajectories, axis=0)\n",
    "rw_forecast_hdi = az.hdi(future_trajectories, hdi_prob=0.95)\n",
    "rw_forecast_lower = rw_forecast_hdi[:, 0]\n",
    "rw_forecast_upper = rw_forecast_hdi[:, 1]\n",
    "\n",
    "go.Figure().add_trace(go.Scatter(\n",
    "    x=years,\n",
    "    y=squirrel_density,\n",
    "    mode='markers',\n",
    "    name='Observed Data',\n",
    "    marker=dict(\n",
    "        size=8,\n",
    "        color='red',\n",
    "        symbol='circle',\n",
    "        line=dict(width=2, color='darkred')\n",
    "    )\n",
    ")).add_trace(go.Scatter(\n",
    "    x=forecast_years,\n",
    "    y=rw_forecast_median,\n",
    "    mode='lines',\n",
    "    name='Forecast Median',\n",
    "    line=dict(color='blue', width=3)\n",
    ")).add_trace(go.Scatter(\n",
    "    x=np.concatenate([forecast_years, forecast_years[::-1]]),\n",
    "    y=np.concatenate([rw_forecast_upper, rw_forecast_lower[::-1]]),\n",
    "    fill='toself',\n",
    "    fillcolor='rgba(0, 100, 80, 0.2)',\n",
    "    line=dict(color='rgba(255,255,255,0)'),\n",
    "    name='95% HDI',\n",
    "    showlegend=True\n",
    ")).update_layout(\n",
    "    title=dict(\n",
    "        text='10-Year Forecast for Arctic Ground Squirrel Summer Population (2000-2009)',\n",
    "        x=0.5,\n",
    "        font=dict(size=16)\n",
    "    ),\n",
    "    xaxis_title='Year',\n",
    "    yaxis_title='Population Density (per hectare)',\n",
    "    width=900,\n",
    "    height=500,\n",
    "    template='plotly_white',\n",
    "    legend=dict(\n",
    "        x=0.02,\n",
    "        y=0.98,\n",
    "        bgcolor='rgba(255,255,255,0.8)',\n",
    "        bordercolor='gray',\n",
    "        borderwidth=1\n",
    "    )\n",
    ").update_yaxes(range=[0, None])"
   ]
  },
  {
   "cell_type": "markdown",
   "metadata": {},
   "source": [
    "**Key Mathematical Properties**:\n",
    "\n",
    "- **Stationarity condition**: $|\\rho| < 1$ ensures the process is stationary\n",
    "- **Mean**: $\\mathbb{E}[y_t] = 0$ (assuming zero mean)\n",
    "- **Variance**: $\\text{Var}(y_t) = \\frac{\\sigma^2}{1 - \\rho^2}$ (constant for stationary process)\n",
    "- **Autocorrelation**: $\\rho(k) = \\rho^k$ (exponential decay)\n",
    "\n",
    "**Interpretation of $\\rho$**:\n",
    "- $\\rho > 0$: **Positive persistence** - high values tend to be followed by high values\n",
    "- $\\rho < 0$: **Oscillatory behavior** - high values tend to be followed by low values\n",
    "- $\\rho \\approx 1$: **Near unit root** - very persistent, close to random walk behavior\n",
    "- $\\rho = 0$: **White noise** - no temporal dependence\n"
   ]
  },
  {
   "cell_type": "markdown",
   "metadata": {},
   "source": [
    "### Interpreting Random Walk Forecasts\n",
    "\n",
    "The forecast visualization reveals several key characteristics of random walk predictions:\n",
    "\n",
    "**Forecast Behavior**:\n",
    "- **Constant median prediction**: The forecast median remains approximately at the last observed value (though the mean is increasing)\n",
    "- **Linearly increasing uncertainty**: The prediction intervals widen steadily over time, reflecting the accumulating uncertainty inherent in random walk processes\n",
    "- **Realistic long-term uncertainty**: By 2009, the 95% HDI spans a wide range, acknowledging our limited ability to predict population levels a decade ahead\n",
    "\n",
    "While the projections may not be terribly useful, it does at least provide a accurate reflection of its uncertainty, given the simplicity of the projection methodology. We probably need to incorporate covariates or other processes to improve the projections."
   ]
  },
  {
   "cell_type": "markdown",
   "metadata": {},
   "source": [
    "### Autoregressive Model AR(1)\n",
    "\n",
    "**Autoregressive models** capture temporal dependence by relating current observations to past observations. An **AR(1) model** is defined as:\n",
    "\n",
    "$$y_t = \\phi y_{t-1} + \\epsilon_t$$\n",
    "\n",
    "where $\\phi$ is the **autoregressive coefficient** and $\\epsilon_t \\sim \\mathcal{N}(0, \\sigma^2)$ is white noise.\n",
    "\n",
    "A Gaussian random walk is a special case of an **autoregressive model**, where $\\phi = 1$.\n",
    "\n",
    "Now let's consider the more general case where $\\rho$ varies."
   ]
  },
  {
   "cell_type": "code",
   "execution_count": null,
   "metadata": {},
   "outputs": [],
   "source": [
    "# AR(1) for Ground Squirrel Summer Population\n",
    "with pm.Model(coords={'time': years}) as ar1_model:\n",
    "    \n",
    "    sigma_ar = pm.HalfNormal('sigma_ar', sigma=1.0)\n",
    "\n",
    "    # AR coefficient\n",
    "    rho = pm.Normal('rho', mu=0, sigma=1.0)\n",
    "    \n",
    "    init_dist = pm.Normal.dist(mu=0, sigma=1)\n",
    "    \n",
    "    log_ar = pm.AR('log_ar', \n",
    "        rho=rho,\n",
    "        sigma=sigma_ar,\n",
    "        init_dist=init_dist,\n",
    "        dims='time')\n",
    "    \n",
    "    ar = pm.Deterministic('ar', pm.math.exp(log_ar))\n",
    "    \n",
    "    sigma_obs = pm.HalfNormal('sigma_obs', sigma=1.0)\n",
    "    \n",
    "    y = pm.LogNormal('y', mu=log_ar, sigma=sigma_obs, observed=squirrel_density, dims='time')"
   ]
  },
  {
   "cell_type": "code",
   "execution_count": null,
   "metadata": {},
   "outputs": [
    {
     "name": "stderr",
     "output_type": "stream",
     "text": [
      "Initializing NUTS using jitter+adapt_diag...\n",
      "Multiprocess sampling (4 chains in 4 jobs)\n",
      "NUTS: [sigma_ar, rho, log_ar, sigma_obs]\n"
     ]
    },
    {
     "data": {
      "application/vnd.jupyter.widget-view+json": {
       "model_id": "140370e6399044b2a15591dd5e7d44a7",
       "version_major": 2,
       "version_minor": 0
      },
      "text/plain": [
       "Output()"
      ]
     },
     "metadata": {},
     "output_type": "display_data"
    },
    {
     "data": {
      "text/html": [
       "<pre style=\"white-space:pre;overflow-x:auto;line-height:normal;font-family:Menlo,'DejaVu Sans Mono',consolas,'Courier New',monospace\"></pre>\n"
      ],
      "text/plain": []
     },
     "metadata": {},
     "output_type": "display_data"
    },
    {
     "name": "stderr",
     "output_type": "stream",
     "text": [
      "Sampling 4 chains for 2_000 tune and 1_000 draw iterations (8_000 + 4_000 draws total) took 2 seconds.\n",
      "There were 18 divergences after tuning. Increase `target_accept` or reparameterize.\n",
      "The rhat statistic is larger than 1.01 for some parameters. This indicates problems during sampling. See https://arxiv.org/abs/1903.08008 for details\n",
      "The effective sample size per chain is smaller than 100 for some parameters.  A higher number is needed for reliable rhat and ess computation. See https://arxiv.org/abs/1903.08008 for details\n",
      "Sampling: [y]\n"
     ]
    },
    {
     "data": {
      "application/vnd.jupyter.widget-view+json": {
       "model_id": "c3ffedf3dd15469f9562d09d67f7f732",
       "version_major": 2,
       "version_minor": 0
      },
      "text/plain": [
       "Output()"
      ]
     },
     "metadata": {},
     "output_type": "display_data"
    },
    {
     "data": {
      "text/html": [
       "<pre style=\"white-space:pre;overflow-x:auto;line-height:normal;font-family:Menlo,'DejaVu Sans Mono',consolas,'Courier New',monospace\"></pre>\n"
      ],
      "text/plain": []
     },
     "metadata": {},
     "output_type": "display_data"
    },
    {
     "name": "stdout",
     "output_type": "stream",
     "text": [
      "🎯 **AR(1) Model Results for Ground Squirrel Population**:\n",
      "           mean     sd  hdi_3%  hdi_97%  mcse_mean  mcse_sd  ess_bulk  \\\n",
      "rho       0.316  0.443  -0.629    1.039      0.021    0.009     444.0   \n",
      "sigma_ar  0.328  0.160   0.047    0.606      0.006    0.004     510.0   \n",
      "\n",
      "          ess_tail  r_hat  \n",
      "rho         1652.0   1.02  \n",
      "sigma_ar     502.0   1.01  \n",
      "\n",
      "📈 **Population Persistence Analysis**:\n",
      "   • **AR coefficient (φ)**: 0.316\n",
      "   • **95% HDI**: [-0.629, 1.039]\n",
      "   • **Ecological interpretation**: Moderate population memory - some year-to-year correlation\n"
     ]
    }
   ],
   "source": [
    "with ar1_model:\n",
    "    trace_ar1 = pm.sample(1000, tune=2000, random_seed=RANDOM_SEED)\n",
    "    pm.sample_posterior_predictive(trace_ar1, extend_inferencedata=True,\n",
    "                                   random_seed=RANDOM_SEED)\n",
    "    \n",
    "print(\"🎯 **AR(1) Model Results for Ground Squirrel Population**:\")\n",
    "print(az.summary(trace_ar1, var_names=['rho', 'sigma_ar']))\n",
    "\n",
    "# Extract and interpret AR coefficient\n",
    "rho_mean = az.extract(trace_ar1)['rho'].mean().item()\n",
    "rho_hdi = az.hdi(trace_ar1, var_names=['rho'])['rho']\n",
    "\n",
    "print(\"\\n📈 **Population Persistence Analysis**:\")\n",
    "print(f\"   • **AR coefficient (φ)**: {rho_mean:.3f}\")\n",
    "print(f\"   • **95% HDI**: [{rho_hdi.sel(hdi='lower').item():.3f}, {rho_hdi.sel(hdi='higher').item():.3f}]\")\n",
    "if rho_mean > 0.5:\n",
    "    print(\"   • **Ecological interpretation**: High population persistence - good years tend to follow good years\")\n",
    "elif rho_mean < -0.5:\n",
    "    print(\"   • **Ecological interpretation**: Population oscillations - good years tend to follow bad years\")\n",
    "else:\n",
    "    print(\"   • **Ecological interpretation**: Moderate population memory - some year-to-year correlation\")\n"
   ]
  },
  {
   "cell_type": "markdown",
   "metadata": {},
   "source": [
    "**Key Mathematical Properties**:\n",
    "\n",
    "- **Stationarity condition**: $|\\rho| < 1$ ensures the process is stationary\n",
    "- **Mean**: $\\mathbb{E}[y_t] = 0$ (assuming zero mean)\n",
    "- **Variance**: $\\text{Var}(y_t) = \\frac{\\sigma^2}{1 - \\rho^2}$ (constant for stationary process)\n",
    "- **Autocorrelation**: $\\rho(k) = \\rho^k$ (exponential decay)\n",
    "\n",
    "**Interpretation of $\\rho$**:\n",
    "- $\\rho > 0$: **Positive persistence** - high values tend to be followed by high values\n",
    "- $\\rho < 0$: **Oscillatory behavior** - high values tend to be followed by low values\n",
    "- $\\rho \\approx 1$: **Near unit root** - very persistent, close to random walk behavior\n",
    "- $\\rho = 0$: **White noise** - no temporal dependence\n"
   ]
  },
  {
   "cell_type": "code",
   "execution_count": null,
   "metadata": {},
   "outputs": [
    {
     "data": {
      "application/vnd.plotly.v1+json": {
       "config": {
        "plotlyServerURL": "https://plot.ly"
       },
       "data": [
        {
         "fill": "toself",
         "fillcolor": "rgba(144, 238, 144, 0.2)",
         "line": {
          "color": "rgba(255,255,255,0)"
         },
         "name": "Posterior Predictive 95% HDI",
         "showlegend": true,
         "type": "scatter",
         "x": {
          "bdata": "xgfHB8gHyQfKB8sHzAfNB84HzwfPB84HzQfMB8sHygfJB8gHxwfGBw==",
          "dtype": "i2"
         },
         "y": {
          "bdata": "M4xr6d5WAUDRUuQZzDP6P8zjq9gp7fY/Z7BX+GQ1+z8dC+T4NYkBQI4Fpf/y/ARADpikikrwAEARj9AOS4oAQA9yqoH74gBAQ+Td5OKK+z8eRYIczwbVPzARfCAwG9o/PhI2wqe62j9pid8aRWvZPwVsFzMnxdw/Jxi8udQK3T+kLN04f/HXP1erMfLEQdA/YM2H54XX1T/56jnz2GbUPw==",
          "dtype": "f8"
         }
        },
        {
         "fill": "toself",
         "fillcolor": "rgba(0, 100, 80, 0.2)",
         "line": {
          "color": "rgba(255,255,255,0)"
         },
         "name": "Random Walk 95% HDI",
         "showlegend": true,
         "type": "scatter",
         "x": {
          "bdata": "xgfHB8gHyQfKB8sHzAfNB84HzwfPB84HzQfMB8sHygfJB8gHxwfGBw==",
          "dtype": "i2"
         },
         "y": {
          "bdata": "a97odoYv+D8TNQeLRA/0P8HzQ7LSiPI/11hiYz6X9T/r5IEQoXX8PxLMLsaATAJA0EBlndiB/T8LbPRG1fj7P6Z4PoYq//o/CkMz2REs+D+uVeWVVmnlPyBXfzKEWuo/NgnrbjXP6z8Z6rUQOMntP7jz372Jve8/Hw+S3TNo6z93KdpHj9flP2lNt54JkNw/XJ61NegA4z9PjtvesjrmPw==",
          "dtype": "f8"
         }
        },
        {
         "line": {
          "color": "darkgreen",
          "width": 3
         },
         "mode": "lines",
         "name": "Estimated Density",
         "type": "scatter",
         "x": {
          "bdata": "xgfHB8gHyQfKB8sHzAfNB84Hzwc=",
          "dtype": "i2"
         },
         "y": {
          "bdata": "WLgsz1st8j+HJKzlshvsP94m7pMAPuc/cVy+PcyP7z/fZKaiBKD1P3f8AEWIH/s/37TNdeUf9j/24WcFbhH1P650wlWgjPQ/PC9mhOhs8D8=",
          "dtype": "f8"
         }
        },
        {
         "marker": {
          "color": "red",
          "line": {
           "color": "darkred",
           "width": 2
          },
          "size": 8,
          "symbol": "circle"
         },
         "mode": "markers",
         "name": "Observed Data",
         "type": "scatter",
         "x": {
          "bdata": "xgfHB8gHyQfKB8sHzAfNB84Hzwc=",
          "dtype": "i2"
         },
         "y": {
          "bdata": "w/UoXI/C8z/sUbgehevpP0jhehSuR+E/w/UoXI/C7T8ehetRuB73Px6F61G4HgBA3+ALk6ni9T/QZtXnagv1P36MuWsJefU/NF66SQzC7D8=",
          "dtype": "f8"
         }
        }
       ],
       "layout": {
        "height": 500,
        "legend": {
         "bgcolor": "rgba(255,255,255,0.8)",
         "bordercolor": "gray",
         "borderwidth": 1,
         "x": 0.02,
         "y": 0.98
        },
        "template": {
         "data": {
          "bar": [
           {
            "error_x": {
             "color": "#2a3f5f"
            },
            "error_y": {
             "color": "#2a3f5f"
            },
            "marker": {
             "line": {
              "color": "white",
              "width": 0.5
             },
             "pattern": {
              "fillmode": "overlay",
              "size": 10,
              "solidity": 0.2
             }
            },
            "type": "bar"
           }
          ],
          "barpolar": [
           {
            "marker": {
             "line": {
              "color": "white",
              "width": 0.5
             },
             "pattern": {
              "fillmode": "overlay",
              "size": 10,
              "solidity": 0.2
             }
            },
            "type": "barpolar"
           }
          ],
          "carpet": [
           {
            "aaxis": {
             "endlinecolor": "#2a3f5f",
             "gridcolor": "#C8D4E3",
             "linecolor": "#C8D4E3",
             "minorgridcolor": "#C8D4E3",
             "startlinecolor": "#2a3f5f"
            },
            "baxis": {
             "endlinecolor": "#2a3f5f",
             "gridcolor": "#C8D4E3",
             "linecolor": "#C8D4E3",
             "minorgridcolor": "#C8D4E3",
             "startlinecolor": "#2a3f5f"
            },
            "type": "carpet"
           }
          ],
          "choropleth": [
           {
            "colorbar": {
             "outlinewidth": 0,
             "ticks": ""
            },
            "type": "choropleth"
           }
          ],
          "contour": [
           {
            "colorbar": {
             "outlinewidth": 0,
             "ticks": ""
            },
            "colorscale": [
             [
              0,
              "#0d0887"
             ],
             [
              0.1111111111111111,
              "#46039f"
             ],
             [
              0.2222222222222222,
              "#7201a8"
             ],
             [
              0.3333333333333333,
              "#9c179e"
             ],
             [
              0.4444444444444444,
              "#bd3786"
             ],
             [
              0.5555555555555556,
              "#d8576b"
             ],
             [
              0.6666666666666666,
              "#ed7953"
             ],
             [
              0.7777777777777778,
              "#fb9f3a"
             ],
             [
              0.8888888888888888,
              "#fdca26"
             ],
             [
              1,
              "#f0f921"
             ]
            ],
            "type": "contour"
           }
          ],
          "contourcarpet": [
           {
            "colorbar": {
             "outlinewidth": 0,
             "ticks": ""
            },
            "type": "contourcarpet"
           }
          ],
          "heatmap": [
           {
            "colorbar": {
             "outlinewidth": 0,
             "ticks": ""
            },
            "colorscale": [
             [
              0,
              "#0d0887"
             ],
             [
              0.1111111111111111,
              "#46039f"
             ],
             [
              0.2222222222222222,
              "#7201a8"
             ],
             [
              0.3333333333333333,
              "#9c179e"
             ],
             [
              0.4444444444444444,
              "#bd3786"
             ],
             [
              0.5555555555555556,
              "#d8576b"
             ],
             [
              0.6666666666666666,
              "#ed7953"
             ],
             [
              0.7777777777777778,
              "#fb9f3a"
             ],
             [
              0.8888888888888888,
              "#fdca26"
             ],
             [
              1,
              "#f0f921"
             ]
            ],
            "type": "heatmap"
           }
          ],
          "histogram": [
           {
            "marker": {
             "pattern": {
              "fillmode": "overlay",
              "size": 10,
              "solidity": 0.2
             }
            },
            "type": "histogram"
           }
          ],
          "histogram2d": [
           {
            "colorbar": {
             "outlinewidth": 0,
             "ticks": ""
            },
            "colorscale": [
             [
              0,
              "#0d0887"
             ],
             [
              0.1111111111111111,
              "#46039f"
             ],
             [
              0.2222222222222222,
              "#7201a8"
             ],
             [
              0.3333333333333333,
              "#9c179e"
             ],
             [
              0.4444444444444444,
              "#bd3786"
             ],
             [
              0.5555555555555556,
              "#d8576b"
             ],
             [
              0.6666666666666666,
              "#ed7953"
             ],
             [
              0.7777777777777778,
              "#fb9f3a"
             ],
             [
              0.8888888888888888,
              "#fdca26"
             ],
             [
              1,
              "#f0f921"
             ]
            ],
            "type": "histogram2d"
           }
          ],
          "histogram2dcontour": [
           {
            "colorbar": {
             "outlinewidth": 0,
             "ticks": ""
            },
            "colorscale": [
             [
              0,
              "#0d0887"
             ],
             [
              0.1111111111111111,
              "#46039f"
             ],
             [
              0.2222222222222222,
              "#7201a8"
             ],
             [
              0.3333333333333333,
              "#9c179e"
             ],
             [
              0.4444444444444444,
              "#bd3786"
             ],
             [
              0.5555555555555556,
              "#d8576b"
             ],
             [
              0.6666666666666666,
              "#ed7953"
             ],
             [
              0.7777777777777778,
              "#fb9f3a"
             ],
             [
              0.8888888888888888,
              "#fdca26"
             ],
             [
              1,
              "#f0f921"
             ]
            ],
            "type": "histogram2dcontour"
           }
          ],
          "mesh3d": [
           {
            "colorbar": {
             "outlinewidth": 0,
             "ticks": ""
            },
            "type": "mesh3d"
           }
          ],
          "parcoords": [
           {
            "line": {
             "colorbar": {
              "outlinewidth": 0,
              "ticks": ""
             }
            },
            "type": "parcoords"
           }
          ],
          "pie": [
           {
            "automargin": true,
            "type": "pie"
           }
          ],
          "scatter": [
           {
            "fillpattern": {
             "fillmode": "overlay",
             "size": 10,
             "solidity": 0.2
            },
            "type": "scatter"
           }
          ],
          "scatter3d": [
           {
            "line": {
             "colorbar": {
              "outlinewidth": 0,
              "ticks": ""
             }
            },
            "marker": {
             "colorbar": {
              "outlinewidth": 0,
              "ticks": ""
             }
            },
            "type": "scatter3d"
           }
          ],
          "scattercarpet": [
           {
            "marker": {
             "colorbar": {
              "outlinewidth": 0,
              "ticks": ""
             }
            },
            "type": "scattercarpet"
           }
          ],
          "scattergeo": [
           {
            "marker": {
             "colorbar": {
              "outlinewidth": 0,
              "ticks": ""
             }
            },
            "type": "scattergeo"
           }
          ],
          "scattergl": [
           {
            "marker": {
             "colorbar": {
              "outlinewidth": 0,
              "ticks": ""
             }
            },
            "type": "scattergl"
           }
          ],
          "scattermap": [
           {
            "marker": {
             "colorbar": {
              "outlinewidth": 0,
              "ticks": ""
             }
            },
            "type": "scattermap"
           }
          ],
          "scattermapbox": [
           {
            "marker": {
             "colorbar": {
              "outlinewidth": 0,
              "ticks": ""
             }
            },
            "type": "scattermapbox"
           }
          ],
          "scatterpolar": [
           {
            "marker": {
             "colorbar": {
              "outlinewidth": 0,
              "ticks": ""
             }
            },
            "type": "scatterpolar"
           }
          ],
          "scatterpolargl": [
           {
            "marker": {
             "colorbar": {
              "outlinewidth": 0,
              "ticks": ""
             }
            },
            "type": "scatterpolargl"
           }
          ],
          "scatterternary": [
           {
            "marker": {
             "colorbar": {
              "outlinewidth": 0,
              "ticks": ""
             }
            },
            "type": "scatterternary"
           }
          ],
          "surface": [
           {
            "colorbar": {
             "outlinewidth": 0,
             "ticks": ""
            },
            "colorscale": [
             [
              0,
              "#0d0887"
             ],
             [
              0.1111111111111111,
              "#46039f"
             ],
             [
              0.2222222222222222,
              "#7201a8"
             ],
             [
              0.3333333333333333,
              "#9c179e"
             ],
             [
              0.4444444444444444,
              "#bd3786"
             ],
             [
              0.5555555555555556,
              "#d8576b"
             ],
             [
              0.6666666666666666,
              "#ed7953"
             ],
             [
              0.7777777777777778,
              "#fb9f3a"
             ],
             [
              0.8888888888888888,
              "#fdca26"
             ],
             [
              1,
              "#f0f921"
             ]
            ],
            "type": "surface"
           }
          ],
          "table": [
           {
            "cells": {
             "fill": {
              "color": "#EBF0F8"
             },
             "line": {
              "color": "white"
             }
            },
            "header": {
             "fill": {
              "color": "#C8D4E3"
             },
             "line": {
              "color": "white"
             }
            },
            "type": "table"
           }
          ]
         },
         "layout": {
          "annotationdefaults": {
           "arrowcolor": "#2a3f5f",
           "arrowhead": 0,
           "arrowwidth": 1
          },
          "autotypenumbers": "strict",
          "coloraxis": {
           "colorbar": {
            "outlinewidth": 0,
            "ticks": ""
           }
          },
          "colorscale": {
           "diverging": [
            [
             0,
             "#8e0152"
            ],
            [
             0.1,
             "#c51b7d"
            ],
            [
             0.2,
             "#de77ae"
            ],
            [
             0.3,
             "#f1b6da"
            ],
            [
             0.4,
             "#fde0ef"
            ],
            [
             0.5,
             "#f7f7f7"
            ],
            [
             0.6,
             "#e6f5d0"
            ],
            [
             0.7,
             "#b8e186"
            ],
            [
             0.8,
             "#7fbc41"
            ],
            [
             0.9,
             "#4d9221"
            ],
            [
             1,
             "#276419"
            ]
           ],
           "sequential": [
            [
             0,
             "#0d0887"
            ],
            [
             0.1111111111111111,
             "#46039f"
            ],
            [
             0.2222222222222222,
             "#7201a8"
            ],
            [
             0.3333333333333333,
             "#9c179e"
            ],
            [
             0.4444444444444444,
             "#bd3786"
            ],
            [
             0.5555555555555556,
             "#d8576b"
            ],
            [
             0.6666666666666666,
             "#ed7953"
            ],
            [
             0.7777777777777778,
             "#fb9f3a"
            ],
            [
             0.8888888888888888,
             "#fdca26"
            ],
            [
             1,
             "#f0f921"
            ]
           ],
           "sequentialminus": [
            [
             0,
             "#0d0887"
            ],
            [
             0.1111111111111111,
             "#46039f"
            ],
            [
             0.2222222222222222,
             "#7201a8"
            ],
            [
             0.3333333333333333,
             "#9c179e"
            ],
            [
             0.4444444444444444,
             "#bd3786"
            ],
            [
             0.5555555555555556,
             "#d8576b"
            ],
            [
             0.6666666666666666,
             "#ed7953"
            ],
            [
             0.7777777777777778,
             "#fb9f3a"
            ],
            [
             0.8888888888888888,
             "#fdca26"
            ],
            [
             1,
             "#f0f921"
            ]
           ]
          },
          "colorway": [
           "#636efa",
           "#EF553B",
           "#00cc96",
           "#ab63fa",
           "#FFA15A",
           "#19d3f3",
           "#FF6692",
           "#B6E880",
           "#FF97FF",
           "#FECB52"
          ],
          "font": {
           "color": "#2a3f5f"
          },
          "geo": {
           "bgcolor": "white",
           "lakecolor": "white",
           "landcolor": "white",
           "showlakes": true,
           "showland": true,
           "subunitcolor": "#C8D4E3"
          },
          "hoverlabel": {
           "align": "left"
          },
          "hovermode": "closest",
          "mapbox": {
           "style": "light"
          },
          "paper_bgcolor": "white",
          "plot_bgcolor": "white",
          "polar": {
           "angularaxis": {
            "gridcolor": "#EBF0F8",
            "linecolor": "#EBF0F8",
            "ticks": ""
           },
           "bgcolor": "white",
           "radialaxis": {
            "gridcolor": "#EBF0F8",
            "linecolor": "#EBF0F8",
            "ticks": ""
           }
          },
          "scene": {
           "xaxis": {
            "backgroundcolor": "white",
            "gridcolor": "#DFE8F3",
            "gridwidth": 2,
            "linecolor": "#EBF0F8",
            "showbackground": true,
            "ticks": "",
            "zerolinecolor": "#EBF0F8"
           },
           "yaxis": {
            "backgroundcolor": "white",
            "gridcolor": "#DFE8F3",
            "gridwidth": 2,
            "linecolor": "#EBF0F8",
            "showbackground": true,
            "ticks": "",
            "zerolinecolor": "#EBF0F8"
           },
           "zaxis": {
            "backgroundcolor": "white",
            "gridcolor": "#DFE8F3",
            "gridwidth": 2,
            "linecolor": "#EBF0F8",
            "showbackground": true,
            "ticks": "",
            "zerolinecolor": "#EBF0F8"
           }
          },
          "shapedefaults": {
           "line": {
            "color": "#2a3f5f"
           }
          },
          "ternary": {
           "aaxis": {
            "gridcolor": "#DFE8F3",
            "linecolor": "#A2B1C6",
            "ticks": ""
           },
           "baxis": {
            "gridcolor": "#DFE8F3",
            "linecolor": "#A2B1C6",
            "ticks": ""
           },
           "bgcolor": "white",
           "caxis": {
            "gridcolor": "#DFE8F3",
            "linecolor": "#A2B1C6",
            "ticks": ""
           }
          },
          "title": {
           "x": 0.05
          },
          "xaxis": {
           "automargin": true,
           "gridcolor": "#EBF0F8",
           "linecolor": "#EBF0F8",
           "ticks": "",
           "title": {
            "standoff": 15
           },
           "zerolinecolor": "#EBF0F8",
           "zerolinewidth": 2
          },
          "yaxis": {
           "automargin": true,
           "gridcolor": "#EBF0F8",
           "linecolor": "#EBF0F8",
           "ticks": "",
           "title": {
            "standoff": 15
           },
           "zerolinecolor": "#EBF0F8",
           "zerolinewidth": 2
          }
         }
        },
        "title": {
         "font": {
          "size": 16
         },
         "text": "AR(1) Model - Arctic Ground Squirrel Summer Population",
         "x": 0.5
        },
        "width": 900,
        "xaxis": {
         "title": {
          "text": "Year"
         }
        },
        "yaxis": {
         "title": {
          "text": "Population Density (per hectare)"
         }
        }
       }
      }
     },
     "metadata": {},
     "output_type": "display_data"
    }
   ],
   "source": [
    "ar_samples = az.extract(trace_ar1)['ar']\n",
    "y_samples = az.extract(trace_ar1, group='posterior_predictive')['y']\n",
    "\n",
    "ar_mean = ar_samples.mean(dim='sample')\n",
    "ar_hdi = az.hdi(trace_ar1, var_names=['ar'])['ar']\n",
    "\n",
    "y_mean = y_samples.mean(dim='sample')\n",
    "y_hdi = az.hdi(trace_ar1, group='posterior_predictive', var_names=['y'])['y']\n",
    "\n",
    "go.Figure().add_trace(go.Scatter(\n",
    "    x=np.concatenate([years, years[::-1]]),\n",
    "    y=np.concatenate([y_hdi[:, 1], y_hdi[::-1, 0]]),\n",
    "    fill='toself',\n",
    "    fillcolor='rgba(144, 238, 144, 0.2)',\n",
    "    line=dict(color='rgba(255,255,255,0)'),\n",
    "    name='Posterior Predictive 95% HDI',\n",
    "    showlegend=True\n",
    ")).add_trace(go.Scatter(\n",
    "    x=np.concatenate([years, years[::-1]]),\n",
    "    y=np.concatenate([walk_hdi[:, 1], walk_hdi[::-1, 0]]),\n",
    "    fill='toself',\n",
    "    fillcolor='rgba(0, 100, 80, 0.2)',\n",
    "    line=dict(color='rgba(255,255,255,0)'),\n",
    "    name='Random Walk 95% HDI',\n",
    "    showlegend=True\n",
    ")).add_trace(go.Scatter(\n",
    "    x=years,\n",
    "    y=walk_mean,\n",
    "    mode='lines',\n",
    "    name='Estimated Density',\n",
    "    line=dict(color='darkgreen', width=3)\n",
    ")).add_trace(go.Scatter(\n",
    "    x=years,\n",
    "    y=squirrel_density,\n",
    "    mode='markers',\n",
    "    name='Observed Data',\n",
    "    marker=dict(\n",
    "        size=8,\n",
    "        color='red',\n",
    "        symbol='circle',\n",
    "        line=dict(width=2, color='darkred')\n",
    "    )\n",
    ")).update_layout(\n",
    "    title=dict(\n",
    "        text='AR(1) Model - Arctic Ground Squirrel Summer Population',\n",
    "        x=0.5,\n",
    "        font=dict(size=16)\n",
    "    ),\n",
    "    xaxis_title='Year',\n",
    "    yaxis_title='Population Density (per hectare)',\n",
    "    width=900,\n",
    "    height=500,\n",
    "    template='plotly_white',\n",
    "    legend=dict(\n",
    "        x=0.02,\n",
    "        y=0.98,\n",
    "        bgcolor='rgba(255,255,255,0.8)',\n",
    "        bordercolor='gray',\n",
    "        borderwidth=1\n",
    "    )\n",
    ")"
   ]
  },
  {
   "cell_type": "code",
   "execution_count": null,
   "metadata": {},
   "outputs": [
    {
     "data": {
      "text/plain": [
       "<Axes: title={'center': 'rho'}>"
      ]
     },
     "execution_count": 14,
     "metadata": {},
     "output_type": "execute_result"
    },
    {
     "data": {
      "image/png": "[encoded data removed]",
      "text/plain": [
       "<Figure size 720x480 with 1 Axes>"
      ]
     },
     "metadata": {},
     "output_type": "display_data"
    }
   ],
   "source": [
    "az.plot_posterior(trace_ar1, var_names=['rho'])"
   ]
  },
  {
   "cell_type": "markdown",
   "metadata": {},
   "source": [
    "## Extending to AR(2) Models\n",
    "\n",
    "While the AR(1) model provides a flexible generalization to the random walk, ecological systems often exhibit more complex dynamics that span multiple time periods. For example, an AR(2) model extends our analysis by incorporating dependencies on two previous time steps:\n",
    "\n",
    "$$\\log(y_t) = \\rho_1 \\cdot \\log(y_{t-1}) + \\rho_2 \\cdot \\log(y_{t-2}) + \\epsilon_t$$\n",
    "\n",
    "Where:\n",
    "- $\\rho_1$ represents the immediate persistence effect (as in AR(1))\n",
    "- $\\rho_2$ captures delayed effects from two time steps ago\n",
    "- $\\epsilon_t$ is the innovation term (random shock)\n",
    "\n",
    "In the context of this data, AR(2) models can reveal important ecological patterns:\n",
    "\n",
    "1. **Cyclical Dynamics**: Negative values of $\\rho_2$ often indicate cyclical population fluctuations\n",
    "2. **Delayed Density Dependence**: Effects of population size may take multiple years to manifest\n",
    "3. **Complex Environmental Responses**: Populations may respond to environmental conditions with lag effects\n",
    "\n",
    "Let's see how an AR(2) model performs on our squirrel data."
   ]
  },
  {
   "cell_type": "code",
   "execution_count": null,
   "metadata": {},
   "outputs": [
    {
     "name": "stderr",
     "output_type": "stream",
     "text": [
      "Initializing NUTS using jitter+adapt_diag...\n",
      "Multiprocess sampling (4 chains in 4 jobs)\n",
      "NUTS: [sigma_ar, rho, log_ar, sigma_obs]\n"
     ]
    },
    {
     "data": {
      "application/vnd.jupyter.widget-view+json": {
       "model_id": "ffa3d849ccd24f1fa28241b457c71d30",
       "version_major": 2,
       "version_minor": 0
      },
      "text/plain": [
       "Output()"
      ]
     },
     "metadata": {},
     "output_type": "display_data"
    },
    {
     "data": {
      "text/html": [
       "<pre style=\"white-space:pre;overflow-x:auto;line-height:normal;font-family:Menlo,'DejaVu Sans Mono',consolas,'Courier New',monospace\"></pre>\n"
      ],
      "text/plain": []
     },
     "metadata": {},
     "output_type": "display_data"
    },
    {
     "name": "stderr",
     "output_type": "stream",
     "text": [
      "Sampling 4 chains for 2_000 tune and 1_000 draw iterations (8_000 + 4_000 draws total) took 3 seconds.\n",
      "There were 48 divergences after tuning. Increase `target_accept` or reparameterize.\n",
      "The rhat statistic is larger than 1.01 for some parameters. This indicates problems during sampling. See https://arxiv.org/abs/1903.08008 for details\n",
      "The effective sample size per chain is smaller than 100 for some parameters.  A higher number is needed for reliable rhat and ess computation. See https://arxiv.org/abs/1903.08008 for details\n"
     ]
    }
   ],
   "source": [
    "# AR(2) Model\n",
    "with pm.Model(coords={'time': years, 'lag': ['lag1', 'lag2']}) as ar2_model:\n",
    "    \n",
    "    sigma_ar = pm.HalfNormal('sigma_ar', sigma=1.0)\n",
    "\n",
    "    rho = pm.Normal('rho', mu=0, sigma=1.0, shape=2, dims='lag')\n",
    "    \n",
    "    init_dist = pm.Normal.dist(mu=0, sigma=1)\n",
    "    \n",
    "    log_ar = pm.AR('log_ar', \n",
    "        rho=rho,\n",
    "        sigma=sigma_ar,\n",
    "        init_dist=init_dist,\n",
    "        dims='time')\n",
    "    \n",
    "    ar = pm.Deterministic('ar', pm.math.exp(log_ar), dims='time')\n",
    "    \n",
    "    sigma_obs = pm.HalfNormal('sigma_obs', sigma=1.0)\n",
    "    \n",
    "    y = pm.LogNormal('y', mu=log_ar, sigma=sigma_obs, observed=squirrel_density, dims='time')\n",
    "\n",
    "    trace_ar2 = pm.sample(1000, tune=2000, random_seed=RANDOM_SEED)"
   ]
  },
  {
   "cell_type": "code",
   "execution_count": null,
   "metadata": {},
   "outputs": [
    {
     "data": {
      "text/plain": [
       "array([<Axes: title={'center': 'rho\\nlag1'}>,\n",
       "       <Axes: title={'center': 'rho\\nlag2'}>], dtype=object)"
      ]
     },
     "execution_count": 16,
     "metadata": {},
     "output_type": "execute_result"
    },
    {
     "data": {
      "image/png": "[encoded data removed]",
      "text/plain": [
       "<Figure size 1656x552 with 2 Axes>"
      ]
     },
     "metadata": {},
     "output_type": "display_data"
    }
   ],
   "source": [
    "az.plot_posterior(trace_ar2, var_names=['rho'])"
   ]
  },
  {
   "cell_type": "markdown",
   "metadata": {},
   "source": [
    "The estimated lag-2 autoregressive coefficient is probably negative, though it overlaps zero to some degree. This may be capturing a little of the cyclic behavior in the data.\n",
    "\n",
    "Let's take this model and generate predictions, and compare them to what the population actually did post-2000.\n",
    "\n",
    "### Forecasting with a Dummy Model\n",
    "\n",
    "While it is easy to manually generate random walk projections, its a little more complicated for and autoregressive model. So, we will use PyMC's sampling machinery to do this for us.\n",
    "\n",
    "First, we will create a new model for forecasting. We will use the parameters from the fitted model and use them to generate predictive samples for future years.\n",
    "\n",
    "To reiterate, we use a *new* model object, but with the future seasons as the time coordinate. Then we create \"dummy\" variables for the parameters:"
   ]
  },
  {
   "cell_type": "code",
   "execution_count": null,
   "metadata": {},
   "outputs": [],
   "source": [
    "# Create a new model for forecasting\n",
    "with pm.Model(coords={'time': forecast_years}) as forecast_model:\n",
    "\n",
    "    # Get parameters from the fitted model\n",
    "    sigma_ar = pm.Flat('sigma_ar')\n",
    "    rho = pm.Flat('rho', shape=2)\n",
    "    sigma_obs = pm.Flat('sigma_obs')"
   ]
  },
  {
   "cell_type": "markdown",
   "metadata": {},
   "source": [
    "Why are we doing this? Becuase we will be using the samples from the *fitted* model for these parameters; these `Flat` variables are just placeholders!\n",
    "\n",
    "Next, we will grab the last two time periods from the fitted model and use them to initialize the forecasting AR process. \n",
    "\n",
    "The `DiracDelta` distribution is a way of specifying a variable that is essentially a constant. These initial values are then passed to a new AR(2) process, which is defined for the forecast period."
   ]
  },
  {
   "cell_type": "code",
   "execution_count": null,
   "metadata": {},
   "outputs": [],
   "source": [
    "with forecast_model:\n",
    "    \n",
    "    # Get the last two values from the fitted model to initialize the forecast\n",
    "    log_ar_last = trace_ar2.posterior['log_ar'].mean(dim=['chain', 'draw'])[-2:].values\n",
    "    \n",
    "    # Create AR(2) process for the entire time period\n",
    "    init_dist = pm.DiracDelta.dist(log_ar_last)\n",
    "    log_ar = pm.AR('log_ar', rho=rho, sigma=sigma_ar, init_dist=init_dist, dims='time')"
   ]
  },
  {
   "cell_type": "markdown",
   "metadata": {},
   "source": [
    "The rest of the model is pretty much the same as the orignal model. The key difference is that we only do **posterior predictive sampling** -- we are not fitting a new model."
   ]
  },
  {
   "cell_type": "code",
   "execution_count": null,
   "metadata": {},
   "outputs": [
    {
     "name": "stderr",
     "output_type": "stream",
     "text": [
      "Sampling: [log_ar, y]\n"
     ]
    },
    {
     "data": {
      "application/vnd.jupyter.widget-view+json": {
       "model_id": "724c8126ba3e4f1bb2fd3c5676257812",
       "version_major": 2,
       "version_minor": 0
      },
      "text/plain": [
       "Output()"
      ]
     },
     "metadata": {},
     "output_type": "display_data"
    },
    {
     "data": {
      "text/html": [
       "<pre style=\"white-space:pre;overflow-x:auto;line-height:normal;font-family:Menlo,'DejaVu Sans Mono',consolas,'Courier New',monospace\"></pre>\n"
      ],
      "text/plain": []
     },
     "metadata": {},
     "output_type": "display_data"
    }
   ],
   "source": [
    "with forecast_model:\n",
    "    \n",
    "    # Transform to original scale\n",
    "    ar = pm.math.exp(log_ar)\n",
    "    \n",
    "    # Likelihood for the observed period\n",
    "    y = pm.LogNormal('y', mu=log_ar, sigma=sigma_obs, dims='time')\n",
    "\n",
    "    # Sample from posterior predictive\n",
    "    ar2_forecast_trace = pm.sample_posterior_predictive(\n",
    "        trace_ar2, \n",
    "        var_names=['y'], \n",
    "        random_seed=RANDOM_SEED\n",
    "    )"
   ]
  },
  {
   "cell_type": "markdown",
   "metadata": {},
   "source": [
    "Let's take a look at the projections:"
   ]
  },
  {
   "cell_type": "code",
   "execution_count": null,
   "metadata": {},
   "outputs": [
    {
     "data": {
      "application/vnd.plotly.v1+json": {
       "config": {
        "plotlyServerURL": "https://plot.ly"
       },
       "data": [
        {
         "marker": {
          "color": "red",
          "line": {
           "color": "darkred",
           "width": 2
          },
          "size": 8,
          "symbol": "circle"
         },
         "mode": "markers",
         "name": "Observed Data",
         "type": "scatter",
         "x": {
          "bdata": "xgfHB8gHyQfKB8sHzAfNB84Hzwc=",
          "dtype": "i2"
         },
         "y": {
          "bdata": "w/UoXI/C8z/sUbgehevpP0jhehSuR+E/w/UoXI/C7T8ehetRuB73Px6F61G4HgBA3+ALk6ni9T/QZtXnagv1P36MuWsJefU/NF66SQzC7D8=",
          "dtype": "f8"
         }
        },
        {
         "line": {
          "color": "blue",
          "width": 3
         },
         "mode": "lines",
         "name": "Forecast Median",
         "type": "scatter",
         "x": {
          "bdata": "0AfRB9IH0wfUB9UH1gfXB9gH2Qc=",
          "dtype": "i2"
         },
         "y": {
          "bdata": "UPn5os/f8j84LDOIJ2juPzre930SFu0/2MBM05/w7T8Q52IJXLDvP5LWujL/dPA/rDuset5a8D+0yVvTLi3wP89uE/RBBPA/1XvNSvRB7z8=",
          "dtype": "f8"
         }
        },
        {
         "fill": "toself",
         "fillcolor": "rgba(0, 100, 80, 0.2)",
         "line": {
          "color": "rgba(255,255,255,0)"
         },
         "name": "95% HDI",
         "showlegend": true,
         "type": "scatter",
         "x": {
          "bdata": "0AfRB9IH0wfUB9UH1gfXB9gH2QfZB9gH1wfWB9UH1AfTB9IH0QfQBw==",
          "dtype": "i2"
         },
         "y": {
          "bdata": "yxFgjVO+/z89HnNRKkn6P4kDiu6umgBA1n62i8KhAUCYdV5ClOADQIkYiqkGTwVAZ1jiJF7HBkAdxLAKY8YGQNvbkyEoCQdAS/fPhrJfBUC13eF2kqOQOHMAVYRuy+g7uq9ajsbz1D2ak0I7IqfBPiNjyfjKUbU/qO0mrDETwz+zUjM2oerDPyWVmXsuF84/2TV5Z2+42z/usvOySObgPw==",
          "dtype": "f8"
         }
        }
       ],
       "layout": {
        "height": 500,
        "legend": {
         "bgcolor": "rgba(255,255,255,0.8)",
         "bordercolor": "gray",
         "borderwidth": 1,
         "x": 0.02,
         "y": 0.98
        },
        "template": {
         "data": {
          "bar": [
           {
            "error_x": {
             "color": "#2a3f5f"
            },
            "error_y": {
             "color": "#2a3f5f"
            },
            "marker": {
             "line": {
              "color": "white",
              "width": 0.5
             },
             "pattern": {
              "fillmode": "overlay",
              "size": 10,
              "solidity": 0.2
             }
            },
            "type": "bar"
           }
          ],
          "barpolar": [
           {
            "marker": {
             "line": {
              "color": "white",
              "width": 0.5
             },
             "pattern": {
              "fillmode": "overlay",
              "size": 10,
              "solidity": 0.2
             }
            },
            "type": "barpolar"
           }
          ],
          "carpet": [
           {
            "aaxis": {
             "endlinecolor": "#2a3f5f",
             "gridcolor": "#C8D4E3",
             "linecolor": "#C8D4E3",
             "minorgridcolor": "#C8D4E3",
             "startlinecolor": "#2a3f5f"
            },
            "baxis": {
             "endlinecolor": "#2a3f5f",
             "gridcolor": "#C8D4E3",
             "linecolor": "#C8D4E3",
             "minorgridcolor": "#C8D4E3",
             "startlinecolor": "#2a3f5f"
            },
            "type": "carpet"
           }
          ],
          "choropleth": [
           {
            "colorbar": {
             "outlinewidth": 0,
             "ticks": ""
            },
            "type": "choropleth"
           }
          ],
          "contour": [
           {
            "colorbar": {
             "outlinewidth": 0,
             "ticks": ""
            },
            "colorscale": [
             [
              0,
              "#0d0887"
             ],
             [
              0.1111111111111111,
              "#46039f"
             ],
             [
              0.2222222222222222,
              "#7201a8"
             ],
             [
              0.3333333333333333,
              "#9c179e"
             ],
             [
              0.4444444444444444,
              "#bd3786"
             ],
             [
              0.5555555555555556,
              "#d8576b"
             ],
             [
              0.6666666666666666,
              "#ed7953"
             ],
             [
              0.7777777777777778,
              "#fb9f3a"
             ],
             [
              0.8888888888888888,
              "#fdca26"
             ],
             [
              1,
              "#f0f921"
             ]
            ],
            "type": "contour"
           }
          ],
          "contourcarpet": [
           {
            "colorbar": {
             "outlinewidth": 0,
             "ticks": ""
            },
            "type": "contourcarpet"
           }
          ],
          "heatmap": [
           {
            "colorbar": {
             "outlinewidth": 0,
             "ticks": ""
            },
            "colorscale": [
             [
              0,
              "#0d0887"
             ],
             [
              0.1111111111111111,
              "#46039f"
             ],
             [
              0.2222222222222222,
              "#7201a8"
             ],
             [
              0.3333333333333333,
              "#9c179e"
             ],
             [
              0.4444444444444444,
              "#bd3786"
             ],
             [
              0.5555555555555556,
              "#d8576b"
             ],
             [
              0.6666666666666666,
              "#ed7953"
             ],
             [
              0.7777777777777778,
              "#fb9f3a"
             ],
             [
              0.8888888888888888,
              "#fdca26"
             ],
             [
              1,
              "#f0f921"
             ]
            ],
            "type": "heatmap"
           }
          ],
          "histogram": [
           {
            "marker": {
             "pattern": {
              "fillmode": "overlay",
              "size": 10,
              "solidity": 0.2
             }
            },
            "type": "histogram"
           }
          ],
          "histogram2d": [
           {
            "colorbar": {
             "outlinewidth": 0,
             "ticks": ""
            },
            "colorscale": [
             [
              0,
              "#0d0887"
             ],
             [
              0.1111111111111111,
              "#46039f"
             ],
             [
              0.2222222222222222,
              "#7201a8"
             ],
             [
              0.3333333333333333,
              "#9c179e"
             ],
             [
              0.4444444444444444,
              "#bd3786"
             ],
             [
              0.5555555555555556,
              "#d8576b"
             ],
             [
              0.6666666666666666,
              "#ed7953"
             ],
             [
              0.7777777777777778,
              "#fb9f3a"
             ],
             [
              0.8888888888888888,
              "#fdca26"
             ],
             [
              1,
              "#f0f921"
             ]
            ],
            "type": "histogram2d"
           }
          ],
          "histogram2dcontour": [
           {
            "colorbar": {
             "outlinewidth": 0,
             "ticks": ""
            },
            "colorscale": [
             [
              0,
              "#0d0887"
             ],
             [
              0.1111111111111111,
              "#46039f"
             ],
             [
              0.2222222222222222,
              "#7201a8"
             ],
             [
              0.3333333333333333,
              "#9c179e"
             ],
             [
              0.4444444444444444,
              "#bd3786"
             ],
             [
              0.5555555555555556,
              "#d8576b"
             ],
             [
              0.6666666666666666,
              "#ed7953"
             ],
             [
              0.7777777777777778,
              "#fb9f3a"
             ],
             [
              0.8888888888888888,
              "#fdca26"
             ],
             [
              1,
              "#f0f921"
             ]
            ],
            "type": "histogram2dcontour"
           }
          ],
          "mesh3d": [
           {
            "colorbar": {
             "outlinewidth": 0,
             "ticks": ""
            },
            "type": "mesh3d"
           }
          ],
          "parcoords": [
           {
            "line": {
             "colorbar": {
              "outlinewidth": 0,
              "ticks": ""
             }
            },
            "type": "parcoords"
           }
          ],
          "pie": [
           {
            "automargin": true,
            "type": "pie"
           }
          ],
          "scatter": [
           {
            "fillpattern": {
             "fillmode": "overlay",
             "size": 10,
             "solidity": 0.2
            },
            "type": "scatter"
           }
          ],
          "scatter3d": [
           {
            "line": {
             "colorbar": {
              "outlinewidth": 0,
              "ticks": ""
             }
            },
            "marker": {
             "colorbar": {
              "outlinewidth": 0,
              "ticks": ""
             }
            },
            "type": "scatter3d"
           }
          ],
          "scattercarpet": [
           {
            "marker": {
             "colorbar": {
              "outlinewidth": 0,
              "ticks": ""
             }
            },
            "type": "scattercarpet"
           }
          ],
          "scattergeo": [
           {
            "marker": {
             "colorbar": {
              "outlinewidth": 0,
              "ticks": ""
             }
            },
            "type": "scattergeo"
           }
          ],
          "scattergl": [
           {
            "marker": {
             "colorbar": {
              "outlinewidth": 0,
              "ticks": ""
             }
            },
            "type": "scattergl"
           }
          ],
          "scattermap": [
           {
            "marker": {
             "colorbar": {
              "outlinewidth": 0,
              "ticks": ""
             }
            },
            "type": "scattermap"
           }
          ],
          "scattermapbox": [
           {
            "marker": {
             "colorbar": {
              "outlinewidth": 0,
              "ticks": ""
             }
            },
            "type": "scattermapbox"
           }
          ],
          "scatterpolar": [
           {
            "marker": {
             "colorbar": {
              "outlinewidth": 0,
              "ticks": ""
             }
            },
            "type": "scatterpolar"
           }
          ],
          "scatterpolargl": [
           {
            "marker": {
             "colorbar": {
              "outlinewidth": 0,
              "ticks": ""
             }
            },
            "type": "scatterpolargl"
           }
          ],
          "scatterternary": [
           {
            "marker": {
             "colorbar": {
              "outlinewidth": 0,
              "ticks": ""
             }
            },
            "type": "scatterternary"
           }
          ],
          "surface": [
           {
            "colorbar": {
             "outlinewidth": 0,
             "ticks": ""
            },
            "colorscale": [
             [
              0,
              "#0d0887"
             ],
             [
              0.1111111111111111,
              "#46039f"
             ],
             [
              0.2222222222222222,
              "#7201a8"
             ],
             [
              0.3333333333333333,
              "#9c179e"
             ],
             [
              0.4444444444444444,
              "#bd3786"
             ],
             [
              0.5555555555555556,
              "#d8576b"
             ],
             [
              0.6666666666666666,
              "#ed7953"
             ],
             [
              0.7777777777777778,
              "#fb9f3a"
             ],
             [
              0.8888888888888888,
              "#fdca26"
             ],
             [
              1,
              "#f0f921"
             ]
            ],
            "type": "surface"
           }
          ],
          "table": [
           {
            "cells": {
             "fill": {
              "color": "#EBF0F8"
             },
             "line": {
              "color": "white"
             }
            },
            "header": {
             "fill": {
              "color": "#C8D4E3"
             },
             "line": {
              "color": "white"
             }
            },
            "type": "table"
           }
          ]
         },
         "layout": {
          "annotationdefaults": {
           "arrowcolor": "#2a3f5f",
           "arrowhead": 0,
           "arrowwidth": 1
          },
          "autotypenumbers": "strict",
          "coloraxis": {
           "colorbar": {
            "outlinewidth": 0,
            "ticks": ""
           }
          },
          "colorscale": {
           "diverging": [
            [
             0,
             "#8e0152"
            ],
            [
             0.1,
             "#c51b7d"
            ],
            [
             0.2,
             "#de77ae"
            ],
            [
             0.3,
             "#f1b6da"
            ],
            [
             0.4,
             "#fde0ef"
            ],
            [
             0.5,
             "#f7f7f7"
            ],
            [
             0.6,
             "#e6f5d0"
            ],
            [
             0.7,
             "#b8e186"
            ],
            [
             0.8,
             "#7fbc41"
            ],
            [
             0.9,
             "#4d9221"
            ],
            [
             1,
             "#276419"
            ]
           ],
           "sequential": [
            [
             0,
             "#0d0887"
            ],
            [
             0.1111111111111111,
             "#46039f"
            ],
            [
             0.2222222222222222,
             "#7201a8"
            ],
            [
             0.3333333333333333,
             "#9c179e"
            ],
            [
             0.4444444444444444,
             "#bd3786"
            ],
            [
             0.5555555555555556,
             "#d8576b"
            ],
            [
             0.6666666666666666,
             "#ed7953"
            ],
            [
             0.7777777777777778,
             "#fb9f3a"
            ],
            [
             0.8888888888888888,
             "#fdca26"
            ],
            [
             1,
             "#f0f921"
            ]
           ],
           "sequentialminus": [
            [
             0,
             "#0d0887"
            ],
            [
             0.1111111111111111,
             "#46039f"
            ],
            [
             0.2222222222222222,
             "#7201a8"
            ],
            [
             0.3333333333333333,
             "#9c179e"
            ],
            [
             0.4444444444444444,
             "#bd3786"
            ],
            [
             0.5555555555555556,
             "#d8576b"
            ],
            [
             0.6666666666666666,
             "#ed7953"
            ],
            [
             0.7777777777777778,
             "#fb9f3a"
            ],
            [
             0.8888888888888888,
             "#fdca26"
            ],
            [
             1,
             "#f0f921"
            ]
           ]
          },
          "colorway": [
           "#636efa",
           "#EF553B",
           "#00cc96",
           "#ab63fa",
           "#FFA15A",
           "#19d3f3",
           "#FF6692",
           "#B6E880",
           "#FF97FF",
           "#FECB52"
          ],
          "font": {
           "color": "#2a3f5f"
          },
          "geo": {
           "bgcolor": "white",
           "lakecolor": "white",
           "landcolor": "white",
           "showlakes": true,
           "showland": true,
           "subunitcolor": "#C8D4E3"
          },
          "hoverlabel": {
           "align": "left"
          },
          "hovermode": "closest",
          "mapbox": {
           "style": "light"
          },
          "paper_bgcolor": "white",
          "plot_bgcolor": "white",
          "polar": {
           "angularaxis": {
            "gridcolor": "#EBF0F8",
            "linecolor": "#EBF0F8",
            "ticks": ""
           },
           "bgcolor": "white",
           "radialaxis": {
            "gridcolor": "#EBF0F8",
            "linecolor": "#EBF0F8",
            "ticks": ""
           }
          },
          "scene": {
           "xaxis": {
            "backgroundcolor": "white",
            "gridcolor": "#DFE8F3",
            "gridwidth": 2,
            "linecolor": "#EBF0F8",
            "showbackground": true,
            "ticks": "",
            "zerolinecolor": "#EBF0F8"
           },
           "yaxis": {
            "backgroundcolor": "white",
            "gridcolor": "#DFE8F3",
            "gridwidth": 2,
            "linecolor": "#EBF0F8",
            "showbackground": true,
            "ticks": "",
            "zerolinecolor": "#EBF0F8"
           },
           "zaxis": {
            "backgroundcolor": "white",
            "gridcolor": "#DFE8F3",
            "gridwidth": 2,
            "linecolor": "#EBF0F8",
            "showbackground": true,
            "ticks": "",
            "zerolinecolor": "#EBF0F8"
           }
          },
          "shapedefaults": {
           "line": {
            "color": "#2a3f5f"
           }
          },
          "ternary": {
           "aaxis": {
            "gridcolor": "#DFE8F3",
            "linecolor": "#A2B1C6",
            "ticks": ""
           },
           "baxis": {
            "gridcolor": "#DFE8F3",
            "linecolor": "#A2B1C6",
            "ticks": ""
           },
           "bgcolor": "white",
           "caxis": {
            "gridcolor": "#DFE8F3",
            "linecolor": "#A2B1C6",
            "ticks": ""
           }
          },
          "title": {
           "x": 0.05
          },
          "xaxis": {
           "automargin": true,
           "gridcolor": "#EBF0F8",
           "linecolor": "#EBF0F8",
           "ticks": "",
           "title": {
            "standoff": 15
           },
           "zerolinecolor": "#EBF0F8",
           "zerolinewidth": 2
          },
          "yaxis": {
           "automargin": true,
           "gridcolor": "#EBF0F8",
           "linecolor": "#EBF0F8",
           "ticks": "",
           "title": {
            "standoff": 15
           },
           "zerolinecolor": "#EBF0F8",
           "zerolinewidth": 2
          }
         }
        },
        "title": {
         "font": {
          "size": 16
         },
         "text": "10-Year Forecast for Arctic Ground Squirrel Summer Population (2000-2009)",
         "x": 0.5
        },
        "width": 900,
        "xaxis": {
         "title": {
          "text": "Year"
         }
        },
        "yaxis": {
         "range": [
          0,
          null
         ],
         "title": {
          "text": "Population Density (per hectare)"
         }
        }
       }
      }
     },
     "metadata": {},
     "output_type": "display_data"
    }
   ],
   "source": [
    "\n",
    "ar2_forecast_samples = ar2_forecast_trace.posterior_predictive['y'].stack(sample=(\"chain\", \"draw\"))\n",
    "ar2_forecast_median = ar2_forecast_samples.median(dim='sample').values\n",
    "ar2_forecast_lower = np.zeros(n_forecast)\n",
    "ar2_forecast_upper = np.zeros(n_forecast)\n",
    "ar2_forecast_values = ar2_forecast_samples.values[-n_forecast:]\n",
    "\n",
    "for t in range(n_forecast):\n",
    "    hdi = az.hdi(ar2_forecast_values[t], hdi_prob=0.95)\n",
    "    ar2_forecast_lower[t] = hdi[0]\n",
    "    ar2_forecast_upper[t] = hdi[1]\n",
    "\n",
    "actual_future = (squirrel_data\n",
    "    .filter((pl.col('Year') >= 2000) & (pl.col('Year') <= 2009) & (pl.col('Season') == 'Summer'))\n",
    "    .sort('Year')\n",
    ")\n",
    "actual_years = actual_future['Year'].to_numpy()\n",
    "actual_density = actual_future['Average_per_ha'].to_numpy()\n",
    "\n",
    "go.Figure().add_trace(go.Scatter(\n",
    "    x=years,\n",
    "    y=squirrel_density,\n",
    "    mode='markers',\n",
    "    name='Observed Data',\n",
    "    marker=dict(\n",
    "        size=8,\n",
    "        color='red',\n",
    "        symbol='circle',\n",
    "        line=dict(width=2, color='darkred')\n",
    "    )\n",
    ")).add_trace(go.Scatter(\n",
    "    x=forecast_years,\n",
    "    y=ar2_forecast_median[-n_forecast:],\n",
    "    mode='lines',\n",
    "    name='Forecast Median',\n",
    "    line=dict(color='blue', width=3)\n",
    ")).add_trace(go.Scatter(\n",
    "    x=np.concatenate([forecast_years, forecast_years[::-1]]),\n",
    "    y=np.concatenate([ar2_forecast_upper, ar2_forecast_lower[::-1]]),\n",
    "    fill='toself',\n",
    "    fillcolor='rgba(0, 100, 80, 0.2)',\n",
    "    line=dict(color='rgba(255,255,255,0)'),\n",
    "    name='95% HDI',\n",
    "    showlegend=True\n",
    ")).update_layout(\n",
    "    title=dict(\n",
    "        text='10-Year Forecast for Arctic Ground Squirrel Summer Population (2000-2009)',\n",
    "        x=0.5,\n",
    "        font=dict(size=16)\n",
    "    ),\n",
    "    xaxis_title='Year',\n",
    "    yaxis_title='Population Density (per hectare)',\n",
    "    width=900,\n",
    "    height=500,\n",
    "    template='plotly_white',\n",
    "    legend=dict(\n",
    "        x=0.02,\n",
    "        y=0.98,\n",
    "        bgcolor='rgba(255,255,255,0.8)',\n",
    "        bordercolor='gray',\n",
    "        borderwidth=1\n",
    "    )\n",
    ").update_yaxes(range=[0, None])"
   ]
  },
  {
   "cell_type": "markdown",
   "metadata": {},
   "source": [
    "The uncertainty in the AR(2) process appears dampened relative to the random walk, likely because of both the lag-one autocorrelation being smaller than 1 and the slight negative autocorrelation in the second lag. \n",
    "\n",
    "Here is a prior predictive sample from such a model:"
   ]
  },
  {
   "cell_type": "code",
   "execution_count": null,
   "metadata": {},
   "outputs": [
    {
     "name": "stderr",
     "output_type": "stream",
     "text": [
      "Sampling: [log_ar]\n"
     ]
    },
    {
     "data": {
      "application/vnd.plotly.v1+json": {
       "config": {
        "plotlyServerURL": "https://plot.ly"
       },
       "data": [
        {
         "line": {
          "color": "darkblue",
          "width": 3
         },
         "mode": "lines",
         "name": "Prior Median",
         "type": "scatter",
         "x": {
          "bdata": "AAECAwQFBgcICQoLDA0ODxAREhMUFRYXGBkaGxwd",
          "dtype": "i1"
         },
         "y": {
          "bdata": "UgxqnX/e7z81AAUfjAnwP5J+7aes3O8/Kl6UosAT8D/4S7spcg/wPwjhAAq2+O8/omWx6CEK8D9WEHrzfRLwP1u4xoLOAvA/3e0wCFsN8D/ynnpvSADwP+rUUrKCJPA/AL4sWKYC8D8uYy2izBPwP+LEmT2N0O8/4/rhO7jt7z8/ZlaZhLzvP/SjFoDfte8/8fMyDA4A8D/aC0v7ZQDwPyUedz8zC/A/cAftcJQC8D9GBCbwiNnvP3o+nEm6z+8/qGntwVzp7z/WRKwHadrvP4Qv5P6Fwu8/9E0Dh2js7z9OjZ0NnwjwPxnYq8LqIfA/Gitp5pwL8D9curpqt+HvPw==",
          "dtype": "f8"
         }
        },
        {
         "fill": "toself",
         "fillcolor": "rgba(0, 100, 80, 0.2)",
         "line": {
          "color": "rgba(255,255,255,0)"
         },
         "name": "Prior 95% HDI",
         "showlegend": true,
         "type": "scatter",
         "x": {
          "bdata": "AAECAwQFBgcICQoLDA0ODxAREhMUFRYXGBkaGxwdHRwbGhkYFxYVFBMSERAPDg0MCwoJCAcGBQQDAgEA",
          "dtype": "i1"
         },
         "y": {
          "bdata": "NC6yftM58z825S8pZlLzP6Ze5HVqpPM/rZ7tsZWt8z8DUnPOB0jzP3AP8ZDWjfM/IIiALULL8z/Z4cfkNozzP/Bkhv0p1/M/ogRZxgzR8z/NjhRQDQH0PwJYwlMghPM/jMbIfNhq8z8HUnKccbHzP2v+9aUzzfM/JVPdFyyN8z+Z6fNXJ2jzP6pVYBRr+fM/5CFnUjSg8z+SyfQKofjzP6J95sBVc/M/GW1wuiN+8z+7XT0NHXDzP9rZRaimAfQ/3JiGXx638z80rmUTWfTzP/sdWJZRePM/CLK6yH2O8z/QacPae+7zP0RkUzpXofM/NqTzaYju6T+iOgFkiZXpP0tSEXiP1ek/7TcoPSr66D9ZwZwMRCjqPyf9tsbtV+k/Pg0M7iCX6T+dak/GJ3noP+zZ0j1RJuk/ExEokR126T8SOxOuMkHqP4GRd4xcy+g/zwcrmgiN6T8dn7GINczoP6vLfHMKdOk/AiuUVVm56T8qRRqPujzpP9e9u4bDTek/P0nX6JZh6D/rF8Kg9mjpP+y7WxuHOuk/VOuKNXxI6T8/kYOl9c3pP63hU3rwwuk/iwUiI0LP6T/4hFOKnYnpP+E8XRhBTuk/fe3W212S6T+l1pUuGhjqP8P5agSjOOo/",
          "dtype": "f8"
         }
        }
       ],
       "layout": {
        "template": {
         "data": {
          "bar": [
           {
            "error_x": {
             "color": "#2a3f5f"
            },
            "error_y": {
             "color": "#2a3f5f"
            },
            "marker": {
             "line": {
              "color": "white",
              "width": 0.5
             },
             "pattern": {
              "fillmode": "overlay",
              "size": 10,
              "solidity": 0.2
             }
            },
            "type": "bar"
           }
          ],
          "barpolar": [
           {
            "marker": {
             "line": {
              "color": "white",
              "width": 0.5
             },
             "pattern": {
              "fillmode": "overlay",
              "size": 10,
              "solidity": 0.2
             }
            },
            "type": "barpolar"
           }
          ],
          "carpet": [
           {
            "aaxis": {
             "endlinecolor": "#2a3f5f",
             "gridcolor": "#C8D4E3",
             "linecolor": "#C8D4E3",
             "minorgridcolor": "#C8D4E3",
             "startlinecolor": "#2a3f5f"
            },
            "baxis": {
             "endlinecolor": "#2a3f5f",
             "gridcolor": "#C8D4E3",
             "linecolor": "#C8D4E3",
             "minorgridcolor": "#C8D4E3",
             "startlinecolor": "#2a3f5f"
            },
            "type": "carpet"
           }
          ],
          "choropleth": [
           {
            "colorbar": {
             "outlinewidth": 0,
             "ticks": ""
            },
            "type": "choropleth"
           }
          ],
          "contour": [
           {
            "colorbar": {
             "outlinewidth": 0,
             "ticks": ""
            },
            "colorscale": [
             [
              0,
              "#0d0887"
             ],
             [
              0.1111111111111111,
              "#46039f"
             ],
             [
              0.2222222222222222,
              "#7201a8"
             ],
             [
              0.3333333333333333,
              "#9c179e"
             ],
             [
              0.4444444444444444,
              "#bd3786"
             ],
             [
              0.5555555555555556,
              "#d8576b"
             ],
             [
              0.6666666666666666,
              "#ed7953"
             ],
             [
              0.7777777777777778,
              "#fb9f3a"
             ],
             [
              0.8888888888888888,
              "#fdca26"
             ],
             [
              1,
              "#f0f921"
             ]
            ],
            "type": "contour"
           }
          ],
          "contourcarpet": [
           {
            "colorbar": {
             "outlinewidth": 0,
             "ticks": ""
            },
            "type": "contourcarpet"
           }
          ],
          "heatmap": [
           {
            "colorbar": {
             "outlinewidth": 0,
             "ticks": ""
            },
            "colorscale": [
             [
              0,
              "#0d0887"
             ],
             [
              0.1111111111111111,
              "#46039f"
             ],
             [
              0.2222222222222222,
              "#7201a8"
             ],
             [
              0.3333333333333333,
              "#9c179e"
             ],
             [
              0.4444444444444444,
              "#bd3786"
             ],
             [
              0.5555555555555556,
              "#d8576b"
             ],
             [
              0.6666666666666666,
              "#ed7953"
             ],
             [
              0.7777777777777778,
              "#fb9f3a"
             ],
             [
              0.8888888888888888,
              "#fdca26"
             ],
             [
              1,
              "#f0f921"
             ]
            ],
            "type": "heatmap"
           }
          ],
          "histogram": [
           {
            "marker": {
             "pattern": {
              "fillmode": "overlay",
              "size": 10,
              "solidity": 0.2
             }
            },
            "type": "histogram"
           }
          ],
          "histogram2d": [
           {
            "colorbar": {
             "outlinewidth": 0,
             "ticks": ""
            },
            "colorscale": [
             [
              0,
              "#0d0887"
             ],
             [
              0.1111111111111111,
              "#46039f"
             ],
             [
              0.2222222222222222,
              "#7201a8"
             ],
             [
              0.3333333333333333,
              "#9c179e"
             ],
             [
              0.4444444444444444,
              "#bd3786"
             ],
             [
              0.5555555555555556,
              "#d8576b"
             ],
             [
              0.6666666666666666,
              "#ed7953"
             ],
             [
              0.7777777777777778,
              "#fb9f3a"
             ],
             [
              0.8888888888888888,
              "#fdca26"
             ],
             [
              1,
              "#f0f921"
             ]
            ],
            "type": "histogram2d"
           }
          ],
          "histogram2dcontour": [
           {
            "colorbar": {
             "outlinewidth": 0,
             "ticks": ""
            },
            "colorscale": [
             [
              0,
              "#0d0887"
             ],
             [
              0.1111111111111111,
              "#46039f"
             ],
             [
              0.2222222222222222,
              "#7201a8"
             ],
             [
              0.3333333333333333,
              "#9c179e"
             ],
             [
              0.4444444444444444,
              "#bd3786"
             ],
             [
              0.5555555555555556,
              "#d8576b"
             ],
             [
              0.6666666666666666,
              "#ed7953"
             ],
             [
              0.7777777777777778,
              "#fb9f3a"
             ],
             [
              0.8888888888888888,
              "#fdca26"
             ],
             [
              1,
              "#f0f921"
             ]
            ],
            "type": "histogram2dcontour"
           }
          ],
          "mesh3d": [
           {
            "colorbar": {
             "outlinewidth": 0,
             "ticks": ""
            },
            "type": "mesh3d"
           }
          ],
          "parcoords": [
           {
            "line": {
             "colorbar": {
              "outlinewidth": 0,
              "ticks": ""
             }
            },
            "type": "parcoords"
           }
          ],
          "pie": [
           {
            "automargin": true,
            "type": "pie"
           }
          ],
          "scatter": [
           {
            "fillpattern": {
             "fillmode": "overlay",
             "size": 10,
             "solidity": 0.2
            },
            "type": "scatter"
           }
          ],
          "scatter3d": [
           {
            "line": {
             "colorbar": {
              "outlinewidth": 0,
              "ticks": ""
             }
            },
            "marker": {
             "colorbar": {
              "outlinewidth": 0,
              "ticks": ""
             }
            },
            "type": "scatter3d"
           }
          ],
          "scattercarpet": [
           {
            "marker": {
             "colorbar": {
              "outlinewidth": 0,
              "ticks": ""
             }
            },
            "type": "scattercarpet"
           }
          ],
          "scattergeo": [
           {
            "marker": {
             "colorbar": {
              "outlinewidth": 0,
              "ticks": ""
             }
            },
            "type": "scattergeo"
           }
          ],
          "scattergl": [
           {
            "marker": {
             "colorbar": {
              "outlinewidth": 0,
              "ticks": ""
             }
            },
            "type": "scattergl"
           }
          ],
          "scattermap": [
           {
            "marker": {
             "colorbar": {
              "outlinewidth": 0,
              "ticks": ""
             }
            },
            "type": "scattermap"
           }
          ],
          "scattermapbox": [
           {
            "marker": {
             "colorbar": {
              "outlinewidth": 0,
              "ticks": ""
             }
            },
            "type": "scattermapbox"
           }
          ],
          "scatterpolar": [
           {
            "marker": {
             "colorbar": {
              "outlinewidth": 0,
              "ticks": ""
             }
            },
            "type": "scatterpolar"
           }
          ],
          "scatterpolargl": [
           {
            "marker": {
             "colorbar": {
              "outlinewidth": 0,
              "ticks": ""
             }
            },
            "type": "scatterpolargl"
           }
          ],
          "scatterternary": [
           {
            "marker": {
             "colorbar": {
              "outlinewidth": 0,
              "ticks": ""
             }
            },
            "type": "scatterternary"
           }
          ],
          "surface": [
           {
            "colorbar": {
             "outlinewidth": 0,
             "ticks": ""
            },
            "colorscale": [
             [
              0,
              "#0d0887"
             ],
             [
              0.1111111111111111,
              "#46039f"
             ],
             [
              0.2222222222222222,
              "#7201a8"
             ],
             [
              0.3333333333333333,
              "#9c179e"
             ],
             [
              0.4444444444444444,
              "#bd3786"
             ],
             [
              0.5555555555555556,
              "#d8576b"
             ],
             [
              0.6666666666666666,
              "#ed7953"
             ],
             [
              0.7777777777777778,
              "#fb9f3a"
             ],
             [
              0.8888888888888888,
              "#fdca26"
             ],
             [
              1,
              "#f0f921"
             ]
            ],
            "type": "surface"
           }
          ],
          "table": [
           {
            "cells": {
             "fill": {
              "color": "#EBF0F8"
             },
             "line": {
              "color": "white"
             }
            },
            "header": {
             "fill": {
              "color": "#C8D4E3"
             },
             "line": {
              "color": "white"
             }
            },
            "type": "table"
           }
          ]
         },
         "layout": {
          "annotationdefaults": {
           "arrowcolor": "#2a3f5f",
           "arrowhead": 0,
           "arrowwidth": 1
          },
          "autotypenumbers": "strict",
          "coloraxis": {
           "colorbar": {
            "outlinewidth": 0,
            "ticks": ""
           }
          },
          "colorscale": {
           "diverging": [
            [
             0,
             "#8e0152"
            ],
            [
             0.1,
             "#c51b7d"
            ],
            [
             0.2,
             "#de77ae"
            ],
            [
             0.3,
             "#f1b6da"
            ],
            [
             0.4,
             "#fde0ef"
            ],
            [
             0.5,
             "#f7f7f7"
            ],
            [
             0.6,
             "#e6f5d0"
            ],
            [
             0.7,
             "#b8e186"
            ],
            [
             0.8,
             "#7fbc41"
            ],
            [
             0.9,
             "#4d9221"
            ],
            [
             1,
             "#276419"
            ]
           ],
           "sequential": [
            [
             0,
             "#0d0887"
            ],
            [
             0.1111111111111111,
             "#46039f"
            ],
            [
             0.2222222222222222,
             "#7201a8"
            ],
            [
             0.3333333333333333,
             "#9c179e"
            ],
            [
             0.4444444444444444,
             "#bd3786"
            ],
            [
             0.5555555555555556,
             "#d8576b"
            ],
            [
             0.6666666666666666,
             "#ed7953"
            ],
            [
             0.7777777777777778,
             "#fb9f3a"
            ],
            [
             0.8888888888888888,
             "#fdca26"
            ],
            [
             1,
             "#f0f921"
            ]
           ],
           "sequentialminus": [
            [
             0,
             "#0d0887"
            ],
            [
             0.1111111111111111,
             "#46039f"
            ],
            [
             0.2222222222222222,
             "#7201a8"
            ],
            [
             0.3333333333333333,
             "#9c179e"
            ],
            [
             0.4444444444444444,
             "#bd3786"
            ],
            [
             0.5555555555555556,
             "#d8576b"
            ],
            [
             0.6666666666666666,
             "#ed7953"
            ],
            [
             0.7777777777777778,
             "#fb9f3a"
            ],
            [
             0.8888888888888888,
             "#fdca26"
            ],
            [
             1,
             "#f0f921"
            ]
           ]
          },
          "colorway": [
           "#636efa",
           "#EF553B",
           "#00cc96",
           "#ab63fa",
           "#FFA15A",
           "#19d3f3",
           "#FF6692",
           "#B6E880",
           "#FF97FF",
           "#FECB52"
          ],
          "font": {
           "color": "#2a3f5f"
          },
          "geo": {
           "bgcolor": "white",
           "lakecolor": "white",
           "landcolor": "white",
           "showlakes": true,
           "showland": true,
           "subunitcolor": "#C8D4E3"
          },
          "hoverlabel": {
           "align": "left"
          },
          "hovermode": "closest",
          "mapbox": {
           "style": "light"
          },
          "paper_bgcolor": "white",
          "plot_bgcolor": "white",
          "polar": {
           "angularaxis": {
            "gridcolor": "#EBF0F8",
            "linecolor": "#EBF0F8",
            "ticks": ""
           },
           "bgcolor": "white",
           "radialaxis": {
            "gridcolor": "#EBF0F8",
            "linecolor": "#EBF0F8",
            "ticks": ""
           }
          },
          "scene": {
           "xaxis": {
            "backgroundcolor": "white",
            "gridcolor": "#DFE8F3",
            "gridwidth": 2,
            "linecolor": "#EBF0F8",
            "showbackground": true,
            "ticks": "",
            "zerolinecolor": "#EBF0F8"
           },
           "yaxis": {
            "backgroundcolor": "white",
            "gridcolor": "#DFE8F3",
            "gridwidth": 2,
            "linecolor": "#EBF0F8",
            "showbackground": true,
            "ticks": "",
            "zerolinecolor": "#EBF0F8"
           },
           "zaxis": {
            "backgroundcolor": "white",
            "gridcolor": "#DFE8F3",
            "gridwidth": 2,
            "linecolor": "#EBF0F8",
            "showbackground": true,
            "ticks": "",
            "zerolinecolor": "#EBF0F8"
           }
          },
          "shapedefaults": {
           "line": {
            "color": "#2a3f5f"
           }
          },
          "ternary": {
           "aaxis": {
            "gridcolor": "#DFE8F3",
            "linecolor": "#A2B1C6",
            "ticks": ""
           },
           "baxis": {
            "gridcolor": "#DFE8F3",
            "linecolor": "#A2B1C6",
            "ticks": ""
           },
           "bgcolor": "white",
           "caxis": {
            "gridcolor": "#DFE8F3",
            "linecolor": "#A2B1C6",
            "ticks": ""
           }
          },
          "title": {
           "x": 0.05
          },
          "xaxis": {
           "automargin": true,
           "gridcolor": "#EBF0F8",
           "linecolor": "#EBF0F8",
           "ticks": "",
           "title": {
            "standoff": 15
           },
           "zerolinecolor": "#EBF0F8",
           "zerolinewidth": 2
          },
          "yaxis": {
           "automargin": true,
           "gridcolor": "#EBF0F8",
           "linecolor": "#EBF0F8",
           "ticks": "",
           "title": {
            "standoff": 15
           },
           "zerolinecolor": "#EBF0F8",
           "zerolinewidth": 2
          }
         }
        },
        "title": {
         "text": "Prior Predictive Distribution for AR(2) Process"
        },
        "xaxis": {
         "title": {
          "text": "Time Step"
         }
        },
        "yaxis": {
         "title": {
          "text": "Value"
         }
        }
       }
      }
     },
     "metadata": {},
     "output_type": "display_data"
    }
   ],
   "source": [
    "# Generate prior predicitve samples from an AR2 process with rho fixed to (0.5, -0.3)\n",
    "n_years = 30\n",
    "\n",
    "with pm.Model() as prior_model:\n",
    "            \n",
    "    init_dist = pm.Normal.dist(mu=0, sigma=0.1, shape=2)\n",
    "    \n",
    "    log_ar = pm.AR('log_ar', \n",
    "        rho=[0.5, -0.3],\n",
    "        sigma=0.1,\n",
    "        init_dist=init_dist,\n",
    "        steps=n_years\n",
    "    )\n",
    "    \n",
    "    ar = pm.Deterministic('ar', pt.exp(log_ar))\n",
    "    \n",
    "    trace_prior = pm.sample_prior_predictive(1000, random_seed=RANDOM_SEED)\n",
    "\n",
    "# Extract prior samples for visualization\n",
    "prior_samples = az.extract(trace_prior, group=\"prior\")['ar']\n",
    "\n",
    "# Calculate median\n",
    "prior_median = prior_samples.median(dim='sample')\n",
    "\n",
    "# Calculate HDI properly for each time point\n",
    "time_points = np.arange(n_years)\n",
    "prior_hdi_lower = np.zeros(n_years)\n",
    "prior_hdi_upper = np.zeros(n_years)\n",
    "\n",
    "for i in range(n_years):\n",
    "    hdi_interval = az.hdi(prior_samples[i, :].values, hdi_prob=0.95)\n",
    "    prior_hdi_lower[i] = hdi_interval[0]\n",
    "    prior_hdi_upper[i] = hdi_interval[1]\n",
    "\n",
    "go.Figure().add_trace(go.Scatter(\n",
    "    x=time_points,\n",
    "    y=prior_median,\n",
    "    mode='lines',\n",
    "    name='Prior Median',\n",
    "    line=dict(color='darkblue', width=3)\n",
    ")).add_trace(go.Scatter(\n",
    "    x=np.concatenate([time_points, time_points[::-1]]),\n",
    "    y=np.concatenate([prior_hdi_upper, prior_hdi_lower[::-1]]),\n",
    "    fill='toself',\n",
    "    fillcolor='rgba(0, 100, 80, 0.2)',\n",
    "    line=dict(color='rgba(255,255,255,0)'),\n",
    "    name='Prior 95% HDI',\n",
    "    showlegend=True\n",
    ")).update_layout(\n",
    "    title=\"Prior Predictive Distribution for AR(2) Process\",\n",
    "    xaxis_title=\"Time Step\",\n",
    "    yaxis_title=\"Value\",\n",
    "    template=\"plotly_white\"\n",
    ")"
   ]
  },
  {
   "cell_type": "markdown",
   "metadata": {},
   "source": [
    "Thus, despite the fact that the random walk and autoregressive models modeled the past states very similarly ..."
   ]
  },
  {
   "cell_type": "code",
   "execution_count": null,
   "metadata": {},
   "outputs": [
    {
     "data": {
      "application/vnd.plotly.v1+json": {
       "config": {
        "plotlyServerURL": "https://plot.ly"
       },
       "data": [
        {
         "marker": {
          "color": "black",
          "size": 8,
          "symbol": "circle"
         },
         "mode": "markers",
         "name": "Observed Data",
         "type": "scatter",
         "x": {
          "bdata": "xgfHB8gHyQfKB8sHzAfNB84Hzwc=",
          "dtype": "i2"
         },
         "y": {
          "bdata": "w/UoXI/C8z/sUbgehevpP0jhehSuR+E/w/UoXI/C7T8ehetRuB73Px6F61G4HgBA3+ALk6ni9T/QZtXnagv1P36MuWsJefU/NF66SQzC7D8=",
          "dtype": "f8"
         }
        },
        {
         "line": {
          "color": "darkgreen",
          "width": 3
         },
         "mode": "lines",
         "name": "Random Walk Mean",
         "type": "scatter",
         "x": {
          "bdata": "xgfHB8gHyQfKB8sHzAfNB84Hzwc=",
          "dtype": "i2"
         },
         "y": {
          "bdata": "WLgsz1st8j+HJKzlshvsP94m7pMAPuc/cVy+PcyP7z/fZKaiBKD1P3f8AEWIH/s/37TNdeUf9j/24WcFbhH1P650wlWgjPQ/PC9mhOhs8D8=",
          "dtype": "f8"
         }
        },
        {
         "fill": "toself",
         "fillcolor": "rgba(0, 100, 80, 0.2)",
         "line": {
          "color": "rgba(255,255,255,0)"
         },
         "name": "Random Walk 95% HDI",
         "type": "scatter",
         "x": {
          "bdata": "xgfHB8gHyQfKB8sHzAfNB84HzwfPB84HzQfMB8sHygfJB8gHxwfGBw==",
          "dtype": "i2"
         },
         "y": {
          "bdata": "a97odoYv+D8TNQeLRA/0P8HzQ7LSiPI/11hiYz6X9T/r5IEQoXX8PxLMLsaATAJA0EBlndiB/T8LbPRG1fj7P6Z4PoYq//o/CkMz2REs+D+uVeWVVmnlPyBXfzKEWuo/NgnrbjXP6z8Z6rUQOMntP7jz372Jve8/Hw+S3TNo6z93KdpHj9flP2lNt54JkNw/XJ61NegA4z9PjtvesjrmPw==",
          "dtype": "f8"
         }
        },
        {
         "line": {
          "color": "darkblue",
          "width": 3
         },
         "mode": "lines",
         "name": "AR(2) Mean",
         "type": "scatter",
         "x": {
          "bdata": "xgfHB8gHyQfKB8sHzAfNB84Hzwc=",
          "dtype": "i2"
         },
         "y": {
          "bdata": "u/ZGna5K9D/c4L6YK2zqP/VNKW7WheU/0CTInRVi7j8BYJqUSVX1Pwe/lAGn9/k/b008JNHc9D+7hIT6pabzP45CCwYMUPM/zo+RLY0j7z8=",
          "dtype": "f8"
         }
        },
        {
         "fill": "toself",
         "fillcolor": "rgba(30, 144, 255, 0.2)",
         "line": {
          "color": "rgba(255,255,255,0)"
         },
         "name": "AR(2) 95% HDI",
         "type": "scatter",
         "x": {
          "bdata": "xgfHB8gHyQfKB8sHzAfNB84HzwfPB84HzQfMB8sHygfJB8gHxwfGBw==",
          "dtype": "i2"
         },
         "y": {
          "bdata": "B2K6JzSD/z+M6ipEvurzPzW0kHznSfA/GPUGbWWf9D/jUWz0Cdz8P/KEJI2u5gFAmh95OUOO/D9C93h4Jwj7P5IGbIZUpvk/NCJODj7C9T/HBWRtvfzjP/JQGhMoD+c/UzqLGEmn6T+oNrPecR/oP9rEK6zzAes/75gN2MaX6j/7n6BRrJLiPxIn1jS0Mdo/+qBrjsKR3T+dDf62pcTlPw==",
          "dtype": "f8"
         }
        }
       ],
       "layout": {
        "height": 500,
        "legend": {
         "bgcolor": "rgba(255,255,255,0.8)",
         "bordercolor": "gray",
         "borderwidth": 1,
         "x": 0.02,
         "y": 0.98
        },
        "template": {
         "data": {
          "bar": [
           {
            "error_x": {
             "color": "#2a3f5f"
            },
            "error_y": {
             "color": "#2a3f5f"
            },
            "marker": {
             "line": {
              "color": "white",
              "width": 0.5
             },
             "pattern": {
              "fillmode": "overlay",
              "size": 10,
              "solidity": 0.2
             }
            },
            "type": "bar"
           }
          ],
          "barpolar": [
           {
            "marker": {
             "line": {
              "color": "white",
              "width": 0.5
             },
             "pattern": {
              "fillmode": "overlay",
              "size": 10,
              "solidity": 0.2
             }
            },
            "type": "barpolar"
           }
          ],
          "carpet": [
           {
            "aaxis": {
             "endlinecolor": "#2a3f5f",
             "gridcolor": "#C8D4E3",
             "linecolor": "#C8D4E3",
             "minorgridcolor": "#C8D4E3",
             "startlinecolor": "#2a3f5f"
            },
            "baxis": {
             "endlinecolor": "#2a3f5f",
             "gridcolor": "#C8D4E3",
             "linecolor": "#C8D4E3",
             "minorgridcolor": "#C8D4E3",
             "startlinecolor": "#2a3f5f"
            },
            "type": "carpet"
           }
          ],
          "choropleth": [
           {
            "colorbar": {
             "outlinewidth": 0,
             "ticks": ""
            },
            "type": "choropleth"
           }
          ],
          "contour": [
           {
            "colorbar": {
             "outlinewidth": 0,
             "ticks": ""
            },
            "colorscale": [
             [
              0,
              "#0d0887"
             ],
             [
              0.1111111111111111,
              "#46039f"
             ],
             [
              0.2222222222222222,
              "#7201a8"
             ],
             [
              0.3333333333333333,
              "#9c179e"
             ],
             [
              0.4444444444444444,
              "#bd3786"
             ],
             [
              0.5555555555555556,
              "#d8576b"
             ],
             [
              0.6666666666666666,
              "#ed7953"
             ],
             [
              0.7777777777777778,
              "#fb9f3a"
             ],
             [
              0.8888888888888888,
              "#fdca26"
             ],
             [
              1,
              "#f0f921"
             ]
            ],
            "type": "contour"
           }
          ],
          "contourcarpet": [
           {
            "colorbar": {
             "outlinewidth": 0,
             "ticks": ""
            },
            "type": "contourcarpet"
           }
          ],
          "heatmap": [
           {
            "colorbar": {
             "outlinewidth": 0,
             "ticks": ""
            },
            "colorscale": [
             [
              0,
              "#0d0887"
             ],
             [
              0.1111111111111111,
              "#46039f"
             ],
             [
              0.2222222222222222,
              "#7201a8"
             ],
             [
              0.3333333333333333,
              "#9c179e"
             ],
             [
              0.4444444444444444,
              "#bd3786"
             ],
             [
              0.5555555555555556,
              "#d8576b"
             ],
             [
              0.6666666666666666,
              "#ed7953"
             ],
             [
              0.7777777777777778,
              "#fb9f3a"
             ],
             [
              0.8888888888888888,
              "#fdca26"
             ],
             [
              1,
              "#f0f921"
             ]
            ],
            "type": "heatmap"
           }
          ],
          "histogram": [
           {
            "marker": {
             "pattern": {
              "fillmode": "overlay",
              "size": 10,
              "solidity": 0.2
             }
            },
            "type": "histogram"
           }
          ],
          "histogram2d": [
           {
            "colorbar": {
             "outlinewidth": 0,
             "ticks": ""
            },
            "colorscale": [
             [
              0,
              "#0d0887"
             ],
             [
              0.1111111111111111,
              "#46039f"
             ],
             [
              0.2222222222222222,
              "#7201a8"
             ],
             [
              0.3333333333333333,
              "#9c179e"
             ],
             [
              0.4444444444444444,
              "#bd3786"
             ],
             [
              0.5555555555555556,
              "#d8576b"
             ],
             [
              0.6666666666666666,
              "#ed7953"
             ],
             [
              0.7777777777777778,
              "#fb9f3a"
             ],
             [
              0.8888888888888888,
              "#fdca26"
             ],
             [
              1,
              "#f0f921"
             ]
            ],
            "type": "histogram2d"
           }
          ],
          "histogram2dcontour": [
           {
            "colorbar": {
             "outlinewidth": 0,
             "ticks": ""
            },
            "colorscale": [
             [
              0,
              "#0d0887"
             ],
             [
              0.1111111111111111,
              "#46039f"
             ],
             [
              0.2222222222222222,
              "#7201a8"
             ],
             [
              0.3333333333333333,
              "#9c179e"
             ],
             [
              0.4444444444444444,
              "#bd3786"
             ],
             [
              0.5555555555555556,
              "#d8576b"
             ],
             [
              0.6666666666666666,
              "#ed7953"
             ],
             [
              0.7777777777777778,
              "#fb9f3a"
             ],
             [
              0.8888888888888888,
              "#fdca26"
             ],
             [
              1,
              "#f0f921"
             ]
            ],
            "type": "histogram2dcontour"
           }
          ],
          "mesh3d": [
           {
            "colorbar": {
             "outlinewidth": 0,
             "ticks": ""
            },
            "type": "mesh3d"
           }
          ],
          "parcoords": [
           {
            "line": {
             "colorbar": {
              "outlinewidth": 0,
              "ticks": ""
             }
            },
            "type": "parcoords"
           }
          ],
          "pie": [
           {
            "automargin": true,
            "type": "pie"
           }
          ],
          "scatter": [
           {
            "fillpattern": {
             "fillmode": "overlay",
             "size": 10,
             "solidity": 0.2
            },
            "type": "scatter"
           }
          ],
          "scatter3d": [
           {
            "line": {
             "colorbar": {
              "outlinewidth": 0,
              "ticks": ""
             }
            },
            "marker": {
             "colorbar": {
              "outlinewidth": 0,
              "ticks": ""
             }
            },
            "type": "scatter3d"
           }
          ],
          "scattercarpet": [
           {
            "marker": {
             "colorbar": {
              "outlinewidth": 0,
              "ticks": ""
             }
            },
            "type": "scattercarpet"
           }
          ],
          "scattergeo": [
           {
            "marker": {
             "colorbar": {
              "outlinewidth": 0,
              "ticks": ""
             }
            },
            "type": "scattergeo"
           }
          ],
          "scattergl": [
           {
            "marker": {
             "colorbar": {
              "outlinewidth": 0,
              "ticks": ""
             }
            },
            "type": "scattergl"
           }
          ],
          "scattermap": [
           {
            "marker": {
             "colorbar": {
              "outlinewidth": 0,
              "ticks": ""
             }
            },
            "type": "scattermap"
           }
          ],
          "scattermapbox": [
           {
            "marker": {
             "colorbar": {
              "outlinewidth": 0,
              "ticks": ""
             }
            },
            "type": "scattermapbox"
           }
          ],
          "scatterpolar": [
           {
            "marker": {
             "colorbar": {
              "outlinewidth": 0,
              "ticks": ""
             }
            },
            "type": "scatterpolar"
           }
          ],
          "scatterpolargl": [
           {
            "marker": {
             "colorbar": {
              "outlinewidth": 0,
              "ticks": ""
             }
            },
            "type": "scatterpolargl"
           }
          ],
          "scatterternary": [
           {
            "marker": {
             "colorbar": {
              "outlinewidth": 0,
              "ticks": ""
             }
            },
            "type": "scatterternary"
           }
          ],
          "surface": [
           {
            "colorbar": {
             "outlinewidth": 0,
             "ticks": ""
            },
            "colorscale": [
             [
              0,
              "#0d0887"
             ],
             [
              0.1111111111111111,
              "#46039f"
             ],
             [
              0.2222222222222222,
              "#7201a8"
             ],
             [
              0.3333333333333333,
              "#9c179e"
             ],
             [
              0.4444444444444444,
              "#bd3786"
             ],
             [
              0.5555555555555556,
              "#d8576b"
             ],
             [
              0.6666666666666666,
              "#ed7953"
             ],
             [
              0.7777777777777778,
              "#fb9f3a"
             ],
             [
              0.8888888888888888,
              "#fdca26"
             ],
             [
              1,
              "#f0f921"
             ]
            ],
            "type": "surface"
           }
          ],
          "table": [
           {
            "cells": {
             "fill": {
              "color": "#EBF0F8"
             },
             "line": {
              "color": "white"
             }
            },
            "header": {
             "fill": {
              "color": "#C8D4E3"
             },
             "line": {
              "color": "white"
             }
            },
            "type": "table"
           }
          ]
         },
         "layout": {
          "annotationdefaults": {
           "arrowcolor": "#2a3f5f",
           "arrowhead": 0,
           "arrowwidth": 1
          },
          "autotypenumbers": "strict",
          "coloraxis": {
           "colorbar": {
            "outlinewidth": 0,
            "ticks": ""
           }
          },
          "colorscale": {
           "diverging": [
            [
             0,
             "#8e0152"
            ],
            [
             0.1,
             "#c51b7d"
            ],
            [
             0.2,
             "#de77ae"
            ],
            [
             0.3,
             "#f1b6da"
            ],
            [
             0.4,
             "#fde0ef"
            ],
            [
             0.5,
             "#f7f7f7"
            ],
            [
             0.6,
             "#e6f5d0"
            ],
            [
             0.7,
             "#b8e186"
            ],
            [
             0.8,
             "#7fbc41"
            ],
            [
             0.9,
             "#4d9221"
            ],
            [
             1,
             "#276419"
            ]
           ],
           "sequential": [
            [
             0,
             "#0d0887"
            ],
            [
             0.1111111111111111,
             "#46039f"
            ],
            [
             0.2222222222222222,
             "#7201a8"
            ],
            [
             0.3333333333333333,
             "#9c179e"
            ],
            [
             0.4444444444444444,
             "#bd3786"
            ],
            [
             0.5555555555555556,
             "#d8576b"
            ],
            [
             0.6666666666666666,
             "#ed7953"
            ],
            [
             0.7777777777777778,
             "#fb9f3a"
            ],
            [
             0.8888888888888888,
             "#fdca26"
            ],
            [
             1,
             "#f0f921"
            ]
           ],
           "sequentialminus": [
            [
             0,
             "#0d0887"
            ],
            [
             0.1111111111111111,
             "#46039f"
            ],
            [
             0.2222222222222222,
             "#7201a8"
            ],
            [
             0.3333333333333333,
             "#9c179e"
            ],
            [
             0.4444444444444444,
             "#bd3786"
            ],
            [
             0.5555555555555556,
             "#d8576b"
            ],
            [
             0.6666666666666666,
             "#ed7953"
            ],
            [
             0.7777777777777778,
             "#fb9f3a"
            ],
            [
             0.8888888888888888,
             "#fdca26"
            ],
            [
             1,
             "#f0f921"
            ]
           ]
          },
          "colorway": [
           "#636efa",
           "#EF553B",
           "#00cc96",
           "#ab63fa",
           "#FFA15A",
           "#19d3f3",
           "#FF6692",
           "#B6E880",
           "#FF97FF",
           "#FECB52"
          ],
          "font": {
           "color": "#2a3f5f"
          },
          "geo": {
           "bgcolor": "white",
           "lakecolor": "white",
           "landcolor": "white",
           "showlakes": true,
           "showland": true,
           "subunitcolor": "#C8D4E3"
          },
          "hoverlabel": {
           "align": "left"
          },
          "hovermode": "closest",
          "mapbox": {
           "style": "light"
          },
          "paper_bgcolor": "white",
          "plot_bgcolor": "white",
          "polar": {
           "angularaxis": {
            "gridcolor": "#EBF0F8",
            "linecolor": "#EBF0F8",
            "ticks": ""
           },
           "bgcolor": "white",
           "radialaxis": {
            "gridcolor": "#EBF0F8",
            "linecolor": "#EBF0F8",
            "ticks": ""
           }
          },
          "scene": {
           "xaxis": {
            "backgroundcolor": "white",
            "gridcolor": "#DFE8F3",
            "gridwidth": 2,
            "linecolor": "#EBF0F8",
            "showbackground": true,
            "ticks": "",
            "zerolinecolor": "#EBF0F8"
           },
           "yaxis": {
            "backgroundcolor": "white",
            "gridcolor": "#DFE8F3",
            "gridwidth": 2,
            "linecolor": "#EBF0F8",
            "showbackground": true,
            "ticks": "",
            "zerolinecolor": "#EBF0F8"
           },
           "zaxis": {
            "backgroundcolor": "white",
            "gridcolor": "#DFE8F3",
            "gridwidth": 2,
            "linecolor": "#EBF0F8",
            "showbackground": true,
            "ticks": "",
            "zerolinecolor": "#EBF0F8"
           }
          },
          "shapedefaults": {
           "line": {
            "color": "#2a3f5f"
           }
          },
          "ternary": {
           "aaxis": {
            "gridcolor": "#DFE8F3",
            "linecolor": "#A2B1C6",
            "ticks": ""
           },
           "baxis": {
            "gridcolor": "#DFE8F3",
            "linecolor": "#A2B1C6",
            "ticks": ""
           },
           "bgcolor": "white",
           "caxis": {
            "gridcolor": "#DFE8F3",
            "linecolor": "#A2B1C6",
            "ticks": ""
           }
          },
          "title": {
           "x": 0.05
          },
          "xaxis": {
           "automargin": true,
           "gridcolor": "#EBF0F8",
           "linecolor": "#EBF0F8",
           "ticks": "",
           "title": {
            "standoff": 15
           },
           "zerolinecolor": "#EBF0F8",
           "zerolinewidth": 2
          },
          "yaxis": {
           "automargin": true,
           "gridcolor": "#EBF0F8",
           "linecolor": "#EBF0F8",
           "ticks": "",
           "title": {
            "standoff": 15
           },
           "zerolinecolor": "#EBF0F8",
           "zerolinewidth": 2
          }
         }
        },
        "title": {
         "font": {
          "size": 16
         },
         "text": "Model Comparison: Random Walk vs AR(2) for Squirrel Population",
         "x": 0.5
        },
        "width": 900,
        "xaxis": {
         "title": {
          "text": "Year"
         }
        },
        "yaxis": {
         "title": {
          "text": "Population Density (per hectare)"
         }
        }
       }
      }
     },
     "metadata": {},
     "output_type": "display_data"
    }
   ],
   "source": [
    "ar_mean = az.extract(trace_ar2)['ar'].mean(dim='sample')\n",
    "ar_hdi = az.hdi(trace_ar2, var_names=['ar'])['ar']\n",
    "\n",
    "go.Figure().add_trace(go.Scatter(\n",
    "    x=years,\n",
    "    y=squirrel_density,\n",
    "    mode='markers',\n",
    "    name='Observed Data',\n",
    "    marker=dict(\n",
    "        size=8,\n",
    "        color='black',\n",
    "        symbol='circle'\n",
    "    )\n",
    ")).add_trace(go.Scatter(\n",
    "    x=years,\n",
    "    y=walk_mean,\n",
    "    mode='lines',\n",
    "    name='Random Walk Mean',\n",
    "    line=dict(color='darkgreen', width=3)\n",
    ")).add_trace(go.Scatter(\n",
    "    x=np.concatenate([years, years[::-1]]),\n",
    "    y=np.concatenate([walk_hdi[:, 1], walk_hdi[::-1, 0]]),\n",
    "    fill='toself',\n",
    "    fillcolor='rgba(0, 100, 80, 0.2)',\n",
    "    line=dict(color='rgba(255,255,255,0)'),\n",
    "    name='Random Walk 95% HDI'\n",
    ")).add_trace(go.Scatter(\n",
    "    x=years,\n",
    "    y=ar_mean,\n",
    "    mode='lines',\n",
    "    name='AR(2) Mean',\n",
    "    line=dict(color='darkblue', width=3)\n",
    ")).add_trace(go.Scatter(\n",
    "    x=np.concatenate([years, years[::-1]]),\n",
    "    y=np.concatenate([ar_hdi[:, 1], ar_hdi[::-1, 0]]),\n",
    "    fill='toself',\n",
    "    fillcolor='rgba(30, 144, 255, 0.2)',\n",
    "    line=dict(color='rgba(255,255,255,0)'),\n",
    "    name='AR(2) 95% HDI'\n",
    ")).update_layout(\n",
    "    title=dict(\n",
    "        text='Model Comparison: Random Walk vs AR(2) for Squirrel Population',\n",
    "        x=0.5,\n",
    "        font=dict(size=16)\n",
    "    ),\n",
    "    xaxis_title='Year',\n",
    "    yaxis_title='Population Density (per hectare)',\n",
    "    width=900,\n",
    "    height=500,\n",
    "    template='plotly_white',\n",
    "    legend=dict(\n",
    "        x=0.02,\n",
    "        y=0.98,\n",
    "        bgcolor='rgba(255,255,255,0.8)',\n",
    "        bordercolor='gray',\n",
    "        borderwidth=1\n",
    "    )\n",
    ")"
   ]
  },
  {
   "cell_type": "markdown",
   "metadata": {},
   "source": [
    "... the projections end up being quite different."
   ]
  },
  {
   "cell_type": "code",
   "execution_count": null,
   "metadata": {},
   "outputs": [
    {
     "name": "stderr",
     "output_type": "stream",
     "text": [
      "Sampling: [log_ar, y]\n"
     ]
    },
    {
     "data": {
      "application/vnd.jupyter.widget-view+json": {
       "model_id": "f38820c752fa43a08b96145e91f07b40",
       "version_major": 2,
       "version_minor": 0
      },
      "text/plain": [
       "Output()"
      ]
     },
     "metadata": {},
     "output_type": "display_data"
    },
    {
     "data": {
      "text/html": [
       "<pre style=\"white-space:pre;overflow-x:auto;line-height:normal;font-family:Menlo,'DejaVu Sans Mono',consolas,'Courier New',monospace\"></pre>\n"
      ],
      "text/plain": []
     },
     "metadata": {},
     "output_type": "display_data"
    },
    {
     "data": {
      "application/vnd.plotly.v1+json": {
       "config": {
        "plotlyServerURL": "https://plot.ly"
       },
       "data": [
        {
         "marker": {
          "color": "red",
          "line": {
           "color": "darkred",
           "width": 2
          },
          "size": 8,
          "symbol": "circle"
         },
         "mode": "markers",
         "name": "Observed Data",
         "type": "scatter",
         "x": {
          "bdata": "xgfHB8gHyQfKB8sHzAfNB84Hzwc=",
          "dtype": "i2"
         },
         "y": {
          "bdata": "w/UoXI/C8z/sUbgehevpP0jhehSuR+E/w/UoXI/C7T8ehetRuB73Px6F61G4HgBA3+ALk6ni9T/QZtXnagv1P36MuWsJefU/NF66SQzC7D8=",
          "dtype": "f8"
         }
        },
        {
         "marker": {
          "color": "green",
          "line": {
           "color": "darkgreen",
           "width": 2
          },
          "size": 8,
          "symbol": "circle"
         },
         "mode": "markers",
         "name": "Test Data",
         "type": "scatter",
         "visible": "legendonly",
         "x": {
          "bdata": "AAAAAABAn0AAAAAAAESfQAAAAAAASJ9AAAAAAABMn0AAAAAAAFCfQAAAAAAAVJ9AAAAAAABYn0AAAAAAAFyfQAAAAAAAYJ9AAAAAAABkn0A=",
          "dtype": "f8"
         },
         "y": {
          "bdata": "VVVVVVVVtT9VVVVVVVW1P5RliGNdXNY/H4XrUbgexT8AAAAAAADQPwAAAAAAANA/AAAAAAAAAABVVVVVVVWlPwAAAAAAAMA/AAAAAAAAAAA=",
          "dtype": "f8"
         }
        },
        {
         "line": {
          "color": "blue",
          "width": 3
         },
         "mode": "lines",
         "name": "AR(2) Forecast",
         "type": "scatter",
         "x": {
          "bdata": "0AfRB9IH0wfUB9UH1gfXB9gH2Qc=",
          "dtype": "i2"
         },
         "y": {
          "bdata": "UPn5os/f8j84LDOIJ2juPzre930SFu0/2MBM05/w7T8Q52IJXLDvP5LWujL/dPA/rDuset5a8D+0yVvTLi3wP89uE/RBBPA/1XvNSvRB7z8=",
          "dtype": "f8"
         }
        },
        {
         "fill": "toself",
         "fillcolor": "rgba(0, 100, 80, 0.2)",
         "line": {
          "color": "rgba(255,255,255,0)"
         },
         "name": "AR(2) 95% HDI",
         "showlegend": true,
         "type": "scatter",
         "x": {
          "bdata": "0AfRB9IH0wfUB9UH1gfXB9gH2QfZB9gH1wfWB9UH1AfTB9IH0QfQBw==",
          "dtype": "i2"
         },
         "y": {
          "bdata": "yxFgjVO+/z89HnNRKkn6P4kDiu6umgBA1n62i8KhAUCYdV5ClOADQIkYiqkGTwVAZ1jiJF7HBkAdxLAKY8YGQNvbkyEoCQdAS/fPhrJfBUC13eF2kqOQOHMAVYRuy+g7uq9ajsbz1D2ak0I7IqfBPiNjyfjKUbU/qO0mrDETwz+zUjM2oerDPyWVmXsuF84/2TV5Z2+42z/usvOySObgPw==",
          "dtype": "f8"
         }
        },
        {
         "line": {
          "color": "purple",
          "dash": "dash",
          "width": 3
         },
         "mode": "lines",
         "name": "Random Walk Forecast",
         "type": "scatter",
         "x": {
          "bdata": "0AfRB9IH0wfUB9UH1gfXB9gH2Qc=",
          "dtype": "i2"
         },
         "y": {
          "bdata": "TsiZemPR7z+JBPAa6hDwP9Pkr2DFR/A/olB3KPMv8D84dWyL8zLwP5gkuNRfyvA/x1IiXLL58D8uI+PlzP7wP9Lrtyfy1vA/JLqpVteO8D8=",
          "dtype": "f8"
         }
        },
        {
         "fill": "toself",
         "fillcolor": "rgba(128, 0, 128, 0.2)",
         "line": {
          "color": "rgba(255,255,255,0)"
         },
         "name": "Random Walk 95% HDI",
         "showlegend": true,
         "type": "scatter",
         "x": {
          "bdata": "0AfRB9IH0wfUB9UH1gfXB9gH2QfZB9gH1wfWB9UH1AfTB9IH0QfQBw==",
          "dtype": "i2"
         },
         "y": {
          "bdata": "ieNTKFyJA0COzvAMcFEHQJYSfnAbNQpAofHd/doJD0CHQ4uMRzwSQNstsX3KqxRAgIbAJyMfFUB4aIAZhlsYQMafIS8FnxpAv5p8h2M/HUAMFYvdy6w8P4wJLAsGKF4/WLkeVyvlbj9Jp6NaskF2P2ma8o4XgIM/JS9YchFnaD92nNKwIGSIP7e5gCg0Dak/pLQeyDDGwD/bQUSbaKTRPw==",
          "dtype": "f8"
         }
        }
       ],
       "layout": {
        "height": 500,
        "legend": {
         "bgcolor": "rgba(255,255,255,0.8)",
         "bordercolor": "gray",
         "borderwidth": 1,
         "x": 0.02,
         "y": 0.98
        },
        "template": {
         "data": {
          "bar": [
           {
            "error_x": {
             "color": "#2a3f5f"
            },
            "error_y": {
             "color": "#2a3f5f"
            },
            "marker": {
             "line": {
              "color": "white",
              "width": 0.5
             },
             "pattern": {
              "fillmode": "overlay",
              "size": 10,
              "solidity": 0.2
             }
            },
            "type": "bar"
           }
          ],
          "barpolar": [
           {
            "marker": {
             "line": {
              "color": "white",
              "width": 0.5
             },
             "pattern": {
              "fillmode": "overlay",
              "size": 10,
              "solidity": 0.2
             }
            },
            "type": "barpolar"
           }
          ],
          "carpet": [
           {
            "aaxis": {
             "endlinecolor": "#2a3f5f",
             "gridcolor": "#C8D4E3",
             "linecolor": "#C8D4E3",
             "minorgridcolor": "#C8D4E3",
             "startlinecolor": "#2a3f5f"
            },
            "baxis": {
             "endlinecolor": "#2a3f5f",
             "gridcolor": "#C8D4E3",
             "linecolor": "#C8D4E3",
             "minorgridcolor": "#C8D4E3",
             "startlinecolor": "#2a3f5f"
            },
            "type": "carpet"
           }
          ],
          "choropleth": [
           {
            "colorbar": {
             "outlinewidth": 0,
             "ticks": ""
            },
            "type": "choropleth"
           }
          ],
          "contour": [
           {
            "colorbar": {
             "outlinewidth": 0,
             "ticks": ""
            },
            "colorscale": [
             [
              0,
              "#0d0887"
             ],
             [
              0.1111111111111111,
              "#46039f"
             ],
             [
              0.2222222222222222,
              "#7201a8"
             ],
             [
              0.3333333333333333,
              "#9c179e"
             ],
             [
              0.4444444444444444,
              "#bd3786"
             ],
             [
              0.5555555555555556,
              "#d8576b"
             ],
             [
              0.6666666666666666,
              "#ed7953"
             ],
             [
              0.7777777777777778,
              "#fb9f3a"
             ],
             [
              0.8888888888888888,
              "#fdca26"
             ],
             [
              1,
              "#f0f921"
             ]
            ],
            "type": "contour"
           }
          ],
          "contourcarpet": [
           {
            "colorbar": {
             "outlinewidth": 0,
             "ticks": ""
            },
            "type": "contourcarpet"
           }
          ],
          "heatmap": [
           {
            "colorbar": {
             "outlinewidth": 0,
             "ticks": ""
            },
            "colorscale": [
             [
              0,
              "#0d0887"
             ],
             [
              0.1111111111111111,
              "#46039f"
             ],
             [
              0.2222222222222222,
              "#7201a8"
             ],
             [
              0.3333333333333333,
              "#9c179e"
             ],
             [
              0.4444444444444444,
              "#bd3786"
             ],
             [
              0.5555555555555556,
              "#d8576b"
             ],
             [
              0.6666666666666666,
              "#ed7953"
             ],
             [
              0.7777777777777778,
              "#fb9f3a"
             ],
             [
              0.8888888888888888,
              "#fdca26"
             ],
             [
              1,
              "#f0f921"
             ]
            ],
            "type": "heatmap"
           }
          ],
          "histogram": [
           {
            "marker": {
             "pattern": {
              "fillmode": "overlay",
              "size": 10,
              "solidity": 0.2
             }
            },
            "type": "histogram"
           }
          ],
          "histogram2d": [
           {
            "colorbar": {
             "outlinewidth": 0,
             "ticks": ""
            },
            "colorscale": [
             [
              0,
              "#0d0887"
             ],
             [
              0.1111111111111111,
              "#46039f"
             ],
             [
              0.2222222222222222,
              "#7201a8"
             ],
             [
              0.3333333333333333,
              "#9c179e"
             ],
             [
              0.4444444444444444,
              "#bd3786"
             ],
             [
              0.5555555555555556,
              "#d8576b"
             ],
             [
              0.6666666666666666,
              "#ed7953"
             ],
             [
              0.7777777777777778,
              "#fb9f3a"
             ],
             [
              0.8888888888888888,
              "#fdca26"
             ],
             [
              1,
              "#f0f921"
             ]
            ],
            "type": "histogram2d"
           }
          ],
          "histogram2dcontour": [
           {
            "colorbar": {
             "outlinewidth": 0,
             "ticks": ""
            },
            "colorscale": [
             [
              0,
              "#0d0887"
             ],
             [
              0.1111111111111111,
              "#46039f"
             ],
             [
              0.2222222222222222,
              "#7201a8"
             ],
             [
              0.3333333333333333,
              "#9c179e"
             ],
             [
              0.4444444444444444,
              "#bd3786"
             ],
             [
              0.5555555555555556,
              "#d8576b"
             ],
             [
              0.6666666666666666,
              "#ed7953"
             ],
             [
              0.7777777777777778,
              "#fb9f3a"
             ],
             [
              0.8888888888888888,
              "#fdca26"
             ],
             [
              1,
              "#f0f921"
             ]
            ],
            "type": "histogram2dcontour"
           }
          ],
          "mesh3d": [
           {
            "colorbar": {
             "outlinewidth": 0,
             "ticks": ""
            },
            "type": "mesh3d"
           }
          ],
          "parcoords": [
           {
            "line": {
             "colorbar": {
              "outlinewidth": 0,
              "ticks": ""
             }
            },
            "type": "parcoords"
           }
          ],
          "pie": [
           {
            "automargin": true,
            "type": "pie"
           }
          ],
          "scatter": [
           {
            "fillpattern": {
             "fillmode": "overlay",
             "size": 10,
             "solidity": 0.2
            },
            "type": "scatter"
           }
          ],
          "scatter3d": [
           {
            "line": {
             "colorbar": {
              "outlinewidth": 0,
              "ticks": ""
             }
            },
            "marker": {
             "colorbar": {
              "outlinewidth": 0,
              "ticks": ""
             }
            },
            "type": "scatter3d"
           }
          ],
          "scattercarpet": [
           {
            "marker": {
             "colorbar": {
              "outlinewidth": 0,
              "ticks": ""
             }
            },
            "type": "scattercarpet"
           }
          ],
          "scattergeo": [
           {
            "marker": {
             "colorbar": {
              "outlinewidth": 0,
              "ticks": ""
             }
            },
            "type": "scattergeo"
           }
          ],
          "scattergl": [
           {
            "marker": {
             "colorbar": {
              "outlinewidth": 0,
              "ticks": ""
             }
            },
            "type": "scattergl"
           }
          ],
          "scattermap": [
           {
            "marker": {
             "colorbar": {
              "outlinewidth": 0,
              "ticks": ""
             }
            },
            "type": "scattermap"
           }
          ],
          "scattermapbox": [
           {
            "marker": {
             "colorbar": {
              "outlinewidth": 0,
              "ticks": ""
             }
            },
            "type": "scattermapbox"
           }
          ],
          "scatterpolar": [
           {
            "marker": {
             "colorbar": {
              "outlinewidth": 0,
              "ticks": ""
             }
            },
            "type": "scatterpolar"
           }
          ],
          "scatterpolargl": [
           {
            "marker": {
             "colorbar": {
              "outlinewidth": 0,
              "ticks": ""
             }
            },
            "type": "scatterpolargl"
           }
          ],
          "scatterternary": [
           {
            "marker": {
             "colorbar": {
              "outlinewidth": 0,
              "ticks": ""
             }
            },
            "type": "scatterternary"
           }
          ],
          "surface": [
           {
            "colorbar": {
             "outlinewidth": 0,
             "ticks": ""
            },
            "colorscale": [
             [
              0,
              "#0d0887"
             ],
             [
              0.1111111111111111,
              "#46039f"
             ],
             [
              0.2222222222222222,
              "#7201a8"
             ],
             [
              0.3333333333333333,
              "#9c179e"
             ],
             [
              0.4444444444444444,
              "#bd3786"
             ],
             [
              0.5555555555555556,
              "#d8576b"
             ],
             [
              0.6666666666666666,
              "#ed7953"
             ],
             [
              0.7777777777777778,
              "#fb9f3a"
             ],
             [
              0.8888888888888888,
              "#fdca26"
             ],
             [
              1,
              "#f0f921"
             ]
            ],
            "type": "surface"
           }
          ],
          "table": [
           {
            "cells": {
             "fill": {
              "color": "#EBF0F8"
             },
             "line": {
              "color": "white"
             }
            },
            "header": {
             "fill": {
              "color": "#C8D4E3"
             },
             "line": {
              "color": "white"
             }
            },
            "type": "table"
           }
          ]
         },
         "layout": {
          "annotationdefaults": {
           "arrowcolor": "#2a3f5f",
           "arrowhead": 0,
           "arrowwidth": 1
          },
          "autotypenumbers": "strict",
          "coloraxis": {
           "colorbar": {
            "outlinewidth": 0,
            "ticks": ""
           }
          },
          "colorscale": {
           "diverging": [
            [
             0,
             "#8e0152"
            ],
            [
             0.1,
             "#c51b7d"
            ],
            [
             0.2,
             "#de77ae"
            ],
            [
             0.3,
             "#f1b6da"
            ],
            [
             0.4,
             "#fde0ef"
            ],
            [
             0.5,
             "#f7f7f7"
            ],
            [
             0.6,
             "#e6f5d0"
            ],
            [
             0.7,
             "#b8e186"
            ],
            [
             0.8,
             "#7fbc41"
            ],
            [
             0.9,
             "#4d9221"
            ],
            [
             1,
             "#276419"
            ]
           ],
           "sequential": [
            [
             0,
             "#0d0887"
            ],
            [
             0.1111111111111111,
             "#46039f"
            ],
            [
             0.2222222222222222,
             "#7201a8"
            ],
            [
             0.3333333333333333,
             "#9c179e"
            ],
            [
             0.4444444444444444,
             "#bd3786"
            ],
            [
             0.5555555555555556,
             "#d8576b"
            ],
            [
             0.6666666666666666,
             "#ed7953"
            ],
            [
             0.7777777777777778,
             "#fb9f3a"
            ],
            [
             0.8888888888888888,
             "#fdca26"
            ],
            [
             1,
             "#f0f921"
            ]
           ],
           "sequentialminus": [
            [
             0,
             "#0d0887"
            ],
            [
             0.1111111111111111,
             "#46039f"
            ],
            [
             0.2222222222222222,
             "#7201a8"
            ],
            [
             0.3333333333333333,
             "#9c179e"
            ],
            [
             0.4444444444444444,
             "#bd3786"
            ],
            [
             0.5555555555555556,
             "#d8576b"
            ],
            [
             0.6666666666666666,
             "#ed7953"
            ],
            [
             0.7777777777777778,
             "#fb9f3a"
            ],
            [
             0.8888888888888888,
             "#fdca26"
            ],
            [
             1,
             "#f0f921"
            ]
           ]
          },
          "colorway": [
           "#636efa",
           "#EF553B",
           "#00cc96",
           "#ab63fa",
           "#FFA15A",
           "#19d3f3",
           "#FF6692",
           "#B6E880",
           "#FF97FF",
           "#FECB52"
          ],
          "font": {
           "color": "#2a3f5f"
          },
          "geo": {
           "bgcolor": "white",
           "lakecolor": "white",
           "landcolor": "white",
           "showlakes": true,
           "showland": true,
           "subunitcolor": "#C8D4E3"
          },
          "hoverlabel": {
           "align": "left"
          },
          "hovermode": "closest",
          "mapbox": {
           "style": "light"
          },
          "paper_bgcolor": "white",
          "plot_bgcolor": "white",
          "polar": {
           "angularaxis": {
            "gridcolor": "#EBF0F8",
            "linecolor": "#EBF0F8",
            "ticks": ""
           },
           "bgcolor": "white",
           "radialaxis": {
            "gridcolor": "#EBF0F8",
            "linecolor": "#EBF0F8",
            "ticks": ""
           }
          },
          "scene": {
           "xaxis": {
            "backgroundcolor": "white",
            "gridcolor": "#DFE8F3",
            "gridwidth": 2,
            "linecolor": "#EBF0F8",
            "showbackground": true,
            "ticks": "",
            "zerolinecolor": "#EBF0F8"
           },
           "yaxis": {
            "backgroundcolor": "white",
            "gridcolor": "#DFE8F3",
            "gridwidth": 2,
            "linecolor": "#EBF0F8",
            "showbackground": true,
            "ticks": "",
            "zerolinecolor": "#EBF0F8"
           },
           "zaxis": {
            "backgroundcolor": "white",
            "gridcolor": "#DFE8F3",
            "gridwidth": 2,
            "linecolor": "#EBF0F8",
            "showbackground": true,
            "ticks": "",
            "zerolinecolor": "#EBF0F8"
           }
          },
          "shapedefaults": {
           "line": {
            "color": "#2a3f5f"
           }
          },
          "ternary": {
           "aaxis": {
            "gridcolor": "#DFE8F3",
            "linecolor": "#A2B1C6",
            "ticks": ""
           },
           "baxis": {
            "gridcolor": "#DFE8F3",
            "linecolor": "#A2B1C6",
            "ticks": ""
           },
           "bgcolor": "white",
           "caxis": {
            "gridcolor": "#DFE8F3",
            "linecolor": "#A2B1C6",
            "ticks": ""
           }
          },
          "title": {
           "x": 0.05
          },
          "xaxis": {
           "automargin": true,
           "gridcolor": "#EBF0F8",
           "linecolor": "#EBF0F8",
           "ticks": "",
           "title": {
            "standoff": 15
           },
           "zerolinecolor": "#EBF0F8",
           "zerolinewidth": 2
          },
          "yaxis": {
           "automargin": true,
           "gridcolor": "#EBF0F8",
           "linecolor": "#EBF0F8",
           "ticks": "",
           "title": {
            "standoff": 15
           },
           "zerolinecolor": "#EBF0F8",
           "zerolinewidth": 2
          }
         }
        },
        "title": {
         "font": {
          "size": 16
         },
         "text": "10-Year Forecast Comparison: AR(2) vs Random Walk (2000-2009)",
         "x": 0.5
        },
        "width": 900,
        "xaxis": {
         "title": {
          "text": "Year"
         }
        },
        "yaxis": {
         "range": [
          0,
          null
         ],
         "title": {
          "text": "Population Density (per hectare)"
         }
        }
       }
      }
     },
     "metadata": {},
     "output_type": "display_data"
    }
   ],
   "source": [
    "# Create a new model for forecasting\n",
    "with pm.Model(coords={'time': forecast_years}) as forecast_model:\n",
    "\n",
    "    # Get parameters from the fitted model\n",
    "    sigma_ar = pm.Flat('sigma_ar')\n",
    "    rho = pm.Flat('rho', shape=2)\n",
    "    sigma_obs = pm.Flat('sigma_obs')\n",
    "    \n",
    "    # Get the last two values from the fitted model to initialize the forecast\n",
    "    log_ar_last = trace_ar2.posterior['log_ar'].mean(dim=['chain', 'draw'])[-2:].values\n",
    "    \n",
    "    # Create AR(2) process for the entire time period\n",
    "    init_dist = pm.DiracDelta.dist(log_ar_last)\n",
    "    log_ar = pm.AR('log_ar', rho=rho, sigma=sigma_ar, init_dist=init_dist, dims='time')\n",
    "    \n",
    "    # Transform to original scale\n",
    "    ar = pm.math.exp(log_ar)\n",
    "    \n",
    "    # Likelihood for the observed period\n",
    "    y = pm.LogNormal('y', mu=log_ar, sigma=sigma_obs, dims='time')\n",
    "\n",
    "    \n",
    "    # Sample from posterior predictive\n",
    "    ar2_forecast_trace = pm.sample_posterior_predictive(\n",
    "        trace_ar2, \n",
    "        var_names=['y'], \n",
    "        random_seed=RANDOM_SEED\n",
    "    )\n",
    "\n",
    "ar2_forecast_samples = ar2_forecast_trace.posterior_predictive['y'].stack(sample=(\"chain\", \"draw\"))\n",
    "ar2_forecast_median = ar2_forecast_samples.median(dim='sample').values\n",
    "\n",
    "# Calculate HDI manually for each time point\n",
    "ar2_forecast_lower = np.zeros(n_forecast)\n",
    "ar2_forecast_upper = np.zeros(n_forecast)\n",
    "\n",
    "# Get only the forecast period values (last n_forecast values\n",
    "ar2_forecast_values = ar2_forecast_samples.values[-n_forecast:]\n",
    "\n",
    "# Calculate HDI for each time point separately\n",
    "for t in range(n_forecast):\n",
    "    hdi = az.hdi(ar2_forecast_values[t], hdi_prob=0.95)\n",
    "    ar2_forecast_lower[t] = hdi[0]\n",
    "    ar2_forecast_upper[t] = hdi[1]\n",
    "\n",
    "# Extract actual observations for the forecast period (summer only)\n",
    "actual_future = (squirrel_data\n",
    "    .filter((pl.col('Year') >= 2000) & (pl.col('Year') <= 2009) & (pl.col('Season') == 'Summer'))\n",
    "    .sort('Year')\n",
    ")\n",
    "actual_years = actual_future['Year'].to_numpy()\n",
    "actual_density = actual_future['Average_per_ha'].to_numpy()\n",
    "\n",
    "# Create the forecast plot\n",
    "fig = go.Figure()\n",
    "\n",
    "# Add original data points (1990-1999)\n",
    "fig.add_trace(go.Scatter(\n",
    "    x=years,\n",
    "    y=squirrel_density,\n",
    "    mode='markers',\n",
    "    name='Observed Data',\n",
    "    marker=dict(\n",
    "        size=8,\n",
    "        color='red',\n",
    "        symbol='circle',\n",
    "        line=dict(width=2, color='darkred')\n",
    "    )\n",
    "))\n",
    "\n",
    "# Add test data points (2000-2009)\n",
    "# Add test data points (2000-2009) - hidden by default but toggleable\n",
    "fig.add_trace(go.Scatter(\n",
    "    x=actual_years,\n",
    "    y=actual_density,\n",
    "    mode='markers',\n",
    "    name='Test Data',\n",
    "    marker=dict(\n",
    "        size=8,\n",
    "        color='green',\n",
    "        symbol='circle',\n",
    "        line=dict(width=2, color='darkgreen')\n",
    "    ),\n",
    "    visible='legendonly'  # Hidden by default, can be toggled via legend\n",
    "))\n",
    "\n",
    "# Add AR(2) median forecast line\n",
    "fig.add_trace(go.Scatter(\n",
    "    x=forecast_years,\n",
    "    y=ar2_forecast_median[-n_forecast:],\n",
    "    mode='lines',\n",
    "    name='AR(2) Forecast',\n",
    "    line=dict(color='blue', width=3)\n",
    "))\n",
    "\n",
    "# Add AR(2) 95% HDI as a shaded region\n",
    "fig.add_trace(go.Scatter(\n",
    "    x=np.concatenate([forecast_years, forecast_years[::-1]]),\n",
    "    y=np.concatenate([ar2_forecast_upper, ar2_forecast_lower[::-1]]),\n",
    "    fill='toself',\n",
    "    fillcolor='rgba(0, 100, 80, 0.2)',\n",
    "    line=dict(color='rgba(255,255,255,0)'),\n",
    "    name='AR(2) 95% HDI',\n",
    "    showlegend=True\n",
    "))\n",
    "\n",
    "# Add Random Walk median forecast line\n",
    "fig.add_trace(go.Scatter(\n",
    "    x=forecast_years,\n",
    "    y=rw_forecast_median,\n",
    "    mode='lines',\n",
    "    name='Random Walk Forecast',\n",
    "    line=dict(color='purple', width=3, dash='dash')\n",
    "))\n",
    "\n",
    "# Add Random Walk 95% HDI as a shaded region\n",
    "fig.add_trace(go.Scatter(\n",
    "    x=np.concatenate([forecast_years, forecast_years[::-1]]),\n",
    "    y=np.concatenate([rw_forecast_upper, rw_forecast_lower[::-1]]),\n",
    "    fill='toself',\n",
    "    fillcolor='rgba(128, 0, 128, 0.2)',\n",
    "    line=dict(color='rgba(255,255,255,0)'),\n",
    "    name='Random Walk 95% HDI',\n",
    "    showlegend=True\n",
    "))\n",
    "\n",
    "# Update layout\n",
    "fig.update_layout(\n",
    "    title=dict(\n",
    "        text='10-Year Forecast Comparison: AR(2) vs Random Walk (2000-2009)',\n",
    "        x=0.5,\n",
    "        font=dict(size=16)\n",
    "    ),\n",
    "    xaxis_title='Year',\n",
    "    yaxis_title='Population Density (per hectare)',\n",
    "    width=900,\n",
    "    height=500,\n",
    "    template='plotly_white',\n",
    "    legend=dict(\n",
    "        x=0.02,\n",
    "        y=0.98,\n",
    "        bgcolor='rgba(255,255,255,0.8)',\n",
    "        bordercolor='gray',\n",
    "        borderwidth=1\n",
    "    )\n",
    ")\n",
    "\n",
    "# Ensure y-axis doesn't go below zero for population density\n",
    "fig.update_yaxes(range=[0, None])\n",
    "\n",
    "fig.show()"
   ]
  },
  {
   "cell_type": "markdown",
   "metadata": {},
   "source": [
    "By the years 2000-2001, the population density had crashed to levels approaching zero. This near-zero density (consistently below 0.25 individuals per hectare and often indistinguishable from zero on the graph) persisted for the remainder of the observation period, extending to 2016. This pattern signifies not merely a cyclical low but a sustained population collapse with no apparent recovery for over 15 years. \n",
    "\n",
    "The evidence strongly indicates that this was not due to a single cause but rather a synergistic interaction of several factors. The primary driver appears to have been intensified predation pressure, which became particularly acute following the 1998 snowshoe hare population peak and was sustained by a subsequent attenuation of the hare cycle. This led to ground squirrel populations being driven into, and held within, a \"predator pit.\""
   ]
  },
  {
   "cell_type": "code",
   "execution_count": null,
   "metadata": {},
   "outputs": [
    {
     "name": "stdout",
     "output_type": "stream",
     "text": [
      "Last updated: Thu Jun 05 2025\n",
      "\n",
      "Python implementation: CPython\n",
      "Python version       : 3.13.3\n",
      "IPython version      : 9.1.0\n",
      "\n",
      "pymc    : 5.22.0\n",
      "plotly  : 6.0.1\n",
      "numpy   : 2.2.5\n",
      "pytensor: 2.30.3\n",
      "polars  : 1.27.1\n",
      "arviz   : 0.21.0\n",
      "\n",
      "Watermark: 2.5.0\n",
      "\n"
     ]
    }
   ],
   "source": [
    "%load_ext watermark\n",
    "%watermark -n -u -v -iv -w"
   ]
  }
 ],
 "metadata": {
  "kernelspec": {
   "display_name": "default",
   "language": "python",
   "name": "python3"
  },
  "language_info": {
   "codemirror_mode": {
    "name": "ipython",
    "version": 3
   },
   "file_extension": ".py",
   "mimetype": "text/x-python",
   "name": "python",
   "nbconvert_exporter": "python",
   "pygments_lexer": "ipython3",
   "version": "3.13.3"
  }
 },
 "nbformat": 4,
 "nbformat_minor": 4
}
