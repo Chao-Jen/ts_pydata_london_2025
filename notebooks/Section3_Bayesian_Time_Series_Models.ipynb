{
 "cells": [
  {
   "cell_type": "markdown",
   "metadata": {},
   "source": [
    "# Section 3: Bayesian Time Series Models\n",
    "\n",
    "#### PyData London 2025 - Bayesian Time Series Analysis with PyMC\n",
    "\n",
    "---\n",
    "\n",
    "In this section, we'll explore the landscape of Bayesian time series models, from simple random walks to sophisticated state-space models and Gaussian processes. These models provide the foundation for understanding temporal patterns and making probabilistic forecasts."
   ]
  },
  {
   "cell_type": "code",
   "execution_count": 1,
   "metadata": {},
   "outputs": [
    {
     "name": "stdout",
     "output_type": "stream",
     "text": [
      "🔧 Libraries loaded successfully!\n"
     ]
    }
   ],
   "source": [
    "import numpy as np\n",
    "import polars as pl\n",
    "import plotly.express as px\n",
    "import plotly.graph_objects as go\n",
    "import pymc as pm\n",
    "import pytensor.tensor as pt\n",
    "import arviz as az\n",
    "import warnings\n",
    "\n",
    "az.style.use(\"arviz-darkgrid\")\n",
    "warnings.filterwarnings('ignore')\n",
    "\n",
    "# Set random seed for reproducibility\n",
    "RNG = np.random.default_rng(RANDOM_SEED:=42)\n",
    "\n",
    "print(\"🔧 Libraries loaded successfully!\")\n"
   ]
  },
  {
   "cell_type": "markdown",
   "metadata": {},
   "source": [
    "Our first motivating example will be the population dymanics of the arctic ground squirrel (*Urocitellus parryii*) in the Kluane region of the Yukon Territory, Canada. Typically, arctic hare get all the attention, with their cyclic population dynamics being a classic example of a predator-prey system. However, the arctic ground squirrel is a much more abundant species, and their population dynamics are also interesting.\n",
    "\n",
    "![Arctic ground squirrel](images/Arctic-Ground-Squirrel.jpg)\n",
    "\n",
    "Below are densities, estimated independently twice per year from mark-recapture data."
   ]
  },
  {
   "cell_type": "code",
   "execution_count": 2,
   "metadata": {},
   "outputs": [],
   "source": [
    "# Load data and filter for years up to 1999\n",
    "squirrel_data = pl.read_csv('../data/arctic_ground_squirrels_timeseries.csv')\n",
    "\n",
    "# Create plot data with both spring and summer for context\n",
    "squirrel_plot = (squirrel_data\n",
    "    .filter(pl.col('Average_per_ha').is_not_null())\n",
    "    .filter(pl.col('Year') <= 1999)\n",
    "    .sort(['Year', 'Season'])\n",
    "    .with_columns([\n",
    "        pl.when(pl.col('Season') == 'Spring')\n",
    "        .then(pl.col('Year') + 0.25)\n",
    "        .otherwise(pl.col('Year') + 0.5)\n",
    "        .alias('Year_fractional')\n",
    "    ])\n",
    ")"
   ]
  },
  {
   "cell_type": "code",
   "execution_count": 3,
   "metadata": {},
   "outputs": [
    {
     "data": {
      "application/vnd.plotly.v1+json": {
       "config": {
        "plotlyServerURL": "https://plot.ly"
       },
       "data": [
        {
         "hovertemplate": [
          "<b>Year:</b> 1990<br><b>Season:</b> Spring<br><b>Density:</b> 1.75 per hectare<extra></extra>",
          "<b>Year:</b> 1990<br><b>Season:</b> Summer<br><b>Density:</b> 1.24 per hectare<extra></extra>",
          "<b>Year:</b> 1991<br><b>Season:</b> Spring<br><b>Density:</b> 1.50 per hectare<extra></extra>",
          "<b>Year:</b> 1992<br><b>Season:</b> Summer<br><b>Density:</b> 0.81 per hectare<extra></extra>",
          "<b>Year:</b> 1992<br><b>Season:</b> Spring<br><b>Density:</b> 0.55 per hectare<extra></extra>",
          "<b>Year:</b> 1992<br><b>Season:</b> Summer<br><b>Density:</b> 0.54 per hectare<extra></extra>",
          "<b>Year:</b> 1993<br><b>Season:</b> Spring<br><b>Density:</b> 0.44 per hectare<extra></extra>",
          "<b>Year:</b> 1994<br><b>Season:</b> Summer<br><b>Density:</b> 0.93 per hectare<extra></extra>",
          "<b>Year:</b> 1994<br><b>Season:</b> Spring<br><b>Density:</b> 0.45 per hectare<extra></extra>",
          "<b>Year:</b> 1994<br><b>Season:</b> Summer<br><b>Density:</b> 1.44 per hectare<extra></extra>",
          "<b>Year:</b> 1995<br><b>Season:</b> Spring<br><b>Density:</b> 1.13 per hectare<extra></extra>",
          "<b>Year:</b> 1996<br><b>Season:</b> Summer<br><b>Density:</b> 2.01 per hectare<extra></extra>",
          "<b>Year:</b> 1996<br><b>Season:</b> Spring<br><b>Density:</b> 1.08 per hectare<extra></extra>",
          "<b>Year:</b> 1996<br><b>Season:</b> Summer<br><b>Density:</b> 1.37 per hectare<extra></extra>",
          "<b>Year:</b> 1997<br><b>Season:</b> Spring<br><b>Density:</b> 1.03 per hectare<extra></extra>",
          "<b>Year:</b> 1998<br><b>Season:</b> Summer<br><b>Density:</b> 1.32 per hectare<extra></extra>",
          "<b>Year:</b> 1998<br><b>Season:</b> Spring<br><b>Density:</b> 1.55 per hectare<extra></extra>",
          "<b>Year:</b> 1998<br><b>Season:</b> Summer<br><b>Density:</b> 1.34 per hectare<extra></extra>",
          "<b>Year:</b> 1999<br><b>Season:</b> Spring<br><b>Density:</b> 1.16 per hectare<extra></extra>",
          "<b>Year:</b> 2000<br><b>Season:</b> Summer<br><b>Density:</b> 0.90 per hectare<extra></extra>"
         ],
         "line": {
          "color": "steelblue",
          "width": 2
         },
         "marker": {
          "color": [
           "green",
           "orange",
           "green",
           "orange",
           "green",
           "orange",
           "green",
           "orange",
           "green",
           "orange",
           "green",
           "orange",
           "green",
           "orange",
           "green",
           "orange",
           "green",
           "orange",
           "green",
           "orange"
          ],
          "size": 8,
          "symbol": [
           "circle",
           "square",
           "circle",
           "square",
           "circle",
           "square",
           "circle",
           "square",
           "circle",
           "square",
           "circle",
           "square",
           "circle",
           "square",
           "circle",
           "square",
           "circle",
           "square",
           "circle",
           "square"
          ]
         },
         "mode": "lines+markers",
         "name": "Population Density",
         "text": [
          "Spring",
          "Summer",
          "Spring",
          "Summer",
          "Spring",
          "Summer",
          "Spring",
          "Summer",
          "Spring",
          "Summer",
          "Spring",
          "Summer",
          "Spring",
          "Summer",
          "Spring",
          "Summer",
          "Spring",
          "Summer",
          "Spring",
          "Summer"
         ],
         "type": "scatter",
         "x": {
          "bdata": "AAAAAAAZn0AAAAAAABqfQAAAAAAAHZ9AAAAAAAAen0AAAAAAACGfQAAAAAAAIp9AAAAAAAAln0AAAAAAACafQAAAAAAAKZ9AAAAAAAAqn0AAAAAAAC2fQAAAAAAALp9AAAAAAAAxn0AAAAAAADKfQAAAAAAANZ9AAAAAAAA2n0AAAAAAADmfQAAAAAAAOp9AAAAAAAA9n0AAAAAAAD6fQA==",
          "dtype": "f8"
         },
         "y": {
          "bdata": "AAAAAAAA/D/D9Shcj8LzPwAAAAAAAPg/7FG4HoXr6T+amZmZmZnhP0jhehSuR+E/KlyPwvUo3D/D9Shcj8LtP8zMzMzMzNw/HoXrUbge9z8VrkfhehTyPx6F61G4HgBANDMzMzMz8T/f4AuTqeL1P3sUrkfhevA/0GbV52oL9T/MzMzMzMz4P36MuWsJefU/eHqlLEN88j80XrpJDMLsPw==",
          "dtype": "f8"
         }
        }
       ],
       "layout": {
        "annotations": [
         {
          "bgcolor": "rgba(255,255,255,0.8)",
          "bordercolor": "gray",
          "borderwidth": 1,
          "font": {
           "size": 12
          },
          "showarrow": false,
          "text": "🟢 Spring &nbsp;&nbsp; 🟠 Summer",
          "x": 0.02,
          "xref": "paper",
          "y": 0.98,
          "yref": "paper"
         }
        ],
        "height": 500,
        "showlegend": false,
        "template": {
         "data": {
          "bar": [
           {
            "error_x": {
             "color": "#2a3f5f"
            },
            "error_y": {
             "color": "#2a3f5f"
            },
            "marker": {
             "line": {
              "color": "white",
              "width": 0.5
             },
             "pattern": {
              "fillmode": "overlay",
              "size": 10,
              "solidity": 0.2
             }
            },
            "type": "bar"
           }
          ],
          "barpolar": [
           {
            "marker": {
             "line": {
              "color": "white",
              "width": 0.5
             },
             "pattern": {
              "fillmode": "overlay",
              "size": 10,
              "solidity": 0.2
             }
            },
            "type": "barpolar"
           }
          ],
          "carpet": [
           {
            "aaxis": {
             "endlinecolor": "#2a3f5f",
             "gridcolor": "#C8D4E3",
             "linecolor": "#C8D4E3",
             "minorgridcolor": "#C8D4E3",
             "startlinecolor": "#2a3f5f"
            },
            "baxis": {
             "endlinecolor": "#2a3f5f",
             "gridcolor": "#C8D4E3",
             "linecolor": "#C8D4E3",
             "minorgridcolor": "#C8D4E3",
             "startlinecolor": "#2a3f5f"
            },
            "type": "carpet"
           }
          ],
          "choropleth": [
           {
            "colorbar": {
             "outlinewidth": 0,
             "ticks": ""
            },
            "type": "choropleth"
           }
          ],
          "contour": [
           {
            "colorbar": {
             "outlinewidth": 0,
             "ticks": ""
            },
            "colorscale": [
             [
              0,
              "#0d0887"
             ],
             [
              0.1111111111111111,
              "#46039f"
             ],
             [
              0.2222222222222222,
              "#7201a8"
             ],
             [
              0.3333333333333333,
              "#9c179e"
             ],
             [
              0.4444444444444444,
              "#bd3786"
             ],
             [
              0.5555555555555556,
              "#d8576b"
             ],
             [
              0.6666666666666666,
              "#ed7953"
             ],
             [
              0.7777777777777778,
              "#fb9f3a"
             ],
             [
              0.8888888888888888,
              "#fdca26"
             ],
             [
              1,
              "#f0f921"
             ]
            ],
            "type": "contour"
           }
          ],
          "contourcarpet": [
           {
            "colorbar": {
             "outlinewidth": 0,
             "ticks": ""
            },
            "type": "contourcarpet"
           }
          ],
          "heatmap": [
           {
            "colorbar": {
             "outlinewidth": 0,
             "ticks": ""
            },
            "colorscale": [
             [
              0,
              "#0d0887"
             ],
             [
              0.1111111111111111,
              "#46039f"
             ],
             [
              0.2222222222222222,
              "#7201a8"
             ],
             [
              0.3333333333333333,
              "#9c179e"
             ],
             [
              0.4444444444444444,
              "#bd3786"
             ],
             [
              0.5555555555555556,
              "#d8576b"
             ],
             [
              0.6666666666666666,
              "#ed7953"
             ],
             [
              0.7777777777777778,
              "#fb9f3a"
             ],
             [
              0.8888888888888888,
              "#fdca26"
             ],
             [
              1,
              "#f0f921"
             ]
            ],
            "type": "heatmap"
           }
          ],
          "histogram": [
           {
            "marker": {
             "pattern": {
              "fillmode": "overlay",
              "size": 10,
              "solidity": 0.2
             }
            },
            "type": "histogram"
           }
          ],
          "histogram2d": [
           {
            "colorbar": {
             "outlinewidth": 0,
             "ticks": ""
            },
            "colorscale": [
             [
              0,
              "#0d0887"
             ],
             [
              0.1111111111111111,
              "#46039f"
             ],
             [
              0.2222222222222222,
              "#7201a8"
             ],
             [
              0.3333333333333333,
              "#9c179e"
             ],
             [
              0.4444444444444444,
              "#bd3786"
             ],
             [
              0.5555555555555556,
              "#d8576b"
             ],
             [
              0.6666666666666666,
              "#ed7953"
             ],
             [
              0.7777777777777778,
              "#fb9f3a"
             ],
             [
              0.8888888888888888,
              "#fdca26"
             ],
             [
              1,
              "#f0f921"
             ]
            ],
            "type": "histogram2d"
           }
          ],
          "histogram2dcontour": [
           {
            "colorbar": {
             "outlinewidth": 0,
             "ticks": ""
            },
            "colorscale": [
             [
              0,
              "#0d0887"
             ],
             [
              0.1111111111111111,
              "#46039f"
             ],
             [
              0.2222222222222222,
              "#7201a8"
             ],
             [
              0.3333333333333333,
              "#9c179e"
             ],
             [
              0.4444444444444444,
              "#bd3786"
             ],
             [
              0.5555555555555556,
              "#d8576b"
             ],
             [
              0.6666666666666666,
              "#ed7953"
             ],
             [
              0.7777777777777778,
              "#fb9f3a"
             ],
             [
              0.8888888888888888,
              "#fdca26"
             ],
             [
              1,
              "#f0f921"
             ]
            ],
            "type": "histogram2dcontour"
           }
          ],
          "mesh3d": [
           {
            "colorbar": {
             "outlinewidth": 0,
             "ticks": ""
            },
            "type": "mesh3d"
           }
          ],
          "parcoords": [
           {
            "line": {
             "colorbar": {
              "outlinewidth": 0,
              "ticks": ""
             }
            },
            "type": "parcoords"
           }
          ],
          "pie": [
           {
            "automargin": true,
            "type": "pie"
           }
          ],
          "scatter": [
           {
            "fillpattern": {
             "fillmode": "overlay",
             "size": 10,
             "solidity": 0.2
            },
            "type": "scatter"
           }
          ],
          "scatter3d": [
           {
            "line": {
             "colorbar": {
              "outlinewidth": 0,
              "ticks": ""
             }
            },
            "marker": {
             "colorbar": {
              "outlinewidth": 0,
              "ticks": ""
             }
            },
            "type": "scatter3d"
           }
          ],
          "scattercarpet": [
           {
            "marker": {
             "colorbar": {
              "outlinewidth": 0,
              "ticks": ""
             }
            },
            "type": "scattercarpet"
           }
          ],
          "scattergeo": [
           {
            "marker": {
             "colorbar": {
              "outlinewidth": 0,
              "ticks": ""
             }
            },
            "type": "scattergeo"
           }
          ],
          "scattergl": [
           {
            "marker": {
             "colorbar": {
              "outlinewidth": 0,
              "ticks": ""
             }
            },
            "type": "scattergl"
           }
          ],
          "scattermap": [
           {
            "marker": {
             "colorbar": {
              "outlinewidth": 0,
              "ticks": ""
             }
            },
            "type": "scattermap"
           }
          ],
          "scattermapbox": [
           {
            "marker": {
             "colorbar": {
              "outlinewidth": 0,
              "ticks": ""
             }
            },
            "type": "scattermapbox"
           }
          ],
          "scatterpolar": [
           {
            "marker": {
             "colorbar": {
              "outlinewidth": 0,
              "ticks": ""
             }
            },
            "type": "scatterpolar"
           }
          ],
          "scatterpolargl": [
           {
            "marker": {
             "colorbar": {
              "outlinewidth": 0,
              "ticks": ""
             }
            },
            "type": "scatterpolargl"
           }
          ],
          "scatterternary": [
           {
            "marker": {
             "colorbar": {
              "outlinewidth": 0,
              "ticks": ""
             }
            },
            "type": "scatterternary"
           }
          ],
          "surface": [
           {
            "colorbar": {
             "outlinewidth": 0,
             "ticks": ""
            },
            "colorscale": [
             [
              0,
              "#0d0887"
             ],
             [
              0.1111111111111111,
              "#46039f"
             ],
             [
              0.2222222222222222,
              "#7201a8"
             ],
             [
              0.3333333333333333,
              "#9c179e"
             ],
             [
              0.4444444444444444,
              "#bd3786"
             ],
             [
              0.5555555555555556,
              "#d8576b"
             ],
             [
              0.6666666666666666,
              "#ed7953"
             ],
             [
              0.7777777777777778,
              "#fb9f3a"
             ],
             [
              0.8888888888888888,
              "#fdca26"
             ],
             [
              1,
              "#f0f921"
             ]
            ],
            "type": "surface"
           }
          ],
          "table": [
           {
            "cells": {
             "fill": {
              "color": "#EBF0F8"
             },
             "line": {
              "color": "white"
             }
            },
            "header": {
             "fill": {
              "color": "#C8D4E3"
             },
             "line": {
              "color": "white"
             }
            },
            "type": "table"
           }
          ]
         },
         "layout": {
          "annotationdefaults": {
           "arrowcolor": "#2a3f5f",
           "arrowhead": 0,
           "arrowwidth": 1
          },
          "autotypenumbers": "strict",
          "coloraxis": {
           "colorbar": {
            "outlinewidth": 0,
            "ticks": ""
           }
          },
          "colorscale": {
           "diverging": [
            [
             0,
             "#8e0152"
            ],
            [
             0.1,
             "#c51b7d"
            ],
            [
             0.2,
             "#de77ae"
            ],
            [
             0.3,
             "#f1b6da"
            ],
            [
             0.4,
             "#fde0ef"
            ],
            [
             0.5,
             "#f7f7f7"
            ],
            [
             0.6,
             "#e6f5d0"
            ],
            [
             0.7,
             "#b8e186"
            ],
            [
             0.8,
             "#7fbc41"
            ],
            [
             0.9,
             "#4d9221"
            ],
            [
             1,
             "#276419"
            ]
           ],
           "sequential": [
            [
             0,
             "#0d0887"
            ],
            [
             0.1111111111111111,
             "#46039f"
            ],
            [
             0.2222222222222222,
             "#7201a8"
            ],
            [
             0.3333333333333333,
             "#9c179e"
            ],
            [
             0.4444444444444444,
             "#bd3786"
            ],
            [
             0.5555555555555556,
             "#d8576b"
            ],
            [
             0.6666666666666666,
             "#ed7953"
            ],
            [
             0.7777777777777778,
             "#fb9f3a"
            ],
            [
             0.8888888888888888,
             "#fdca26"
            ],
            [
             1,
             "#f0f921"
            ]
           ],
           "sequentialminus": [
            [
             0,
             "#0d0887"
            ],
            [
             0.1111111111111111,
             "#46039f"
            ],
            [
             0.2222222222222222,
             "#7201a8"
            ],
            [
             0.3333333333333333,
             "#9c179e"
            ],
            [
             0.4444444444444444,
             "#bd3786"
            ],
            [
             0.5555555555555556,
             "#d8576b"
            ],
            [
             0.6666666666666666,
             "#ed7953"
            ],
            [
             0.7777777777777778,
             "#fb9f3a"
            ],
            [
             0.8888888888888888,
             "#fdca26"
            ],
            [
             1,
             "#f0f921"
            ]
           ]
          },
          "colorway": [
           "#636efa",
           "#EF553B",
           "#00cc96",
           "#ab63fa",
           "#FFA15A",
           "#19d3f3",
           "#FF6692",
           "#B6E880",
           "#FF97FF",
           "#FECB52"
          ],
          "font": {
           "color": "#2a3f5f"
          },
          "geo": {
           "bgcolor": "white",
           "lakecolor": "white",
           "landcolor": "white",
           "showlakes": true,
           "showland": true,
           "subunitcolor": "#C8D4E3"
          },
          "hoverlabel": {
           "align": "left"
          },
          "hovermode": "closest",
          "mapbox": {
           "style": "light"
          },
          "paper_bgcolor": "white",
          "plot_bgcolor": "white",
          "polar": {
           "angularaxis": {
            "gridcolor": "#EBF0F8",
            "linecolor": "#EBF0F8",
            "ticks": ""
           },
           "bgcolor": "white",
           "radialaxis": {
            "gridcolor": "#EBF0F8",
            "linecolor": "#EBF0F8",
            "ticks": ""
           }
          },
          "scene": {
           "xaxis": {
            "backgroundcolor": "white",
            "gridcolor": "#DFE8F3",
            "gridwidth": 2,
            "linecolor": "#EBF0F8",
            "showbackground": true,
            "ticks": "",
            "zerolinecolor": "#EBF0F8"
           },
           "yaxis": {
            "backgroundcolor": "white",
            "gridcolor": "#DFE8F3",
            "gridwidth": 2,
            "linecolor": "#EBF0F8",
            "showbackground": true,
            "ticks": "",
            "zerolinecolor": "#EBF0F8"
           },
           "zaxis": {
            "backgroundcolor": "white",
            "gridcolor": "#DFE8F3",
            "gridwidth": 2,
            "linecolor": "#EBF0F8",
            "showbackground": true,
            "ticks": "",
            "zerolinecolor": "#EBF0F8"
           }
          },
          "shapedefaults": {
           "line": {
            "color": "#2a3f5f"
           }
          },
          "ternary": {
           "aaxis": {
            "gridcolor": "#DFE8F3",
            "linecolor": "#A2B1C6",
            "ticks": ""
           },
           "baxis": {
            "gridcolor": "#DFE8F3",
            "linecolor": "#A2B1C6",
            "ticks": ""
           },
           "bgcolor": "white",
           "caxis": {
            "gridcolor": "#DFE8F3",
            "linecolor": "#A2B1C6",
            "ticks": ""
           }
          },
          "title": {
           "x": 0.05
          },
          "xaxis": {
           "automargin": true,
           "gridcolor": "#EBF0F8",
           "linecolor": "#EBF0F8",
           "ticks": "",
           "title": {
            "standoff": 15
           },
           "zerolinecolor": "#EBF0F8",
           "zerolinewidth": 2
          },
          "yaxis": {
           "automargin": true,
           "gridcolor": "#EBF0F8",
           "linecolor": "#EBF0F8",
           "ticks": "",
           "title": {
            "standoff": 15
           },
           "zerolinecolor": "#EBF0F8",
           "zerolinewidth": 2
          }
         }
        },
        "title": {
         "font": {
          "size": 16
         },
         "text": "Arctic Ground Squirrel Population Density - Spring and Summer (1990-1999)",
         "x": 0.5
        },
        "width": 900,
        "xaxis": {
         "title": {
          "text": "Year"
         }
        },
        "yaxis": {
         "title": {
          "text": "Population Density (per hectare)"
         }
        }
       }
      }
     },
     "metadata": {},
     "output_type": "display_data"
    }
   ],
   "source": [
    "# Create marker colors and symbols based on season\n",
    "marker_colors = ['green' if season == 'Spring' else 'orange' for season in squirrel_plot['Season']]\n",
    "marker_symbols = ['circle' if season == 'Spring' else 'square' for season in squirrel_plot['Season']]\n",
    "hover_text = [f'<b>Year:</b> {year:.0f}<br><b>Season:</b> {season}<br><b>Density:</b> {density:.2f} per hectare<extra></extra>' \n",
    "              for year, season, density in zip(squirrel_plot['Year_fractional'], squirrel_plot['Season'], squirrel_plot['Average_per_ha'])]\n",
    "\n",
    "fig = go.Figure()\n",
    "\n",
    "fig.add_trace(go.Scatter(\n",
    "    x=squirrel_plot['Year_fractional'],\n",
    "    y=squirrel_plot['Average_per_ha'],\n",
    "    mode='lines+markers',\n",
    "    name='Population Density',\n",
    "    line=dict(color='steelblue', width=2),\n",
    "    marker=dict(\n",
    "        size=8,\n",
    "        color=marker_colors,\n",
    "        symbol=marker_symbols\n",
    "    ),\n",
    "    text=squirrel_plot['Season'],\n",
    "    hovertemplate=hover_text\n",
    "))\n",
    "\n",
    "fig.update_layout(\n",
    "    title=dict(\n",
    "        text='Arctic Ground Squirrel Population Density - Spring and Summer (1990-1999)',\n",
    "        x=0.5,\n",
    "        font=dict(size=16)\n",
    "    ),\n",
    "    xaxis_title='Year',\n",
    "    yaxis_title='Population Density (per hectare)',\n",
    "    width=900,\n",
    "    height=500,\n",
    "    showlegend=False,\n",
    "    template='plotly_white'\n",
    ")\n",
    "\n",
    "fig.add_annotation(\n",
    "    x=0.02, y=0.98,\n",
    "    xref='paper', yref='paper',\n",
    "    text='🟢 Spring &nbsp;&nbsp; 🟠 Summer',\n",
    "    showarrow=False,\n",
    "    font=dict(size=12),\n",
    "    bgcolor='rgba(255,255,255,0.8)',\n",
    "    bordercolor='gray',\n",
    "    borderwidth=1\n",
    ")\n",
    "\n",
    "fig.show()"
   ]
  },
  {
   "cell_type": "markdown",
   "metadata": {},
   "source": [
    "## Random Walk Models\n",
    "\n",
    "The regression model that we fit in the previous notebook assumes a linear relationship between predictor and response variables. This is a parametric regression - it uses just a few parameters (slope and intercept) to describe the entire relationship.\n",
    "\n",
    "In contrast, **non-parametric models** use many parameters to flexibly adapt to the data's structure without imposing strong assumptions about functional form. They aren't actually without parameters; rather, the number of parameters varies with the quantity of data.\n",
    "\n",
    "We'll demonstrate this flexibility using a random walk, where each observation depends only on the previous value plus random noise:\n",
    "\n",
    "$$y_t = y_{t-1} + \\epsilon_t$$\n",
    "\n",
    "Here, $\\epsilon_t$ represents the **innovation** or step size, which is drawn from a probability distribution at each time point $t$.\n",
    "\n",
    "### Gaussian Random Walk\n",
    "\n",
    "A **Gaussian Random Walk** is a specific flavor of random walk where the innovations are Gaussian, $\\epsilon_t \\sim \\mathcal{N}(0, \\sigma^2)$.\n",
    "\n",
    "This structure allows random walks to adapt to various trend patterns without imposing rigid functional forms. Moreover, the variance of the random walk is non-stationary, reflecting our decreasing confidence in long-term predictions. \n",
    "\n",
    "$\\text{Var}(y_t) = t \\cdot \\sigma^2$\n",
    "\n",
    "Let's implement a Gaussian random walk in PyMC to model the Arctic ground squirrel population data. To keep things simple, we will only model the summer population."
   ]
  },
  {
   "cell_type": "code",
   "execution_count": 4,
   "metadata": {},
   "outputs": [],
   "source": [
    "# Extract summer data only for modeling\n",
    "squirrel_summer = (squirrel_data\n",
    "    .filter(pl.col('Average_per_ha').is_not_null())\n",
    "    .filter(pl.col('Season') == 'Summer')\n",
    "    .filter(pl.col('Year') <= 1999)\n",
    "    .sort('Year')\n",
    "    .with_row_index('time_index')\n",
    ")\n",
    "\n",
    "# Model variables (summer data only)\n",
    "squirrel_density = squirrel_summer['Average_per_ha'].to_numpy()\n",
    "years = squirrel_summer['Year'].to_numpy().astype(int)\n",
    "n_years = len(years)\n",
    "time_idx = np.arange(n_years)\n",
    "time_normalized = (time_idx - time_idx.mean()) / time_idx.std()"
   ]
  },
  {
   "cell_type": "code",
   "execution_count": 5,
   "metadata": {},
   "outputs": [],
   "source": [
    "# Simple Random Walk for Ground Squirrel Summer Population\n",
    "with pm.Model(coords={'time': years}) as simple_rw_model:\n",
    "\n",
    "    y_obs = pm.Data('y_obs', squirrel_density, dims='time')\n",
    "    \n",
    "    # Step size of the random walk (innovation standard deviation)\n",
    "    sigma_walk = pm.HalfNormal('sigma_walk', sigma=1.0)\n",
    "    \n",
    "    # Initial value distribution\n",
    "    init_dist = pm.Normal.dist(mu=0, sigma=1)\n",
    "    \n",
    "    # Gaussian random walk process using dims\n",
    "    log_walk = pm.GaussianRandomWalk('log_walk', \n",
    "        mu=0,  # no drift\n",
    "        sigma=sigma_walk, \n",
    "        init_dist=init_dist,\n",
    "        dims='time')\n",
    "    \n",
    "    walk = pm.Deterministic('walk', pm.math.exp(log_walk))\n",
    "    \n",
    "    # Observation noise (measurement error)\n",
    "    sigma_obs = pm.HalfNormal('sigma_obs', sigma=1.0)\n",
    "    \n",
    "    # Likelihood: observed squirrel density data are noisy observations of the walk\n",
    "    y = pm.LogNormal('y', mu=log_walk, sigma=sigma_obs, observed=y_obs, dims='time')"
   ]
  },
  {
   "cell_type": "code",
   "execution_count": 6,
   "metadata": {},
   "outputs": [
    {
     "name": "stderr",
     "output_type": "stream",
     "text": [
      "Initializing NUTS using jitter+adapt_diag...\n",
      "Multiprocess sampling (4 chains in 4 jobs)\n",
      "NUTS: [sigma_walk, log_walk, sigma_obs]\n"
     ]
    },
    {
     "data": {
      "application/vnd.jupyter.widget-view+json": {
       "model_id": "2fcdaf6292d147ed90bed9191419144b",
       "version_major": 2,
       "version_minor": 0
      },
      "text/plain": [
       "Output()"
      ]
     },
     "metadata": {},
     "output_type": "display_data"
    },
    {
     "data": {
      "text/html": [
       "<pre style=\"white-space:pre;overflow-x:auto;line-height:normal;font-family:Menlo,'DejaVu Sans Mono',consolas,'Courier New',monospace\"></pre>\n"
      ],
      "text/plain": []
     },
     "metadata": {},
     "output_type": "display_data"
    },
    {
     "name": "stderr",
     "output_type": "stream",
     "text": [
      "Sampling 4 chains for 1_000 tune and 1_000 draw iterations (4_000 + 4_000 draws total) took 1 seconds.\n",
      "There were 26 divergences after tuning. Increase `target_accept` or reparameterize.\n",
      "The rhat statistic is larger than 1.01 for some parameters. This indicates problems during sampling. See https://arxiv.org/abs/1903.08008 for details\n",
      "The effective sample size per chain is smaller than 100 for some parameters.  A higher number is needed for reliable rhat and ess computation. See https://arxiv.org/abs/1903.08008 for details\n"
     ]
    }
   ],
   "source": [
    "with simple_rw_model:\n",
    "    trace_simple_rw = pm.sample(1000, tune=1000, random_seed=RANDOM_SEED)"
   ]
  },
  {
   "cell_type": "code",
   "execution_count": 7,
   "metadata": {},
   "outputs": [
    {
     "name": "stdout",
     "output_type": "stream",
     "text": [
      "🎯 **Simple Random Walk Results for Ground Squirrel Summer Population**:\n",
      "             mean     sd  hdi_3%  hdi_97%  mcse_mean  mcse_sd  ess_bulk  \\\n",
      "sigma_walk  0.347  0.166   0.043    0.611      0.008    0.004     283.0   \n",
      "sigma_obs   0.229  0.152   0.028    0.480      0.011    0.004     137.0   \n",
      "\n",
      "            ess_tail  r_hat  \n",
      "sigma_walk     183.0   1.01  \n",
      "sigma_obs      145.0   1.03  \n"
     ]
    }
   ],
   "source": [
    "print(\"🎯 **Simple Random Walk Results for Ground Squirrel Summer Population**:\")\n",
    "print(az.summary(trace_simple_rw, var_names=['sigma_walk', 'sigma_obs']))"
   ]
  },
  {
   "cell_type": "code",
   "execution_count": 8,
   "metadata": {},
   "outputs": [
    {
     "name": "stderr",
     "output_type": "stream",
     "text": [
      "Sampling: [y]\n"
     ]
    },
    {
     "data": {
      "application/vnd.jupyter.widget-view+json": {
       "model_id": "175d8cb114bb45f1a03b9fb93d622f13",
       "version_major": 2,
       "version_minor": 0
      },
      "text/plain": [
       "Output()"
      ]
     },
     "metadata": {},
     "output_type": "display_data"
    },
    {
     "data": {
      "text/html": [
       "<pre style=\"white-space:pre;overflow-x:auto;line-height:normal;font-family:Menlo,'DejaVu Sans Mono',consolas,'Courier New',monospace\"></pre>\n"
      ],
      "text/plain": []
     },
     "metadata": {},
     "output_type": "display_data"
    }
   ],
   "source": [
    "with simple_rw_model:\n",
    "    pm.sample_posterior_predictive(trace_simple_rw, extend_inferencedata=True,\n",
    "                                   random_seed=RANDOM_SEED)"
   ]
  },
  {
   "cell_type": "code",
   "execution_count": 9,
   "metadata": {},
   "outputs": [
    {
     "data": {
      "application/vnd.plotly.v1+json": {
       "config": {
        "plotlyServerURL": "https://plot.ly"
       },
       "data": [
        {
         "fill": "toself",
         "fillcolor": "rgba(144, 238, 144, 0.2)",
         "line": {
          "color": "rgba(255,255,255,0)"
         },
         "name": "Posterior Predictive 95% HDI",
         "showlegend": true,
         "type": "scatter",
         "x": {
          "bdata": "xgfHB8gHyQfKB8sHzAfNB84HzwfPB84HzQfMB8sHygfJB8gHxwfGBw==",
          "dtype": "i2"
         },
         "y": {
          "bdata": "XV39AkZt/T+lP1AirM/4P58AGszNHPc/p2YPB5rP+z8k+3e5TuoBQN/qlRGsCgVApDFg+xeYAUAcIq/qopUBQIZ92GbzUAFACP1zSeij/T/DnakVRszbP6KEEG4uPOI/joplR8dH4T8orBugw4LhP6jElFpHlOI/ppS2q8RS4z/aCnN5q5XbP2lCUl76RdI/icvW9dmC1z/JmtVsahTbPw==",
          "dtype": "f8"
         }
        },
        {
         "fill": "toself",
         "fillcolor": "rgba(0, 100, 80, 0.2)",
         "line": {
          "color": "rgba(255,255,255,0)"
         },
         "name": "Random Walk 95% HDI",
         "showlegend": true,
         "type": "scatter",
         "x": {
          "bdata": "xgfHB8gHyQfKB8sHzAfNB84HzwfPB84HzQfMB8sHygfJB8gHxwfGBw==",
          "dtype": "i2"
         },
         "y": {
          "bdata": "a97odoYv+D8TNQeLRA/0P8HzQ7LSiPI/11hiYz6X9T/r5IEQoXX8PxLMLsaATAJA0EBlndiB/T8LbPRG1fj7P6Z4PoYq//o/CkMz2REs+D+uVeWVVmnlPyBXfzKEWuo/NgnrbjXP6z8Z6rUQOMntP7jz372Jve8/Hw+S3TNo6z93KdpHj9flP2lNt54JkNw/XJ61NegA4z9PjtvesjrmPw==",
          "dtype": "f8"
         }
        },
        {
         "line": {
          "color": "darkgreen",
          "width": 3
         },
         "mode": "lines",
         "name": "Estimated Random Walk",
         "type": "scatter",
         "x": {
          "bdata": "xgfHB8gHyQfKB8sHzAfNB84Hzwc=",
          "dtype": "i2"
         },
         "y": {
          "bdata": "WLgsz1st8j+HJKzlshvsP94m7pMAPuc/cVy+PcyP7z/fZKaiBKD1P3f8AEWIH/s/37TNdeUf9j/24WcFbhH1P650wlWgjPQ/PC9mhOhs8D8=",
          "dtype": "f8"
         }
        },
        {
         "marker": {
          "color": "red",
          "line": {
           "color": "darkred",
           "width": 2
          },
          "size": 8,
          "symbol": "circle"
         },
         "mode": "markers",
         "name": "Observed Data",
         "type": "scatter",
         "x": {
          "bdata": "xgfHB8gHyQfKB8sHzAfNB84Hzwc=",
          "dtype": "i2"
         },
         "y": {
          "bdata": "w/UoXI/C8z/sUbgehevpP0jhehSuR+E/w/UoXI/C7T8ehetRuB73Px6F61G4HgBA3+ALk6ni9T/QZtXnagv1P36MuWsJefU/NF66SQzC7D8=",
          "dtype": "f8"
         }
        }
       ],
       "layout": {
        "height": 500,
        "legend": {
         "bgcolor": "rgba(255,255,255,0.8)",
         "bordercolor": "gray",
         "borderwidth": 1,
         "x": 0.02,
         "y": 0.98
        },
        "template": {
         "data": {
          "bar": [
           {
            "error_x": {
             "color": "#2a3f5f"
            },
            "error_y": {
             "color": "#2a3f5f"
            },
            "marker": {
             "line": {
              "color": "white",
              "width": 0.5
             },
             "pattern": {
              "fillmode": "overlay",
              "size": 10,
              "solidity": 0.2
             }
            },
            "type": "bar"
           }
          ],
          "barpolar": [
           {
            "marker": {
             "line": {
              "color": "white",
              "width": 0.5
             },
             "pattern": {
              "fillmode": "overlay",
              "size": 10,
              "solidity": 0.2
             }
            },
            "type": "barpolar"
           }
          ],
          "carpet": [
           {
            "aaxis": {
             "endlinecolor": "#2a3f5f",
             "gridcolor": "#C8D4E3",
             "linecolor": "#C8D4E3",
             "minorgridcolor": "#C8D4E3",
             "startlinecolor": "#2a3f5f"
            },
            "baxis": {
             "endlinecolor": "#2a3f5f",
             "gridcolor": "#C8D4E3",
             "linecolor": "#C8D4E3",
             "minorgridcolor": "#C8D4E3",
             "startlinecolor": "#2a3f5f"
            },
            "type": "carpet"
           }
          ],
          "choropleth": [
           {
            "colorbar": {
             "outlinewidth": 0,
             "ticks": ""
            },
            "type": "choropleth"
           }
          ],
          "contour": [
           {
            "colorbar": {
             "outlinewidth": 0,
             "ticks": ""
            },
            "colorscale": [
             [
              0,
              "#0d0887"
             ],
             [
              0.1111111111111111,
              "#46039f"
             ],
             [
              0.2222222222222222,
              "#7201a8"
             ],
             [
              0.3333333333333333,
              "#9c179e"
             ],
             [
              0.4444444444444444,
              "#bd3786"
             ],
             [
              0.5555555555555556,
              "#d8576b"
             ],
             [
              0.6666666666666666,
              "#ed7953"
             ],
             [
              0.7777777777777778,
              "#fb9f3a"
             ],
             [
              0.8888888888888888,
              "#fdca26"
             ],
             [
              1,
              "#f0f921"
             ]
            ],
            "type": "contour"
           }
          ],
          "contourcarpet": [
           {
            "colorbar": {
             "outlinewidth": 0,
             "ticks": ""
            },
            "type": "contourcarpet"
           }
          ],
          "heatmap": [
           {
            "colorbar": {
             "outlinewidth": 0,
             "ticks": ""
            },
            "colorscale": [
             [
              0,
              "#0d0887"
             ],
             [
              0.1111111111111111,
              "#46039f"
             ],
             [
              0.2222222222222222,
              "#7201a8"
             ],
             [
              0.3333333333333333,
              "#9c179e"
             ],
             [
              0.4444444444444444,
              "#bd3786"
             ],
             [
              0.5555555555555556,
              "#d8576b"
             ],
             [
              0.6666666666666666,
              "#ed7953"
             ],
             [
              0.7777777777777778,
              "#fb9f3a"
             ],
             [
              0.8888888888888888,
              "#fdca26"
             ],
             [
              1,
              "#f0f921"
             ]
            ],
            "type": "heatmap"
           }
          ],
          "histogram": [
           {
            "marker": {
             "pattern": {
              "fillmode": "overlay",
              "size": 10,
              "solidity": 0.2
             }
            },
            "type": "histogram"
           }
          ],
          "histogram2d": [
           {
            "colorbar": {
             "outlinewidth": 0,
             "ticks": ""
            },
            "colorscale": [
             [
              0,
              "#0d0887"
             ],
             [
              0.1111111111111111,
              "#46039f"
             ],
             [
              0.2222222222222222,
              "#7201a8"
             ],
             [
              0.3333333333333333,
              "#9c179e"
             ],
             [
              0.4444444444444444,
              "#bd3786"
             ],
             [
              0.5555555555555556,
              "#d8576b"
             ],
             [
              0.6666666666666666,
              "#ed7953"
             ],
             [
              0.7777777777777778,
              "#fb9f3a"
             ],
             [
              0.8888888888888888,
              "#fdca26"
             ],
             [
              1,
              "#f0f921"
             ]
            ],
            "type": "histogram2d"
           }
          ],
          "histogram2dcontour": [
           {
            "colorbar": {
             "outlinewidth": 0,
             "ticks": ""
            },
            "colorscale": [
             [
              0,
              "#0d0887"
             ],
             [
              0.1111111111111111,
              "#46039f"
             ],
             [
              0.2222222222222222,
              "#7201a8"
             ],
             [
              0.3333333333333333,
              "#9c179e"
             ],
             [
              0.4444444444444444,
              "#bd3786"
             ],
             [
              0.5555555555555556,
              "#d8576b"
             ],
             [
              0.6666666666666666,
              "#ed7953"
             ],
             [
              0.7777777777777778,
              "#fb9f3a"
             ],
             [
              0.8888888888888888,
              "#fdca26"
             ],
             [
              1,
              "#f0f921"
             ]
            ],
            "type": "histogram2dcontour"
           }
          ],
          "mesh3d": [
           {
            "colorbar": {
             "outlinewidth": 0,
             "ticks": ""
            },
            "type": "mesh3d"
           }
          ],
          "parcoords": [
           {
            "line": {
             "colorbar": {
              "outlinewidth": 0,
              "ticks": ""
             }
            },
            "type": "parcoords"
           }
          ],
          "pie": [
           {
            "automargin": true,
            "type": "pie"
           }
          ],
          "scatter": [
           {
            "fillpattern": {
             "fillmode": "overlay",
             "size": 10,
             "solidity": 0.2
            },
            "type": "scatter"
           }
          ],
          "scatter3d": [
           {
            "line": {
             "colorbar": {
              "outlinewidth": 0,
              "ticks": ""
             }
            },
            "marker": {
             "colorbar": {
              "outlinewidth": 0,
              "ticks": ""
             }
            },
            "type": "scatter3d"
           }
          ],
          "scattercarpet": [
           {
            "marker": {
             "colorbar": {
              "outlinewidth": 0,
              "ticks": ""
             }
            },
            "type": "scattercarpet"
           }
          ],
          "scattergeo": [
           {
            "marker": {
             "colorbar": {
              "outlinewidth": 0,
              "ticks": ""
             }
            },
            "type": "scattergeo"
           }
          ],
          "scattergl": [
           {
            "marker": {
             "colorbar": {
              "outlinewidth": 0,
              "ticks": ""
             }
            },
            "type": "scattergl"
           }
          ],
          "scattermap": [
           {
            "marker": {
             "colorbar": {
              "outlinewidth": 0,
              "ticks": ""
             }
            },
            "type": "scattermap"
           }
          ],
          "scattermapbox": [
           {
            "marker": {
             "colorbar": {
              "outlinewidth": 0,
              "ticks": ""
             }
            },
            "type": "scattermapbox"
           }
          ],
          "scatterpolar": [
           {
            "marker": {
             "colorbar": {
              "outlinewidth": 0,
              "ticks": ""
             }
            },
            "type": "scatterpolar"
           }
          ],
          "scatterpolargl": [
           {
            "marker": {
             "colorbar": {
              "outlinewidth": 0,
              "ticks": ""
             }
            },
            "type": "scatterpolargl"
           }
          ],
          "scatterternary": [
           {
            "marker": {
             "colorbar": {
              "outlinewidth": 0,
              "ticks": ""
             }
            },
            "type": "scatterternary"
           }
          ],
          "surface": [
           {
            "colorbar": {
             "outlinewidth": 0,
             "ticks": ""
            },
            "colorscale": [
             [
              0,
              "#0d0887"
             ],
             [
              0.1111111111111111,
              "#46039f"
             ],
             [
              0.2222222222222222,
              "#7201a8"
             ],
             [
              0.3333333333333333,
              "#9c179e"
             ],
             [
              0.4444444444444444,
              "#bd3786"
             ],
             [
              0.5555555555555556,
              "#d8576b"
             ],
             [
              0.6666666666666666,
              "#ed7953"
             ],
             [
              0.7777777777777778,
              "#fb9f3a"
             ],
             [
              0.8888888888888888,
              "#fdca26"
             ],
             [
              1,
              "#f0f921"
             ]
            ],
            "type": "surface"
           }
          ],
          "table": [
           {
            "cells": {
             "fill": {
              "color": "#EBF0F8"
             },
             "line": {
              "color": "white"
             }
            },
            "header": {
             "fill": {
              "color": "#C8D4E3"
             },
             "line": {
              "color": "white"
             }
            },
            "type": "table"
           }
          ]
         },
         "layout": {
          "annotationdefaults": {
           "arrowcolor": "#2a3f5f",
           "arrowhead": 0,
           "arrowwidth": 1
          },
          "autotypenumbers": "strict",
          "coloraxis": {
           "colorbar": {
            "outlinewidth": 0,
            "ticks": ""
           }
          },
          "colorscale": {
           "diverging": [
            [
             0,
             "#8e0152"
            ],
            [
             0.1,
             "#c51b7d"
            ],
            [
             0.2,
             "#de77ae"
            ],
            [
             0.3,
             "#f1b6da"
            ],
            [
             0.4,
             "#fde0ef"
            ],
            [
             0.5,
             "#f7f7f7"
            ],
            [
             0.6,
             "#e6f5d0"
            ],
            [
             0.7,
             "#b8e186"
            ],
            [
             0.8,
             "#7fbc41"
            ],
            [
             0.9,
             "#4d9221"
            ],
            [
             1,
             "#276419"
            ]
           ],
           "sequential": [
            [
             0,
             "#0d0887"
            ],
            [
             0.1111111111111111,
             "#46039f"
            ],
            [
             0.2222222222222222,
             "#7201a8"
            ],
            [
             0.3333333333333333,
             "#9c179e"
            ],
            [
             0.4444444444444444,
             "#bd3786"
            ],
            [
             0.5555555555555556,
             "#d8576b"
            ],
            [
             0.6666666666666666,
             "#ed7953"
            ],
            [
             0.7777777777777778,
             "#fb9f3a"
            ],
            [
             0.8888888888888888,
             "#fdca26"
            ],
            [
             1,
             "#f0f921"
            ]
           ],
           "sequentialminus": [
            [
             0,
             "#0d0887"
            ],
            [
             0.1111111111111111,
             "#46039f"
            ],
            [
             0.2222222222222222,
             "#7201a8"
            ],
            [
             0.3333333333333333,
             "#9c179e"
            ],
            [
             0.4444444444444444,
             "#bd3786"
            ],
            [
             0.5555555555555556,
             "#d8576b"
            ],
            [
             0.6666666666666666,
             "#ed7953"
            ],
            [
             0.7777777777777778,
             "#fb9f3a"
            ],
            [
             0.8888888888888888,
             "#fdca26"
            ],
            [
             1,
             "#f0f921"
            ]
           ]
          },
          "colorway": [
           "#636efa",
           "#EF553B",
           "#00cc96",
           "#ab63fa",
           "#FFA15A",
           "#19d3f3",
           "#FF6692",
           "#B6E880",
           "#FF97FF",
           "#FECB52"
          ],
          "font": {
           "color": "#2a3f5f"
          },
          "geo": {
           "bgcolor": "white",
           "lakecolor": "white",
           "landcolor": "white",
           "showlakes": true,
           "showland": true,
           "subunitcolor": "#C8D4E3"
          },
          "hoverlabel": {
           "align": "left"
          },
          "hovermode": "closest",
          "mapbox": {
           "style": "light"
          },
          "paper_bgcolor": "white",
          "plot_bgcolor": "white",
          "polar": {
           "angularaxis": {
            "gridcolor": "#EBF0F8",
            "linecolor": "#EBF0F8",
            "ticks": ""
           },
           "bgcolor": "white",
           "radialaxis": {
            "gridcolor": "#EBF0F8",
            "linecolor": "#EBF0F8",
            "ticks": ""
           }
          },
          "scene": {
           "xaxis": {
            "backgroundcolor": "white",
            "gridcolor": "#DFE8F3",
            "gridwidth": 2,
            "linecolor": "#EBF0F8",
            "showbackground": true,
            "ticks": "",
            "zerolinecolor": "#EBF0F8"
           },
           "yaxis": {
            "backgroundcolor": "white",
            "gridcolor": "#DFE8F3",
            "gridwidth": 2,
            "linecolor": "#EBF0F8",
            "showbackground": true,
            "ticks": "",
            "zerolinecolor": "#EBF0F8"
           },
           "zaxis": {
            "backgroundcolor": "white",
            "gridcolor": "#DFE8F3",
            "gridwidth": 2,
            "linecolor": "#EBF0F8",
            "showbackground": true,
            "ticks": "",
            "zerolinecolor": "#EBF0F8"
           }
          },
          "shapedefaults": {
           "line": {
            "color": "#2a3f5f"
           }
          },
          "ternary": {
           "aaxis": {
            "gridcolor": "#DFE8F3",
            "linecolor": "#A2B1C6",
            "ticks": ""
           },
           "baxis": {
            "gridcolor": "#DFE8F3",
            "linecolor": "#A2B1C6",
            "ticks": ""
           },
           "bgcolor": "white",
           "caxis": {
            "gridcolor": "#DFE8F3",
            "linecolor": "#A2B1C6",
            "ticks": ""
           }
          },
          "title": {
           "x": 0.05
          },
          "xaxis": {
           "automargin": true,
           "gridcolor": "#EBF0F8",
           "linecolor": "#EBF0F8",
           "ticks": "",
           "title": {
            "standoff": 15
           },
           "zerolinecolor": "#EBF0F8",
           "zerolinewidth": 2
          },
          "yaxis": {
           "automargin": true,
           "gridcolor": "#EBF0F8",
           "linecolor": "#EBF0F8",
           "ticks": "",
           "title": {
            "standoff": 15
           },
           "zerolinecolor": "#EBF0F8",
           "zerolinewidth": 2
          }
         }
        },
        "title": {
         "font": {
          "size": 16
         },
         "text": "Simple Random Walk Model - Arctic Ground Squirrel Summer Population",
         "x": 0.5
        },
        "width": 900,
        "xaxis": {
         "title": {
          "text": "Year"
         }
        },
        "yaxis": {
         "title": {
          "text": "Population Density (per hectare)"
         }
        }
       }
      }
     },
     "metadata": {},
     "output_type": "display_data"
    }
   ],
   "source": [
    "walk_samples = az.extract(trace_simple_rw)['walk']\n",
    "y_samples = az.extract(trace_simple_rw, group='posterior_predictive')['y']\n",
    "\n",
    "walk_mean = walk_samples.mean(dim='sample')\n",
    "walk_hdi = az.hdi(trace_simple_rw, var_names=['walk'])['walk']\n",
    "\n",
    "y_mean = y_samples.mean(dim='sample')\n",
    "y_hdi = az.hdi(trace_simple_rw, group='posterior_predictive', var_names=['y'])['y']\n",
    "\n",
    "go.Figure().add_trace(go.Scatter(\n",
    "    x=np.concatenate([years, years[::-1]]),\n",
    "    y=np.concatenate([y_hdi[:, 1], y_hdi[::-1, 0]]),\n",
    "    fill='toself',\n",
    "    fillcolor='rgba(144, 238, 144, 0.2)',\n",
    "    line=dict(color='rgba(255,255,255,0)'),\n",
    "    name='Posterior Predictive 95% HDI',\n",
    "    showlegend=True\n",
    ")).add_trace(go.Scatter(\n",
    "    x=np.concatenate([years, years[::-1]]),\n",
    "    y=np.concatenate([walk_hdi[:, 1], walk_hdi[::-1, 0]]),\n",
    "    fill='toself',\n",
    "    fillcolor='rgba(0, 100, 80, 0.2)',\n",
    "    line=dict(color='rgba(255,255,255,0)'),\n",
    "    name='Random Walk 95% HDI',\n",
    "    showlegend=True\n",
    ")).add_trace(go.Scatter(\n",
    "    x=years,\n",
    "    y=walk_mean,\n",
    "    mode='lines',\n",
    "    name='Estimated Random Walk',\n",
    "    line=dict(color='darkgreen', width=3)\n",
    ")).add_trace(go.Scatter(\n",
    "    x=years,\n",
    "    y=squirrel_density,\n",
    "    mode='markers',\n",
    "    name='Observed Data',\n",
    "    marker=dict(\n",
    "        size=8,\n",
    "        color='red',\n",
    "        symbol='circle',\n",
    "        line=dict(width=2, color='darkred')\n",
    "    )\n",
    ")).update_layout(\n",
    "    title=dict(\n",
    "        text='Simple Random Walk Model - Arctic Ground Squirrel Summer Population',\n",
    "        x=0.5,\n",
    "        font=dict(size=16)\n",
    "    ),\n",
    "    xaxis_title='Year',\n",
    "    yaxis_title='Population Density (per hectare)',\n",
    "    width=900,\n",
    "    height=500,\n",
    "    template='plotly_white',\n",
    "    legend=dict(\n",
    "        x=0.02,\n",
    "        y=0.98,\n",
    "        bgcolor='rgba(255,255,255,0.8)',\n",
    "        bordercolor='gray',\n",
    "        borderwidth=1\n",
    "    )\n",
    ")"
   ]
  },
  {
   "cell_type": "markdown",
   "metadata": {},
   "source": [
    "Notice that the estimated model does not pass directly through the observed points.\n",
    "\n",
    "In our implementation, we separate the **latent random walk process** from the **observation process**, creating a state-space structure:\n",
    "\n",
    "**State equation**: $x_t = x_{t-1} + \\epsilon_t$ where $\\epsilon_t \\sim \\mathcal{N}(0, \\sigma_{\\text{walk}}^2)$\n",
    "\n",
    "**Observation equation**: $y_t = x_t + \\nu_t$ where $\\nu_t \\sim \\mathcal{N}(0, \\sigma_{\\text{obs}}^2)$\n",
    "\n",
    "This separation allows us to distinguish between **process noise** (how much the underlying state changes) and **measurement noise** (how much error exists in our observations)."
   ]
  },
  {
   "cell_type": "markdown",
   "metadata": {},
   "source": [
    "### Forecasting with Random Walk Models\n",
    "\n",
    "One of the key advantages of Bayesian time series models is their ability to generate **probabilistic forecasts** that naturally quantify uncertainty. For random walk models, forecasting involves extending the stochastic process beyond the observed data.\n",
    "\n",
    "**Mathematical Foundation of Random Walk Forecasting**:\n",
    "\n",
    "For a random walk $y_t = y_{t-1} + \\epsilon_t$ where $\\epsilon_t \\sim \\mathcal{N}(0, \\sigma^2)$, the **h-step ahead forecast** from time $T$ is:\n",
    "\n",
    "$$\\hat{y}_{T+h|T} = y_T$$\n",
    "\n",
    "The **forecast variance** grows linearly with the forecast horizon:\n",
    "\n",
    "$$\\text{Var}(y_{T+h|T}) = h \\cdot \\sigma^2$$\n",
    "\n",
    "This means that:\n",
    "- **Point forecasts** remain constant at the last observed value\n",
    "- **Prediction intervals** widen linearly with time, reflecting increasing uncertainty\n",
    "- **Long-term forecasts** become highly uncertain, which is realistic for many natural processes\n",
    "\n",
    "Let's generate 10-year forecasts (2000-2009) for the Arctic ground squirrel population using parameters from our fitted random walk model."
   ]
  },
  {
   "cell_type": "code",
   "execution_count": 10,
   "metadata": {},
   "outputs": [
    {
     "data": {
      "application/vnd.plotly.v1+json": {
       "config": {
        "plotlyServerURL": "https://plot.ly"
       },
       "data": [
        {
         "marker": {
          "color": "red",
          "line": {
           "color": "darkred",
           "width": 2
          },
          "size": 8,
          "symbol": "circle"
         },
         "mode": "markers",
         "name": "Observed Data",
         "type": "scatter",
         "x": {
          "bdata": "xgfHB8gHyQfKB8sHzAfNB84Hzwc=",
          "dtype": "i2"
         },
         "y": {
          "bdata": "w/UoXI/C8z/sUbgehevpP0jhehSuR+E/w/UoXI/C7T8ehetRuB73Px6F61G4HgBA3+ALk6ni9T/QZtXnagv1P36MuWsJefU/NF66SQzC7D8=",
          "dtype": "f8"
         }
        },
        {
         "line": {
          "color": "blue",
          "width": 3
         },
         "mode": "lines",
         "name": "Forecast Median",
         "type": "scatter",
         "x": {
          "bdata": "0AfRB9IH0wfUB9UH1gfXB9gH2Qc=",
          "dtype": "i2"
         },
         "y": {
          "bdata": "OuVC7G+q7z8oInHWABjwPzoJSi0sGfA/1pSvutlE8D9iJy4Wq1rwP6+HgyDdgPA/ENuPmZpc8D8cJIPlxEDwP8BM10xbe/A/HtB7KdKU8D8=",
          "dtype": "f8"
         }
        },
        {
         "fill": "toself",
         "fillcolor": "rgba(0, 100, 80, 0.2)",
         "line": {
          "color": "rgba(255,255,255,0)"
         },
         "name": "95% HDI",
         "showlegend": true,
         "type": "scatter",
         "x": {
          "bdata": "0AfRB9IH0wfUB9UH1gfXB9gH2QfZB9gH1wfWB9UH1AfTB9IH0QfQBw==",
          "dtype": "i2"
         },
         "y": {
          "bdata": "+M/5mHc2A0AlxPcdnogGQPv2nWWaIwpAGq+eA4/6DkA6f0ohkSURQJ8A9V6/9hJA6wbKucXaFUBKi8WSgWcXQNXZ2ewfghpAF6CbuJBWHEC+Ns487rJQP5oKy2am+Vg/GlKTjhO4Vz+0p/T040xxPwD4cEAq9Hk/jN2MIpgvZT8uOlGNDb2APy1HWcRjuqY/9TNZUaHVpj8Jvu7PfjvQPw==",
          "dtype": "f8"
         }
        }
       ],
       "layout": {
        "height": 500,
        "legend": {
         "bgcolor": "rgba(255,255,255,0.8)",
         "bordercolor": "gray",
         "borderwidth": 1,
         "x": 0.02,
         "y": 0.98
        },
        "template": {
         "data": {
          "bar": [
           {
            "error_x": {
             "color": "#2a3f5f"
            },
            "error_y": {
             "color": "#2a3f5f"
            },
            "marker": {
             "line": {
              "color": "white",
              "width": 0.5
             },
             "pattern": {
              "fillmode": "overlay",
              "size": 10,
              "solidity": 0.2
             }
            },
            "type": "bar"
           }
          ],
          "barpolar": [
           {
            "marker": {
             "line": {
              "color": "white",
              "width": 0.5
             },
             "pattern": {
              "fillmode": "overlay",
              "size": 10,
              "solidity": 0.2
             }
            },
            "type": "barpolar"
           }
          ],
          "carpet": [
           {
            "aaxis": {
             "endlinecolor": "#2a3f5f",
             "gridcolor": "#C8D4E3",
             "linecolor": "#C8D4E3",
             "minorgridcolor": "#C8D4E3",
             "startlinecolor": "#2a3f5f"
            },
            "baxis": {
             "endlinecolor": "#2a3f5f",
             "gridcolor": "#C8D4E3",
             "linecolor": "#C8D4E3",
             "minorgridcolor": "#C8D4E3",
             "startlinecolor": "#2a3f5f"
            },
            "type": "carpet"
           }
          ],
          "choropleth": [
           {
            "colorbar": {
             "outlinewidth": 0,
             "ticks": ""
            },
            "type": "choropleth"
           }
          ],
          "contour": [
           {
            "colorbar": {
             "outlinewidth": 0,
             "ticks": ""
            },
            "colorscale": [
             [
              0,
              "#0d0887"
             ],
             [
              0.1111111111111111,
              "#46039f"
             ],
             [
              0.2222222222222222,
              "#7201a8"
             ],
             [
              0.3333333333333333,
              "#9c179e"
             ],
             [
              0.4444444444444444,
              "#bd3786"
             ],
             [
              0.5555555555555556,
              "#d8576b"
             ],
             [
              0.6666666666666666,
              "#ed7953"
             ],
             [
              0.7777777777777778,
              "#fb9f3a"
             ],
             [
              0.8888888888888888,
              "#fdca26"
             ],
             [
              1,
              "#f0f921"
             ]
            ],
            "type": "contour"
           }
          ],
          "contourcarpet": [
           {
            "colorbar": {
             "outlinewidth": 0,
             "ticks": ""
            },
            "type": "contourcarpet"
           }
          ],
          "heatmap": [
           {
            "colorbar": {
             "outlinewidth": 0,
             "ticks": ""
            },
            "colorscale": [
             [
              0,
              "#0d0887"
             ],
             [
              0.1111111111111111,
              "#46039f"
             ],
             [
              0.2222222222222222,
              "#7201a8"
             ],
             [
              0.3333333333333333,
              "#9c179e"
             ],
             [
              0.4444444444444444,
              "#bd3786"
             ],
             [
              0.5555555555555556,
              "#d8576b"
             ],
             [
              0.6666666666666666,
              "#ed7953"
             ],
             [
              0.7777777777777778,
              "#fb9f3a"
             ],
             [
              0.8888888888888888,
              "#fdca26"
             ],
             [
              1,
              "#f0f921"
             ]
            ],
            "type": "heatmap"
           }
          ],
          "histogram": [
           {
            "marker": {
             "pattern": {
              "fillmode": "overlay",
              "size": 10,
              "solidity": 0.2
             }
            },
            "type": "histogram"
           }
          ],
          "histogram2d": [
           {
            "colorbar": {
             "outlinewidth": 0,
             "ticks": ""
            },
            "colorscale": [
             [
              0,
              "#0d0887"
             ],
             [
              0.1111111111111111,
              "#46039f"
             ],
             [
              0.2222222222222222,
              "#7201a8"
             ],
             [
              0.3333333333333333,
              "#9c179e"
             ],
             [
              0.4444444444444444,
              "#bd3786"
             ],
             [
              0.5555555555555556,
              "#d8576b"
             ],
             [
              0.6666666666666666,
              "#ed7953"
             ],
             [
              0.7777777777777778,
              "#fb9f3a"
             ],
             [
              0.8888888888888888,
              "#fdca26"
             ],
             [
              1,
              "#f0f921"
             ]
            ],
            "type": "histogram2d"
           }
          ],
          "histogram2dcontour": [
           {
            "colorbar": {
             "outlinewidth": 0,
             "ticks": ""
            },
            "colorscale": [
             [
              0,
              "#0d0887"
             ],
             [
              0.1111111111111111,
              "#46039f"
             ],
             [
              0.2222222222222222,
              "#7201a8"
             ],
             [
              0.3333333333333333,
              "#9c179e"
             ],
             [
              0.4444444444444444,
              "#bd3786"
             ],
             [
              0.5555555555555556,
              "#d8576b"
             ],
             [
              0.6666666666666666,
              "#ed7953"
             ],
             [
              0.7777777777777778,
              "#fb9f3a"
             ],
             [
              0.8888888888888888,
              "#fdca26"
             ],
             [
              1,
              "#f0f921"
             ]
            ],
            "type": "histogram2dcontour"
           }
          ],
          "mesh3d": [
           {
            "colorbar": {
             "outlinewidth": 0,
             "ticks": ""
            },
            "type": "mesh3d"
           }
          ],
          "parcoords": [
           {
            "line": {
             "colorbar": {
              "outlinewidth": 0,
              "ticks": ""
             }
            },
            "type": "parcoords"
           }
          ],
          "pie": [
           {
            "automargin": true,
            "type": "pie"
           }
          ],
          "scatter": [
           {
            "fillpattern": {
             "fillmode": "overlay",
             "size": 10,
             "solidity": 0.2
            },
            "type": "scatter"
           }
          ],
          "scatter3d": [
           {
            "line": {
             "colorbar": {
              "outlinewidth": 0,
              "ticks": ""
             }
            },
            "marker": {
             "colorbar": {
              "outlinewidth": 0,
              "ticks": ""
             }
            },
            "type": "scatter3d"
           }
          ],
          "scattercarpet": [
           {
            "marker": {
             "colorbar": {
              "outlinewidth": 0,
              "ticks": ""
             }
            },
            "type": "scattercarpet"
           }
          ],
          "scattergeo": [
           {
            "marker": {
             "colorbar": {
              "outlinewidth": 0,
              "ticks": ""
             }
            },
            "type": "scattergeo"
           }
          ],
          "scattergl": [
           {
            "marker": {
             "colorbar": {
              "outlinewidth": 0,
              "ticks": ""
             }
            },
            "type": "scattergl"
           }
          ],
          "scattermap": [
           {
            "marker": {
             "colorbar": {
              "outlinewidth": 0,
              "ticks": ""
             }
            },
            "type": "scattermap"
           }
          ],
          "scattermapbox": [
           {
            "marker": {
             "colorbar": {
              "outlinewidth": 0,
              "ticks": ""
             }
            },
            "type": "scattermapbox"
           }
          ],
          "scatterpolar": [
           {
            "marker": {
             "colorbar": {
              "outlinewidth": 0,
              "ticks": ""
             }
            },
            "type": "scatterpolar"
           }
          ],
          "scatterpolargl": [
           {
            "marker": {
             "colorbar": {
              "outlinewidth": 0,
              "ticks": ""
             }
            },
            "type": "scatterpolargl"
           }
          ],
          "scatterternary": [
           {
            "marker": {
             "colorbar": {
              "outlinewidth": 0,
              "ticks": ""
             }
            },
            "type": "scatterternary"
           }
          ],
          "surface": [
           {
            "colorbar": {
             "outlinewidth": 0,
             "ticks": ""
            },
            "colorscale": [
             [
              0,
              "#0d0887"
             ],
             [
              0.1111111111111111,
              "#46039f"
             ],
             [
              0.2222222222222222,
              "#7201a8"
             ],
             [
              0.3333333333333333,
              "#9c179e"
             ],
             [
              0.4444444444444444,
              "#bd3786"
             ],
             [
              0.5555555555555556,
              "#d8576b"
             ],
             [
              0.6666666666666666,
              "#ed7953"
             ],
             [
              0.7777777777777778,
              "#fb9f3a"
             ],
             [
              0.8888888888888888,
              "#fdca26"
             ],
             [
              1,
              "#f0f921"
             ]
            ],
            "type": "surface"
           }
          ],
          "table": [
           {
            "cells": {
             "fill": {
              "color": "#EBF0F8"
             },
             "line": {
              "color": "white"
             }
            },
            "header": {
             "fill": {
              "color": "#C8D4E3"
             },
             "line": {
              "color": "white"
             }
            },
            "type": "table"
           }
          ]
         },
         "layout": {
          "annotationdefaults": {
           "arrowcolor": "#2a3f5f",
           "arrowhead": 0,
           "arrowwidth": 1
          },
          "autotypenumbers": "strict",
          "coloraxis": {
           "colorbar": {
            "outlinewidth": 0,
            "ticks": ""
           }
          },
          "colorscale": {
           "diverging": [
            [
             0,
             "#8e0152"
            ],
            [
             0.1,
             "#c51b7d"
            ],
            [
             0.2,
             "#de77ae"
            ],
            [
             0.3,
             "#f1b6da"
            ],
            [
             0.4,
             "#fde0ef"
            ],
            [
             0.5,
             "#f7f7f7"
            ],
            [
             0.6,
             "#e6f5d0"
            ],
            [
             0.7,
             "#b8e186"
            ],
            [
             0.8,
             "#7fbc41"
            ],
            [
             0.9,
             "#4d9221"
            ],
            [
             1,
             "#276419"
            ]
           ],
           "sequential": [
            [
             0,
             "#0d0887"
            ],
            [
             0.1111111111111111,
             "#46039f"
            ],
            [
             0.2222222222222222,
             "#7201a8"
            ],
            [
             0.3333333333333333,
             "#9c179e"
            ],
            [
             0.4444444444444444,
             "#bd3786"
            ],
            [
             0.5555555555555556,
             "#d8576b"
            ],
            [
             0.6666666666666666,
             "#ed7953"
            ],
            [
             0.7777777777777778,
             "#fb9f3a"
            ],
            [
             0.8888888888888888,
             "#fdca26"
            ],
            [
             1,
             "#f0f921"
            ]
           ],
           "sequentialminus": [
            [
             0,
             "#0d0887"
            ],
            [
             0.1111111111111111,
             "#46039f"
            ],
            [
             0.2222222222222222,
             "#7201a8"
            ],
            [
             0.3333333333333333,
             "#9c179e"
            ],
            [
             0.4444444444444444,
             "#bd3786"
            ],
            [
             0.5555555555555556,
             "#d8576b"
            ],
            [
             0.6666666666666666,
             "#ed7953"
            ],
            [
             0.7777777777777778,
             "#fb9f3a"
            ],
            [
             0.8888888888888888,
             "#fdca26"
            ],
            [
             1,
             "#f0f921"
            ]
           ]
          },
          "colorway": [
           "#636efa",
           "#EF553B",
           "#00cc96",
           "#ab63fa",
           "#FFA15A",
           "#19d3f3",
           "#FF6692",
           "#B6E880",
           "#FF97FF",
           "#FECB52"
          ],
          "font": {
           "color": "#2a3f5f"
          },
          "geo": {
           "bgcolor": "white",
           "lakecolor": "white",
           "landcolor": "white",
           "showlakes": true,
           "showland": true,
           "subunitcolor": "#C8D4E3"
          },
          "hoverlabel": {
           "align": "left"
          },
          "hovermode": "closest",
          "mapbox": {
           "style": "light"
          },
          "paper_bgcolor": "white",
          "plot_bgcolor": "white",
          "polar": {
           "angularaxis": {
            "gridcolor": "#EBF0F8",
            "linecolor": "#EBF0F8",
            "ticks": ""
           },
           "bgcolor": "white",
           "radialaxis": {
            "gridcolor": "#EBF0F8",
            "linecolor": "#EBF0F8",
            "ticks": ""
           }
          },
          "scene": {
           "xaxis": {
            "backgroundcolor": "white",
            "gridcolor": "#DFE8F3",
            "gridwidth": 2,
            "linecolor": "#EBF0F8",
            "showbackground": true,
            "ticks": "",
            "zerolinecolor": "#EBF0F8"
           },
           "yaxis": {
            "backgroundcolor": "white",
            "gridcolor": "#DFE8F3",
            "gridwidth": 2,
            "linecolor": "#EBF0F8",
            "showbackground": true,
            "ticks": "",
            "zerolinecolor": "#EBF0F8"
           },
           "zaxis": {
            "backgroundcolor": "white",
            "gridcolor": "#DFE8F3",
            "gridwidth": 2,
            "linecolor": "#EBF0F8",
            "showbackground": true,
            "ticks": "",
            "zerolinecolor": "#EBF0F8"
           }
          },
          "shapedefaults": {
           "line": {
            "color": "#2a3f5f"
           }
          },
          "ternary": {
           "aaxis": {
            "gridcolor": "#DFE8F3",
            "linecolor": "#A2B1C6",
            "ticks": ""
           },
           "baxis": {
            "gridcolor": "#DFE8F3",
            "linecolor": "#A2B1C6",
            "ticks": ""
           },
           "bgcolor": "white",
           "caxis": {
            "gridcolor": "#DFE8F3",
            "linecolor": "#A2B1C6",
            "ticks": ""
           }
          },
          "title": {
           "x": 0.05
          },
          "xaxis": {
           "automargin": true,
           "gridcolor": "#EBF0F8",
           "linecolor": "#EBF0F8",
           "ticks": "",
           "title": {
            "standoff": 15
           },
           "zerolinecolor": "#EBF0F8",
           "zerolinewidth": 2
          },
          "yaxis": {
           "automargin": true,
           "gridcolor": "#EBF0F8",
           "linecolor": "#EBF0F8",
           "ticks": "",
           "title": {
            "standoff": 15
           },
           "zerolinecolor": "#EBF0F8",
           "zerolinewidth": 2
          }
         }
        },
        "title": {
         "font": {
          "size": 16
         },
         "text": "10-Year Forecast for Arctic Ground Squirrel Summer Population (2000-2009)",
         "x": 0.5
        },
        "width": 900,
        "xaxis": {
         "title": {
          "text": "Year"
         }
        },
        "yaxis": {
         "range": [
          0,
          null
         ],
         "title": {
          "text": "Population Density (per hectare)"
         }
        }
       }
      }
     },
     "metadata": {},
     "output_type": "display_data"
    }
   ],
   "source": [
    "# Generate a 10-year forecast\n",
    "# Define forecast years (2000-2009)\n",
    "forecast_years = np.arange(2000, 2010)\n",
    "n_forecast = len(forecast_years)\n",
    "\n",
    "# Set random seed for reproducibility\n",
    "np.random.seed(RANDOM_SEED)\n",
    "\n",
    "# Extract posterior samples\n",
    "posterior = az.extract(trace_simple_rw)\n",
    "log_walk_samples = posterior['log_walk'].to_numpy()  \n",
    "sigma_walk_samples = posterior['sigma_walk'].to_numpy()\n",
    "sigma_obs_samples = posterior['sigma_obs'].to_numpy()\n",
    "\n",
    "# Get the final state (1999) from each posterior sample\n",
    "final_log_state_samples = log_walk_samples[-1, :]\n",
    "n_samples = len(final_log_state_samples)\n",
    "\n",
    "# Generate all random steps at once - shape: (n_samples, n_forecast)\n",
    "random_steps = np.random.normal(\n",
    "    loc=0, \n",
    "    scale=sigma_walk_samples[:, np.newaxis], \n",
    "    size=(n_samples, n_forecast)\n",
    ")\n",
    "\n",
    "# Create the random walks using cumulative sum\n",
    "future_increments = np.cumsum(random_steps, axis=1)\n",
    "\n",
    "# Add the final state to all increments to get the full trajectories (log means)\n",
    "future_log_means = final_log_state_samples[:, np.newaxis] + future_increments\n",
    "\n",
    "# Generate lognormal samples using vectorized operations\n",
    "# First, generate standard normal samples\n",
    "Z = np.random.normal(0, 1, size=(n_samples, n_forecast))\n",
    "\n",
    "# Transform to lognormal using the formula: exp(mu + sigma * Z)\n",
    "future_trajectories = np.exp(future_log_means + sigma_obs_samples[:, np.newaxis] * Z)\n",
    "\n",
    "# Calculate forecast statistics\n",
    "rw_forecast_median = np.median(future_trajectories, axis=0)\n",
    "rw_forecast_hdi = az.hdi(future_trajectories, hdi_prob=0.95)\n",
    "rw_forecast_lower = rw_forecast_hdi[:, 0]\n",
    "rw_forecast_upper = rw_forecast_hdi[:, 1]\n",
    "\n",
    "# Create the forecast plot\n",
    "fig = go.Figure()\n",
    "\n",
    "# Add original data points (1990-1999)\n",
    "fig.add_trace(go.Scatter(\n",
    "    x=years,\n",
    "    y=squirrel_density,\n",
    "    mode='markers',\n",
    "    name='Observed Data',\n",
    "    marker=dict(\n",
    "        size=8,\n",
    "        color='red',\n",
    "        symbol='circle',\n",
    "        line=dict(width=2, color='darkred')\n",
    "    )\n",
    "))\n",
    "\n",
    "# Add median forecast line\n",
    "fig.add_trace(go.Scatter(\n",
    "    x=forecast_years,\n",
    "    y=rw_forecast_median,\n",
    "    mode='lines',\n",
    "    name='Forecast Median',\n",
    "    line=dict(color='blue', width=3)\n",
    "))\n",
    "\n",
    "# Add 95% HDI as a shaded region\n",
    "fig.add_trace(go.Scatter(\n",
    "    x=np.concatenate([forecast_years, forecast_years[::-1]]),\n",
    "    y=np.concatenate([rw_forecast_upper, rw_forecast_lower[::-1]]),\n",
    "    fill='toself',\n",
    "    fillcolor='rgba(0, 100, 80, 0.2)',\n",
    "    line=dict(color='rgba(255,255,255,0)'),\n",
    "    name='95% HDI',\n",
    "    showlegend=True\n",
    "))\n",
    "\n",
    "# Update layout\n",
    "fig.update_layout(\n",
    "    title=dict(\n",
    "        text='10-Year Forecast for Arctic Ground Squirrel Summer Population (2000-2009)',\n",
    "        x=0.5,\n",
    "        font=dict(size=16)\n",
    "    ),\n",
    "    xaxis_title='Year',\n",
    "    yaxis_title='Population Density (per hectare)',\n",
    "    width=900,\n",
    "    height=500,\n",
    "    template='plotly_white',\n",
    "    legend=dict(\n",
    "        x=0.02,\n",
    "        y=0.98,\n",
    "        bgcolor='rgba(255,255,255,0.8)',\n",
    "        bordercolor='gray',\n",
    "        borderwidth=1\n",
    "    )\n",
    ")\n",
    "\n",
    "# Ensure y-axis doesn't go below zero for population density\n",
    "fig.update_yaxes(range=[0, None])\n",
    "\n",
    "fig.show()"
   ]
  },
  {
   "cell_type": "markdown",
   "metadata": {},
   "source": [
    "**Key Mathematical Properties**:\n",
    "\n",
    "- **Stationarity condition**: $|\\rho| < 1$ ensures the process is stationary\n",
    "- **Mean**: $\\mathbb{E}[y_t] = 0$ (assuming zero mean)\n",
    "- **Variance**: $\\text{Var}(y_t) = \\frac{\\sigma^2}{1 - \\rho^2}$ (constant for stationary process)\n",
    "- **Autocorrelation**: $\\rho(k) = \\rho^k$ (exponential decay)\n",
    "\n",
    "**Interpretation of $\\rho$**:\n",
    "- $\\rho > 0$: **Positive persistence** - high values tend to be followed by high values\n",
    "- $\\rho < 0$: **Oscillatory behavior** - high values tend to be followed by low values\n",
    "- $\\rho \\approx 1$: **Near unit root** - very persistent, close to random walk behavior\n",
    "- $\\rho = 0$: **White noise** - no temporal dependence\n"
   ]
  },
  {
   "cell_type": "markdown",
   "metadata": {},
   "source": [
    "### Interpreting Random Walk Forecasts\n",
    "\n",
    "The forecast visualization reveals several key characteristics of random walk predictions:\n",
    "\n",
    "**Forecast Behavior**:\n",
    "- **Constant median prediction**: The forecast median remains approximately at the last observed value (though the mean is increasing)\n",
    "- **Linearly increasing uncertainty**: The prediction intervals widen steadily over time, reflecting the accumulating uncertainty inherent in random walk processes\n",
    "- **Realistic long-term uncertainty**: By 2009, the 95% HDI spans a wide range, acknowledging our limited ability to predict population levels a decade ahead\n",
    "\n",
    "While the projections may not be terribly useful, it does at least provide a accurate reflection of its uncertainty, given the simplicity of the projection methodology. We probably need to incorporate covariates or other processes to improve the projections."
   ]
  },
  {
   "cell_type": "markdown",
   "metadata": {},
   "source": [
    "### Autoregressive Model AR(1)\n",
    "\n",
    "**Autoregressive models** capture temporal dependence by relating current observations to past observations. An **AR(1) model** is defined as:\n",
    "\n",
    "$$y_t = \\phi y_{t-1} + \\epsilon_t$$\n",
    "\n",
    "where $\\phi$ is the **autoregressive coefficient** and $\\epsilon_t \\sim \\mathcal{N}(0, \\sigma^2)$ is white noise.\n",
    "\n",
    "A Gaussian random walk is a special case of an **autoregressive model**, where $\\phi = 1$.\n",
    "\n",
    "Now let's consider the more general case where $\\rho$ varies."
   ]
  },
  {
   "cell_type": "code",
   "execution_count": 11,
   "metadata": {},
   "outputs": [],
   "source": [
    "# AR(1) for Ground Squirrel Summer Population\n",
    "with pm.Model(coords={'time': years}) as ar1_model:\n",
    "\n",
    "    y_obs = pm.Data('y_obs', squirrel_density, dims='time')\n",
    "    \n",
    "    sigma_ar = pm.HalfNormal('sigma_ar', sigma=1.0)\n",
    "\n",
    "    rho = pm.Normal('rho', mu=0, sigma=1.0)\n",
    "    \n",
    "    init_dist = pm.Normal.dist(mu=0, sigma=1)\n",
    "    \n",
    "    # Gaussian random walk process using dims\n",
    "    log_ar = pm.AR('log_ar', \n",
    "        rho=rho,\n",
    "        sigma=sigma_ar,\n",
    "        init_dist=init_dist,\n",
    "        dims='time')\n",
    "    \n",
    "    ar = pm.Deterministic('ar', pm.math.exp(log_ar))\n",
    "    \n",
    "    # Observation noise (measurement error)\n",
    "    sigma_obs = pm.HalfNormal('sigma_obs', sigma=1.0)\n",
    "    \n",
    "    # Likelihood: observed squirrel density data are noisy observations of the walk\n",
    "    y = pm.LogNormal('y', mu=log_ar, sigma=sigma_obs, observed=y_obs, dims='time')"
   ]
  },
  {
   "cell_type": "code",
   "execution_count": 12,
   "metadata": {},
   "outputs": [
    {
     "name": "stderr",
     "output_type": "stream",
     "text": [
      "Initializing NUTS using jitter+adapt_diag...\n",
      "Multiprocess sampling (4 chains in 4 jobs)\n",
      "NUTS: [sigma_ar, rho, log_ar, sigma_obs]\n"
     ]
    },
    {
     "data": {
      "application/vnd.jupyter.widget-view+json": {
       "model_id": "a5bbd20384d049c786dcafc5fb44b7f1",
       "version_major": 2,
       "version_minor": 0
      },
      "text/plain": [
       "Output()"
      ]
     },
     "metadata": {},
     "output_type": "display_data"
    },
    {
     "data": {
      "text/html": [
       "<pre style=\"white-space:pre;overflow-x:auto;line-height:normal;font-family:Menlo,'DejaVu Sans Mono',consolas,'Courier New',monospace\"></pre>\n"
      ],
      "text/plain": []
     },
     "metadata": {},
     "output_type": "display_data"
    },
    {
     "name": "stderr",
     "output_type": "stream",
     "text": [
      "Sampling 4 chains for 2_000 tune and 1_000 draw iterations (8_000 + 4_000 draws total) took 2 seconds.\n",
      "There were 18 divergences after tuning. Increase `target_accept` or reparameterize.\n",
      "The rhat statistic is larger than 1.01 for some parameters. This indicates problems during sampling. See https://arxiv.org/abs/1903.08008 for details\n",
      "The effective sample size per chain is smaller than 100 for some parameters.  A higher number is needed for reliable rhat and ess computation. See https://arxiv.org/abs/1903.08008 for details\n",
      "Sampling: [y]\n"
     ]
    },
    {
     "data": {
      "application/vnd.jupyter.widget-view+json": {
       "model_id": "79107b38e037402e9fd655dd53cd638e",
       "version_major": 2,
       "version_minor": 0
      },
      "text/plain": [
       "Output()"
      ]
     },
     "metadata": {},
     "output_type": "display_data"
    },
    {
     "data": {
      "text/html": [
       "<pre style=\"white-space:pre;overflow-x:auto;line-height:normal;font-family:Menlo,'DejaVu Sans Mono',consolas,'Courier New',monospace\"></pre>\n"
      ],
      "text/plain": []
     },
     "metadata": {},
     "output_type": "display_data"
    },
    {
     "name": "stdout",
     "output_type": "stream",
     "text": [
      "🎯 **AR(1) Model Results for Ground Squirrel Population**:\n",
      "           mean     sd  hdi_3%  hdi_97%  mcse_mean  mcse_sd  ess_bulk  \\\n",
      "rho       0.316  0.443  -0.629    1.039      0.021    0.009     444.0   \n",
      "sigma_ar  0.328  0.160   0.047    0.606      0.006    0.004     510.0   \n",
      "\n",
      "          ess_tail  r_hat  \n",
      "rho         1652.0   1.02  \n",
      "sigma_ar     502.0   1.01  \n",
      "\n",
      "📈 **Population Persistence Analysis**:\n",
      "   • **AR coefficient (φ)**: 0.316\n",
      "   • **95% HDI**: [-0.629, 1.039]\n",
      "   • **Ecological interpretation**: Moderate population memory - some year-to-year correlation\n"
     ]
    }
   ],
   "source": [
    "with ar1_model:\n",
    "    trace_ar1 = pm.sample(1000, tune=2000, random_seed=RANDOM_SEED)\n",
    "    pm.sample_posterior_predictive(trace_ar1, extend_inferencedata=True,\n",
    "                                   random_seed=RANDOM_SEED)\n",
    "    \n",
    "print(\"🎯 **AR(1) Model Results for Ground Squirrel Population**:\")\n",
    "print(az.summary(trace_ar1, var_names=['rho', 'sigma_ar']))\n",
    "\n",
    "# Extract and interpret AR coefficient\n",
    "rho_mean = az.extract(trace_ar1)['rho'].mean().item()\n",
    "rho_hdi = az.hdi(trace_ar1, var_names=['rho'])['rho']\n",
    "\n",
    "print(\"\\n📈 **Population Persistence Analysis**:\")\n",
    "print(f\"   • **AR coefficient (φ)**: {rho_mean:.3f}\")\n",
    "print(f\"   • **95% HDI**: [{rho_hdi.sel(hdi='lower').item():.3f}, {rho_hdi.sel(hdi='higher').item():.3f}]\")\n",
    "if rho_mean > 0.5:\n",
    "    print(\"   • **Ecological interpretation**: High population persistence - good years tend to follow good years\")\n",
    "elif rho_mean < -0.5:\n",
    "    print(\"   • **Ecological interpretation**: Population oscillations - good years tend to follow bad years\")\n",
    "else:\n",
    "    print(\"   • **Ecological interpretation**: Moderate population memory - some year-to-year correlation\")\n"
   ]
  },
  {
   "cell_type": "markdown",
   "metadata": {},
   "source": [
    "**Key Mathematical Properties**:\n",
    "\n",
    "- **Stationarity condition**: $|\\rho| < 1$ ensures the process is stationary\n",
    "- **Mean**: $\\mathbb{E}[y_t] = 0$ (assuming zero mean)\n",
    "- **Variance**: $\\text{Var}(y_t) = \\frac{\\sigma^2}{1 - \\rho^2}$ (constant for stationary process)\n",
    "- **Autocorrelation**: $\\rho(k) = \\rho^k$ (exponential decay)\n",
    "\n",
    "**Interpretation of $\\rho$**:\n",
    "- $\\rho > 0$: **Positive persistence** - high values tend to be followed by high values\n",
    "- $\\rho < 0$: **Oscillatory behavior** - high values tend to be followed by low values\n",
    "- $\\rho \\approx 1$: **Near unit root** - very persistent, close to random walk behavior\n",
    "- $\\rho = 0$: **White noise** - no temporal dependence\n"
   ]
  },
  {
   "cell_type": "code",
   "execution_count": 13,
   "metadata": {},
   "outputs": [
    {
     "data": {
      "application/vnd.plotly.v1+json": {
       "config": {
        "plotlyServerURL": "https://plot.ly"
       },
       "data": [
        {
         "fill": "toself",
         "fillcolor": "rgba(144, 238, 144, 0.2)",
         "line": {
          "color": "rgba(255,255,255,0)"
         },
         "name": "Posterior Predictive 95% HDI",
         "showlegend": true,
         "type": "scatter",
         "x": {
          "bdata": "xgfHB8gHyQfKB8sHzAfNB84HzwfPB84HzQfMB8sHygfJB8gHxwfGBw==",
          "dtype": "i2"
         },
         "y": {
          "bdata": "M4xr6d5WAUDRUuQZzDP6P8zjq9gp7fY/Z7BX+GQ1+z8dC+T4NYkBQI4Fpf/y/ARADpikikrwAEARj9AOS4oAQA9yqoH74gBAQ+Td5OKK+z8eRYIczwbVPzARfCAwG9o/PhI2wqe62j9pid8aRWvZPwVsFzMnxdw/Jxi8udQK3T+kLN04f/HXP1erMfLEQdA/YM2H54XX1T/56jnz2GbUPw==",
          "dtype": "f8"
         }
        },
        {
         "fill": "toself",
         "fillcolor": "rgba(0, 100, 80, 0.2)",
         "line": {
          "color": "rgba(255,255,255,0)"
         },
         "name": "Random Walk 95% HDI",
         "showlegend": true,
         "type": "scatter",
         "x": {
          "bdata": "xgfHB8gHyQfKB8sHzAfNB84HzwfPB84HzQfMB8sHygfJB8gHxwfGBw==",
          "dtype": "i2"
         },
         "y": {
          "bdata": "a97odoYv+D8TNQeLRA/0P8HzQ7LSiPI/11hiYz6X9T/r5IEQoXX8PxLMLsaATAJA0EBlndiB/T8LbPRG1fj7P6Z4PoYq//o/CkMz2REs+D+uVeWVVmnlPyBXfzKEWuo/NgnrbjXP6z8Z6rUQOMntP7jz372Jve8/Hw+S3TNo6z93KdpHj9flP2lNt54JkNw/XJ61NegA4z9PjtvesjrmPw==",
          "dtype": "f8"
         }
        },
        {
         "line": {
          "color": "darkgreen",
          "width": 3
         },
         "mode": "lines",
         "name": "Estimated Density",
         "type": "scatter",
         "x": {
          "bdata": "xgfHB8gHyQfKB8sHzAfNB84Hzwc=",
          "dtype": "i2"
         },
         "y": {
          "bdata": "WLgsz1st8j+HJKzlshvsP94m7pMAPuc/cVy+PcyP7z/fZKaiBKD1P3f8AEWIH/s/37TNdeUf9j/24WcFbhH1P650wlWgjPQ/PC9mhOhs8D8=",
          "dtype": "f8"
         }
        },
        {
         "marker": {
          "color": "red",
          "line": {
           "color": "darkred",
           "width": 2
          },
          "size": 8,
          "symbol": "circle"
         },
         "mode": "markers",
         "name": "Observed Data",
         "type": "scatter",
         "x": {
          "bdata": "xgfHB8gHyQfKB8sHzAfNB84Hzwc=",
          "dtype": "i2"
         },
         "y": {
          "bdata": "w/UoXI/C8z/sUbgehevpP0jhehSuR+E/w/UoXI/C7T8ehetRuB73Px6F61G4HgBA3+ALk6ni9T/QZtXnagv1P36MuWsJefU/NF66SQzC7D8=",
          "dtype": "f8"
         }
        }
       ],
       "layout": {
        "height": 500,
        "legend": {
         "bgcolor": "rgba(255,255,255,0.8)",
         "bordercolor": "gray",
         "borderwidth": 1,
         "x": 0.02,
         "y": 0.98
        },
        "template": {
         "data": {
          "bar": [
           {
            "error_x": {
             "color": "#2a3f5f"
            },
            "error_y": {
             "color": "#2a3f5f"
            },
            "marker": {
             "line": {
              "color": "white",
              "width": 0.5
             },
             "pattern": {
              "fillmode": "overlay",
              "size": 10,
              "solidity": 0.2
             }
            },
            "type": "bar"
           }
          ],
          "barpolar": [
           {
            "marker": {
             "line": {
              "color": "white",
              "width": 0.5
             },
             "pattern": {
              "fillmode": "overlay",
              "size": 10,
              "solidity": 0.2
             }
            },
            "type": "barpolar"
           }
          ],
          "carpet": [
           {
            "aaxis": {
             "endlinecolor": "#2a3f5f",
             "gridcolor": "#C8D4E3",
             "linecolor": "#C8D4E3",
             "minorgridcolor": "#C8D4E3",
             "startlinecolor": "#2a3f5f"
            },
            "baxis": {
             "endlinecolor": "#2a3f5f",
             "gridcolor": "#C8D4E3",
             "linecolor": "#C8D4E3",
             "minorgridcolor": "#C8D4E3",
             "startlinecolor": "#2a3f5f"
            },
            "type": "carpet"
           }
          ],
          "choropleth": [
           {
            "colorbar": {
             "outlinewidth": 0,
             "ticks": ""
            },
            "type": "choropleth"
           }
          ],
          "contour": [
           {
            "colorbar": {
             "outlinewidth": 0,
             "ticks": ""
            },
            "colorscale": [
             [
              0,
              "#0d0887"
             ],
             [
              0.1111111111111111,
              "#46039f"
             ],
             [
              0.2222222222222222,
              "#7201a8"
             ],
             [
              0.3333333333333333,
              "#9c179e"
             ],
             [
              0.4444444444444444,
              "#bd3786"
             ],
             [
              0.5555555555555556,
              "#d8576b"
             ],
             [
              0.6666666666666666,
              "#ed7953"
             ],
             [
              0.7777777777777778,
              "#fb9f3a"
             ],
             [
              0.8888888888888888,
              "#fdca26"
             ],
             [
              1,
              "#f0f921"
             ]
            ],
            "type": "contour"
           }
          ],
          "contourcarpet": [
           {
            "colorbar": {
             "outlinewidth": 0,
             "ticks": ""
            },
            "type": "contourcarpet"
           }
          ],
          "heatmap": [
           {
            "colorbar": {
             "outlinewidth": 0,
             "ticks": ""
            },
            "colorscale": [
             [
              0,
              "#0d0887"
             ],
             [
              0.1111111111111111,
              "#46039f"
             ],
             [
              0.2222222222222222,
              "#7201a8"
             ],
             [
              0.3333333333333333,
              "#9c179e"
             ],
             [
              0.4444444444444444,
              "#bd3786"
             ],
             [
              0.5555555555555556,
              "#d8576b"
             ],
             [
              0.6666666666666666,
              "#ed7953"
             ],
             [
              0.7777777777777778,
              "#fb9f3a"
             ],
             [
              0.8888888888888888,
              "#fdca26"
             ],
             [
              1,
              "#f0f921"
             ]
            ],
            "type": "heatmap"
           }
          ],
          "histogram": [
           {
            "marker": {
             "pattern": {
              "fillmode": "overlay",
              "size": 10,
              "solidity": 0.2
             }
            },
            "type": "histogram"
           }
          ],
          "histogram2d": [
           {
            "colorbar": {
             "outlinewidth": 0,
             "ticks": ""
            },
            "colorscale": [
             [
              0,
              "#0d0887"
             ],
             [
              0.1111111111111111,
              "#46039f"
             ],
             [
              0.2222222222222222,
              "#7201a8"
             ],
             [
              0.3333333333333333,
              "#9c179e"
             ],
             [
              0.4444444444444444,
              "#bd3786"
             ],
             [
              0.5555555555555556,
              "#d8576b"
             ],
             [
              0.6666666666666666,
              "#ed7953"
             ],
             [
              0.7777777777777778,
              "#fb9f3a"
             ],
             [
              0.8888888888888888,
              "#fdca26"
             ],
             [
              1,
              "#f0f921"
             ]
            ],
            "type": "histogram2d"
           }
          ],
          "histogram2dcontour": [
           {
            "colorbar": {
             "outlinewidth": 0,
             "ticks": ""
            },
            "colorscale": [
             [
              0,
              "#0d0887"
             ],
             [
              0.1111111111111111,
              "#46039f"
             ],
             [
              0.2222222222222222,
              "#7201a8"
             ],
             [
              0.3333333333333333,
              "#9c179e"
             ],
             [
              0.4444444444444444,
              "#bd3786"
             ],
             [
              0.5555555555555556,
              "#d8576b"
             ],
             [
              0.6666666666666666,
              "#ed7953"
             ],
             [
              0.7777777777777778,
              "#fb9f3a"
             ],
             [
              0.8888888888888888,
              "#fdca26"
             ],
             [
              1,
              "#f0f921"
             ]
            ],
            "type": "histogram2dcontour"
           }
          ],
          "mesh3d": [
           {
            "colorbar": {
             "outlinewidth": 0,
             "ticks": ""
            },
            "type": "mesh3d"
           }
          ],
          "parcoords": [
           {
            "line": {
             "colorbar": {
              "outlinewidth": 0,
              "ticks": ""
             }
            },
            "type": "parcoords"
           }
          ],
          "pie": [
           {
            "automargin": true,
            "type": "pie"
           }
          ],
          "scatter": [
           {
            "fillpattern": {
             "fillmode": "overlay",
             "size": 10,
             "solidity": 0.2
            },
            "type": "scatter"
           }
          ],
          "scatter3d": [
           {
            "line": {
             "colorbar": {
              "outlinewidth": 0,
              "ticks": ""
             }
            },
            "marker": {
             "colorbar": {
              "outlinewidth": 0,
              "ticks": ""
             }
            },
            "type": "scatter3d"
           }
          ],
          "scattercarpet": [
           {
            "marker": {
             "colorbar": {
              "outlinewidth": 0,
              "ticks": ""
             }
            },
            "type": "scattercarpet"
           }
          ],
          "scattergeo": [
           {
            "marker": {
             "colorbar": {
              "outlinewidth": 0,
              "ticks": ""
             }
            },
            "type": "scattergeo"
           }
          ],
          "scattergl": [
           {
            "marker": {
             "colorbar": {
              "outlinewidth": 0,
              "ticks": ""
             }
            },
            "type": "scattergl"
           }
          ],
          "scattermap": [
           {
            "marker": {
             "colorbar": {
              "outlinewidth": 0,
              "ticks": ""
             }
            },
            "type": "scattermap"
           }
          ],
          "scattermapbox": [
           {
            "marker": {
             "colorbar": {
              "outlinewidth": 0,
              "ticks": ""
             }
            },
            "type": "scattermapbox"
           }
          ],
          "scatterpolar": [
           {
            "marker": {
             "colorbar": {
              "outlinewidth": 0,
              "ticks": ""
             }
            },
            "type": "scatterpolar"
           }
          ],
          "scatterpolargl": [
           {
            "marker": {
             "colorbar": {
              "outlinewidth": 0,
              "ticks": ""
             }
            },
            "type": "scatterpolargl"
           }
          ],
          "scatterternary": [
           {
            "marker": {
             "colorbar": {
              "outlinewidth": 0,
              "ticks": ""
             }
            },
            "type": "scatterternary"
           }
          ],
          "surface": [
           {
            "colorbar": {
             "outlinewidth": 0,
             "ticks": ""
            },
            "colorscale": [
             [
              0,
              "#0d0887"
             ],
             [
              0.1111111111111111,
              "#46039f"
             ],
             [
              0.2222222222222222,
              "#7201a8"
             ],
             [
              0.3333333333333333,
              "#9c179e"
             ],
             [
              0.4444444444444444,
              "#bd3786"
             ],
             [
              0.5555555555555556,
              "#d8576b"
             ],
             [
              0.6666666666666666,
              "#ed7953"
             ],
             [
              0.7777777777777778,
              "#fb9f3a"
             ],
             [
              0.8888888888888888,
              "#fdca26"
             ],
             [
              1,
              "#f0f921"
             ]
            ],
            "type": "surface"
           }
          ],
          "table": [
           {
            "cells": {
             "fill": {
              "color": "#EBF0F8"
             },
             "line": {
              "color": "white"
             }
            },
            "header": {
             "fill": {
              "color": "#C8D4E3"
             },
             "line": {
              "color": "white"
             }
            },
            "type": "table"
           }
          ]
         },
         "layout": {
          "annotationdefaults": {
           "arrowcolor": "#2a3f5f",
           "arrowhead": 0,
           "arrowwidth": 1
          },
          "autotypenumbers": "strict",
          "coloraxis": {
           "colorbar": {
            "outlinewidth": 0,
            "ticks": ""
           }
          },
          "colorscale": {
           "diverging": [
            [
             0,
             "#8e0152"
            ],
            [
             0.1,
             "#c51b7d"
            ],
            [
             0.2,
             "#de77ae"
            ],
            [
             0.3,
             "#f1b6da"
            ],
            [
             0.4,
             "#fde0ef"
            ],
            [
             0.5,
             "#f7f7f7"
            ],
            [
             0.6,
             "#e6f5d0"
            ],
            [
             0.7,
             "#b8e186"
            ],
            [
             0.8,
             "#7fbc41"
            ],
            [
             0.9,
             "#4d9221"
            ],
            [
             1,
             "#276419"
            ]
           ],
           "sequential": [
            [
             0,
             "#0d0887"
            ],
            [
             0.1111111111111111,
             "#46039f"
            ],
            [
             0.2222222222222222,
             "#7201a8"
            ],
            [
             0.3333333333333333,
             "#9c179e"
            ],
            [
             0.4444444444444444,
             "#bd3786"
            ],
            [
             0.5555555555555556,
             "#d8576b"
            ],
            [
             0.6666666666666666,
             "#ed7953"
            ],
            [
             0.7777777777777778,
             "#fb9f3a"
            ],
            [
             0.8888888888888888,
             "#fdca26"
            ],
            [
             1,
             "#f0f921"
            ]
           ],
           "sequentialminus": [
            [
             0,
             "#0d0887"
            ],
            [
             0.1111111111111111,
             "#46039f"
            ],
            [
             0.2222222222222222,
             "#7201a8"
            ],
            [
             0.3333333333333333,
             "#9c179e"
            ],
            [
             0.4444444444444444,
             "#bd3786"
            ],
            [
             0.5555555555555556,
             "#d8576b"
            ],
            [
             0.6666666666666666,
             "#ed7953"
            ],
            [
             0.7777777777777778,
             "#fb9f3a"
            ],
            [
             0.8888888888888888,
             "#fdca26"
            ],
            [
             1,
             "#f0f921"
            ]
           ]
          },
          "colorway": [
           "#636efa",
           "#EF553B",
           "#00cc96",
           "#ab63fa",
           "#FFA15A",
           "#19d3f3",
           "#FF6692",
           "#B6E880",
           "#FF97FF",
           "#FECB52"
          ],
          "font": {
           "color": "#2a3f5f"
          },
          "geo": {
           "bgcolor": "white",
           "lakecolor": "white",
           "landcolor": "white",
           "showlakes": true,
           "showland": true,
           "subunitcolor": "#C8D4E3"
          },
          "hoverlabel": {
           "align": "left"
          },
          "hovermode": "closest",
          "mapbox": {
           "style": "light"
          },
          "paper_bgcolor": "white",
          "plot_bgcolor": "white",
          "polar": {
           "angularaxis": {
            "gridcolor": "#EBF0F8",
            "linecolor": "#EBF0F8",
            "ticks": ""
           },
           "bgcolor": "white",
           "radialaxis": {
            "gridcolor": "#EBF0F8",
            "linecolor": "#EBF0F8",
            "ticks": ""
           }
          },
          "scene": {
           "xaxis": {
            "backgroundcolor": "white",
            "gridcolor": "#DFE8F3",
            "gridwidth": 2,
            "linecolor": "#EBF0F8",
            "showbackground": true,
            "ticks": "",
            "zerolinecolor": "#EBF0F8"
           },
           "yaxis": {
            "backgroundcolor": "white",
            "gridcolor": "#DFE8F3",
            "gridwidth": 2,
            "linecolor": "#EBF0F8",
            "showbackground": true,
            "ticks": "",
            "zerolinecolor": "#EBF0F8"
           },
           "zaxis": {
            "backgroundcolor": "white",
            "gridcolor": "#DFE8F3",
            "gridwidth": 2,
            "linecolor": "#EBF0F8",
            "showbackground": true,
            "ticks": "",
            "zerolinecolor": "#EBF0F8"
           }
          },
          "shapedefaults": {
           "line": {
            "color": "#2a3f5f"
           }
          },
          "ternary": {
           "aaxis": {
            "gridcolor": "#DFE8F3",
            "linecolor": "#A2B1C6",
            "ticks": ""
           },
           "baxis": {
            "gridcolor": "#DFE8F3",
            "linecolor": "#A2B1C6",
            "ticks": ""
           },
           "bgcolor": "white",
           "caxis": {
            "gridcolor": "#DFE8F3",
            "linecolor": "#A2B1C6",
            "ticks": ""
           }
          },
          "title": {
           "x": 0.05
          },
          "xaxis": {
           "automargin": true,
           "gridcolor": "#EBF0F8",
           "linecolor": "#EBF0F8",
           "ticks": "",
           "title": {
            "standoff": 15
           },
           "zerolinecolor": "#EBF0F8",
           "zerolinewidth": 2
          },
          "yaxis": {
           "automargin": true,
           "gridcolor": "#EBF0F8",
           "linecolor": "#EBF0F8",
           "ticks": "",
           "title": {
            "standoff": 15
           },
           "zerolinecolor": "#EBF0F8",
           "zerolinewidth": 2
          }
         }
        },
        "title": {
         "font": {
          "size": 16
         },
         "text": "AR(1) Model - Arctic Ground Squirrel Summer Population",
         "x": 0.5
        },
        "width": 900,
        "xaxis": {
         "title": {
          "text": "Year"
         }
        },
        "yaxis": {
         "title": {
          "text": "Population Density (per hectare)"
         }
        }
       }
      }
     },
     "metadata": {},
     "output_type": "display_data"
    }
   ],
   "source": [
    "ar_samples = az.extract(trace_ar1)['ar']\n",
    "y_samples = az.extract(trace_ar1, group='posterior_predictive')['y']\n",
    "\n",
    "ar_mean = ar_samples.mean(dim='sample')\n",
    "ar_hdi = az.hdi(trace_ar1, var_names=['ar'])['ar']\n",
    "\n",
    "y_mean = y_samples.mean(dim='sample')\n",
    "y_hdi = az.hdi(trace_ar1, group='posterior_predictive', var_names=['y'])['y']\n",
    "\n",
    "go.Figure().add_trace(go.Scatter(\n",
    "    x=np.concatenate([years, years[::-1]]),\n",
    "    y=np.concatenate([y_hdi[:, 1], y_hdi[::-1, 0]]),\n",
    "    fill='toself',\n",
    "    fillcolor='rgba(144, 238, 144, 0.2)',\n",
    "    line=dict(color='rgba(255,255,255,0)'),\n",
    "    name='Posterior Predictive 95% HDI',\n",
    "    showlegend=True\n",
    ")).add_trace(go.Scatter(\n",
    "    x=np.concatenate([years, years[::-1]]),\n",
    "    y=np.concatenate([walk_hdi[:, 1], walk_hdi[::-1, 0]]),\n",
    "    fill='toself',\n",
    "    fillcolor='rgba(0, 100, 80, 0.2)',\n",
    "    line=dict(color='rgba(255,255,255,0)'),\n",
    "    name='Random Walk 95% HDI',\n",
    "    showlegend=True\n",
    ")).add_trace(go.Scatter(\n",
    "    x=years,\n",
    "    y=walk_mean,\n",
    "    mode='lines',\n",
    "    name='Estimated Density',\n",
    "    line=dict(color='darkgreen', width=3)\n",
    ")).add_trace(go.Scatter(\n",
    "    x=years,\n",
    "    y=squirrel_density,\n",
    "    mode='markers',\n",
    "    name='Observed Data',\n",
    "    marker=dict(\n",
    "        size=8,\n",
    "        color='red',\n",
    "        symbol='circle',\n",
    "        line=dict(width=2, color='darkred')\n",
    "    )\n",
    ")).update_layout(\n",
    "    title=dict(\n",
    "        text='AR(1) Model - Arctic Ground Squirrel Summer Population',\n",
    "        x=0.5,\n",
    "        font=dict(size=16)\n",
    "    ),\n",
    "    xaxis_title='Year',\n",
    "    yaxis_title='Population Density (per hectare)',\n",
    "    width=900,\n",
    "    height=500,\n",
    "    template='plotly_white',\n",
    "    legend=dict(\n",
    "        x=0.02,\n",
    "        y=0.98,\n",
    "        bgcolor='rgba(255,255,255,0.8)',\n",
    "        bordercolor='gray',\n",
    "        borderwidth=1\n",
    "    )\n",
    ")"
   ]
  },
  {
   "cell_type": "code",
   "execution_count": null,
   "metadata": {},
   "outputs": [
    {
     "data": {
      "application/vnd.plotly.v1+json": {
       "config": {
        "plotlyServerURL": "https://plot.ly"
       },
       "data": [
        {
         "marker": {
          "color": "black",
          "size": 8,
          "symbol": "circle"
         },
         "mode": "markers",
         "name": "Observed Data",
         "type": "scatter",
         "x": {
          "bdata": "xgfHB8gHyQfKB8sHzAfNB84Hzwc=",
          "dtype": "i2"
         },
         "y": {
          "bdata": "w/UoXI/C8z/sUbgehevpP0jhehSuR+E/w/UoXI/C7T8ehetRuB73Px6F61G4HgBA3+ALk6ni9T/QZtXnagv1P36MuWsJefU/NF66SQzC7D8=",
          "dtype": "f8"
         }
        },
        {
         "line": {
          "color": "darkgreen",
          "width": 3
         },
         "mode": "lines",
         "name": "Random Walk Mean",
         "type": "scatter",
         "x": {
          "bdata": "xgfHB8gHyQfKB8sHzAfNB84Hzwc=",
          "dtype": "i2"
         },
         "y": {
          "bdata": "WLgsz1st8j+HJKzlshvsP94m7pMAPuc/cVy+PcyP7z/fZKaiBKD1P3f8AEWIH/s/37TNdeUf9j/24WcFbhH1P650wlWgjPQ/PC9mhOhs8D8=",
          "dtype": "f8"
         }
        },
        {
         "fill": "toself",
         "fillcolor": "rgba(0, 100, 80, 0.2)",
         "line": {
          "color": "rgba(255,255,255,0)"
         },
         "name": "Random Walk 95% HDI",
         "type": "scatter",
         "x": {
          "bdata": "xgfHB8gHyQfKB8sHzAfNB84HzwfPB84HzQfMB8sHygfJB8gHxwfGBw==",
          "dtype": "i2"
         },
         "y": {
          "bdata": "a97odoYv+D8TNQeLRA/0P8HzQ7LSiPI/11hiYz6X9T/r5IEQoXX8PxLMLsaATAJA0EBlndiB/T8LbPRG1fj7P6Z4PoYq//o/CkMz2REs+D+uVeWVVmnlPyBXfzKEWuo/NgnrbjXP6z8Z6rUQOMntP7jz372Jve8/Hw+S3TNo6z93KdpHj9flP2lNt54JkNw/XJ61NegA4z9PjtvesjrmPw==",
          "dtype": "f8"
         }
        },
        {
         "line": {
          "color": "darkblue",
          "width": 3
         },
         "mode": "lines",
         "name": "AR(2) Mean",
         "type": "scatter",
         "x": {
          "bdata": "xgfHB8gHyQfKB8sHzAfNB84Hzwc=",
          "dtype": "i2"
         },
         "y": {
          "bdata": "u/ZGna5K9D/c4L6YK2zqP/VNKW7WheU/0CTInRVi7j8BYJqUSVX1Pwe/lAGn9/k/b008JNHc9D+7hIT6pabzP45CCwYMUPM/zo+RLY0j7z8=",
          "dtype": "f8"
         }
        },
        {
         "fill": "toself",
         "fillcolor": "rgba(30, 144, 255, 0.2)",
         "line": {
          "color": "rgba(255,255,255,0)"
         },
         "name": "AR(2) 95% HDI",
         "type": "scatter",
         "x": {
          "bdata": "xgfHB8gHyQfKB8sHzAfNB84HzwfPB84HzQfMB8sHygfJB8gHxwfGBw==",
          "dtype": "i2"
         },
         "y": {
          "bdata": "B2K6JzSD/z+M6ipEvurzPzW0kHznSfA/GPUGbWWf9D/jUWz0Cdz8P/KEJI2u5gFAmh95OUOO/D9C93h4Jwj7P5IGbIZUpvk/NCJODj7C9T/HBWRtvfzjP/JQGhMoD+c/UzqLGEmn6T+oNrPecR/oP9rEK6zzAes/75gN2MaX6j/7n6BRrJLiPxIn1jS0Mdo/+qBrjsKR3T+dDf62pcTlPw==",
          "dtype": "f8"
         }
        }
       ],
       "layout": {
        "height": 500,
        "legend": {
         "bgcolor": "rgba(255,255,255,0.8)",
         "bordercolor": "gray",
         "borderwidth": 1,
         "x": 0.02,
         "y": 0.98
        },
        "template": {
         "data": {
          "bar": [
           {
            "error_x": {
             "color": "#2a3f5f"
            },
            "error_y": {
             "color": "#2a3f5f"
            },
            "marker": {
             "line": {
              "color": "white",
              "width": 0.5
             },
             "pattern": {
              "fillmode": "overlay",
              "size": 10,
              "solidity": 0.2
             }
            },
            "type": "bar"
           }
          ],
          "barpolar": [
           {
            "marker": {
             "line": {
              "color": "white",
              "width": 0.5
             },
             "pattern": {
              "fillmode": "overlay",
              "size": 10,
              "solidity": 0.2
             }
            },
            "type": "barpolar"
           }
          ],
          "carpet": [
           {
            "aaxis": {
             "endlinecolor": "#2a3f5f",
             "gridcolor": "#C8D4E3",
             "linecolor": "#C8D4E3",
             "minorgridcolor": "#C8D4E3",
             "startlinecolor": "#2a3f5f"
            },
            "baxis": {
             "endlinecolor": "#2a3f5f",
             "gridcolor": "#C8D4E3",
             "linecolor": "#C8D4E3",
             "minorgridcolor": "#C8D4E3",
             "startlinecolor": "#2a3f5f"
            },
            "type": "carpet"
           }
          ],
          "choropleth": [
           {
            "colorbar": {
             "outlinewidth": 0,
             "ticks": ""
            },
            "type": "choropleth"
           }
          ],
          "contour": [
           {
            "colorbar": {
             "outlinewidth": 0,
             "ticks": ""
            },
            "colorscale": [
             [
              0,
              "#0d0887"
             ],
             [
              0.1111111111111111,
              "#46039f"
             ],
             [
              0.2222222222222222,
              "#7201a8"
             ],
             [
              0.3333333333333333,
              "#9c179e"
             ],
             [
              0.4444444444444444,
              "#bd3786"
             ],
             [
              0.5555555555555556,
              "#d8576b"
             ],
             [
              0.6666666666666666,
              "#ed7953"
             ],
             [
              0.7777777777777778,
              "#fb9f3a"
             ],
             [
              0.8888888888888888,
              "#fdca26"
             ],
             [
              1,
              "#f0f921"
             ]
            ],
            "type": "contour"
           }
          ],
          "contourcarpet": [
           {
            "colorbar": {
             "outlinewidth": 0,
             "ticks": ""
            },
            "type": "contourcarpet"
           }
          ],
          "heatmap": [
           {
            "colorbar": {
             "outlinewidth": 0,
             "ticks": ""
            },
            "colorscale": [
             [
              0,
              "#0d0887"
             ],
             [
              0.1111111111111111,
              "#46039f"
             ],
             [
              0.2222222222222222,
              "#7201a8"
             ],
             [
              0.3333333333333333,
              "#9c179e"
             ],
             [
              0.4444444444444444,
              "#bd3786"
             ],
             [
              0.5555555555555556,
              "#d8576b"
             ],
             [
              0.6666666666666666,
              "#ed7953"
             ],
             [
              0.7777777777777778,
              "#fb9f3a"
             ],
             [
              0.8888888888888888,
              "#fdca26"
             ],
             [
              1,
              "#f0f921"
             ]
            ],
            "type": "heatmap"
           }
          ],
          "histogram": [
           {
            "marker": {
             "pattern": {
              "fillmode": "overlay",
              "size": 10,
              "solidity": 0.2
             }
            },
            "type": "histogram"
           }
          ],
          "histogram2d": [
           {
            "colorbar": {
             "outlinewidth": 0,
             "ticks": ""
            },
            "colorscale": [
             [
              0,
              "#0d0887"
             ],
             [
              0.1111111111111111,
              "#46039f"
             ],
             [
              0.2222222222222222,
              "#7201a8"
             ],
             [
              0.3333333333333333,
              "#9c179e"
             ],
             [
              0.4444444444444444,
              "#bd3786"
             ],
             [
              0.5555555555555556,
              "#d8576b"
             ],
             [
              0.6666666666666666,
              "#ed7953"
             ],
             [
              0.7777777777777778,
              "#fb9f3a"
             ],
             [
              0.8888888888888888,
              "#fdca26"
             ],
             [
              1,
              "#f0f921"
             ]
            ],
            "type": "histogram2d"
           }
          ],
          "histogram2dcontour": [
           {
            "colorbar": {
             "outlinewidth": 0,
             "ticks": ""
            },
            "colorscale": [
             [
              0,
              "#0d0887"
             ],
             [
              0.1111111111111111,
              "#46039f"
             ],
             [
              0.2222222222222222,
              "#7201a8"
             ],
             [
              0.3333333333333333,
              "#9c179e"
             ],
             [
              0.4444444444444444,
              "#bd3786"
             ],
             [
              0.5555555555555556,
              "#d8576b"
             ],
             [
              0.6666666666666666,
              "#ed7953"
             ],
             [
              0.7777777777777778,
              "#fb9f3a"
             ],
             [
              0.8888888888888888,
              "#fdca26"
             ],
             [
              1,
              "#f0f921"
             ]
            ],
            "type": "histogram2dcontour"
           }
          ],
          "mesh3d": [
           {
            "colorbar": {
             "outlinewidth": 0,
             "ticks": ""
            },
            "type": "mesh3d"
           }
          ],
          "parcoords": [
           {
            "line": {
             "colorbar": {
              "outlinewidth": 0,
              "ticks": ""
             }
            },
            "type": "parcoords"
           }
          ],
          "pie": [
           {
            "automargin": true,
            "type": "pie"
           }
          ],
          "scatter": [
           {
            "fillpattern": {
             "fillmode": "overlay",
             "size": 10,
             "solidity": 0.2
            },
            "type": "scatter"
           }
          ],
          "scatter3d": [
           {
            "line": {
             "colorbar": {
              "outlinewidth": 0,
              "ticks": ""
             }
            },
            "marker": {
             "colorbar": {
              "outlinewidth": 0,
              "ticks": ""
             }
            },
            "type": "scatter3d"
           }
          ],
          "scattercarpet": [
           {
            "marker": {
             "colorbar": {
              "outlinewidth": 0,
              "ticks": ""
             }
            },
            "type": "scattercarpet"
           }
          ],
          "scattergeo": [
           {
            "marker": {
             "colorbar": {
              "outlinewidth": 0,
              "ticks": ""
             }
            },
            "type": "scattergeo"
           }
          ],
          "scattergl": [
           {
            "marker": {
             "colorbar": {
              "outlinewidth": 0,
              "ticks": ""
             }
            },
            "type": "scattergl"
           }
          ],
          "scattermap": [
           {
            "marker": {
             "colorbar": {
              "outlinewidth": 0,
              "ticks": ""
             }
            },
            "type": "scattermap"
           }
          ],
          "scattermapbox": [
           {
            "marker": {
             "colorbar": {
              "outlinewidth": 0,
              "ticks": ""
             }
            },
            "type": "scattermapbox"
           }
          ],
          "scatterpolar": [
           {
            "marker": {
             "colorbar": {
              "outlinewidth": 0,
              "ticks": ""
             }
            },
            "type": "scatterpolar"
           }
          ],
          "scatterpolargl": [
           {
            "marker": {
             "colorbar": {
              "outlinewidth": 0,
              "ticks": ""
             }
            },
            "type": "scatterpolargl"
           }
          ],
          "scatterternary": [
           {
            "marker": {
             "colorbar": {
              "outlinewidth": 0,
              "ticks": ""
             }
            },
            "type": "scatterternary"
           }
          ],
          "surface": [
           {
            "colorbar": {
             "outlinewidth": 0,
             "ticks": ""
            },
            "colorscale": [
             [
              0,
              "#0d0887"
             ],
             [
              0.1111111111111111,
              "#46039f"
             ],
             [
              0.2222222222222222,
              "#7201a8"
             ],
             [
              0.3333333333333333,
              "#9c179e"
             ],
             [
              0.4444444444444444,
              "#bd3786"
             ],
             [
              0.5555555555555556,
              "#d8576b"
             ],
             [
              0.6666666666666666,
              "#ed7953"
             ],
             [
              0.7777777777777778,
              "#fb9f3a"
             ],
             [
              0.8888888888888888,
              "#fdca26"
             ],
             [
              1,
              "#f0f921"
             ]
            ],
            "type": "surface"
           }
          ],
          "table": [
           {
            "cells": {
             "fill": {
              "color": "#EBF0F8"
             },
             "line": {
              "color": "white"
             }
            },
            "header": {
             "fill": {
              "color": "#C8D4E3"
             },
             "line": {
              "color": "white"
             }
            },
            "type": "table"
           }
          ]
         },
         "layout": {
          "annotationdefaults": {
           "arrowcolor": "#2a3f5f",
           "arrowhead": 0,
           "arrowwidth": 1
          },
          "autotypenumbers": "strict",
          "coloraxis": {
           "colorbar": {
            "outlinewidth": 0,
            "ticks": ""
           }
          },
          "colorscale": {
           "diverging": [
            [
             0,
             "#8e0152"
            ],
            [
             0.1,
             "#c51b7d"
            ],
            [
             0.2,
             "#de77ae"
            ],
            [
             0.3,
             "#f1b6da"
            ],
            [
             0.4,
             "#fde0ef"
            ],
            [
             0.5,
             "#f7f7f7"
            ],
            [
             0.6,
             "#e6f5d0"
            ],
            [
             0.7,
             "#b8e186"
            ],
            [
             0.8,
             "#7fbc41"
            ],
            [
             0.9,
             "#4d9221"
            ],
            [
             1,
             "#276419"
            ]
           ],
           "sequential": [
            [
             0,
             "#0d0887"
            ],
            [
             0.1111111111111111,
             "#46039f"
            ],
            [
             0.2222222222222222,
             "#7201a8"
            ],
            [
             0.3333333333333333,
             "#9c179e"
            ],
            [
             0.4444444444444444,
             "#bd3786"
            ],
            [
             0.5555555555555556,
             "#d8576b"
            ],
            [
             0.6666666666666666,
             "#ed7953"
            ],
            [
             0.7777777777777778,
             "#fb9f3a"
            ],
            [
             0.8888888888888888,
             "#fdca26"
            ],
            [
             1,
             "#f0f921"
            ]
           ],
           "sequentialminus": [
            [
             0,
             "#0d0887"
            ],
            [
             0.1111111111111111,
             "#46039f"
            ],
            [
             0.2222222222222222,
             "#7201a8"
            ],
            [
             0.3333333333333333,
             "#9c179e"
            ],
            [
             0.4444444444444444,
             "#bd3786"
            ],
            [
             0.5555555555555556,
             "#d8576b"
            ],
            [
             0.6666666666666666,
             "#ed7953"
            ],
            [
             0.7777777777777778,
             "#fb9f3a"
            ],
            [
             0.8888888888888888,
             "#fdca26"
            ],
            [
             1,
             "#f0f921"
            ]
           ]
          },
          "colorway": [
           "#636efa",
           "#EF553B",
           "#00cc96",
           "#ab63fa",
           "#FFA15A",
           "#19d3f3",
           "#FF6692",
           "#B6E880",
           "#FF97FF",
           "#FECB52"
          ],
          "font": {
           "color": "#2a3f5f"
          },
          "geo": {
           "bgcolor": "white",
           "lakecolor": "white",
           "landcolor": "white",
           "showlakes": true,
           "showland": true,
           "subunitcolor": "#C8D4E3"
          },
          "hoverlabel": {
           "align": "left"
          },
          "hovermode": "closest",
          "mapbox": {
           "style": "light"
          },
          "paper_bgcolor": "white",
          "plot_bgcolor": "white",
          "polar": {
           "angularaxis": {
            "gridcolor": "#EBF0F8",
            "linecolor": "#EBF0F8",
            "ticks": ""
           },
           "bgcolor": "white",
           "radialaxis": {
            "gridcolor": "#EBF0F8",
            "linecolor": "#EBF0F8",
            "ticks": ""
           }
          },
          "scene": {
           "xaxis": {
            "backgroundcolor": "white",
            "gridcolor": "#DFE8F3",
            "gridwidth": 2,
            "linecolor": "#EBF0F8",
            "showbackground": true,
            "ticks": "",
            "zerolinecolor": "#EBF0F8"
           },
           "yaxis": {
            "backgroundcolor": "white",
            "gridcolor": "#DFE8F3",
            "gridwidth": 2,
            "linecolor": "#EBF0F8",
            "showbackground": true,
            "ticks": "",
            "zerolinecolor": "#EBF0F8"
           },
           "zaxis": {
            "backgroundcolor": "white",
            "gridcolor": "#DFE8F3",
            "gridwidth": 2,
            "linecolor": "#EBF0F8",
            "showbackground": true,
            "ticks": "",
            "zerolinecolor": "#EBF0F8"
           }
          },
          "shapedefaults": {
           "line": {
            "color": "#2a3f5f"
           }
          },
          "ternary": {
           "aaxis": {
            "gridcolor": "#DFE8F3",
            "linecolor": "#A2B1C6",
            "ticks": ""
           },
           "baxis": {
            "gridcolor": "#DFE8F3",
            "linecolor": "#A2B1C6",
            "ticks": ""
           },
           "bgcolor": "white",
           "caxis": {
            "gridcolor": "#DFE8F3",
            "linecolor": "#A2B1C6",
            "ticks": ""
           }
          },
          "title": {
           "x": 0.05
          },
          "xaxis": {
           "automargin": true,
           "gridcolor": "#EBF0F8",
           "linecolor": "#EBF0F8",
           "ticks": "",
           "title": {
            "standoff": 15
           },
           "zerolinecolor": "#EBF0F8",
           "zerolinewidth": 2
          },
          "yaxis": {
           "automargin": true,
           "gridcolor": "#EBF0F8",
           "linecolor": "#EBF0F8",
           "ticks": "",
           "title": {
            "standoff": 15
           },
           "zerolinecolor": "#EBF0F8",
           "zerolinewidth": 2
          }
         }
        },
        "title": {
         "font": {
          "size": 16
         },
         "text": "Model Comparison: Random Walk vs AR(2) for Squirrel Population",
         "x": 0.5
        },
        "width": 900,
        "xaxis": {
         "title": {
          "text": "Year"
         }
        },
        "yaxis": {
         "title": {
          "text": "Population Density (per hectare)"
         }
        }
       }
      }
     },
     "metadata": {},
     "output_type": "display_data"
    }
   ],
   "source": [
    "# Create combined visualization comparing Random Walk and AR(2) models\n",
    "fig = go.Figure()\n",
    "\n",
    "# Add observed data points\n",
    "fig.add_trace(go.Scatter(\n",
    "    x=years,\n",
    "    y=squirrel_density,\n",
    "    mode='markers',\n",
    "    name='Observed Data',\n",
    "    marker=dict(\n",
    "        size=8,\n",
    "        color='black',\n",
    "        symbol='circle'\n",
    "    )\n",
    "))\n",
    "\n",
    "# Add Random Walk model mean prediction\n",
    "fig.add_trace(go.Scatter(\n",
    "    x=years,\n",
    "    y=walk_mean,\n",
    "    mode='lines',\n",
    "    name='Random Walk Mean',\n",
    "    line=dict(color='darkgreen', width=3)\n",
    "))\n",
    "\n",
    "# Add Random Walk model 95% HDI\n",
    "fig.add_trace(go.Scatter(\n",
    "    x=np.concatenate([years, years[::-1]]),\n",
    "    y=np.concatenate([walk_hdi[:, 1], walk_hdi[::-1, 0]]),\n",
    "    fill='toself',\n",
    "    fillcolor='rgba(0, 100, 80, 0.2)',\n",
    "    line=dict(color='rgba(255,255,255,0)'),\n",
    "    name='Random Walk 95% HDI'\n",
    "))\n",
    "\n",
    "# Add AR(2) model mean prediction\n",
    "ar_mean = az.extract(trace_ar2)['ar'].mean(dim='sample')\n",
    "ar_hdi = az.hdi(trace_ar2, var_names=['ar'])['ar']\n",
    "\n",
    "fig.add_trace(go.Scatter(\n",
    "    x=years,\n",
    "    y=ar_mean,\n",
    "    mode='lines',\n",
    "    name='AR(2) Mean',\n",
    "    line=dict(color='darkblue', width=3)\n",
    "))\n",
    "\n",
    "# Add AR(2) model 95% HDI\n",
    "fig.add_trace(go.Scatter(\n",
    "    x=np.concatenate([years, years[::-1]]),\n",
    "    y=np.concatenate([ar_hdi[:, 1], ar_hdi[::-1, 0]]),\n",
    "    fill='toself',\n",
    "    fillcolor='rgba(30, 144, 255, 0.2)',\n",
    "    line=dict(color='rgba(255,255,255,0)'),\n",
    "    name='AR(2) 95% HDI'\n",
    "))\n",
    "\n",
    "# Update layout\n",
    "fig.update_layout(\n",
    "    title=dict(\n",
    "        text='Model Comparison: Random Walk vs AR(2) for Squirrel Population',\n",
    "        x=0.5,\n",
    "        font=dict(size=16)\n",
    "    ),\n",
    "    xaxis_title='Year',\n",
    "    yaxis_title='Population Density (per hectare)',\n",
    "    width=900,\n",
    "    height=500,\n",
    "    template='plotly_white',\n",
    "    legend=dict(\n",
    "        x=0.02,\n",
    "        y=0.98,\n",
    "        bgcolor='rgba(255,255,255,0.8)',\n",
    "        bordercolor='gray',\n",
    "        borderwidth=1\n",
    "    )\n",
    ")\n",
    "\n",
    "fig.show()"
   ]
  },
  {
   "cell_type": "code",
   "execution_count": 14,
   "metadata": {},
   "outputs": [
    {
     "data": {
      "text/plain": [
       "<Axes: title={'center': 'rho'}>"
      ]
     },
     "execution_count": 14,
     "metadata": {},
     "output_type": "execute_result"
    },
    {
     "data": {
      "image/png": "[encoded data removed]",
      "text/plain": [
       "<Figure size 720x480 with 1 Axes>"
      ]
     },
     "metadata": {},
     "output_type": "display_data"
    }
   ],
   "source": [
    "az.plot_posterior(trace_ar1, var_names=['rho'])"
   ]
  },
  {
   "cell_type": "markdown",
   "metadata": {},
   "source": [
    "## Extending to AR(2) Models\n",
    "\n",
    "While the AR(1) model provides a flexible generalization to the random walk, ecological systems often exhibit more complex dynamics that span multiple time periods. For example, an AR(2) model extends our analysis by incorporating dependencies on two previous time steps:\n",
    "\n",
    "$$\\log(y_t) = \\rho_1 \\cdot \\log(y_{t-1}) + \\rho_2 \\cdot \\log(y_{t-2}) + \\epsilon_t$$\n",
    "\n",
    "Where:\n",
    "- $\\rho_1$ represents the immediate persistence effect (as in AR(1))\n",
    "- $\\rho_2$ captures delayed effects from two time steps ago\n",
    "- $\\epsilon_t$ is the innovation term (random shock)\n",
    "\n",
    "In the context of this data, AR(2) models can reveal important ecological patterns:\n",
    "\n",
    "1. **Cyclical Dynamics**: Negative values of $\\rho_2$ often indicate cyclical population fluctuations\n",
    "2. **Delayed Density Dependence**: Effects of population size may take multiple years to manifest\n",
    "3. **Complex Environmental Responses**: Populations may respond to environmental conditions with lag effects\n",
    "\n",
    "Let's see how an AR(2) model performs on our squirrel data."
   ]
  },
  {
   "cell_type": "code",
   "execution_count": 14,
   "metadata": {},
   "outputs": [
    {
     "name": "stderr",
     "output_type": "stream",
     "text": [
      "Initializing NUTS using jitter+adapt_diag...\n",
      "Multiprocess sampling (4 chains in 4 jobs)\n",
      "NUTS: [sigma_ar, rho, log_ar, sigma_obs]\n"
     ]
    },
    {
     "data": {
      "application/vnd.jupyter.widget-view+json": {
       "model_id": "f9d7d2a7998a4d01a026b1929881bbcd",
       "version_major": 2,
       "version_minor": 0
      },
      "text/plain": [
       "Output()"
      ]
     },
     "metadata": {},
     "output_type": "display_data"
    },
    {
     "data": {
      "text/html": [
       "<pre style=\"white-space:pre;overflow-x:auto;line-height:normal;font-family:Menlo,'DejaVu Sans Mono',consolas,'Courier New',monospace\"></pre>\n"
      ],
      "text/plain": []
     },
     "metadata": {},
     "output_type": "display_data"
    },
    {
     "name": "stderr",
     "output_type": "stream",
     "text": [
      "Sampling 4 chains for 2_000 tune and 1_000 draw iterations (8_000 + 4_000 draws total) took 3 seconds.\n",
      "There were 48 divergences after tuning. Increase `target_accept` or reparameterize.\n",
      "The rhat statistic is larger than 1.01 for some parameters. This indicates problems during sampling. See https://arxiv.org/abs/1903.08008 for details\n",
      "The effective sample size per chain is smaller than 100 for some parameters.  A higher number is needed for reliable rhat and ess computation. See https://arxiv.org/abs/1903.08008 for details\n"
     ]
    }
   ],
   "source": [
    "with pm.Model(coords={'time': years}) as ar2_model:\n",
    "\n",
    "    y_obs = pm.Data('y_obs', squirrel_density, dims='time')\n",
    "    \n",
    "    sigma_ar = pm.HalfNormal('sigma_ar', sigma=1.0)\n",
    "\n",
    "    rho = pm.Normal('rho', mu=0, sigma=1.0, shape=2)\n",
    "    \n",
    "    init_dist = pm.Normal.dist(mu=0, sigma=1)\n",
    "    \n",
    "    log_ar = pm.AR('log_ar', \n",
    "        rho=rho,\n",
    "        sigma=sigma_ar,\n",
    "        init_dist=init_dist,\n",
    "        dims='time')\n",
    "    \n",
    "    ar = pm.Deterministic('ar', pm.math.exp(log_ar), dims='time')\n",
    "    \n",
    "    # Observation noise (measurement error)\n",
    "    sigma_obs = pm.HalfNormal('sigma_obs', sigma=1.0)\n",
    "    \n",
    "    # Likelihood: observed squirrel density data are noisy observations of the walk\n",
    "    y = pm.LogNormal('y', mu=log_ar, sigma=sigma_obs, observed=y_obs, dims='time')\n",
    "\n",
    "    trace_ar2 = pm.sample(1000, tune=2000, random_seed=RANDOM_SEED)"
   ]
  },
  {
   "cell_type": "code",
   "execution_count": 15,
   "metadata": {},
   "outputs": [
    {
     "data": {
      "text/plain": [
       "array([<Axes: title={'center': 'rho\\n0'}>,\n",
       "       <Axes: title={'center': 'rho\\n1'}>], dtype=object)"
      ]
     },
     "execution_count": 15,
     "metadata": {},
     "output_type": "execute_result"
    },
    {
     "data": {
      "image/png": "[encoded data removed]",
      "text/plain": [
       "<Figure size 1656x552 with 2 Axes>"
      ]
     },
     "metadata": {},
     "output_type": "display_data"
    }
   ],
   "source": [
    "az.plot_posterior(trace_ar2, var_names=['rho'])"
   ]
  },
  {
   "cell_type": "markdown",
   "metadata": {},
   "source": [
    "The estimated lag-2 autoregressive coefficient is probably negative, though it overlaps zero to some degree. This may be capturing a little of the cyclic behavior in the data.\n",
    "\n",
    "Let's take this model and generate predictions, and compare them to what the population actually did post-2000."
   ]
  },
  {
   "cell_type": "code",
   "execution_count": 20,
   "metadata": {},
   "outputs": [
    {
     "name": "stderr",
     "output_type": "stream",
     "text": [
      "Sampling: [log_ar, y]\n"
     ]
    },
    {
     "data": {
      "application/vnd.jupyter.widget-view+json": {
       "model_id": "8c4b7906f87548e0af020cef76aa986c",
       "version_major": 2,
       "version_minor": 0
      },
      "text/plain": [
       "Output()"
      ]
     },
     "metadata": {},
     "output_type": "display_data"
    },
    {
     "data": {
      "text/html": [
       "<pre style=\"white-space:pre;overflow-x:auto;line-height:normal;font-family:Menlo,'DejaVu Sans Mono',consolas,'Courier New',monospace\"></pre>\n"
      ],
      "text/plain": []
     },
     "metadata": {},
     "output_type": "display_data"
    },
    {
     "data": {
      "application/vnd.plotly.v1+json": {
       "config": {
        "plotlyServerURL": "https://plot.ly"
       },
       "data": [
        {
         "marker": {
          "color": "red",
          "line": {
           "color": "darkred",
           "width": 2
          },
          "size": 8,
          "symbol": "circle"
         },
         "mode": "markers",
         "name": "Observed Data",
         "type": "scatter",
         "x": {
          "bdata": "xgfHB8gHyQfKB8sHzAfNB84Hzwc=",
          "dtype": "i2"
         },
         "y": {
          "bdata": "w/UoXI/C8z/sUbgehevpP0jhehSuR+E/w/UoXI/C7T8ehetRuB73Px6F61G4HgBA3+ALk6ni9T/QZtXnagv1P36MuWsJefU/NF66SQzC7D8=",
          "dtype": "f8"
         }
        },
        {
         "line": {
          "color": "blue",
          "width": 3
         },
         "mode": "lines",
         "name": "Forecast Median",
         "type": "scatter",
         "x": {
          "bdata": "0AfRB9IH0wfUB9UH1gfXB9gH2Qc=",
          "dtype": "i2"
         },
         "y": {
          "bdata": "UPn5os/f8j84LDOIJ2juPzre930SFu0/2MBM05/w7T8Q52IJXLDvP5LWujL/dPA/rDuset5a8D+0yVvTLi3wP89uE/RBBPA/1XvNSvRB7z8=",
          "dtype": "f8"
         }
        },
        {
         "fill": "toself",
         "fillcolor": "rgba(0, 100, 80, 0.2)",
         "line": {
          "color": "rgba(255,255,255,0)"
         },
         "name": "95% HDI",
         "showlegend": true,
         "type": "scatter",
         "x": {
          "bdata": "0AfRB9IH0wfUB9UH1gfXB9gH2QfZB9gH1wfWB9UH1AfTB9IH0QfQBw==",
          "dtype": "i2"
         },
         "y": {
          "bdata": "yxFgjVO+/z89HnNRKkn6P4kDiu6umgBA1n62i8KhAUCYdV5ClOADQIkYiqkGTwVAZ1jiJF7HBkAdxLAKY8YGQNvbkyEoCQdAS/fPhrJfBUC13eF2kqOQOHMAVYRuy+g7uq9ajsbz1D2ak0I7IqfBPiNjyfjKUbU/qO0mrDETwz+zUjM2oerDPyWVmXsuF84/2TV5Z2+42z/usvOySObgPw==",
          "dtype": "f8"
         }
        }
       ],
       "layout": {
        "height": 500,
        "legend": {
         "bgcolor": "rgba(255,255,255,0.8)",
         "bordercolor": "gray",
         "borderwidth": 1,
         "x": 0.02,
         "y": 0.98
        },
        "template": {
         "data": {
          "bar": [
           {
            "error_x": {
             "color": "#2a3f5f"
            },
            "error_y": {
             "color": "#2a3f5f"
            },
            "marker": {
             "line": {
              "color": "white",
              "width": 0.5
             },
             "pattern": {
              "fillmode": "overlay",
              "size": 10,
              "solidity": 0.2
             }
            },
            "type": "bar"
           }
          ],
          "barpolar": [
           {
            "marker": {
             "line": {
              "color": "white",
              "width": 0.5
             },
             "pattern": {
              "fillmode": "overlay",
              "size": 10,
              "solidity": 0.2
             }
            },
            "type": "barpolar"
           }
          ],
          "carpet": [
           {
            "aaxis": {
             "endlinecolor": "#2a3f5f",
             "gridcolor": "#C8D4E3",
             "linecolor": "#C8D4E3",
             "minorgridcolor": "#C8D4E3",
             "startlinecolor": "#2a3f5f"
            },
            "baxis": {
             "endlinecolor": "#2a3f5f",
             "gridcolor": "#C8D4E3",
             "linecolor": "#C8D4E3",
             "minorgridcolor": "#C8D4E3",
             "startlinecolor": "#2a3f5f"
            },
            "type": "carpet"
           }
          ],
          "choropleth": [
           {
            "colorbar": {
             "outlinewidth": 0,
             "ticks": ""
            },
            "type": "choropleth"
           }
          ],
          "contour": [
           {
            "colorbar": {
             "outlinewidth": 0,
             "ticks": ""
            },
            "colorscale": [
             [
              0,
              "#0d0887"
             ],
             [
              0.1111111111111111,
              "#46039f"
             ],
             [
              0.2222222222222222,
              "#7201a8"
             ],
             [
              0.3333333333333333,
              "#9c179e"
             ],
             [
              0.4444444444444444,
              "#bd3786"
             ],
             [
              0.5555555555555556,
              "#d8576b"
             ],
             [
              0.6666666666666666,
              "#ed7953"
             ],
             [
              0.7777777777777778,
              "#fb9f3a"
             ],
             [
              0.8888888888888888,
              "#fdca26"
             ],
             [
              1,
              "#f0f921"
             ]
            ],
            "type": "contour"
           }
          ],
          "contourcarpet": [
           {
            "colorbar": {
             "outlinewidth": 0,
             "ticks": ""
            },
            "type": "contourcarpet"
           }
          ],
          "heatmap": [
           {
            "colorbar": {
             "outlinewidth": 0,
             "ticks": ""
            },
            "colorscale": [
             [
              0,
              "#0d0887"
             ],
             [
              0.1111111111111111,
              "#46039f"
             ],
             [
              0.2222222222222222,
              "#7201a8"
             ],
             [
              0.3333333333333333,
              "#9c179e"
             ],
             [
              0.4444444444444444,
              "#bd3786"
             ],
             [
              0.5555555555555556,
              "#d8576b"
             ],
             [
              0.6666666666666666,
              "#ed7953"
             ],
             [
              0.7777777777777778,
              "#fb9f3a"
             ],
             [
              0.8888888888888888,
              "#fdca26"
             ],
             [
              1,
              "#f0f921"
             ]
            ],
            "type": "heatmap"
           }
          ],
          "histogram": [
           {
            "marker": {
             "pattern": {
              "fillmode": "overlay",
              "size": 10,
              "solidity": 0.2
             }
            },
            "type": "histogram"
           }
          ],
          "histogram2d": [
           {
            "colorbar": {
             "outlinewidth": 0,
             "ticks": ""
            },
            "colorscale": [
             [
              0,
              "#0d0887"
             ],
             [
              0.1111111111111111,
              "#46039f"
             ],
             [
              0.2222222222222222,
              "#7201a8"
             ],
             [
              0.3333333333333333,
              "#9c179e"
             ],
             [
              0.4444444444444444,
              "#bd3786"
             ],
             [
              0.5555555555555556,
              "#d8576b"
             ],
             [
              0.6666666666666666,
              "#ed7953"
             ],
             [
              0.7777777777777778,
              "#fb9f3a"
             ],
             [
              0.8888888888888888,
              "#fdca26"
             ],
             [
              1,
              "#f0f921"
             ]
            ],
            "type": "histogram2d"
           }
          ],
          "histogram2dcontour": [
           {
            "colorbar": {
             "outlinewidth": 0,
             "ticks": ""
            },
            "colorscale": [
             [
              0,
              "#0d0887"
             ],
             [
              0.1111111111111111,
              "#46039f"
             ],
             [
              0.2222222222222222,
              "#7201a8"
             ],
             [
              0.3333333333333333,
              "#9c179e"
             ],
             [
              0.4444444444444444,
              "#bd3786"
             ],
             [
              0.5555555555555556,
              "#d8576b"
             ],
             [
              0.6666666666666666,
              "#ed7953"
             ],
             [
              0.7777777777777778,
              "#fb9f3a"
             ],
             [
              0.8888888888888888,
              "#fdca26"
             ],
             [
              1,
              "#f0f921"
             ]
            ],
            "type": "histogram2dcontour"
           }
          ],
          "mesh3d": [
           {
            "colorbar": {
             "outlinewidth": 0,
             "ticks": ""
            },
            "type": "mesh3d"
           }
          ],
          "parcoords": [
           {
            "line": {
             "colorbar": {
              "outlinewidth": 0,
              "ticks": ""
             }
            },
            "type": "parcoords"
           }
          ],
          "pie": [
           {
            "automargin": true,
            "type": "pie"
           }
          ],
          "scatter": [
           {
            "fillpattern": {
             "fillmode": "overlay",
             "size": 10,
             "solidity": 0.2
            },
            "type": "scatter"
           }
          ],
          "scatter3d": [
           {
            "line": {
             "colorbar": {
              "outlinewidth": 0,
              "ticks": ""
             }
            },
            "marker": {
             "colorbar": {
              "outlinewidth": 0,
              "ticks": ""
             }
            },
            "type": "scatter3d"
           }
          ],
          "scattercarpet": [
           {
            "marker": {
             "colorbar": {
              "outlinewidth": 0,
              "ticks": ""
             }
            },
            "type": "scattercarpet"
           }
          ],
          "scattergeo": [
           {
            "marker": {
             "colorbar": {
              "outlinewidth": 0,
              "ticks": ""
             }
            },
            "type": "scattergeo"
           }
          ],
          "scattergl": [
           {
            "marker": {
             "colorbar": {
              "outlinewidth": 0,
              "ticks": ""
             }
            },
            "type": "scattergl"
           }
          ],
          "scattermap": [
           {
            "marker": {
             "colorbar": {
              "outlinewidth": 0,
              "ticks": ""
             }
            },
            "type": "scattermap"
           }
          ],
          "scattermapbox": [
           {
            "marker": {
             "colorbar": {
              "outlinewidth": 0,
              "ticks": ""
             }
            },
            "type": "scattermapbox"
           }
          ],
          "scatterpolar": [
           {
            "marker": {
             "colorbar": {
              "outlinewidth": 0,
              "ticks": ""
             }
            },
            "type": "scatterpolar"
           }
          ],
          "scatterpolargl": [
           {
            "marker": {
             "colorbar": {
              "outlinewidth": 0,
              "ticks": ""
             }
            },
            "type": "scatterpolargl"
           }
          ],
          "scatterternary": [
           {
            "marker": {
             "colorbar": {
              "outlinewidth": 0,
              "ticks": ""
             }
            },
            "type": "scatterternary"
           }
          ],
          "surface": [
           {
            "colorbar": {
             "outlinewidth": 0,
             "ticks": ""
            },
            "colorscale": [
             [
              0,
              "#0d0887"
             ],
             [
              0.1111111111111111,
              "#46039f"
             ],
             [
              0.2222222222222222,
              "#7201a8"
             ],
             [
              0.3333333333333333,
              "#9c179e"
             ],
             [
              0.4444444444444444,
              "#bd3786"
             ],
             [
              0.5555555555555556,
              "#d8576b"
             ],
             [
              0.6666666666666666,
              "#ed7953"
             ],
             [
              0.7777777777777778,
              "#fb9f3a"
             ],
             [
              0.8888888888888888,
              "#fdca26"
             ],
             [
              1,
              "#f0f921"
             ]
            ],
            "type": "surface"
           }
          ],
          "table": [
           {
            "cells": {
             "fill": {
              "color": "#EBF0F8"
             },
             "line": {
              "color": "white"
             }
            },
            "header": {
             "fill": {
              "color": "#C8D4E3"
             },
             "line": {
              "color": "white"
             }
            },
            "type": "table"
           }
          ]
         },
         "layout": {
          "annotationdefaults": {
           "arrowcolor": "#2a3f5f",
           "arrowhead": 0,
           "arrowwidth": 1
          },
          "autotypenumbers": "strict",
          "coloraxis": {
           "colorbar": {
            "outlinewidth": 0,
            "ticks": ""
           }
          },
          "colorscale": {
           "diverging": [
            [
             0,
             "#8e0152"
            ],
            [
             0.1,
             "#c51b7d"
            ],
            [
             0.2,
             "#de77ae"
            ],
            [
             0.3,
             "#f1b6da"
            ],
            [
             0.4,
             "#fde0ef"
            ],
            [
             0.5,
             "#f7f7f7"
            ],
            [
             0.6,
             "#e6f5d0"
            ],
            [
             0.7,
             "#b8e186"
            ],
            [
             0.8,
             "#7fbc41"
            ],
            [
             0.9,
             "#4d9221"
            ],
            [
             1,
             "#276419"
            ]
           ],
           "sequential": [
            [
             0,
             "#0d0887"
            ],
            [
             0.1111111111111111,
             "#46039f"
            ],
            [
             0.2222222222222222,
             "#7201a8"
            ],
            [
             0.3333333333333333,
             "#9c179e"
            ],
            [
             0.4444444444444444,
             "#bd3786"
            ],
            [
             0.5555555555555556,
             "#d8576b"
            ],
            [
             0.6666666666666666,
             "#ed7953"
            ],
            [
             0.7777777777777778,
             "#fb9f3a"
            ],
            [
             0.8888888888888888,
             "#fdca26"
            ],
            [
             1,
             "#f0f921"
            ]
           ],
           "sequentialminus": [
            [
             0,
             "#0d0887"
            ],
            [
             0.1111111111111111,
             "#46039f"
            ],
            [
             0.2222222222222222,
             "#7201a8"
            ],
            [
             0.3333333333333333,
             "#9c179e"
            ],
            [
             0.4444444444444444,
             "#bd3786"
            ],
            [
             0.5555555555555556,
             "#d8576b"
            ],
            [
             0.6666666666666666,
             "#ed7953"
            ],
            [
             0.7777777777777778,
             "#fb9f3a"
            ],
            [
             0.8888888888888888,
             "#fdca26"
            ],
            [
             1,
             "#f0f921"
            ]
           ]
          },
          "colorway": [
           "#636efa",
           "#EF553B",
           "#00cc96",
           "#ab63fa",
           "#FFA15A",
           "#19d3f3",
           "#FF6692",
           "#B6E880",
           "#FF97FF",
           "#FECB52"
          ],
          "font": {
           "color": "#2a3f5f"
          },
          "geo": {
           "bgcolor": "white",
           "lakecolor": "white",
           "landcolor": "white",
           "showlakes": true,
           "showland": true,
           "subunitcolor": "#C8D4E3"
          },
          "hoverlabel": {
           "align": "left"
          },
          "hovermode": "closest",
          "mapbox": {
           "style": "light"
          },
          "paper_bgcolor": "white",
          "plot_bgcolor": "white",
          "polar": {
           "angularaxis": {
            "gridcolor": "#EBF0F8",
            "linecolor": "#EBF0F8",
            "ticks": ""
           },
           "bgcolor": "white",
           "radialaxis": {
            "gridcolor": "#EBF0F8",
            "linecolor": "#EBF0F8",
            "ticks": ""
           }
          },
          "scene": {
           "xaxis": {
            "backgroundcolor": "white",
            "gridcolor": "#DFE8F3",
            "gridwidth": 2,
            "linecolor": "#EBF0F8",
            "showbackground": true,
            "ticks": "",
            "zerolinecolor": "#EBF0F8"
           },
           "yaxis": {
            "backgroundcolor": "white",
            "gridcolor": "#DFE8F3",
            "gridwidth": 2,
            "linecolor": "#EBF0F8",
            "showbackground": true,
            "ticks": "",
            "zerolinecolor": "#EBF0F8"
           },
           "zaxis": {
            "backgroundcolor": "white",
            "gridcolor": "#DFE8F3",
            "gridwidth": 2,
            "linecolor": "#EBF0F8",
            "showbackground": true,
            "ticks": "",
            "zerolinecolor": "#EBF0F8"
           }
          },
          "shapedefaults": {
           "line": {
            "color": "#2a3f5f"
           }
          },
          "ternary": {
           "aaxis": {
            "gridcolor": "#DFE8F3",
            "linecolor": "#A2B1C6",
            "ticks": ""
           },
           "baxis": {
            "gridcolor": "#DFE8F3",
            "linecolor": "#A2B1C6",
            "ticks": ""
           },
           "bgcolor": "white",
           "caxis": {
            "gridcolor": "#DFE8F3",
            "linecolor": "#A2B1C6",
            "ticks": ""
           }
          },
          "title": {
           "x": 0.05
          },
          "xaxis": {
           "automargin": true,
           "gridcolor": "#EBF0F8",
           "linecolor": "#EBF0F8",
           "ticks": "",
           "title": {
            "standoff": 15
           },
           "zerolinecolor": "#EBF0F8",
           "zerolinewidth": 2
          },
          "yaxis": {
           "automargin": true,
           "gridcolor": "#EBF0F8",
           "linecolor": "#EBF0F8",
           "ticks": "",
           "title": {
            "standoff": 15
           },
           "zerolinecolor": "#EBF0F8",
           "zerolinewidth": 2
          }
         }
        },
        "title": {
         "font": {
          "size": 16
         },
         "text": "10-Year Forecast for Arctic Ground Squirrel Summer Population (2000-2009)",
         "x": 0.5
        },
        "width": 900,
        "xaxis": {
         "title": {
          "text": "Year"
         }
        },
        "yaxis": {
         "range": [
          0,
          null
         ],
         "title": {
          "text": "Population Density (per hectare)"
         }
        }
       }
      }
     },
     "metadata": {},
     "output_type": "display_data"
    }
   ],
   "source": [
    "# Generate a 10-year forecast\n",
    "# Define forecast years (2000-2009)\n",
    "forecast_years = np.arange(2000, 2010)\n",
    "n_forecast = len(forecast_years)\n",
    "\n",
    "# Set random seed for reproducibility\n",
    "np.random.seed(RANDOM_SEED)\n",
    "\n",
    "# Create a new model for forecasting\n",
    "with pm.Model(coords={'time': forecast_years}) as forecast_model:\n",
    "\n",
    "    # Get parameters from the fitted model\n",
    "    sigma_ar = pm.Flat('sigma_ar')\n",
    "    rho = pm.Flat('rho', shape=2)\n",
    "    sigma_obs = pm.Flat('sigma_obs')\n",
    "    \n",
    "    # Get the last two values from the fitted model to initialize the forecast\n",
    "    log_ar_last = pm.Data('log_ar_last', trace_ar2.posterior['log_ar'].mean(dim=['chain', 'draw'])[-2:].values)\n",
    "    \n",
    "    # Create AR(2) process for the entire time period\n",
    "    init_dist = pm.DiracDelta.dist(log_ar_last)\n",
    "    log_ar = pm.AR('log_ar', rho=rho, sigma=sigma_ar, init_dist=init_dist, dims='time')\n",
    "    \n",
    "    # Transform to original scale\n",
    "    ar = pm.math.exp(log_ar)\n",
    "    \n",
    "    # Likelihood for the observed period\n",
    "    y = pm.LogNormal('y', mu=log_ar, sigma=sigma_obs, dims='time')\n",
    "\n",
    "    \n",
    "    # Sample from posterior predictive\n",
    "    ar2_forecast_trace = pm.sample_posterior_predictive(\n",
    "        trace_ar2, \n",
    "        var_names=['y'], \n",
    "        random_seed=RANDOM_SEED\n",
    "    )\n",
    "\n",
    "ar2_forecast_samples = ar2_forecast_trace.posterior_predictive['y'].stack(sample=(\"chain\", \"draw\"))\n",
    "ar2_forecast_median = ar2_forecast_samples.median(dim='sample').values\n",
    "\n",
    "# Calculate HDI manually for each time point\n",
    "ar2_forecast_lower = np.zeros(n_forecast)\n",
    "ar2_forecast_upper = np.zeros(n_forecast)\n",
    "\n",
    "# Get only the forecast period values (last n_forecast values\n",
    "ar2_forecast_values = ar2_forecast_samples.values[-n_forecast:]\n",
    "\n",
    "# Calculate HDI for each time point separately\n",
    "for t in range(n_forecast):\n",
    "    hdi = az.hdi(ar2_forecast_values[t], hdi_prob=0.95)\n",
    "    ar2_forecast_lower[t] = hdi[0]\n",
    "    ar2_forecast_upper[t] = hdi[1]\n",
    "\n",
    "# Extract actual observations for the forecast period (summer only)\n",
    "actual_future = (squirrel_data\n",
    "    .filter((pl.col('Year') >= 2000) & (pl.col('Year') <= 2009) & (pl.col('Season') == 'Summer'))\n",
    "    .sort('Year')\n",
    ")\n",
    "actual_years = actual_future['Year'].to_numpy()\n",
    "actual_density = actual_future['Average_per_ha'].to_numpy()\n",
    "\n",
    "# Create the forecast plot\n",
    "fig = go.Figure()\n",
    "\n",
    "# Add original data points (1990-1999)\n",
    "fig.add_trace(go.Scatter(\n",
    "    x=years,\n",
    "    y=squirrel_density,\n",
    "    mode='markers',\n",
    "    name='Observed Data',\n",
    "    marker=dict(\n",
    "        size=8,\n",
    "        color='red',\n",
    "        symbol='circle',\n",
    "        line=dict(width=2, color='darkred')\n",
    "    )\n",
    "))\n",
    "\n",
    "# Add test data points (2000-2009)\n",
    "# fig.add_trace(go.Scatter(\n",
    "#     x=actual_years,\n",
    "#     y=actual_density,\n",
    "#     mode='markers',\n",
    "#     name='Test Data',\n",
    "#     marker=dict(\n",
    "#         size=8,\n",
    "#         color='green',\n",
    "#         symbol='circle',\n",
    "#         line=dict(width=2, color='darkgreen')\n",
    "#     )\n",
    "# ))\n",
    "\n",
    "# Add median forecast line\n",
    "fig.add_trace(go.Scatter(\n",
    "    x=forecast_years,\n",
    "    y=ar2_forecast_median[-n_forecast:],\n",
    "    mode='lines',\n",
    "    name='Forecast Median',\n",
    "    line=dict(color='blue', width=3)\n",
    "))\n",
    "\n",
    "# Add 95% HDI as a shaded region\n",
    "fig.add_trace(go.Scatter(\n",
    "    x=np.concatenate([forecast_years, forecast_years[::-1]]),\n",
    "    y=np.concatenate([ar2_forecast_upper, ar2_forecast_lower[::-1]]),\n",
    "    fill='toself',\n",
    "    fillcolor='rgba(0, 100, 80, 0.2)',\n",
    "    line=dict(color='rgba(255,255,255,0)'),\n",
    "    name='95% HDI',\n",
    "    showlegend=True\n",
    "))\n",
    "\n",
    "# Update layout\n",
    "fig.update_layout(\n",
    "    title=dict(\n",
    "        text='10-Year Forecast for Arctic Ground Squirrel Summer Population (2000-2009)',\n",
    "        x=0.5,\n",
    "        font=dict(size=16)\n",
    "    ),\n",
    "    xaxis_title='Year',\n",
    "    yaxis_title='Population Density (per hectare)',\n",
    "    width=900,\n",
    "    height=500,\n",
    "    template='plotly_white',\n",
    "    legend=dict(\n",
    "        x=0.02,\n",
    "        y=0.98,\n",
    "        bgcolor='rgba(255,255,255,0.8)',\n",
    "        bordercolor='gray',\n",
    "        borderwidth=1\n",
    "    )\n",
    ")\n",
    "\n",
    "# Ensure y-axis doesn't go below zero for population density\n",
    "fig.update_yaxes(range=[0, None])\n",
    "\n",
    "fig.show()"
   ]
  },
  {
   "cell_type": "code",
   "execution_count": 19,
   "metadata": {},
   "outputs": [
    {
     "name": "stderr",
     "output_type": "stream",
     "text": [
      "Sampling: [log_ar, y]\n"
     ]
    },
    {
     "data": {
      "application/vnd.jupyter.widget-view+json": {
       "model_id": "d28c76feeeca4def8f6474f58a0724a4",
       "version_major": 2,
       "version_minor": 0
      },
      "text/plain": [
       "Output()"
      ]
     },
     "metadata": {},
     "output_type": "display_data"
    },
    {
     "data": {
      "text/html": [
       "<pre style=\"white-space:pre;overflow-x:auto;line-height:normal;font-family:Menlo,'DejaVu Sans Mono',consolas,'Courier New',monospace\"></pre>\n"
      ],
      "text/plain": []
     },
     "metadata": {},
     "output_type": "display_data"
    },
    {
     "data": {
      "application/vnd.plotly.v1+json": {
       "config": {
        "plotlyServerURL": "https://plot.ly"
       },
       "data": [
        {
         "marker": {
          "color": "red",
          "line": {
           "color": "darkred",
           "width": 2
          },
          "size": 8,
          "symbol": "circle"
         },
         "mode": "markers",
         "name": "Observed Data",
         "type": "scatter",
         "x": {
          "bdata": "xgfHB8gHyQfKB8sHzAfNB84Hzwc=",
          "dtype": "i2"
         },
         "y": {
          "bdata": "w/UoXI/C8z/sUbgehevpP0jhehSuR+E/w/UoXI/C7T8ehetRuB73Px6F61G4HgBA3+ALk6ni9T/QZtXnagv1P36MuWsJefU/NF66SQzC7D8=",
          "dtype": "f8"
         }
        },
        {
         "marker": {
          "color": "green",
          "line": {
           "color": "darkgreen",
           "width": 2
          },
          "size": 8,
          "symbol": "circle"
         },
         "mode": "markers",
         "name": "Test Data",
         "type": "scatter",
         "visible": "legendonly",
         "x": {
          "bdata": "AAAAAABAn0AAAAAAAESfQAAAAAAASJ9AAAAAAABMn0AAAAAAAFCfQAAAAAAAVJ9AAAAAAABYn0AAAAAAAFyfQAAAAAAAYJ9AAAAAAABkn0A=",
          "dtype": "f8"
         },
         "y": {
          "bdata": "VVVVVVVVtT9VVVVVVVW1P5RliGNdXNY/H4XrUbgexT8AAAAAAADQPwAAAAAAANA/AAAAAAAAAABVVVVVVVWlPwAAAAAAAMA/AAAAAAAAAAA=",
          "dtype": "f8"
         }
        },
        {
         "line": {
          "color": "blue",
          "width": 3
         },
         "mode": "lines",
         "name": "AR(2) Forecast",
         "type": "scatter",
         "x": {
          "bdata": "0AfRB9IH0wfUB9UH1gfXB9gH2Qc=",
          "dtype": "i2"
         },
         "y": {
          "bdata": "UPn5os/f8j84LDOIJ2juPzre930SFu0/2MBM05/w7T8Q52IJXLDvP5LWujL/dPA/rDuset5a8D+0yVvTLi3wP89uE/RBBPA/1XvNSvRB7z8=",
          "dtype": "f8"
         }
        },
        {
         "fill": "toself",
         "fillcolor": "rgba(0, 100, 80, 0.2)",
         "line": {
          "color": "rgba(255,255,255,0)"
         },
         "name": "AR(2) 95% HDI",
         "showlegend": true,
         "type": "scatter",
         "x": {
          "bdata": "0AfRB9IH0wfUB9UH1gfXB9gH2QfZB9gH1wfWB9UH1AfTB9IH0QfQBw==",
          "dtype": "i2"
         },
         "y": {
          "bdata": "yxFgjVO+/z89HnNRKkn6P4kDiu6umgBA1n62i8KhAUCYdV5ClOADQIkYiqkGTwVAZ1jiJF7HBkAdxLAKY8YGQNvbkyEoCQdAS/fPhrJfBUC13eF2kqOQOHMAVYRuy+g7uq9ajsbz1D2ak0I7IqfBPiNjyfjKUbU/qO0mrDETwz+zUjM2oerDPyWVmXsuF84/2TV5Z2+42z/usvOySObgPw==",
          "dtype": "f8"
         }
        },
        {
         "line": {
          "color": "purple",
          "dash": "dash",
          "width": 3
         },
         "mode": "lines",
         "name": "Random Walk Forecast",
         "type": "scatter",
         "x": {
          "bdata": "0AfRB9IH0wfUB9UH1gfXB9gH2Qc=",
          "dtype": "i2"
         },
         "y": {
          "bdata": "OuVC7G+q7z8oInHWABjwPzoJSi0sGfA/1pSvutlE8D9iJy4Wq1rwP6+HgyDdgPA/ENuPmZpc8D8cJIPlxEDwP8BM10xbe/A/HtB7KdKU8D8=",
          "dtype": "f8"
         }
        },
        {
         "fill": "toself",
         "fillcolor": "rgba(128, 0, 128, 0.2)",
         "line": {
          "color": "rgba(255,255,255,0)"
         },
         "name": "Random Walk 95% HDI",
         "showlegend": true,
         "type": "scatter",
         "x": {
          "bdata": "0AfRB9IH0wfUB9UH1gfXB9gH2QfZB9gH1wfWB9UH1AfTB9IH0QfQBw==",
          "dtype": "i2"
         },
         "y": {
          "bdata": "+M/5mHc2A0AlxPcdnogGQPv2nWWaIwpAGq+eA4/6DkA6f0ohkSURQJ8A9V6/9hJA6wbKucXaFUBKi8WSgWcXQNXZ2ewfghpAF6CbuJBWHEC+Ns487rJQP5oKy2am+Vg/GlKTjhO4Vz+0p/T040xxPwD4cEAq9Hk/jN2MIpgvZT8uOlGNDb2APy1HWcRjuqY/9TNZUaHVpj8Jvu7PfjvQPw==",
          "dtype": "f8"
         }
        }
       ],
       "layout": {
        "height": 500,
        "legend": {
         "bgcolor": "rgba(255,255,255,0.8)",
         "bordercolor": "gray",
         "borderwidth": 1,
         "x": 0.02,
         "y": 0.98
        },
        "template": {
         "data": {
          "bar": [
           {
            "error_x": {
             "color": "#2a3f5f"
            },
            "error_y": {
             "color": "#2a3f5f"
            },
            "marker": {
             "line": {
              "color": "white",
              "width": 0.5
             },
             "pattern": {
              "fillmode": "overlay",
              "size": 10,
              "solidity": 0.2
             }
            },
            "type": "bar"
           }
          ],
          "barpolar": [
           {
            "marker": {
             "line": {
              "color": "white",
              "width": 0.5
             },
             "pattern": {
              "fillmode": "overlay",
              "size": 10,
              "solidity": 0.2
             }
            },
            "type": "barpolar"
           }
          ],
          "carpet": [
           {
            "aaxis": {
             "endlinecolor": "#2a3f5f",
             "gridcolor": "#C8D4E3",
             "linecolor": "#C8D4E3",
             "minorgridcolor": "#C8D4E3",
             "startlinecolor": "#2a3f5f"
            },
            "baxis": {
             "endlinecolor": "#2a3f5f",
             "gridcolor": "#C8D4E3",
             "linecolor": "#C8D4E3",
             "minorgridcolor": "#C8D4E3",
             "startlinecolor": "#2a3f5f"
            },
            "type": "carpet"
           }
          ],
          "choropleth": [
           {
            "colorbar": {
             "outlinewidth": 0,
             "ticks": ""
            },
            "type": "choropleth"
           }
          ],
          "contour": [
           {
            "colorbar": {
             "outlinewidth": 0,
             "ticks": ""
            },
            "colorscale": [
             [
              0,
              "#0d0887"
             ],
             [
              0.1111111111111111,
              "#46039f"
             ],
             [
              0.2222222222222222,
              "#7201a8"
             ],
             [
              0.3333333333333333,
              "#9c179e"
             ],
             [
              0.4444444444444444,
              "#bd3786"
             ],
             [
              0.5555555555555556,
              "#d8576b"
             ],
             [
              0.6666666666666666,
              "#ed7953"
             ],
             [
              0.7777777777777778,
              "#fb9f3a"
             ],
             [
              0.8888888888888888,
              "#fdca26"
             ],
             [
              1,
              "#f0f921"
             ]
            ],
            "type": "contour"
           }
          ],
          "contourcarpet": [
           {
            "colorbar": {
             "outlinewidth": 0,
             "ticks": ""
            },
            "type": "contourcarpet"
           }
          ],
          "heatmap": [
           {
            "colorbar": {
             "outlinewidth": 0,
             "ticks": ""
            },
            "colorscale": [
             [
              0,
              "#0d0887"
             ],
             [
              0.1111111111111111,
              "#46039f"
             ],
             [
              0.2222222222222222,
              "#7201a8"
             ],
             [
              0.3333333333333333,
              "#9c179e"
             ],
             [
              0.4444444444444444,
              "#bd3786"
             ],
             [
              0.5555555555555556,
              "#d8576b"
             ],
             [
              0.6666666666666666,
              "#ed7953"
             ],
             [
              0.7777777777777778,
              "#fb9f3a"
             ],
             [
              0.8888888888888888,
              "#fdca26"
             ],
             [
              1,
              "#f0f921"
             ]
            ],
            "type": "heatmap"
           }
          ],
          "histogram": [
           {
            "marker": {
             "pattern": {
              "fillmode": "overlay",
              "size": 10,
              "solidity": 0.2
             }
            },
            "type": "histogram"
           }
          ],
          "histogram2d": [
           {
            "colorbar": {
             "outlinewidth": 0,
             "ticks": ""
            },
            "colorscale": [
             [
              0,
              "#0d0887"
             ],
             [
              0.1111111111111111,
              "#46039f"
             ],
             [
              0.2222222222222222,
              "#7201a8"
             ],
             [
              0.3333333333333333,
              "#9c179e"
             ],
             [
              0.4444444444444444,
              "#bd3786"
             ],
             [
              0.5555555555555556,
              "#d8576b"
             ],
             [
              0.6666666666666666,
              "#ed7953"
             ],
             [
              0.7777777777777778,
              "#fb9f3a"
             ],
             [
              0.8888888888888888,
              "#fdca26"
             ],
             [
              1,
              "#f0f921"
             ]
            ],
            "type": "histogram2d"
           }
          ],
          "histogram2dcontour": [
           {
            "colorbar": {
             "outlinewidth": 0,
             "ticks": ""
            },
            "colorscale": [
             [
              0,
              "#0d0887"
             ],
             [
              0.1111111111111111,
              "#46039f"
             ],
             [
              0.2222222222222222,
              "#7201a8"
             ],
             [
              0.3333333333333333,
              "#9c179e"
             ],
             [
              0.4444444444444444,
              "#bd3786"
             ],
             [
              0.5555555555555556,
              "#d8576b"
             ],
             [
              0.6666666666666666,
              "#ed7953"
             ],
             [
              0.7777777777777778,
              "#fb9f3a"
             ],
             [
              0.8888888888888888,
              "#fdca26"
             ],
             [
              1,
              "#f0f921"
             ]
            ],
            "type": "histogram2dcontour"
           }
          ],
          "mesh3d": [
           {
            "colorbar": {
             "outlinewidth": 0,
             "ticks": ""
            },
            "type": "mesh3d"
           }
          ],
          "parcoords": [
           {
            "line": {
             "colorbar": {
              "outlinewidth": 0,
              "ticks": ""
             }
            },
            "type": "parcoords"
           }
          ],
          "pie": [
           {
            "automargin": true,
            "type": "pie"
           }
          ],
          "scatter": [
           {
            "fillpattern": {
             "fillmode": "overlay",
             "size": 10,
             "solidity": 0.2
            },
            "type": "scatter"
           }
          ],
          "scatter3d": [
           {
            "line": {
             "colorbar": {
              "outlinewidth": 0,
              "ticks": ""
             }
            },
            "marker": {
             "colorbar": {
              "outlinewidth": 0,
              "ticks": ""
             }
            },
            "type": "scatter3d"
           }
          ],
          "scattercarpet": [
           {
            "marker": {
             "colorbar": {
              "outlinewidth": 0,
              "ticks": ""
             }
            },
            "type": "scattercarpet"
           }
          ],
          "scattergeo": [
           {
            "marker": {
             "colorbar": {
              "outlinewidth": 0,
              "ticks": ""
             }
            },
            "type": "scattergeo"
           }
          ],
          "scattergl": [
           {
            "marker": {
             "colorbar": {
              "outlinewidth": 0,
              "ticks": ""
             }
            },
            "type": "scattergl"
           }
          ],
          "scattermap": [
           {
            "marker": {
             "colorbar": {
              "outlinewidth": 0,
              "ticks": ""
             }
            },
            "type": "scattermap"
           }
          ],
          "scattermapbox": [
           {
            "marker": {
             "colorbar": {
              "outlinewidth": 0,
              "ticks": ""
             }
            },
            "type": "scattermapbox"
           }
          ],
          "scatterpolar": [
           {
            "marker": {
             "colorbar": {
              "outlinewidth": 0,
              "ticks": ""
             }
            },
            "type": "scatterpolar"
           }
          ],
          "scatterpolargl": [
           {
            "marker": {
             "colorbar": {
              "outlinewidth": 0,
              "ticks": ""
             }
            },
            "type": "scatterpolargl"
           }
          ],
          "scatterternary": [
           {
            "marker": {
             "colorbar": {
              "outlinewidth": 0,
              "ticks": ""
             }
            },
            "type": "scatterternary"
           }
          ],
          "surface": [
           {
            "colorbar": {
             "outlinewidth": 0,
             "ticks": ""
            },
            "colorscale": [
             [
              0,
              "#0d0887"
             ],
             [
              0.1111111111111111,
              "#46039f"
             ],
             [
              0.2222222222222222,
              "#7201a8"
             ],
             [
              0.3333333333333333,
              "#9c179e"
             ],
             [
              0.4444444444444444,
              "#bd3786"
             ],
             [
              0.5555555555555556,
              "#d8576b"
             ],
             [
              0.6666666666666666,
              "#ed7953"
             ],
             [
              0.7777777777777778,
              "#fb9f3a"
             ],
             [
              0.8888888888888888,
              "#fdca26"
             ],
             [
              1,
              "#f0f921"
             ]
            ],
            "type": "surface"
           }
          ],
          "table": [
           {
            "cells": {
             "fill": {
              "color": "#EBF0F8"
             },
             "line": {
              "color": "white"
             }
            },
            "header": {
             "fill": {
              "color": "#C8D4E3"
             },
             "line": {
              "color": "white"
             }
            },
            "type": "table"
           }
          ]
         },
         "layout": {
          "annotationdefaults": {
           "arrowcolor": "#2a3f5f",
           "arrowhead": 0,
           "arrowwidth": 1
          },
          "autotypenumbers": "strict",
          "coloraxis": {
           "colorbar": {
            "outlinewidth": 0,
            "ticks": ""
           }
          },
          "colorscale": {
           "diverging": [
            [
             0,
             "#8e0152"
            ],
            [
             0.1,
             "#c51b7d"
            ],
            [
             0.2,
             "#de77ae"
            ],
            [
             0.3,
             "#f1b6da"
            ],
            [
             0.4,
             "#fde0ef"
            ],
            [
             0.5,
             "#f7f7f7"
            ],
            [
             0.6,
             "#e6f5d0"
            ],
            [
             0.7,
             "#b8e186"
            ],
            [
             0.8,
             "#7fbc41"
            ],
            [
             0.9,
             "#4d9221"
            ],
            [
             1,
             "#276419"
            ]
           ],
           "sequential": [
            [
             0,
             "#0d0887"
            ],
            [
             0.1111111111111111,
             "#46039f"
            ],
            [
             0.2222222222222222,
             "#7201a8"
            ],
            [
             0.3333333333333333,
             "#9c179e"
            ],
            [
             0.4444444444444444,
             "#bd3786"
            ],
            [
             0.5555555555555556,
             "#d8576b"
            ],
            [
             0.6666666666666666,
             "#ed7953"
            ],
            [
             0.7777777777777778,
             "#fb9f3a"
            ],
            [
             0.8888888888888888,
             "#fdca26"
            ],
            [
             1,
             "#f0f921"
            ]
           ],
           "sequentialminus": [
            [
             0,
             "#0d0887"
            ],
            [
             0.1111111111111111,
             "#46039f"
            ],
            [
             0.2222222222222222,
             "#7201a8"
            ],
            [
             0.3333333333333333,
             "#9c179e"
            ],
            [
             0.4444444444444444,
             "#bd3786"
            ],
            [
             0.5555555555555556,
             "#d8576b"
            ],
            [
             0.6666666666666666,
             "#ed7953"
            ],
            [
             0.7777777777777778,
             "#fb9f3a"
            ],
            [
             0.8888888888888888,
             "#fdca26"
            ],
            [
             1,
             "#f0f921"
            ]
           ]
          },
          "colorway": [
           "#636efa",
           "#EF553B",
           "#00cc96",
           "#ab63fa",
           "#FFA15A",
           "#19d3f3",
           "#FF6692",
           "#B6E880",
           "#FF97FF",
           "#FECB52"
          ],
          "font": {
           "color": "#2a3f5f"
          },
          "geo": {
           "bgcolor": "white",
           "lakecolor": "white",
           "landcolor": "white",
           "showlakes": true,
           "showland": true,
           "subunitcolor": "#C8D4E3"
          },
          "hoverlabel": {
           "align": "left"
          },
          "hovermode": "closest",
          "mapbox": {
           "style": "light"
          },
          "paper_bgcolor": "white",
          "plot_bgcolor": "white",
          "polar": {
           "angularaxis": {
            "gridcolor": "#EBF0F8",
            "linecolor": "#EBF0F8",
            "ticks": ""
           },
           "bgcolor": "white",
           "radialaxis": {
            "gridcolor": "#EBF0F8",
            "linecolor": "#EBF0F8",
            "ticks": ""
           }
          },
          "scene": {
           "xaxis": {
            "backgroundcolor": "white",
            "gridcolor": "#DFE8F3",
            "gridwidth": 2,
            "linecolor": "#EBF0F8",
            "showbackground": true,
            "ticks": "",
            "zerolinecolor": "#EBF0F8"
           },
           "yaxis": {
            "backgroundcolor": "white",
            "gridcolor": "#DFE8F3",
            "gridwidth": 2,
            "linecolor": "#EBF0F8",
            "showbackground": true,
            "ticks": "",
            "zerolinecolor": "#EBF0F8"
           },
           "zaxis": {
            "backgroundcolor": "white",
            "gridcolor": "#DFE8F3",
            "gridwidth": 2,
            "linecolor": "#EBF0F8",
            "showbackground": true,
            "ticks": "",
            "zerolinecolor": "#EBF0F8"
           }
          },
          "shapedefaults": {
           "line": {
            "color": "#2a3f5f"
           }
          },
          "ternary": {
           "aaxis": {
            "gridcolor": "#DFE8F3",
            "linecolor": "#A2B1C6",
            "ticks": ""
           },
           "baxis": {
            "gridcolor": "#DFE8F3",
            "linecolor": "#A2B1C6",
            "ticks": ""
           },
           "bgcolor": "white",
           "caxis": {
            "gridcolor": "#DFE8F3",
            "linecolor": "#A2B1C6",
            "ticks": ""
           }
          },
          "title": {
           "x": 0.05
          },
          "xaxis": {
           "automargin": true,
           "gridcolor": "#EBF0F8",
           "linecolor": "#EBF0F8",
           "ticks": "",
           "title": {
            "standoff": 15
           },
           "zerolinecolor": "#EBF0F8",
           "zerolinewidth": 2
          },
          "yaxis": {
           "automargin": true,
           "gridcolor": "#EBF0F8",
           "linecolor": "#EBF0F8",
           "ticks": "",
           "title": {
            "standoff": 15
           },
           "zerolinecolor": "#EBF0F8",
           "zerolinewidth": 2
          }
         }
        },
        "title": {
         "font": {
          "size": 16
         },
         "text": "10-Year Forecast Comparison: AR(2) vs Random Walk (2000-2009)",
         "x": 0.5
        },
        "width": 900,
        "xaxis": {
         "title": {
          "text": "Year"
         }
        },
        "yaxis": {
         "range": [
          0,
          null
         ],
         "title": {
          "text": "Population Density (per hectare)"
         }
        }
       }
      }
     },
     "metadata": {},
     "output_type": "display_data"
    }
   ],
   "source": [
    "# Generate a 10-year forecast\n",
    "# Define forecast years (2000-2009)\n",
    "forecast_years = np.arange(2000, 2010)\n",
    "n_forecast = len(forecast_years)\n",
    "\n",
    "# Set random seed for reproducibility\n",
    "np.random.seed(RANDOM_SEED)\n",
    "\n",
    "# Create a new model for forecasting\n",
    "with pm.Model(coords={'time': forecast_years}) as forecast_model:\n",
    "\n",
    "    # Get parameters from the fitted model\n",
    "    sigma_ar = pm.Flat('sigma_ar')\n",
    "    rho = pm.Flat('rho', shape=2)\n",
    "    sigma_obs = pm.Flat('sigma_obs')\n",
    "    \n",
    "    # Get the last two values from the fitted model to initialize the forecast\n",
    "    log_ar_last = pm.Data('log_ar_last', trace_ar2.posterior['log_ar'].mean(dim=['chain', 'draw'])[-2:].values)\n",
    "    \n",
    "    # Create AR(2) process for the entire time period\n",
    "    init_dist = pm.DiracDelta.dist(log_ar_last)\n",
    "    log_ar = pm.AR('log_ar', rho=rho, sigma=sigma_ar, init_dist=init_dist, dims='time')\n",
    "    \n",
    "    # Transform to original scale\n",
    "    ar = pm.math.exp(log_ar)\n",
    "    \n",
    "    # Likelihood for the observed period\n",
    "    y = pm.LogNormal('y', mu=log_ar, sigma=sigma_obs, dims='time')\n",
    "\n",
    "    \n",
    "    # Sample from posterior predictive\n",
    "    ar2_forecast_trace = pm.sample_posterior_predictive(\n",
    "        trace_ar2, \n",
    "        var_names=['y'], \n",
    "        random_seed=RANDOM_SEED\n",
    "    )\n",
    "\n",
    "ar2_forecast_samples = ar2_forecast_trace.posterior_predictive['y'].stack(sample=(\"chain\", \"draw\"))\n",
    "ar2_forecast_median = ar2_forecast_samples.median(dim='sample').values\n",
    "\n",
    "# Calculate HDI manually for each time point\n",
    "ar2_forecast_lower = np.zeros(n_forecast)\n",
    "ar2_forecast_upper = np.zeros(n_forecast)\n",
    "\n",
    "# Get only the forecast period values (last n_forecast values\n",
    "ar2_forecast_values = ar2_forecast_samples.values[-n_forecast:]\n",
    "\n",
    "# Calculate HDI for each time point separately\n",
    "for t in range(n_forecast):\n",
    "    hdi = az.hdi(ar2_forecast_values[t], hdi_prob=0.95)\n",
    "    ar2_forecast_lower[t] = hdi[0]\n",
    "    ar2_forecast_upper[t] = hdi[1]\n",
    "\n",
    "# Extract actual observations for the forecast period (summer only)\n",
    "actual_future = (squirrel_data\n",
    "    .filter((pl.col('Year') >= 2000) & (pl.col('Year') <= 2009) & (pl.col('Season') == 'Summer'))\n",
    "    .sort('Year')\n",
    ")\n",
    "actual_years = actual_future['Year'].to_numpy()\n",
    "actual_density = actual_future['Average_per_ha'].to_numpy()\n",
    "\n",
    "# Create the forecast plot\n",
    "fig = go.Figure()\n",
    "\n",
    "# Add original data points (1990-1999)\n",
    "fig.add_trace(go.Scatter(\n",
    "    x=years,\n",
    "    y=squirrel_density,\n",
    "    mode='markers',\n",
    "    name='Observed Data',\n",
    "    marker=dict(\n",
    "        size=8,\n",
    "        color='red',\n",
    "        symbol='circle',\n",
    "        line=dict(width=2, color='darkred')\n",
    "    )\n",
    "))\n",
    "\n",
    "# Add test data points (2000-2009)\n",
    "# Add test data points (2000-2009) - hidden by default but toggleable\n",
    "fig.add_trace(go.Scatter(\n",
    "    x=actual_years,\n",
    "    y=actual_density,\n",
    "    mode='markers',\n",
    "    name='Test Data',\n",
    "    marker=dict(\n",
    "        size=8,\n",
    "        color='green',\n",
    "        symbol='circle',\n",
    "        line=dict(width=2, color='darkgreen')\n",
    "    ),\n",
    "    visible='legendonly'  # Hidden by default, can be toggled via legend\n",
    "))\n",
    "\n",
    "# Add AR(2) median forecast line\n",
    "fig.add_trace(go.Scatter(\n",
    "    x=forecast_years,\n",
    "    y=ar2_forecast_median[-n_forecast:],\n",
    "    mode='lines',\n",
    "    name='AR(2) Forecast',\n",
    "    line=dict(color='blue', width=3)\n",
    "))\n",
    "\n",
    "# Add AR(2) 95% HDI as a shaded region\n",
    "fig.add_trace(go.Scatter(\n",
    "    x=np.concatenate([forecast_years, forecast_years[::-1]]),\n",
    "    y=np.concatenate([ar2_forecast_upper, ar2_forecast_lower[::-1]]),\n",
    "    fill='toself',\n",
    "    fillcolor='rgba(0, 100, 80, 0.2)',\n",
    "    line=dict(color='rgba(255,255,255,0)'),\n",
    "    name='AR(2) 95% HDI',\n",
    "    showlegend=True\n",
    "))\n",
    "\n",
    "# Add Random Walk median forecast line\n",
    "fig.add_trace(go.Scatter(\n",
    "    x=forecast_years,\n",
    "    y=rw_forecast_median,\n",
    "    mode='lines',\n",
    "    name='Random Walk Forecast',\n",
    "    line=dict(color='purple', width=3, dash='dash')\n",
    "))\n",
    "\n",
    "# Add Random Walk 95% HDI as a shaded region\n",
    "fig.add_trace(go.Scatter(\n",
    "    x=np.concatenate([forecast_years, forecast_years[::-1]]),\n",
    "    y=np.concatenate([rw_forecast_upper, rw_forecast_lower[::-1]]),\n",
    "    fill='toself',\n",
    "    fillcolor='rgba(128, 0, 128, 0.2)',\n",
    "    line=dict(color='rgba(255,255,255,0)'),\n",
    "    name='Random Walk 95% HDI',\n",
    "    showlegend=True\n",
    "))\n",
    "\n",
    "# Update layout\n",
    "fig.update_layout(\n",
    "    title=dict(\n",
    "        text='10-Year Forecast Comparison: AR(2) vs Random Walk (2000-2009)',\n",
    "        x=0.5,\n",
    "        font=dict(size=16)\n",
    "    ),\n",
    "    xaxis_title='Year',\n",
    "    yaxis_title='Population Density (per hectare)',\n",
    "    width=900,\n",
    "    height=500,\n",
    "    template='plotly_white',\n",
    "    legend=dict(\n",
    "        x=0.02,\n",
    "        y=0.98,\n",
    "        bgcolor='rgba(255,255,255,0.8)',\n",
    "        bordercolor='gray',\n",
    "        borderwidth=1\n",
    "    )\n",
    ")\n",
    "\n",
    "# Ensure y-axis doesn't go below zero for population density\n",
    "fig.update_yaxes(range=[0, None])\n",
    "\n",
    "fig.show()"
   ]
  },
  {
   "cell_type": "markdown",
   "metadata": {},
   "source": [
    "### Seasonal Components with Fourier Terms\n",
    "\n",
    "**Fourier terms** provide an elegant way to model seasonal patterns using trigonometric functions. For a time series with period $P$, we can represent seasonal patterns as:\n",
    "\n",
    "$$s_t = \\sum_{k=1}^{K} \\left[ \\beta_{s,k} \\sin\\left(\\frac{2\\pi k t}{P}\\right) + \\beta_{c,k} \\cos\\left(\\frac{2\\pi k t}{P}\\right) \\right]$$\n",
    "\n",
    "where:\n",
    "- $P$ is the **seasonal period** (e.g., 12 for monthly data with annual seasonality)\n",
    "- $K$ is the **number of harmonics** (typically $K \\leq P/2$)\n",
    "- $\\beta_{s,k}, \\beta_{c,k}$ are the **Fourier coefficients**\n",
    "\n",
    "**Mathematical properties**:\n",
    "- **Periodicity**: $s_{t+P} = s_t$ for all $t$\n",
    "- **Orthogonality**: Different harmonics are orthogonal over complete periods\n",
    "- **Amplitude**: $A_k = \\sqrt{\\beta_{s,k}^2 + \\beta_{c,k}^2}$ for harmonic $k$\n",
    "- **Phase**: $\\phi_k = \\arctan(\\beta_{s,k}/\\beta_{c,k})$ for harmonic $k$\n",
    "\n",
    "**Advantages of Fourier representation**:\n",
    "- **Flexibility**: Can approximate any periodic function\n",
    "- **Parsimony**: Few parameters can capture complex seasonal patterns\n",
    "- **Interpretability**: Each harmonic represents a specific frequency component\n",
    "- **Computational efficiency**: Fast evaluation and differentiation\n",
    "\n",
    "**Harmonic interpretation**:\n",
    "- **First harmonic** ($k=1$): Fundamental seasonal cycle\n",
    "- **Second harmonic** ($k=2$): Half-period cycles (e.g., bi-annual patterns)\n",
    "- **Higher harmonics**: Capture finer seasonal details and asymmetries\n",
    "\n",
    "The complete model combines trend and seasonality:\n",
    "$$y_t = \\alpha + \\beta t + s_t + \\epsilon_t$$"
   ]
  },
  {
   "cell_type": "code",
   "execution_count": null,
   "metadata": {},
   "outputs": [],
   "source": [
    "# Trend + Seasonality with Fourier Terms\n",
    "# Create seasonal components (annual cycle for monthly data)\n",
    "period = 12  # Monthly data with annual seasonality\n",
    "seasonal_freq = 2 * np.pi / period\n",
    "sin_seasonal = np.sin(seasonal_freq * time_idx)\n",
    "cos_seasonal = np.cos(seasonal_freq * time_idx)\n",
    "\n",
    "# Add second harmonic for more flexible seasonality\n",
    "sin_seasonal_2 = np.sin(2 * seasonal_freq * time_idx)\n",
    "cos_seasonal_2 = np.cos(2 * seasonal_freq * time_idx)\n",
    "\n",
    "with pm.Model() as seasonal_model:\n",
    "    # Intercept\n",
    "    mu_overall = pm.Normal('mu_overall', mu=0, sigma=1)\n",
    "    \n",
    "    # Trend coefficient\n",
    "    beta_trend = pm.Normal('beta_trend', mu=0, sigma=1)\n",
    "    \n",
    "    # First harmonic seasonal coefficients\n",
    "    beta_sin_1 = pm.Normal('beta_sin_1', mu=0, sigma=1)\n",
    "    beta_cos_1 = pm.Normal('beta_cos_1', mu=0, sigma=1)\n",
    "    \n",
    "    # Second harmonic seasonal coefficients\n",
    "    beta_sin_2 = pm.Normal('beta_sin_2', mu=0, sigma=0.5)\n",
    "    beta_cos_2 = pm.Normal('beta_cos_2', mu=0, sigma=0.5)\n",
    "    \n",
    "    # Expected value (trend + seasonality)\n",
    "    mu_t = pm.Deterministic('mu_t', \n",
    "                           mu_overall + \n",
    "                           beta_trend * time_normalized + \n",
    "                           beta_sin_1 * sin_seasonal + \n",
    "                           beta_cos_1 * cos_seasonal +\n",
    "                           beta_sin_2 * sin_seasonal_2 + \n",
    "                           beta_cos_2 * cos_seasonal_2)\n",
    "    \n",
    "    # Observation noise\n",
    "    sigma_obs = pm.HalfNormal('sigma_obs', sigma=1)\n",
    "    \n",
    "    # Likelihood\n",
    "    y_obs = pm.Normal('y_obs', mu=mu_t, sigma=sigma_obs, observed=births_standardized)\n",
    "\n",
    "# Sample from seasonal model\n",
    "with seasonal_model:\n",
    "    trace_seasonal = pm.sample(1000, tune=1000, random_seed=RANDOM_SEED)\n",
    "\n",
    "print(\"🎯 **Seasonal Model Results**:\")\n",
    "print(az.summary(trace_seasonal, var_names=['mu_overall', 'beta_trend', 'beta_sin_1', 'beta_cos_1', 'sigma_obs']))\n",
    "\n",
    "# Calculate seasonal amplitude\n",
    "beta_sin_1_mean = az.extract(trace_seasonal)['beta_sin_1'].mean().item()\n",
    "beta_cos_1_mean = az.extract(trace_seasonal)['beta_cos_1'].mean().item()\n",
    "seasonal_amplitude = np.sqrt(beta_sin_1_mean**2 + beta_cos_1_mean**2)\n",
    "\n",
    "print(f\"\\n📈 **Seasonal Analysis**:\")\n",
    "print(f\"   • **Seasonal amplitude**: {seasonal_amplitude:.3f}\")\n",
    "print(f\"   • **Seasonal strength**: {seasonal_amplitude / births_standardized.std():.1%} of total variation\")\n",
    "if seasonal_amplitude > 0.2:\n",
    "    print(f\"   • **Interpretation**: Strong seasonal pattern detected\")\n",
    "else:\n",
    "    print(f\"   • **Interpretation**: Weak seasonal pattern\")"
   ]
  },
  {
   "cell_type": "markdown",
   "metadata": {},
   "source": [
    "## Part 3: State-Space Models in PyMC\n",
    "\n",
    "State-space models represent one of the most powerful frameworks for time series analysis. They separate the **latent state** (unobserved process) from the **observation process** (what we actually measure), enabling sophisticated modeling of complex temporal dynamics.\n",
    "\n",
    "### Mathematical Framework\n",
    "\n",
    "State-space models consist of two equations:\n",
    "\n",
    "**State equation** (evolution): $x_t = f(x_{t-1}, \\theta) + \\eta_t$\n",
    "\n",
    "**Observation equation** (measurement): $y_t = g(x_t, \\phi) + \\epsilon_t$\n",
    "\n",
    "where $x_t$ represents the **latent state**, $y_t$ is the **observation**, $\\eta_t$ and $\\epsilon_t$ are **noise terms**, and $\\theta, \\phi$ are **parameters**.\n",
    "\n",
    "### Advantages of State-Space Modeling\n",
    "\n",
    "**Latent variable modeling** allows us to separate the true underlying process from measurement noise and observation errors. **Missing data handling** becomes natural since we can estimate latent states even when observations are missing. **Hierarchical structure** enables modeling of complex relationships between multiple time series. **Uncertainty propagation** flows naturally through the state evolution, providing realistic prediction intervals."
   ]
  },
  {
   "cell_type": "markdown",
   "metadata": {},
   "source": [
    "### Local Level Model (Dynamic Linear Model)\n",
    "\n",
    "The **local level model** is the simplest state-space model, consisting of two equations:\n",
    "\n",
    "**State equation**: $\\mu_t = \\mu_{t-1} + \\eta_t$ where $\\eta_t \\sim \\mathcal{N}(0, \\sigma_{\\eta}^2)$\n",
    "\n",
    "**Observation equation**: $y_t = \\mu_t + \\epsilon_t$ where $\\epsilon_t \\sim \\mathcal{N}(0, \\sigma_{\\epsilon}^2)$\n",
    "\n",
    "where:\n",
    "- $\\mu_t$ is the **latent level** (unobserved state)\n",
    "- $\\eta_t$ is the **state innovation** (level changes)\n",
    "- $\\epsilon_t$ is the **observation noise** (measurement error)\n",
    "- $\\sigma_{\\eta}^2$ controls **state variability**\n",
    "- $\\sigma_{\\epsilon}^2$ controls **observation noise**\n",
    "\n",
    "**Key properties**:\n",
    "- **Signal-to-noise ratio**: $q = \\sigma_{\\eta}^2 / \\sigma_{\\epsilon}^2$ determines smoothness\n",
    "- **High $q$**: Flexible tracking of level changes (noisy estimates)\n",
    "- **Low $q$**: Smooth level estimates (slow adaptation)\n",
    "- **Kalman filtering**: Optimal recursive estimation of latent states\n",
    "\n",
    "**Applications**:\n",
    "- **Trend extraction** from noisy economic indicators\n",
    "- **Signal processing** in engineering applications\n",
    "- **Baseline estimation** for anomaly detection\n",
    "- **Missing data interpolation** using state estimates\n",
    "\n",
    "This model excels at **trend estimation** and **signal extraction** from noisy data while naturally handling missing observations."
   ]
  },
  {
   "cell_type": "code",
   "execution_count": null,
   "metadata": {},
   "outputs": [],
   "source": [
    "# Local Level Model (State-Space)\n",
    "with pm.Model() as local_level_model:\n",
    "    # Process noise (state evolution variance)\n",
    "    sigma_level = pm.HalfNormal('sigma_level', sigma=0.5)\n",
    "    \n",
    "    # Observation noise (measurement error variance)\n",
    "    sigma_obs = pm.HalfNormal('sigma_obs', sigma=0.5)\n",
    "    \n",
    "    # Initial level\n",
    "    init_level = pm.Normal('init_level', mu=0, sigma=1)\n",
    "    \n",
    "    # Level process (latent state - random walk)\n",
    "    init_dist = pm.Normal.dist(mu=init_level, sigma=sigma_level)\n",
    "    level = pm.GaussianRandomWalk('level',\n",
    "                                 mu=0,  # no drift in level\n",
    "                                 sigma=sigma_level,\n",
    "                                 init_dist=init_dist,\n",
    "                                 steps=n_obs-1)\n",
    "    \n",
    "    # Observations (noisy measurements of latent state)\n",
    "    obs = pm.Normal('obs', mu=level, sigma=sigma_obs, observed=births_standardized)\n",
    "\n",
    "# Sample from local level model\n",
    "with local_level_model:\n",
    "    trace_local_level = pm.sample(1000, tune=1000, random_seed=RANDOM_SEED)\n",
    "\n",
    "print(\"🎯 **Local Level Model Results**:\")\n",
    "print(az.summary(trace_local_level, var_names=['sigma_level', 'sigma_obs', 'init_level']))\n",
    "\n",
    "# Analyze signal-to-noise ratio\n",
    "sigma_level_mean = az.extract(trace_local_level)['sigma_level'].mean().item()\n",
    "sigma_obs_mean = az.extract(trace_local_level)['sigma_obs'].mean().item()\n",
    "signal_noise_ratio = sigma_level_mean / sigma_obs_mean\n",
    "\n",
    "print(f\"\\n📈 **State-Space Analysis**:\")\n",
    "print(f\"   • **Process noise**: {sigma_level_mean:.3f} - latent state variability\")\n",
    "print(f\"   • **Observation noise**: {sigma_obs_mean:.3f} - measurement error\")\n",
    "print(f\"   • **Signal-to-noise ratio**: {signal_noise_ratio:.3f}\")\n",
    "if signal_noise_ratio > 1:\n",
    "    print(f\"   • **Interpretation**: High signal relative to noise - clear underlying trend\")\n",
    "else:\n",
    "    print(f\"   • **Interpretation**: High noise relative to signal - noisy measurements\")"
   ]
  },
  {
   "cell_type": "markdown",
   "metadata": {},
   "source": [
    "### Local Linear Trend Model\n",
    "\n",
    "The **local linear trend model** extends the local level model by adding a **time-varying slope** component. This model consists of three equations:\n",
    "\n",
    "**Level equation**: $\\mu_t = \\mu_{t-1} + \\beta_{t-1} + \\eta_{\\mu,t}$ where $\\eta_{\\mu,t} \\sim \\mathcal{N}(0, \\sigma_{\\mu}^2)$\n",
    "\n",
    "**Trend equation**: $\\beta_t = \\beta_{t-1} + \\eta_{\\beta,t}$ where $\\eta_{\\beta,t} \\sim \\mathcal{N}(0, \\sigma_{\\beta}^2)$\n",
    "\n",
    "**Observation equation**: $y_t = \\mu_t + \\epsilon_t$ where $\\epsilon_t \\sim \\mathcal{N}(0, \\sigma_{\\epsilon}^2)$\n",
    "\n",
    "where:\n",
    "- $\\mu_t$ is the **time-varying level**\n",
    "- $\\beta_t$ is the **time-varying slope** (trend)\n",
    "- $\\eta_{\\mu,t}$ is the **level innovation**\n",
    "- $\\eta_{\\beta,t}$ is the **slope innovation**\n",
    "- $\\epsilon_t$ is the **observation noise**\n",
    "\n",
    "**Key features**:\n",
    "- **Adaptive trending**: The slope can change over time\n",
    "- **Smooth evolution**: Both level and slope follow random walks\n",
    "- **Flexible growth**: Can model accelerating, decelerating, or changing direction\n",
    "- **Parameter interpretation**: $\\sigma_{\\beta}^2$ controls how much the growth rate varies\n",
    "\n",
    "**Special cases**:\n",
    "- $\\sigma_{\\beta}^2 = 0$: **Constant slope** (reduces to linear trend)\n",
    "- $\\sigma_{\\mu}^2 = 0$: **Deterministic level** given trend\n",
    "- $\\sigma_{\\beta}^2 \\gg \\sigma_{\\mu}^2$: **Highly variable growth rates**\n",
    "\n",
    "This model allows both the level and the trend to evolve over time, providing greater flexibility for modeling changing growth rates in economic, demographic, or technological time series."
   ]
  },
  {
   "cell_type": "code",
   "execution_count": null,
   "metadata": {},
   "outputs": [],
   "source": [
    "# Local Linear Trend Model\n",
    "with pm.Model() as local_trend_model:\n",
    "    # Process noise variances\n",
    "    sigma_level = pm.HalfNormal('sigma_level', sigma=0.3)  # level innovation\n",
    "    sigma_trend = pm.HalfNormal('sigma_trend', sigma=0.1)  # trend innovation\n",
    "    \n",
    "    # Observation noise\n",
    "    sigma_obs = pm.HalfNormal('sigma_obs', sigma=0.5)\n",
    "    \n",
    "    # Initial conditions\n",
    "    init_level = pm.Normal('init_level', mu=0, sigma=1)\n",
    "    init_trend = pm.Normal('init_trend', mu=0, sigma=0.1)\n",
    "    \n",
    "    # Trend process (random walk)\n",
    "    trend_init_dist = pm.Normal.dist(mu=init_trend, sigma=sigma_trend)\n",
    "    trend = pm.GaussianRandomWalk('trend',\n",
    "                                 mu=0,\n",
    "                                 sigma=sigma_trend,\n",
    "                                 init_dist=trend_init_dist,\n",
    "                                 steps=n_obs-1)\n",
    "    \n",
    "    # Level process (random walk + trend)\n",
    "    # This is more complex - we'll use a simpler approximation\n",
    "    level_innovation = pm.Normal('level_innovation', mu=0, sigma=sigma_level, shape=n_obs)\n",
    "    \n",
    "    # Construct level with trend\n",
    "    level = pm.Deterministic('level', \n",
    "                            pt.cumsum(pt.concatenate([[init_level], \n",
    "                                                     trend + level_innovation[1:]])))\n",
    "    \n",
    "    # Observations\n",
    "    obs = pm.Normal('obs', mu=level, sigma=sigma_obs, observed=births_standardized)\n",
    "\n",
    "# Sample from local trend model\n",
    "with local_trend_model:\n",
    "    trace_local_trend = pm.sample(1000, tune=1000, random_seed=RANDOM_SEED)\n",
    "\n",
    "print(\"🎯 **Local Linear Trend Model Results**:\")\n",
    "print(az.summary(trace_local_trend, var_names=['sigma_level', 'sigma_trend', 'sigma_obs']))\n",
    "\n",
    "# Analyze trend variability\n",
    "sigma_trend_mean = az.extract(trace_local_trend)['sigma_trend'].mean().item()\n",
    "print(f\"\\n📈 **Trend Dynamics Analysis**:\")\n",
    "print(f\"   • **Trend variability**: {sigma_trend_mean:.4f}\")\n",
    "if sigma_trend_mean > 0.05:\n",
    "    print(f\"   • **Interpretation**: Highly variable trend - changing growth rates\")\n",
    "else:\n",
    "    print(f\"   • **Interpretation**: Stable trend - consistent growth pattern\")"
   ]
  },
  {
   "cell_type": "markdown",
   "metadata": {},
   "source": [
    "## Part 4: Stochastic Volatility Models\n",
    "\n",
    "**Stochastic volatility models** address the reality that uncertainty itself changes over time. These models are essential for financial time series where periods of calm alternate with periods of high volatility, but they're also valuable for any time series where the variability changes systematically.\n",
    "\n",
    "### Mathematical Framework\n",
    "\n",
    "The standard stochastic volatility model consists of:\n",
    "\n",
    "**Returns equation**: $r_t = \\mu + \\sigma_t \\epsilon_t$\n",
    "\n",
    "**Volatility equation**: $\\log(\\sigma_t^2) = \\log(\\sigma_{t-1}^2) + \\nu_t$\n",
    "\n",
    "where $\\epsilon_t, \\nu_t \\sim \\mathcal{N}(0,1)$ are **independent innovations**.\n",
    "\n",
    "### Applications Beyond Finance\n",
    "\n",
    "While originally developed for financial markets, stochastic volatility models apply to many domains. **Environmental data** often shows changing variability due to seasonal effects or climate change. **Economic indicators** may have periods of stability and instability. **Biological processes** can exhibit changing variance due to external stressors or developmental stages."
   ]
  },
  {
   "cell_type": "code",
   "execution_count": null,
   "metadata": {},
   "outputs": [],
   "source": [
    "# Generate synthetic data with time-varying volatility for demonstration\n",
    "np.random.seed(42)\n",
    "n_periods = 200\n",
    "true_mu = 0.02\n",
    "true_tau = 0.1\n",
    "\n",
    "# Simulate log-volatility as random walk\n",
    "log_vol = np.cumsum(np.random.normal(0, true_tau, n_periods))\n",
    "vol = np.exp(log_vol / 2)\n",
    "\n",
    "# Simulate returns with time-varying volatility\n",
    "returns = np.random.normal(true_mu, vol)\n",
    "\n",
    "print(f\"📈 Generated {n_periods} synthetic returns with stochastic volatility\")\n",
    "print(f\"   Mean return: {returns.mean():.4f}\")\n",
    "print(f\"   Return volatility: {returns.std():.4f}\")\n",
    "print(f\"   Volatility range: [{vol.min():.3f}, {vol.max():.3f}]\")"
   ]
  },
  {
   "cell_type": "markdown",
   "metadata": {},
   "source": [
    "### Stochastic Volatility Model\n",
    "\n",
    "**Stochastic volatility models** capture **time-varying uncertainty** by allowing the variance to follow its own stochastic process. The standard specification is:\n",
    "\n",
    "**Returns equation**: $r_t = \\mu + \\sigma_t \\epsilon_t$ where $\\epsilon_t \\sim \\mathcal{N}(0, 1)$\n",
    "\n",
    "**Log-volatility equation**: $\\log(\\sigma_t) = \\log(\\sigma_{t-1}) + \\nu_t$ where $\\nu_t \\sim \\mathcal{N}(0, \\tau^2)$\n",
    "\n",
    "where:\n",
    "- $r_t$ are the **returns** (or observations)\n",
    "- $\\mu$ is the **mean return**\n",
    "- $\\sigma_t$ is the **time-varying volatility**\n",
    "- $\\tau^2$ controls the **volatility of volatility**\n",
    "- $\\epsilon_t, \\nu_t$ are **independent** innovations\n",
    "\n",
    "**Mathematical properties**:\n",
    "- **Log-normal volatility**: $\\sigma_t$ is always positive\n",
    "- **Volatility clustering**: High volatility periods tend to persist\n",
    "- **Heavy tails**: Returns distribution has fatter tails than normal\n",
    "- **Leverage effect**: Can be extended to include correlation between return and volatility shocks\n",
    "\n",
    "**Parameter interpretation**:\n",
    "- **Large $\\tau$**: Highly variable volatility (regime switching)\n",
    "- **Small $\\tau$**: Stable volatility (close to constant variance)\n",
    "- **Persistence**: $\\mathbb{E}[\\log(\\sigma_{t+1}) | \\log(\\sigma_t)] = \\log(\\sigma_t)$ (unit root in log-volatility)\n",
    "\n",
    "**Applications beyond finance**:\n",
    "- **Environmental data**: Changing measurement precision\n",
    "- **Economic indicators**: Periods of stability vs. uncertainty\n",
    "- **Biological processes**: Variable response to treatments\n",
    "- **Engineering systems**: Time-varying noise characteristics"
   ]
  },
  {
   "cell_type": "code",
   "execution_count": null,
   "metadata": {},
   "outputs": [],
   "source": [
    "# Stochastic Volatility Model\n",
    "with pm.Model() as stoch_vol_model:\n",
    "    # Mean return parameter\n",
    "    mu = pm.Normal('mu', mu=0, sigma=0.1)\n",
    "    \n",
    "    # Volatility process parameters\n",
    "    tau = pm.HalfNormal('tau', sigma=0.2)  # Innovation in log-volatility\n",
    "    \n",
    "    # Log-volatility random walk\n",
    "    init_dist = pm.Normal.dist(mu=np.log(0.1), sigma=1)\n",
    "    log_sigma = pm.GaussianRandomWalk('log_sigma',\n",
    "                                     mu=0,\n",
    "                                     sigma=tau,\n",
    "                                     init_dist=init_dist,\n",
    "                                     steps=n_periods-1)\n",
    "    \n",
    "    # Convert to volatility (ensure positivity)\n",
    "    sigma = pm.Deterministic('sigma', pm.math.exp(log_sigma))\n",
    "    \n",
    "    # Likelihood (returns with time-varying volatility)\n",
    "    y_pred = pm.Normal('y_pred', mu=mu, sigma=sigma, observed=returns)\n",
    "\n",
    "# Sample from stochastic volatility model\n",
    "with stoch_vol_model:\n",
    "    trace_sv = pm.sample(1000, tune=2000, target_accept=0.9, random_seed=RANDOM_SEED)\n",
    "\n",
    "print(\"🎯 **Stochastic Volatility Model Results**:\")\n",
    "print(az.summary(trace_sv, var_names=['mu', 'tau']))\n",
    "\n",
    "# Analyze volatility dynamics\n",
    "tau_mean = az.extract(trace_sv)['tau'].mean().item()\n",
    "sigma_posterior = az.extract(trace_sv)['sigma']\n",
    "vol_persistence = np.corrcoef(sigma_posterior[:-1], sigma_posterior[1:])[0,1]\n",
    "\n",
    "print(f\"\\n📈 **Volatility Analysis**:\")\n",
    "print(f\"   • **Volatility innovation**: {tau_mean:.4f}\")\n",
    "print(f\"   • **Volatility persistence**: {vol_persistence:.3f}\")\n",
    "print(f\"   • **Mean volatility**: {sigma_posterior.mean():.3f}\")\n",
    "if tau_mean > 0.1:\n",
    "    print(f\"   • **Interpretation**: Highly variable volatility - regime changes\")\n",
    "else:\n",
    "    print(f\"   • **Interpretation**: Stable volatility - gradual changes\")"
   ]
  },
  {
   "cell_type": "markdown",
   "metadata": {},
   "source": [
    "## Part 5: Gaussian Process Regression for Time Series\n",
    "\n",
    "**Gaussian Processes (GPs)** provide the ultimate flexibility in time series modeling by learning the temporal structure directly from data without imposing strong parametric assumptions. They excel when the functional form is unknown or when we want to capture complex, non-linear patterns.\n",
    "\n",
    "### Key Concepts\n",
    "\n",
    "**Covariance functions** (kernels) define the relationship between points in time, encoding our assumptions about smoothness, periodicity, and other structural properties. **Length scales** control how quickly correlations decay with time separation. **Marginal variance** controls the overall variability of the process. **Hyperparameter learning** allows the model to adapt these properties to the data.\n",
    "\n",
    "### Advantages of GP Modeling\n",
    "\n",
    "**Non-parametric flexibility** means we don't need to specify a particular functional form in advance. **Uncertainty quantification** is built-in, providing credible intervals that naturally widen in regions with less data. **Kernel composition** allows combining different temporal patterns (trends, seasonality, noise) in principled ways. **Extrapolation** provides reasonable predictions beyond the training data with appropriate uncertainty."
   ]
  },
  {
   "cell_type": "code",
   "execution_count": null,
   "metadata": {},
   "outputs": [],
   "source": [
    "# Prepare data for GP regression (use subset for computational efficiency)\n",
    "n_gp = 100\n",
    "X_gp = np.arange(n_gp)[:, None]  # Time points (must be 2D for GP)\n",
    "y_gp = births_standardized[:n_gp]  # Observations\n",
    "\n",
    "print(f\"📊 GP data prepared: {n_gp} observations\")\n",
    "print(f\"   Time range: 0 to {n_gp-1}\")\n",
    "print(f\"   Data range: [{y_gp.min():.3f}, {y_gp.max():.3f}]\")"
   ]
  },
  {
   "cell_type": "markdown",
   "metadata": {},
   "source": [
    "### Gaussian Process with RBF Kernel\n",
    "\n",
    "We'll start with a **Radial Basis Function (RBF)** kernel, also known as the squared exponential kernel. The RBF kernel is defined as:\n",
    "\n",
    "$$k(t_i, t_j) = \\sigma_f^2 \\exp\\left(-\\frac{(t_i - t_j)^2}{2\\ell^2}\\right)$$\n",
    "\n",
    "where:\n",
    "- $\\sigma_f^2$ is the **signal variance** (marginal variance)\n",
    "- $\\ell$ is the **length scale** (correlation distance)\n",
    "- $t_i, t_j$ are **time points**\n",
    "\n",
    "**Mathematical properties**:\n",
    "- **Smoothness**: Infinitely differentiable (very smooth functions)\n",
    "- **Stationarity**: Covariance depends only on $|t_i - t_j|$\n",
    "- **Isotropy**: Same behavior in all directions\n",
    "- **Decay**: Correlation decreases exponentially with distance\n",
    "\n",
    "**Hyperparameter interpretation**:\n",
    "- **Large $\\ell$**: Long-range correlations, smooth trends\n",
    "- **Small $\\ell$**: Short-range correlations, rapid changes\n",
    "- **Large $\\sigma_f^2$**: High signal variance, large deviations from mean\n",
    "- **Small $\\sigma_f^2$**: Low signal variance, stays close to mean\n",
    "\n",
    "The complete GP model includes observation noise:\n",
    "$$y_t = f(t) + \\epsilon_t$$\n",
    "where $f(t) \\sim \\mathcal{GP}(0, k(t_i, t_j))$ and $\\epsilon_t \\sim \\mathcal{N}(0, \\sigma_n^2)$.\n",
    "\n",
    "This kernel assumes smooth, continuous functions and is excellent for capturing non-linear trends without sharp discontinuities."
   ]
  },
  {
   "cell_type": "code",
   "execution_count": null,
   "metadata": {},
   "outputs": [],
   "source": [
    "# Gaussian Process with RBF Kernel\n",
    "with pm.Model() as gp_model:\n",
    "    # GP hyperparameters\n",
    "    length_scale = pm.HalfNormal('length_scale', sigma=10.0)  # temporal correlation\n",
    "    eta = pm.HalfNormal('eta', sigma=1.0)  # marginal standard deviation\n",
    "    \n",
    "    # Define the covariance function (RBF/Squared Exponential)\n",
    "    cov_func = eta**2 * pm.gp.cov.ExpQuad(1, ls=length_scale)\n",
    "    \n",
    "    # GP prior\n",
    "    gp = pm.gp.Marginal(cov_func=cov_func)\n",
    "    \n",
    "    # Observation noise\n",
    "    sigma_gp = pm.HalfNormal('sigma_gp', sigma=0.5)\n",
    "    \n",
    "    # Observed data\n",
    "    y_pred = gp.marginal_likelihood('y_pred', X=X_gp, y=y_gp, sigma=sigma_gp)\n",
    "\n",
    "# Sample from the model\n",
    "with gp_model:\n",
    "    trace_gp = pm.sample(1000, tune=1000, random_seed=RANDOM_SEED)\n",
    "\n",
    "print(\"🎯 **Gaussian Process Model Results**:\")\n",
    "print(az.summary(trace_gp, var_names=['length_scale', 'eta', 'sigma_gp']))\n",
    "\n",
    "# Interpret GP hyperparameters\n",
    "length_scale_mean = az.extract(trace_gp)['length_scale'].mean().item()\n",
    "eta_mean = az.extract(trace_gp)['eta'].mean().item()\n",
    "sigma_gp_mean = az.extract(trace_gp)['sigma_gp'].mean().item()\n",
    "\n",
    "print(f\"\\n📈 **GP Analysis**:\")\n",
    "print(f\"   • **Length scale**: {length_scale_mean:.2f} time units\")\n",
    "print(f\"   • **Signal variance**: {eta_mean:.3f}\")\n",
    "print(f\"   • **Noise variance**: {sigma_gp_mean:.3f}\")\n",
    "print(f\"   • **Signal-to-noise ratio**: {eta_mean/sigma_gp_mean:.2f}\")\n",
    "if length_scale_mean > 20:\n",
    "    print(f\"   • **Interpretation**: Long-range correlations - smooth trends\")\n",
    "elif length_scale_mean > 5:\n",
    "    print(f\"   • **Interpretation**: Medium-range correlations - moderate smoothness\")\n",
    "else:\n",
    "    print(f\"   • **Interpretation**: Short-range correlations - rapid changes\")"
   ]
  },
  {
   "cell_type": "markdown",
   "metadata": {},
   "source": [
    "## Model Comparison and Selection\n",
    "\n",
    "With multiple models fitted to our data, we need principled methods for comparing their performance and selecting the most appropriate approach. **Bayesian model comparison** provides several tools for this purpose, each with different strengths and applications."
   ]
  },
  {
   "cell_type": "code",
   "execution_count": null,
   "metadata": {},
   "outputs": [],
   "source": [
    "# Compare models using WAIC (Widely Applicable Information Criterion)\n",
    "# Note: We'll compare models that use the same data\n",
    "models_dict = {\n",
    "    'Random Walk': trace_rw,\n",
    "    'RW with Drift': trace_rw_drift,\n",
    "    'AR(1)': trace_ar1,\n",
    "    'Linear Trend': trace_linear,\n",
    "    'Polynomial Trend': trace_poly,\n",
    "    'Seasonal Model': trace_seasonal,\n",
    "    'Local Level': trace_local_level\n",
    "}\n",
    "\n",
    "# Compute WAIC for model comparison\n",
    "comparison = az.compare(models_dict, ic='waic')\n",
    "print(\"🎯 **Model Comparison Results (WAIC)**:\")\n",
    "print(comparison)\n",
    "\n",
    "# Visualize model comparison\n",
    "fig, (ax1, ax2) = plt.subplots(1, 2, figsize=(15, 6))\n",
    "\n",
    "# Plot WAIC comparison\n",
    "az.plot_compare(comparison, ax=ax1)\n",
    "ax1.set_title('Model Comparison: WAIC Scores')\n",
    "\n",
    "# Plot model weights\n",
    "model_names = comparison.index\n",
    "weights = comparison['weight']\n",
    "ax2.bar(range(len(model_names)), weights, color='steelblue', alpha=0.7)\n",
    "ax2.set_xticks(range(len(model_names)))\n",
    "ax2.set_xticklabels(model_names, rotation=45, ha='right')\n",
    "ax2.set_ylabel('Model Weight')\n",
    "ax2.set_title('Model Weights (Probability)')\n",
    "ax2.grid(True, alpha=0.3)\n",
    "\n",
    "plt.tight_layout()\n",
    "plt.show()\n",
    "\n",
    "# Interpret results\n",
    "best_model = comparison.index[0]\n",
    "best_weight = comparison.loc[best_model, 'weight']\n",
    "\n",
    "print(f\"\\n📊 **Model Selection Insights**:\")\n",
    "print(f\"   • **Best model**: {best_model} (weight: {best_weight:.3f})\")\n",
    "print(f\"   • **WAIC interpretation**: Lower values indicate better predictive performance\")\n",
    "print(f\"   • **Model weights**: Represent relative probability of each model\")\n",
    "if best_weight > 0.5:\n",
    "    print(f\"   • **Conclusion**: Strong evidence favors the {best_model} model\")\n",
    "else:\n",
    "    print(f\"   • **Conclusion**: Model uncertainty - consider ensemble approaches\")"
   ]
  },
  {
   "cell_type": "markdown",
   "metadata": {},
   "source": [
    "## Summary and Key Insights\n",
    "\n",
    "In this comprehensive section, we've explored the rich landscape of Bayesian time series models, from fundamental building blocks to sophisticated state-space and non-parametric approaches. Each model type offers unique advantages and is suited to different types of temporal patterns and modeling objectives.\n",
    "\n",
    "### Model Categories and Applications\n",
    "\n",
    "**Gaussian Random Walks** serve as the foundation for many time series models, providing smooth trend estimation and natural uncertainty propagation. These models excel when we need to capture gradual changes over time without imposing rigid functional forms. The ability to add drift terms makes them suitable for trending data, while their computational efficiency makes them practical for large datasets.\n",
    "\n",
    "**Bayesian Regression Models** offer maximum interpretability by explicitly modeling trend and seasonal components. The linear trend model provides a baseline for understanding directional movement, while polynomial extensions capture more complex curvature patterns. Fourier-based seasonal models elegantly handle periodic patterns and can accommodate multiple seasonal frequencies simultaneously.\n",
    "\n",
    "**State-Space Models** represent the most flexible framework for separating latent dynamics from observation processes. The local level model excels at signal extraction from noisy data, while local linear trend models capture time-varying growth rates. These models naturally handle missing data and provide a foundation for more complex hierarchical structures.\n",
    "\n",
    "**Stochastic Volatility Models** address the crucial reality that uncertainty itself changes over time. While originally developed for financial applications, these models apply broadly to any domain where variability patterns are of interest. They provide insights into regime changes and help identify periods of stability versus instability.\n",
    "\n",
    "**Gaussian Process Models** offer ultimate flexibility by learning temporal structure directly from data. Their non-parametric nature makes them ideal for exploratory analysis and situations where the functional form is unknown. The ability to compose kernels allows for sophisticated modeling of multiple temporal patterns simultaneously.\n",
    "\n",
    "### Practical Modeling Guidelines\n",
    "\n",
    "**Start simple** and build complexity gradually. Random walks and linear trends provide excellent baselines that often perform surprisingly well. **Consider the data characteristics** when choosing models—trending data benefits from drift terms or explicit trend modeling, while seasonal data requires appropriate periodic components.\n",
    "\n",
    "**Use domain knowledge** to guide model selection and prior specification. Understanding the underlying process generating your data helps choose appropriate model structures and realistic parameter ranges. **Validate thoroughly** using posterior predictive checks and out-of-sample evaluation to ensure models capture essential patterns without overfitting.\n",
    "\n",
    "**Embrace uncertainty** in model selection. When multiple models perform similarly, consider ensemble approaches that average across models weighted by their posterior probabilities. This approach often provides more robust predictions than relying on a single \"best\" model.\n",
    "\n",
    "### Computational Considerations\n",
    "\n",
    "**Model complexity** directly impacts computational requirements. Simple models like random walks and linear regression scale well to large datasets, while Gaussian processes become computationally intensive for more than a few hundred observations. **Prior specification** significantly affects convergence—weakly informative priors often provide the best balance between regularization and flexibility.\n",
    "\n",
    "**Convergence diagnostics** remain crucial regardless of model complexity. Always examine R-hat values, effective sample sizes, and trace plots to ensure reliable inference. **Computational efficiency** can often be improved through data standardization, appropriate parameterizations, and careful prior choices.\n",
    "\n",
    "**Next**: In the following sections, we'll explore model evaluation techniques, forecasting methods, and practical applications that build upon these foundational modeling approaches.\n",
    "\n",
    "---\n",
    "\n",
    "**Key Takeaways**:\n",
    "- Bayesian time series modeling offers a rich toolkit for capturing temporal patterns while quantifying uncertainty\n",
    "- Random walks provide flexible trend modeling, regression approaches offer interpretable component decomposition\n",
    "- State-space models separate signal from noise, stochastic volatility captures changing uncertainty\n",
    "- Gaussian processes provide non-parametric flexibility for complex temporal patterns\n",
    "- Model selection should balance complexity with interpretability, always validated through rigorous posterior checking and out-of-sample evaluation\n",
    "- The Bayesian framework naturally handles uncertainty in both parameters and model structure, providing robust foundations for forecasting and decision-making under uncertainty"
   ]
  }
 ],
 "metadata": {
  "kernelspec": {
   "display_name": "default",
   "language": "python",
   "name": "python3"
  },
  "language_info": {
   "codemirror_mode": {
    "name": "ipython",
    "version": 3
   },
   "file_extension": ".py",
   "mimetype": "text/x-python",
   "name": "python",
   "nbconvert_exporter": "python",
   "pygments_lexer": "ipython3",
   "version": "3.13.3"
  }
 },
 "nbformat": 4,
 "nbformat_minor": 4
}
