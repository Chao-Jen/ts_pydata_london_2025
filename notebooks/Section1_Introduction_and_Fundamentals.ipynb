{
 "cells": [
  {
   "cell_type": "markdown",
   "metadata": {},
   "source": [
    "# Section 1: Introduction and Fundamentals\n",
    "\n",
    "#### PyData London 2025 - Bayesian Time Series Analysis with PyMC\n",
    "\n",
    "---\n",
    "\n",
    "## Motivation for Bayesian Time Series Analysis\n",
    "\n",
    "Traditional time series analysis has served us well for decades, but it suffers from a fundamental limitation: **uncertainty is often treated as an afterthought**. When we build an ARIMA model or apply exponential smoothing, we typically get point forecasts with some measure of \"confidence intervals\" that are often based on strong distributional assumptions and may not reflect the true uncertainty in our predictions.\n",
    "\n",
    "**Bayesian time series analysis fundamentally changes this perspective** by treating uncertainty as a first-class citizen throughout the entire modeling process. Instead of obtaining single-valued predictions, we get complete **probability distributions** over all possible future values, conditioned on our data and our modeling assumptions.\n",
    "\n",
    "### Handling Uncertainty\n",
    "\n",
    "Consider predicting next month's sales. A classical approach might tell us \"we expect 1,000 units ± 100.\" But what does this really mean? Are we 90% confident? 95%? What's the shape of this uncertainty—is it symmetric or skewed?\n",
    "\n",
    "A Bayesian approach instead tells us: \"There's a 20% chance sales will be below 950 units, a 50% chance they'll be between 950 and 1,050, and a 30% chance they'll exceed 1,050.\" This **probabilistic language** is much more natural for decision-making under uncertainty.\n",
    "\n",
    "### Incorporating Prior Knowledge\n",
    "\n",
    "Time series data often come with rich domain knowledge. We might know that:\n",
    "- Sales are typically higher in December due to holiday shopping\n",
    "- Stock volatility tends to cluster (high volatility periods are followed by more high volatility)\n",
    "- Economic indicators don't change dramatically from day to day\n",
    "\n",
    "**Bayesian methods provide a principled way to incorporate this knowledge** through prior distributions, rather than treating each dataset as if we know nothing about the world.\n",
    "\n",
    "### Flexibility for Complex Patterns\n",
    "\n",
    "Bayesian approaches allow us to naturally handle:\n",
    "- **Missing data**: Rather than imputing or interpolating, we can model missingness directly\n",
    "- **Irregular spacing**: No need to artificially regularize timestamps\n",
    "- **Multiple seasonality**: Hierarchical models naturally accommodate daily, weekly, and yearly patterns\n",
    "- **Changing relationships**: Time-varying parameters are natural in the Bayesian framework"
   ]
  },
  {
   "cell_type": "code",
   "execution_count": 7,
   "metadata": {},
   "outputs": [
    {
     "name": "stdout",
     "output_type": "stream",
     "text": [
      "📊 Libraries loaded successfully!\n"
     ]
    }
   ],
   "source": [
    "# Import necessary libraries for Section 1\n",
    "import numpy as np\n",
    "import polars as pl\n",
    "import plotly.graph_objects as go\n",
    "from plotly.subplots import make_subplots\n",
    "import warnings\n",
    "from statsmodels.tsa.stattools import acf\n",
    "\n",
    "warnings.filterwarnings('ignore')\n",
    "\n",
    "RNG = np.random.default_rng(RANDOM_SEED:=42)\n",
    "\n",
    "print(\"📊 Libraries loaded successfully!\")"
   ]
  },
  {
   "cell_type": "markdown",
   "metadata": {},
   "source": [
    "## Key Characteristics of Time Series Data\n",
    "\n",
    "Before diving into Bayesian methods, let's establish a solid foundation in time series fundamentals. Understanding these characteristics is crucial for building appropriate models and interpreting results effectively.\n",
    "\n",
    "### The Anatomy of Time Series: Core Components\n",
    "\n",
    "Time series data can be understood as a combination of several fundamental components. Think of these as the **\"building blocks\"** that, when combined, create the patterns we observe in real-world data. Understanding each component is crucial for effective modeling and interpretation.\n",
    "\n",
    "#### 1. **Trend ($T_t$)**: The Long-Term Direction\n",
    "\n",
    "The **trend** represents the underlying long-term movement in the data, answering the fundamental question: \"Where is this series heading over time?\" Trends can take various forms depending on the underlying process generating the data.\n",
    "\n",
    "A **linear trend** shows steady increase or decrease over time, such as population growth in a stable society or the gradual decline in manufacturing employment in developed countries. **Non-linear trends** exhibit curved patterns, including exponential growth seen in technology adoption or S-shaped curves characteristic of market saturation processes. Some time series exhibit **changing trends** where the direction shifts over time, commonly observed in economic cycles where growth periods alternate with contractions.\n",
    "\n",
    "#### 2. **Seasonality ($S_t$)**: Predictable Recurring Patterns\n",
    "\n",
    "**Seasonal patterns** repeat over fixed, known periods, and their key characteristic is **predictability**—if you know the season, you can anticipate the pattern with reasonable confidence. This predictability makes seasonality one of the most valuable components for forecasting.\n",
    "\n",
    "**Annual seasonality** appears in phenomena like holiday sales spikes, agricultural production cycles, and weather-dependent energy consumption. **Weekly seasonality** is common in business data, where website traffic peaks on weekdays or retail sales follow consistent weekly patterns. **Daily seasonality** manifests in rush hour traffic patterns, electricity usage that peaks during evening hours, or social media activity that varies throughout the day. Many real-world time series exhibit **multiple seasonality**, such as retail data that shows both weekly patterns (higher weekend sales) and annual patterns (holiday shopping seasons).\n",
    "\n",
    "#### 3. **Cyclical Patterns ($C_t$)**: Irregular Long-Term Fluctuations\n",
    "\n",
    "Unlike seasonality, **cyclical patterns** have variable periods and are often driven by external factors that don't follow a fixed schedule. These cycles represent longer-term fluctuations that can span several years or even decades.\n",
    "\n",
    "**Business cycles** encompass economic expansions and recessions that vary in duration and intensity. **Market cycles** include bull and bear markets in financial data, where periods of growth and decline don't follow predictable timing. **Natural cycles** such as El Niño and La Niña climate patterns affect weather, agriculture, and economic activity over multi-year periods with irregular timing.\n",
    "\n",
    "#### 4. **Irregular/Noise ($\\epsilon_t$)**: The Unpredictable Component\n",
    "\n",
    "The **irregular component** represents random variation that cannot be explained by trend, seasonality, or cycles. This component is inherently unpredictable but understanding its sources helps in model specification and interpretation.\n",
    "\n",
    "**Measurement errors** include sensor noise, rounding errors, and data collection inconsistencies that add random variation to observations. **Random events** such as unexpected news, natural disasters, or policy changes create one-time shocks that don't follow systematic patterns. **Model limitations** also contribute to the irregular component when our models cannot capture patterns that are too complex or when important variables are omitted from the analysis.\n",
    "\n",
    "### Mathematical Decomposition Models\n",
    "\n",
    "We can combine these components in two fundamental ways, each with distinct mathematical properties and practical implications for modeling and forecasting.\n",
    "\n",
    "The **additive model** expresses the observed time series as the sum of its components: $y_t = T_t + S_t + C_t + \\epsilon_t$. In this formulation, components add together linearly, meaning that seasonal fluctuations remain constant in absolute terms over time. This model is particularly appropriate for stable, mature time series where the magnitude of seasonal variation doesn't change as the overall level of the series changes. For example, if a retail store consistently sells 100 more units in December than in January regardless of whether total sales are 1,000 or 10,000 units, an additive model would be appropriate.\n",
    "\n",
    "The **multiplicative model** expresses the time series as the product of its components: $y_t = T_t \\times S_t \\times C_t \\times \\epsilon_t$. Here, components multiply together, which means that seasonal fluctuations change proportionally with the trend level. This model is common for growing time series where seasonal effects become larger as the overall series grows. For instance, if a company's December sales are consistently 20% higher than January sales regardless of the company's size, a multiplicative model would capture this proportional relationship effectively.\n",
    "\n",
    "### Temporal Dependence: The Heart of Time Series\n",
    "\n",
    "The defining characteristic that makes time series data special is **temporal dependence**—observations that are close in time are typically more similar than observations that are far apart. This fundamental property violates the independence assumption underlying most statistical methods and necessitates specialized time series techniques.\n",
    "\n",
    "**Autocorrelation** provides a mathematical framework for quantifying this temporal dependence. The autocorrelation function measures the linear relationship between observations separated by different time intervals:\n",
    "\n",
    "$$\\rho_h = \\text{Corr}(y_t, y_{t+h}) = \\frac{\\text{Cov}(y_t, y_{t+h})}{\\sqrt{\\text{Var}(y_t)\\text{Var}(y_{t+h})}}$$\n",
    "\n",
    "where $h$ represents the **lag** or time separation between observations.\n",
    "\n",
    "Understanding autocorrelation patterns reveals crucial insights about the underlying data generating process. At lag zero, we have $\\rho_0 = 1$ since any variable is perfectly correlated with itself. For all other lags, the autocorrelation is bounded: $|\\rho_h| \\leq 1$. **Strong autocorrelation** at short lags indicates that recent observations are highly predictive of future values, making forecasting possible and effective. Conversely, **weak autocorrelation** suggests that the series behaves more like random noise, making prediction challenging. Different autocorrelation patterns reveal different underlying processes: slowly decaying autocorrelations suggest trending behavior, while oscillating patterns indicate seasonal or cyclical components.\n",
    "\n",
    "### Stationarity: A Fundamental Concept\n",
    "\n",
    "A time series is **stationary** if its statistical properties remain constant over time. This concept is fundamental to time series analysis because many statistical methods and theoretical results depend on this assumption.\n",
    "\n",
    "**Strict stationarity** requires that the joint distribution of any collection of observations is invariant to time shifts. However, in practice, we typically work with **weak stationarity** (also called covariance stationarity), which requires three conditions. First, the **mean must be constant**: $E[y_t] = \\mu$ for all time points $t$, meaning the series doesn't exhibit trending behavior. Second, the **variance must be constant**: $\\text{Var}(y_t) = \\sigma^2$ for all $t$, indicating that the variability around the mean doesn't change over time. Third, the **covariance must be time-invariant**: $\\text{Cov}(y_t, y_{t+h})$ depends only on the lag $h$, not on the specific time point $t$.\n",
    "\n",
    "**Stationarity matters** for several crucial reasons in time series analysis. Many statistical methods, including classical forecasting techniques and some Bayesian models, assume stationarity for their theoretical validity. **Non-stationary series** can lead to spurious relationships where variables appear correlated simply because they both trend over time, even when no true causal relationship exists. Fortunately, many non-stationary series can be made stationary through appropriate **transformations**. Differencing removes trends by computing $y_t - y_{t-1}$, detrending removes systematic time-dependent patterns, and variance-stabilizing transformations like logarithms can address changing variability."
   ]
  },
  {
   "cell_type": "code",
   "execution_count": 8,
   "metadata": {},
   "outputs": [
    {
     "name": "stdout",
     "output_type": "stream",
     "text": [
      "📈 Births Dataset Overview:\n",
      "   • Total months: 228\n",
      "   • Date range: 1970 to 1988\n",
      "   • Monthly births range: 237,302 to 354,599\n",
      "   • Average monthly births: 293389\n",
      "   • Standard deviation: 25082\n",
      "\n",
      "📋 First few observations:\n",
      "shape: (10, 3)\n",
      "┌──────┬───────┬────────┐\n",
      "│ year ┆ month ┆ births │\n",
      "│ ---  ┆ ---   ┆ ---    │\n",
      "│ i64  ┆ i64   ┆ i64    │\n",
      "╞══════╪═══════╪════════╡\n",
      "│ 1970 ┆ 1     ┆ 302278 │\n",
      "│ 1970 ┆ 2     ┆ 281488 │\n",
      "│ 1970 ┆ 3     ┆ 307448 │\n",
      "│ 1970 ┆ 4     ┆ 287090 │\n",
      "│ 1970 ┆ 5     ┆ 298140 │\n",
      "│ 1970 ┆ 6     ┆ 303378 │\n",
      "│ 1970 ┆ 7     ┆ 330452 │\n",
      "│ 1970 ┆ 8     ┆ 331326 │\n",
      "│ 1970 ┆ 9     ┆ 332496 │\n",
      "│ 1970 ┆ 10    ┆ 324422 │\n",
      "└──────┴───────┴────────┘\n"
     ]
    }
   ],
   "source": [
    "# Load and explore the births dataset - a classic time series example\n",
    "# Handle null values in the data\n",
    "births_data = pl.read_csv('../data/births.csv', null_values=['null', 'NA', '', 'NULL'])\n",
    "\n",
    "# Filter out rows with null days if any exist\n",
    "births_data = births_data.filter(pl.col('day').is_not_null())\n",
    "\n",
    "# Aggregate to monthly data\n",
    "monthly_births = (births_data\n",
    "    .group_by(['year', 'month'])\n",
    "    .agg(pl.col('births').sum())\n",
    "    .sort(['year', 'month'])\n",
    ")\n",
    "\n",
    "# Create valid dates using the first day of each month\n",
    "monthly_births = monthly_births.with_columns([\n",
    "    pl.date(pl.col('year'), pl.col('month'), 1).alias('date')\n",
    "])\n",
    "\n",
    "# Focus on a 20-year period for clarity (1970-1990)\n",
    "births_subset = (monthly_births\n",
    "    .filter((pl.col('year') >= 1970) & (pl.col('year') <= 1990))\n",
    "    .with_row_index('index')\n",
    ")\n",
    "\n",
    "print(f\"📈 Births Dataset Overview:\")\n",
    "print(f\"   • Total months: {births_subset.height}\")\n",
    "print(f\"   • Date range: {births_subset['year'].min()} to {births_subset['year'].max()}\")\n",
    "print(f\"   • Monthly births range: {births_subset['births'].min():,} to {births_subset['births'].max():,}\")\n",
    "print(f\"   • Average monthly births: {births_subset['births'].mean():.0f}\")\n",
    "print(f\"   • Standard deviation: {births_subset['births'].std():.0f}\")\n",
    "\n",
    "# Display the first few observations\n",
    "print(f\"\\n📋 First few observations:\")\n",
    "print(births_subset.select(['year', 'month', 'births']).head(10))"
   ]
  },
  {
   "cell_type": "markdown",
   "metadata": {},
   "source": [
    "## Exploring Time Series Components in the Births Dataset\n",
    "\n",
    "Now let's apply our understanding of time series components to the births dataset. We'll visualize the data and identify the different components that make up this time series."
   ]
  },
  {
   "cell_type": "code",
   "execution_count": 9,
   "metadata": {},
   "outputs": [
    {
     "data": {
      "application/vnd.plotly.v1+json": {
       "config": {
        "plotlyServerURL": "https://plot.ly"
       },
       "data": [
        {
         "line": {
          "color": "steelblue",
          "width": 1.5
         },
         "mode": "lines",
         "name": "Monthly Births",
         "showlegend": false,
         "type": "scatter",
         "x": [
          "1970-01-01",
          "1970-02-01",
          "1970-03-01",
          "1970-04-01",
          "1970-05-01",
          "1970-06-01",
          "1970-07-01",
          "1970-08-01",
          "1970-09-01",
          "1970-10-01",
          "1970-11-01",
          "1970-12-01",
          "1971-01-01",
          "1971-02-01",
          "1971-03-01",
          "1971-04-01",
          "1971-05-01",
          "1971-06-01",
          "1971-07-01",
          "1971-08-01",
          "1971-09-01",
          "1971-10-01",
          "1971-11-01",
          "1971-12-01",
          "1972-01-01",
          "1972-02-01",
          "1972-03-01",
          "1972-04-01",
          "1972-05-01",
          "1972-06-01",
          "1972-07-01",
          "1972-08-01",
          "1972-09-01",
          "1972-10-01",
          "1972-11-01",
          "1972-12-01",
          "1973-01-01",
          "1973-02-01",
          "1973-03-01",
          "1973-04-01",
          "1973-05-01",
          "1973-06-01",
          "1973-07-01",
          "1973-08-01",
          "1973-09-01",
          "1973-10-01",
          "1973-11-01",
          "1973-12-01",
          "1974-01-01",
          "1974-02-01",
          "1974-03-01",
          "1974-04-01",
          "1974-05-01",
          "1974-06-01",
          "1974-07-01",
          "1974-08-01",
          "1974-09-01",
          "1974-10-01",
          "1974-11-01",
          "1974-12-01",
          "1975-01-01",
          "1975-02-01",
          "1975-03-01",
          "1975-04-01",
          "1975-05-01",
          "1975-06-01",
          "1975-07-01",
          "1975-08-01",
          "1975-09-01",
          "1975-10-01",
          "1975-11-01",
          "1975-12-01",
          "1976-01-01",
          "1976-02-01",
          "1976-03-01",
          "1976-04-01",
          "1976-05-01",
          "1976-06-01",
          "1976-07-01",
          "1976-08-01",
          "1976-09-01",
          "1976-10-01",
          "1976-11-01",
          "1976-12-01",
          "1977-01-01",
          "1977-02-01",
          "1977-03-01",
          "1977-04-01",
          "1977-05-01",
          "1977-06-01",
          "1977-07-01",
          "1977-08-01",
          "1977-09-01",
          "1977-10-01",
          "1977-11-01",
          "1977-12-01",
          "1978-01-01",
          "1978-02-01",
          "1978-03-01",
          "1978-04-01",
          "1978-05-01",
          "1978-06-01",
          "1978-07-01",
          "1978-08-01",
          "1978-09-01",
          "1978-10-01",
          "1978-11-01",
          "1978-12-01",
          "1979-01-01",
          "1979-02-01",
          "1979-03-01",
          "1979-04-01",
          "1979-05-01",
          "1979-06-01",
          "1979-07-01",
          "1979-08-01",
          "1979-09-01",
          "1979-10-01",
          "1979-11-01",
          "1979-12-01",
          "1980-01-01",
          "1980-02-01",
          "1980-03-01",
          "1980-04-01",
          "1980-05-01",
          "1980-06-01",
          "1980-07-01",
          "1980-08-01",
          "1980-09-01",
          "1980-10-01",
          "1980-11-01",
          "1980-12-01",
          "1981-01-01",
          "1981-02-01",
          "1981-03-01",
          "1981-04-01",
          "1981-05-01",
          "1981-06-01",
          "1981-07-01",
          "1981-08-01",
          "1981-09-01",
          "1981-10-01",
          "1981-11-01",
          "1981-12-01",
          "1982-01-01",
          "1982-02-01",
          "1982-03-01",
          "1982-04-01",
          "1982-05-01",
          "1982-06-01",
          "1982-07-01",
          "1982-08-01",
          "1982-09-01",
          "1982-10-01",
          "1982-11-01",
          "1982-12-01",
          "1983-01-01",
          "1983-02-01",
          "1983-03-01",
          "1983-04-01",
          "1983-05-01",
          "1983-06-01",
          "1983-07-01",
          "1983-08-01",
          "1983-09-01",
          "1983-10-01",
          "1983-11-01",
          "1983-12-01",
          "1984-01-01",
          "1984-02-01",
          "1984-03-01",
          "1984-04-01",
          "1984-05-01",
          "1984-06-01",
          "1984-07-01",
          "1984-08-01",
          "1984-09-01",
          "1984-10-01",
          "1984-11-01",
          "1984-12-01",
          "1985-01-01",
          "1985-02-01",
          "1985-03-01",
          "1985-04-01",
          "1985-05-01",
          "1985-06-01",
          "1985-07-01",
          "1985-08-01",
          "1985-09-01",
          "1985-10-01",
          "1985-11-01",
          "1985-12-01",
          "1986-01-01",
          "1986-02-01",
          "1986-03-01",
          "1986-04-01",
          "1986-05-01",
          "1986-06-01",
          "1986-07-01",
          "1986-08-01",
          "1986-09-01",
          "1986-10-01",
          "1986-11-01",
          "1986-12-01",
          "1987-01-01",
          "1987-02-01",
          "1987-03-01",
          "1987-04-01",
          "1987-05-01",
          "1987-06-01",
          "1987-07-01",
          "1987-08-01",
          "1987-09-01",
          "1987-10-01",
          "1987-11-01",
          "1987-12-01",
          "1988-01-01",
          "1988-02-01",
          "1988-03-01",
          "1988-04-01",
          "1988-05-01",
          "1988-06-01",
          "1988-07-01",
          "1988-08-01",
          "1988-09-01",
          "1988-10-01",
          "1988-11-01",
          "1988-12-01"
         ],
         "xaxis": "x",
         "y": {
          "bdata": "xpwEAJBLBAD4sAQAcmEEAJyMBAASoQQA1AoFAD4OBQDQEgUARvMEAGS5BADOBwUA+sUEAJRVBABYtAQAYF4EAP5YBABOWwQAfqkEACLHBADuwAQAkKAEAKJMBADKXgQAQDgEAM4CBADtLAQAY+QDAMcfBACF+AMA/D4EADpnBADEUQQAvzUEAN0JBAB7OgQA8xAEABywAwDCHAQAEskDACPlAwBP4wMA3jUEAE1OBAD1JAQAsBAEAGzbAwD8/AMA+fADAPaeAwAb8wMA/cUDAO/uAwDg1QMA/EcEAP5iBAAHWAQA0UoEAHTzAwArEgQAwPcDAOKkAwDxAAQAR9cDAEoABACi6QMAIkgEANpIBACrMAQAcBkEAG/TAwBIEQQAye8DAFa3AwA/8wMASboDANXZAwAo7QMAPT4EAKJQBABoUgQA8UEEAIYHBAC6MQQAiCYEAGvfAwDjSwQAzgIEAOQyBABxLQQAz3IEAK6SBABPeAQAXl4EAHgcBACkKgQA1iIEAKfRAwDmOQQA1eMDAEUjBADeIgQA1oAEAPCgBAD+fQQAkmoEAMcyBADEWgQAxlgEAPn8AwAmaQQAxyQEAEljBABgUAQAW8EEACncBADbrwQA1KUEAPtnBACQdAQAh3YEAEpHBAAWiwQA3mEEAOV8BABYegQAM+sEADvwBAA15gQA+MEEADRtBADsoQQAsYAEAO4sBABOnAQAD10EAIqHBAC5jQQAcfwEAB8LBQBF5AQAsbkEAD5yBAA4pQQAZY0EAEg7BAAyrAQABnQEANatBAAOtAQAAAUFAJQHBQCW/QQAAMwEAIeFBADXlQQAIowEABw7BACzvwQATX0EALChBABspAQAYdsEADDzBADQzQQAz6sEAMhxBABzkQQAs3YEACtNBADSpAQAr10EANSSBADTkAQAFfkEADIfBQD6/AQAy+gEANuIBADznAQAI6UEAO1LBADvvgQAL5wEADraBAB+tgQAVxgFAHskBQCbDwUAMe8EAGibBABcvwQAVK0EAKpQBACqxQQAQqUEAJ/TBAArswQAQBwFALgZBQD3GgUA798EAMR6BADhxgQAtqgEAHNUBABV2QQAYrMEAG/iBABN5wQATiMFAKgPBQBjGgUATvwEAOGtBAA85AQA5LwEAP+OBADD6gQA17gEAIn6BAAGBgUAz0oFACdpBQCNTAUAcQ8FACrNBAAX6wQA",
          "dtype": "i4"
         },
         "yaxis": "y"
        },
        {
         "marker": {
          "color": "lightcoral"
         },
         "name": "Average Births",
         "opacity": 0.7,
         "showlegend": false,
         "type": "bar",
         "x": [
          "Jan",
          "Feb",
          "Mar",
          "Apr",
          "May",
          "Jun",
          "Jul",
          "Aug",
          "Sep",
          "Oct",
          "Nov",
          "Dec"
         ],
         "xaxis": "x2",
         "y": {
          "bdata": "r6G8hsKOEUHlNZTXBFwQQUN5DeVR5hFB5TWU1wT1EEHYUF5DIagRQa+hvIZmkBFBoryG8vb1EkFeQ3kNXT0TQeU1lNcs7xJBymsor91zEkEN5TWU81cRQV5DeQ2B9RFB",
          "dtype": "f8"
         },
         "yaxis": "y2"
        },
        {
         "line": {
          "color": "darkgreen",
          "width": 2
         },
         "marker": {
          "size": 6
         },
         "mode": "lines+markers",
         "name": "Yearly Average",
         "showlegend": false,
         "type": "scatter",
         "x": {
          "bdata": "sgezB7QHtQe2B7cHuAe5B7oHuwe8B70Hvge/B8AHwQfCB8MHxAc=",
          "dtype": "i2"
         },
         "xaxis": "x3",
         "y": {
          "bdata": "VVVVVe0CE0FVVVVVCSASQQAAAADpnBBBVVVVVYQAEEEAAAAAbSAQQVVVVVUxChBBVVVVVQkoEEGrqqqqv/IQQauqqqq++hBBVVVVVQbNEUGrqqqq6WYSQVVVVVW+fRJBq6qqqsW+EkGrqqqqQYcSQauqqqpKrxJBVVVVVW0mE0EAAAAAvSATQQAAAAAgZRNBq6qqqhXoE0E=",
          "dtype": "f8"
         },
         "yaxis": "y3"
        },
        {
         "legendgroup": "trend",
         "line": {
          "color": "lightblue",
          "width": 1
         },
         "mode": "lines",
         "name": "Original",
         "opacity": 0.3,
         "type": "scatter",
         "x": [
          "1970-01-01",
          "1970-02-01",
          "1970-03-01",
          "1970-04-01",
          "1970-05-01",
          "1970-06-01",
          "1970-07-01",
          "1970-08-01",
          "1970-09-01",
          "1970-10-01",
          "1970-11-01",
          "1970-12-01",
          "1971-01-01",
          "1971-02-01",
          "1971-03-01",
          "1971-04-01",
          "1971-05-01",
          "1971-06-01",
          "1971-07-01",
          "1971-08-01",
          "1971-09-01",
          "1971-10-01",
          "1971-11-01",
          "1971-12-01",
          "1972-01-01",
          "1972-02-01",
          "1972-03-01",
          "1972-04-01",
          "1972-05-01",
          "1972-06-01",
          "1972-07-01",
          "1972-08-01",
          "1972-09-01",
          "1972-10-01",
          "1972-11-01",
          "1972-12-01",
          "1973-01-01",
          "1973-02-01",
          "1973-03-01",
          "1973-04-01",
          "1973-05-01",
          "1973-06-01",
          "1973-07-01",
          "1973-08-01",
          "1973-09-01",
          "1973-10-01",
          "1973-11-01",
          "1973-12-01",
          "1974-01-01",
          "1974-02-01",
          "1974-03-01",
          "1974-04-01",
          "1974-05-01",
          "1974-06-01",
          "1974-07-01",
          "1974-08-01",
          "1974-09-01",
          "1974-10-01",
          "1974-11-01",
          "1974-12-01",
          "1975-01-01",
          "1975-02-01",
          "1975-03-01",
          "1975-04-01",
          "1975-05-01",
          "1975-06-01",
          "1975-07-01",
          "1975-08-01",
          "1975-09-01",
          "1975-10-01",
          "1975-11-01",
          "1975-12-01",
          "1976-01-01",
          "1976-02-01",
          "1976-03-01",
          "1976-04-01",
          "1976-05-01",
          "1976-06-01",
          "1976-07-01",
          "1976-08-01",
          "1976-09-01",
          "1976-10-01",
          "1976-11-01",
          "1976-12-01",
          "1977-01-01",
          "1977-02-01",
          "1977-03-01",
          "1977-04-01",
          "1977-05-01",
          "1977-06-01",
          "1977-07-01",
          "1977-08-01",
          "1977-09-01",
          "1977-10-01",
          "1977-11-01",
          "1977-12-01",
          "1978-01-01",
          "1978-02-01",
          "1978-03-01",
          "1978-04-01",
          "1978-05-01",
          "1978-06-01",
          "1978-07-01",
          "1978-08-01",
          "1978-09-01",
          "1978-10-01",
          "1978-11-01",
          "1978-12-01",
          "1979-01-01",
          "1979-02-01",
          "1979-03-01",
          "1979-04-01",
          "1979-05-01",
          "1979-06-01",
          "1979-07-01",
          "1979-08-01",
          "1979-09-01",
          "1979-10-01",
          "1979-11-01",
          "1979-12-01",
          "1980-01-01",
          "1980-02-01",
          "1980-03-01",
          "1980-04-01",
          "1980-05-01",
          "1980-06-01",
          "1980-07-01",
          "1980-08-01",
          "1980-09-01",
          "1980-10-01",
          "1980-11-01",
          "1980-12-01",
          "1981-01-01",
          "1981-02-01",
          "1981-03-01",
          "1981-04-01",
          "1981-05-01",
          "1981-06-01",
          "1981-07-01",
          "1981-08-01",
          "1981-09-01",
          "1981-10-01",
          "1981-11-01",
          "1981-12-01",
          "1982-01-01",
          "1982-02-01",
          "1982-03-01",
          "1982-04-01",
          "1982-05-01",
          "1982-06-01",
          "1982-07-01",
          "1982-08-01",
          "1982-09-01",
          "1982-10-01",
          "1982-11-01",
          "1982-12-01",
          "1983-01-01",
          "1983-02-01",
          "1983-03-01",
          "1983-04-01",
          "1983-05-01",
          "1983-06-01",
          "1983-07-01",
          "1983-08-01",
          "1983-09-01",
          "1983-10-01",
          "1983-11-01",
          "1983-12-01",
          "1984-01-01",
          "1984-02-01",
          "1984-03-01",
          "1984-04-01",
          "1984-05-01",
          "1984-06-01",
          "1984-07-01",
          "1984-08-01",
          "1984-09-01",
          "1984-10-01",
          "1984-11-01",
          "1984-12-01",
          "1985-01-01",
          "1985-02-01",
          "1985-03-01",
          "1985-04-01",
          "1985-05-01",
          "1985-06-01",
          "1985-07-01",
          "1985-08-01",
          "1985-09-01",
          "1985-10-01",
          "1985-11-01",
          "1985-12-01",
          "1986-01-01",
          "1986-02-01",
          "1986-03-01",
          "1986-04-01",
          "1986-05-01",
          "1986-06-01",
          "1986-07-01",
          "1986-08-01",
          "1986-09-01",
          "1986-10-01",
          "1986-11-01",
          "1986-12-01",
          "1987-01-01",
          "1987-02-01",
          "1987-03-01",
          "1987-04-01",
          "1987-05-01",
          "1987-06-01",
          "1987-07-01",
          "1987-08-01",
          "1987-09-01",
          "1987-10-01",
          "1987-11-01",
          "1987-12-01",
          "1988-01-01",
          "1988-02-01",
          "1988-03-01",
          "1988-04-01",
          "1988-05-01",
          "1988-06-01",
          "1988-07-01",
          "1988-08-01",
          "1988-09-01",
          "1988-10-01",
          "1988-11-01",
          "1988-12-01"
         ],
         "xaxis": "x4",
         "y": {
          "bdata": "xpwEAJBLBAD4sAQAcmEEAJyMBAASoQQA1AoFAD4OBQDQEgUARvMEAGS5BADOBwUA+sUEAJRVBABYtAQAYF4EAP5YBABOWwQAfqkEACLHBADuwAQAkKAEAKJMBADKXgQAQDgEAM4CBADtLAQAY+QDAMcfBACF+AMA/D4EADpnBADEUQQAvzUEAN0JBAB7OgQA8xAEABywAwDCHAQAEskDACPlAwBP4wMA3jUEAE1OBAD1JAQAsBAEAGzbAwD8/AMA+fADAPaeAwAb8wMA/cUDAO/uAwDg1QMA/EcEAP5iBAAHWAQA0UoEAHTzAwArEgQAwPcDAOKkAwDxAAQAR9cDAEoABACi6QMAIkgEANpIBACrMAQAcBkEAG/TAwBIEQQAye8DAFa3AwA/8wMASboDANXZAwAo7QMAPT4EAKJQBABoUgQA8UEEAIYHBAC6MQQAiCYEAGvfAwDjSwQAzgIEAOQyBABxLQQAz3IEAK6SBABPeAQAXl4EAHgcBACkKgQA1iIEAKfRAwDmOQQA1eMDAEUjBADeIgQA1oAEAPCgBAD+fQQAkmoEAMcyBADEWgQAxlgEAPn8AwAmaQQAxyQEAEljBABgUAQAW8EEACncBADbrwQA1KUEAPtnBACQdAQAh3YEAEpHBAAWiwQA3mEEAOV8BABYegQAM+sEADvwBAA15gQA+MEEADRtBADsoQQAsYAEAO4sBABOnAQAD10EAIqHBAC5jQQAcfwEAB8LBQBF5AQAsbkEAD5yBAA4pQQAZY0EAEg7BAAyrAQABnQEANatBAAOtAQAAAUFAJQHBQCW/QQAAMwEAIeFBADXlQQAIowEABw7BACzvwQATX0EALChBABspAQAYdsEADDzBADQzQQAz6sEAMhxBABzkQQAs3YEACtNBADSpAQAr10EANSSBADTkAQAFfkEADIfBQD6/AQAy+gEANuIBADznAQAI6UEAO1LBADvvgQAL5wEADraBAB+tgQAVxgFAHskBQCbDwUAMe8EAGibBABcvwQAVK0EAKpQBACqxQQAQqUEAJ/TBAArswQAQBwFALgZBQD3GgUA798EAMR6BADhxgQAtqgEAHNUBABV2QQAYrMEAG/iBABN5wQATiMFAKgPBQBjGgUATvwEAOGtBAA85AQA5LwEAP+OBADD6gQA17gEAIn6BAAGBgUAz0oFACdpBQCNTAUAcQ8FACrNBAAX6wQA",
          "dtype": "i4"
         },
         "yaxis": "y4"
        },
        {
         "legendgroup": "trend",
         "line": {
          "color": "red",
          "width": 2
         },
         "mode": "lines",
         "name": "12-Month Trend",
         "type": "scatter",
         "x": [
          "1970-01-01",
          "1970-02-01",
          "1970-03-01",
          "1970-04-01",
          "1970-05-01",
          "1970-06-01",
          "1970-07-01",
          "1970-08-01",
          "1970-09-01",
          "1970-10-01",
          "1970-11-01",
          "1970-12-01",
          "1971-01-01",
          "1971-02-01",
          "1971-03-01",
          "1971-04-01",
          "1971-05-01",
          "1971-06-01",
          "1971-07-01",
          "1971-08-01",
          "1971-09-01",
          "1971-10-01",
          "1971-11-01",
          "1971-12-01",
          "1972-01-01",
          "1972-02-01",
          "1972-03-01",
          "1972-04-01",
          "1972-05-01",
          "1972-06-01",
          "1972-07-01",
          "1972-08-01",
          "1972-09-01",
          "1972-10-01",
          "1972-11-01",
          "1972-12-01",
          "1973-01-01",
          "1973-02-01",
          "1973-03-01",
          "1973-04-01",
          "1973-05-01",
          "1973-06-01",
          "1973-07-01",
          "1973-08-01",
          "1973-09-01",
          "1973-10-01",
          "1973-11-01",
          "1973-12-01",
          "1974-01-01",
          "1974-02-01",
          "1974-03-01",
          "1974-04-01",
          "1974-05-01",
          "1974-06-01",
          "1974-07-01",
          "1974-08-01",
          "1974-09-01",
          "1974-10-01",
          "1974-11-01",
          "1974-12-01",
          "1975-01-01",
          "1975-02-01",
          "1975-03-01",
          "1975-04-01",
          "1975-05-01",
          "1975-06-01",
          "1975-07-01",
          "1975-08-01",
          "1975-09-01",
          "1975-10-01",
          "1975-11-01",
          "1975-12-01",
          "1976-01-01",
          "1976-02-01",
          "1976-03-01",
          "1976-04-01",
          "1976-05-01",
          "1976-06-01",
          "1976-07-01",
          "1976-08-01",
          "1976-09-01",
          "1976-10-01",
          "1976-11-01",
          "1976-12-01",
          "1977-01-01",
          "1977-02-01",
          "1977-03-01",
          "1977-04-01",
          "1977-05-01",
          "1977-06-01",
          "1977-07-01",
          "1977-08-01",
          "1977-09-01",
          "1977-10-01",
          "1977-11-01",
          "1977-12-01",
          "1978-01-01",
          "1978-02-01",
          "1978-03-01",
          "1978-04-01",
          "1978-05-01",
          "1978-06-01",
          "1978-07-01",
          "1978-08-01",
          "1978-09-01",
          "1978-10-01",
          "1978-11-01",
          "1978-12-01",
          "1979-01-01",
          "1979-02-01",
          "1979-03-01",
          "1979-04-01",
          "1979-05-01",
          "1979-06-01",
          "1979-07-01",
          "1979-08-01",
          "1979-09-01",
          "1979-10-01",
          "1979-11-01",
          "1979-12-01",
          "1980-01-01",
          "1980-02-01",
          "1980-03-01",
          "1980-04-01",
          "1980-05-01",
          "1980-06-01",
          "1980-07-01",
          "1980-08-01",
          "1980-09-01",
          "1980-10-01",
          "1980-11-01",
          "1980-12-01",
          "1981-01-01",
          "1981-02-01",
          "1981-03-01",
          "1981-04-01",
          "1981-05-01",
          "1981-06-01",
          "1981-07-01",
          "1981-08-01",
          "1981-09-01",
          "1981-10-01",
          "1981-11-01",
          "1981-12-01",
          "1982-01-01",
          "1982-02-01",
          "1982-03-01",
          "1982-04-01",
          "1982-05-01",
          "1982-06-01",
          "1982-07-01",
          "1982-08-01",
          "1982-09-01",
          "1982-10-01",
          "1982-11-01",
          "1982-12-01",
          "1983-01-01",
          "1983-02-01",
          "1983-03-01",
          "1983-04-01",
          "1983-05-01",
          "1983-06-01",
          "1983-07-01",
          "1983-08-01",
          "1983-09-01",
          "1983-10-01",
          "1983-11-01",
          "1983-12-01",
          "1984-01-01",
          "1984-02-01",
          "1984-03-01",
          "1984-04-01",
          "1984-05-01",
          "1984-06-01",
          "1984-07-01",
          "1984-08-01",
          "1984-09-01",
          "1984-10-01",
          "1984-11-01",
          "1984-12-01",
          "1985-01-01",
          "1985-02-01",
          "1985-03-01",
          "1985-04-01",
          "1985-05-01",
          "1985-06-01",
          "1985-07-01",
          "1985-08-01",
          "1985-09-01",
          "1985-10-01",
          "1985-11-01",
          "1985-12-01",
          "1986-01-01",
          "1986-02-01",
          "1986-03-01",
          "1986-04-01",
          "1986-05-01",
          "1986-06-01",
          "1986-07-01",
          "1986-08-01",
          "1986-09-01",
          "1986-10-01",
          "1986-11-01",
          "1986-12-01",
          "1987-01-01",
          "1987-02-01",
          "1987-03-01",
          "1987-04-01",
          "1987-05-01",
          "1987-06-01",
          "1987-07-01",
          "1987-08-01",
          "1987-09-01",
          "1987-10-01",
          "1987-11-01",
          "1987-12-01",
          "1988-01-01",
          "1988-02-01",
          "1988-03-01",
          "1988-04-01",
          "1988-05-01",
          "1988-06-01",
          "1988-07-01",
          "1988-08-01",
          "1988-09-01",
          "1988-10-01",
          "1988-11-01",
          "1988-12-01"
         ],
         "xaxis": "x4",
         "y": {
          "bdata": "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",
          "dtype": "f8"
         },
         "yaxis": "y4"
        },
        {
         "hoverinfo": "skip",
         "line": {
          "width": 0
         },
         "mode": "lines",
         "showlegend": false,
         "type": "scatter",
         "x": [
          "1970-01-01",
          "1970-02-01",
          "1970-03-01",
          "1970-04-01",
          "1970-05-01",
          "1970-06-01",
          "1970-07-01",
          "1970-08-01",
          "1970-09-01",
          "1970-10-01",
          "1970-11-01",
          "1970-12-01",
          "1971-01-01",
          "1971-02-01",
          "1971-03-01",
          "1971-04-01",
          "1971-05-01",
          "1971-06-01",
          "1971-07-01",
          "1971-08-01",
          "1971-09-01",
          "1971-10-01",
          "1971-11-01",
          "1971-12-01",
          "1972-01-01",
          "1972-02-01",
          "1972-03-01",
          "1972-04-01",
          "1972-05-01",
          "1972-06-01",
          "1972-07-01",
          "1972-08-01",
          "1972-09-01",
          "1972-10-01",
          "1972-11-01",
          "1972-12-01",
          "1973-01-01",
          "1973-02-01",
          "1973-03-01",
          "1973-04-01",
          "1973-05-01",
          "1973-06-01",
          "1973-07-01",
          "1973-08-01",
          "1973-09-01",
          "1973-10-01",
          "1973-11-01",
          "1973-12-01",
          "1974-01-01",
          "1974-02-01",
          "1974-03-01",
          "1974-04-01",
          "1974-05-01",
          "1974-06-01",
          "1974-07-01",
          "1974-08-01",
          "1974-09-01",
          "1974-10-01",
          "1974-11-01",
          "1974-12-01",
          "1975-01-01",
          "1975-02-01",
          "1975-03-01",
          "1975-04-01",
          "1975-05-01",
          "1975-06-01",
          "1975-07-01",
          "1975-08-01",
          "1975-09-01",
          "1975-10-01",
          "1975-11-01",
          "1975-12-01",
          "1976-01-01",
          "1976-02-01",
          "1976-03-01",
          "1976-04-01",
          "1976-05-01",
          "1976-06-01",
          "1976-07-01",
          "1976-08-01",
          "1976-09-01",
          "1976-10-01",
          "1976-11-01",
          "1976-12-01",
          "1977-01-01",
          "1977-02-01",
          "1977-03-01",
          "1977-04-01",
          "1977-05-01",
          "1977-06-01",
          "1977-07-01",
          "1977-08-01",
          "1977-09-01",
          "1977-10-01",
          "1977-11-01",
          "1977-12-01",
          "1978-01-01",
          "1978-02-01",
          "1978-03-01",
          "1978-04-01",
          "1978-05-01",
          "1978-06-01",
          "1978-07-01",
          "1978-08-01",
          "1978-09-01",
          "1978-10-01",
          "1978-11-01",
          "1978-12-01",
          "1979-01-01",
          "1979-02-01",
          "1979-03-01",
          "1979-04-01",
          "1979-05-01",
          "1979-06-01",
          "1979-07-01",
          "1979-08-01",
          "1979-09-01",
          "1979-10-01",
          "1979-11-01",
          "1979-12-01",
          "1980-01-01",
          "1980-02-01",
          "1980-03-01",
          "1980-04-01",
          "1980-05-01",
          "1980-06-01",
          "1980-07-01",
          "1980-08-01",
          "1980-09-01",
          "1980-10-01",
          "1980-11-01",
          "1980-12-01",
          "1981-01-01",
          "1981-02-01",
          "1981-03-01",
          "1981-04-01",
          "1981-05-01",
          "1981-06-01",
          "1981-07-01",
          "1981-08-01",
          "1981-09-01",
          "1981-10-01",
          "1981-11-01",
          "1981-12-01",
          "1982-01-01",
          "1982-02-01",
          "1982-03-01",
          "1982-04-01",
          "1982-05-01",
          "1982-06-01",
          "1982-07-01",
          "1982-08-01",
          "1982-09-01",
          "1982-10-01",
          "1982-11-01",
          "1982-12-01",
          "1983-01-01",
          "1983-02-01",
          "1983-03-01",
          "1983-04-01",
          "1983-05-01",
          "1983-06-01",
          "1983-07-01",
          "1983-08-01",
          "1983-09-01",
          "1983-10-01",
          "1983-11-01",
          "1983-12-01",
          "1984-01-01",
          "1984-02-01",
          "1984-03-01",
          "1984-04-01",
          "1984-05-01",
          "1984-06-01",
          "1984-07-01",
          "1984-08-01",
          "1984-09-01",
          "1984-10-01",
          "1984-11-01",
          "1984-12-01",
          "1985-01-01",
          "1985-02-01",
          "1985-03-01",
          "1985-04-01",
          "1985-05-01",
          "1985-06-01",
          "1985-07-01",
          "1985-08-01",
          "1985-09-01",
          "1985-10-01",
          "1985-11-01",
          "1985-12-01",
          "1986-01-01",
          "1986-02-01",
          "1986-03-01",
          "1986-04-01",
          "1986-05-01",
          "1986-06-01",
          "1986-07-01",
          "1986-08-01",
          "1986-09-01",
          "1986-10-01",
          "1986-11-01",
          "1986-12-01",
          "1987-01-01",
          "1987-02-01",
          "1987-03-01",
          "1987-04-01",
          "1987-05-01",
          "1987-06-01",
          "1987-07-01",
          "1987-08-01",
          "1987-09-01",
          "1987-10-01",
          "1987-11-01",
          "1987-12-01",
          "1988-01-01",
          "1988-02-01",
          "1988-03-01",
          "1988-04-01",
          "1988-05-01",
          "1988-06-01",
          "1988-07-01",
          "1988-08-01",
          "1988-09-01",
          "1988-10-01",
          "1988-11-01",
          "1988-12-01"
         ],
         "xaxis": "x4",
         "y": {
          "bdata": "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",
          "dtype": "f8"
         },
         "yaxis": "y4"
        },
        {
         "fill": "tonexty",
         "fillcolor": "rgba(255,0,0,0.2)",
         "legendgroup": "trend",
         "line": {
          "width": 0
         },
         "mode": "lines",
         "name": "±1 Std Dev",
         "type": "scatter",
         "x": [
          "1970-01-01",
          "1970-02-01",
          "1970-03-01",
          "1970-04-01",
          "1970-05-01",
          "1970-06-01",
          "1970-07-01",
          "1970-08-01",
          "1970-09-01",
          "1970-10-01",
          "1970-11-01",
          "1970-12-01",
          "1971-01-01",
          "1971-02-01",
          "1971-03-01",
          "1971-04-01",
          "1971-05-01",
          "1971-06-01",
          "1971-07-01",
          "1971-08-01",
          "1971-09-01",
          "1971-10-01",
          "1971-11-01",
          "1971-12-01",
          "1972-01-01",
          "1972-02-01",
          "1972-03-01",
          "1972-04-01",
          "1972-05-01",
          "1972-06-01",
          "1972-07-01",
          "1972-08-01",
          "1972-09-01",
          "1972-10-01",
          "1972-11-01",
          "1972-12-01",
          "1973-01-01",
          "1973-02-01",
          "1973-03-01",
          "1973-04-01",
          "1973-05-01",
          "1973-06-01",
          "1973-07-01",
          "1973-08-01",
          "1973-09-01",
          "1973-10-01",
          "1973-11-01",
          "1973-12-01",
          "1974-01-01",
          "1974-02-01",
          "1974-03-01",
          "1974-04-01",
          "1974-05-01",
          "1974-06-01",
          "1974-07-01",
          "1974-08-01",
          "1974-09-01",
          "1974-10-01",
          "1974-11-01",
          "1974-12-01",
          "1975-01-01",
          "1975-02-01",
          "1975-03-01",
          "1975-04-01",
          "1975-05-01",
          "1975-06-01",
          "1975-07-01",
          "1975-08-01",
          "1975-09-01",
          "1975-10-01",
          "1975-11-01",
          "1975-12-01",
          "1976-01-01",
          "1976-02-01",
          "1976-03-01",
          "1976-04-01",
          "1976-05-01",
          "1976-06-01",
          "1976-07-01",
          "1976-08-01",
          "1976-09-01",
          "1976-10-01",
          "1976-11-01",
          "1976-12-01",
          "1977-01-01",
          "1977-02-01",
          "1977-03-01",
          "1977-04-01",
          "1977-05-01",
          "1977-06-01",
          "1977-07-01",
          "1977-08-01",
          "1977-09-01",
          "1977-10-01",
          "1977-11-01",
          "1977-12-01",
          "1978-01-01",
          "1978-02-01",
          "1978-03-01",
          "1978-04-01",
          "1978-05-01",
          "1978-06-01",
          "1978-07-01",
          "1978-08-01",
          "1978-09-01",
          "1978-10-01",
          "1978-11-01",
          "1978-12-01",
          "1979-01-01",
          "1979-02-01",
          "1979-03-01",
          "1979-04-01",
          "1979-05-01",
          "1979-06-01",
          "1979-07-01",
          "1979-08-01",
          "1979-09-01",
          "1979-10-01",
          "1979-11-01",
          "1979-12-01",
          "1980-01-01",
          "1980-02-01",
          "1980-03-01",
          "1980-04-01",
          "1980-05-01",
          "1980-06-01",
          "1980-07-01",
          "1980-08-01",
          "1980-09-01",
          "1980-10-01",
          "1980-11-01",
          "1980-12-01",
          "1981-01-01",
          "1981-02-01",
          "1981-03-01",
          "1981-04-01",
          "1981-05-01",
          "1981-06-01",
          "1981-07-01",
          "1981-08-01",
          "1981-09-01",
          "1981-10-01",
          "1981-11-01",
          "1981-12-01",
          "1982-01-01",
          "1982-02-01",
          "1982-03-01",
          "1982-04-01",
          "1982-05-01",
          "1982-06-01",
          "1982-07-01",
          "1982-08-01",
          "1982-09-01",
          "1982-10-01",
          "1982-11-01",
          "1982-12-01",
          "1983-01-01",
          "1983-02-01",
          "1983-03-01",
          "1983-04-01",
          "1983-05-01",
          "1983-06-01",
          "1983-07-01",
          "1983-08-01",
          "1983-09-01",
          "1983-10-01",
          "1983-11-01",
          "1983-12-01",
          "1984-01-01",
          "1984-02-01",
          "1984-03-01",
          "1984-04-01",
          "1984-05-01",
          "1984-06-01",
          "1984-07-01",
          "1984-08-01",
          "1984-09-01",
          "1984-10-01",
          "1984-11-01",
          "1984-12-01",
          "1985-01-01",
          "1985-02-01",
          "1985-03-01",
          "1985-04-01",
          "1985-05-01",
          "1985-06-01",
          "1985-07-01",
          "1985-08-01",
          "1985-09-01",
          "1985-10-01",
          "1985-11-01",
          "1985-12-01",
          "1986-01-01",
          "1986-02-01",
          "1986-03-01",
          "1986-04-01",
          "1986-05-01",
          "1986-06-01",
          "1986-07-01",
          "1986-08-01",
          "1986-09-01",
          "1986-10-01",
          "1986-11-01",
          "1986-12-01",
          "1987-01-01",
          "1987-02-01",
          "1987-03-01",
          "1987-04-01",
          "1987-05-01",
          "1987-06-01",
          "1987-07-01",
          "1987-08-01",
          "1987-09-01",
          "1987-10-01",
          "1987-11-01",
          "1987-12-01",
          "1988-01-01",
          "1988-02-01",
          "1988-03-01",
          "1988-04-01",
          "1988-05-01",
          "1988-06-01",
          "1988-07-01",
          "1988-08-01",
          "1988-09-01",
          "1988-10-01",
          "1988-11-01",
          "1988-12-01"
         ],
         "xaxis": "x4",
         "y": {
          "bdata": "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",
          "dtype": "f8"
         },
         "yaxis": "y4"
        }
       ],
       "layout": {
        "annotations": [
         {
          "font": {
           "size": 16
          },
          "showarrow": false,
          "text": "📈 Monthly Births (1970-1988)",
          "x": 0.225,
          "xanchor": "center",
          "xref": "paper",
          "y": 1,
          "yanchor": "bottom",
          "yref": "paper"
         },
         {
          "font": {
           "size": 16
          },
          "showarrow": false,
          "text": "🗓️ Average Births by Month",
          "x": 0.775,
          "xanchor": "center",
          "xref": "paper",
          "y": 1,
          "yanchor": "bottom",
          "yref": "paper"
         },
         {
          "font": {
           "size": 16
          },
          "showarrow": false,
          "text": "📊 Average Births by Year",
          "x": 0.225,
          "xanchor": "center",
          "xref": "paper",
          "y": 0.375,
          "yanchor": "bottom",
          "yref": "paper"
         },
         {
          "font": {
           "size": 16
          },
          "showarrow": false,
          "text": "📈 Trend and Variability",
          "x": 0.775,
          "xanchor": "center",
          "xref": "paper",
          "y": 0.375,
          "yanchor": "bottom",
          "yref": "paper"
         }
        ],
        "height": 700,
        "legend": {
         "x": 0.7,
         "y": 0.3
        },
        "showlegend": true,
        "template": {
         "data": {
          "bar": [
           {
            "error_x": {
             "color": "#2a3f5f"
            },
            "error_y": {
             "color": "#2a3f5f"
            },
            "marker": {
             "line": {
              "color": "#E5ECF6",
              "width": 0.5
             },
             "pattern": {
              "fillmode": "overlay",
              "size": 10,
              "solidity": 0.2
             }
            },
            "type": "bar"
           }
          ],
          "barpolar": [
           {
            "marker": {
             "line": {
              "color": "#E5ECF6",
              "width": 0.5
             },
             "pattern": {
              "fillmode": "overlay",
              "size": 10,
              "solidity": 0.2
             }
            },
            "type": "barpolar"
           }
          ],
          "carpet": [
           {
            "aaxis": {
             "endlinecolor": "#2a3f5f",
             "gridcolor": "white",
             "linecolor": "white",
             "minorgridcolor": "white",
             "startlinecolor": "#2a3f5f"
            },
            "baxis": {
             "endlinecolor": "#2a3f5f",
             "gridcolor": "white",
             "linecolor": "white",
             "minorgridcolor": "white",
             "startlinecolor": "#2a3f5f"
            },
            "type": "carpet"
           }
          ],
          "choropleth": [
           {
            "colorbar": {
             "outlinewidth": 0,
             "ticks": ""
            },
            "type": "choropleth"
           }
          ],
          "contour": [
           {
            "colorbar": {
             "outlinewidth": 0,
             "ticks": ""
            },
            "colorscale": [
             [
              0,
              "#0d0887"
             ],
             [
              0.1111111111111111,
              "#46039f"
             ],
             [
              0.2222222222222222,
              "#7201a8"
             ],
             [
              0.3333333333333333,
              "#9c179e"
             ],
             [
              0.4444444444444444,
              "#bd3786"
             ],
             [
              0.5555555555555556,
              "#d8576b"
             ],
             [
              0.6666666666666666,
              "#ed7953"
             ],
             [
              0.7777777777777778,
              "#fb9f3a"
             ],
             [
              0.8888888888888888,
              "#fdca26"
             ],
             [
              1,
              "#f0f921"
             ]
            ],
            "type": "contour"
           }
          ],
          "contourcarpet": [
           {
            "colorbar": {
             "outlinewidth": 0,
             "ticks": ""
            },
            "type": "contourcarpet"
           }
          ],
          "heatmap": [
           {
            "colorbar": {
             "outlinewidth": 0,
             "ticks": ""
            },
            "colorscale": [
             [
              0,
              "#0d0887"
             ],
             [
              0.1111111111111111,
              "#46039f"
             ],
             [
              0.2222222222222222,
              "#7201a8"
             ],
             [
              0.3333333333333333,
              "#9c179e"
             ],
             [
              0.4444444444444444,
              "#bd3786"
             ],
             [
              0.5555555555555556,
              "#d8576b"
             ],
             [
              0.6666666666666666,
              "#ed7953"
             ],
             [
              0.7777777777777778,
              "#fb9f3a"
             ],
             [
              0.8888888888888888,
              "#fdca26"
             ],
             [
              1,
              "#f0f921"
             ]
            ],
            "type": "heatmap"
           }
          ],
          "histogram": [
           {
            "marker": {
             "pattern": {
              "fillmode": "overlay",
              "size": 10,
              "solidity": 0.2
             }
            },
            "type": "histogram"
           }
          ],
          "histogram2d": [
           {
            "colorbar": {
             "outlinewidth": 0,
             "ticks": ""
            },
            "colorscale": [
             [
              0,
              "#0d0887"
             ],
             [
              0.1111111111111111,
              "#46039f"
             ],
             [
              0.2222222222222222,
              "#7201a8"
             ],
             [
              0.3333333333333333,
              "#9c179e"
             ],
             [
              0.4444444444444444,
              "#bd3786"
             ],
             [
              0.5555555555555556,
              "#d8576b"
             ],
             [
              0.6666666666666666,
              "#ed7953"
             ],
             [
              0.7777777777777778,
              "#fb9f3a"
             ],
             [
              0.8888888888888888,
              "#fdca26"
             ],
             [
              1,
              "#f0f921"
             ]
            ],
            "type": "histogram2d"
           }
          ],
          "histogram2dcontour": [
           {
            "colorbar": {
             "outlinewidth": 0,
             "ticks": ""
            },
            "colorscale": [
             [
              0,
              "#0d0887"
             ],
             [
              0.1111111111111111,
              "#46039f"
             ],
             [
              0.2222222222222222,
              "#7201a8"
             ],
             [
              0.3333333333333333,
              "#9c179e"
             ],
             [
              0.4444444444444444,
              "#bd3786"
             ],
             [
              0.5555555555555556,
              "#d8576b"
             ],
             [
              0.6666666666666666,
              "#ed7953"
             ],
             [
              0.7777777777777778,
              "#fb9f3a"
             ],
             [
              0.8888888888888888,
              "#fdca26"
             ],
             [
              1,
              "#f0f921"
             ]
            ],
            "type": "histogram2dcontour"
           }
          ],
          "mesh3d": [
           {
            "colorbar": {
             "outlinewidth": 0,
             "ticks": ""
            },
            "type": "mesh3d"
           }
          ],
          "parcoords": [
           {
            "line": {
             "colorbar": {
              "outlinewidth": 0,
              "ticks": ""
             }
            },
            "type": "parcoords"
           }
          ],
          "pie": [
           {
            "automargin": true,
            "type": "pie"
           }
          ],
          "scatter": [
           {
            "fillpattern": {
             "fillmode": "overlay",
             "size": 10,
             "solidity": 0.2
            },
            "type": "scatter"
           }
          ],
          "scatter3d": [
           {
            "line": {
             "colorbar": {
              "outlinewidth": 0,
              "ticks": ""
             }
            },
            "marker": {
             "colorbar": {
              "outlinewidth": 0,
              "ticks": ""
             }
            },
            "type": "scatter3d"
           }
          ],
          "scattercarpet": [
           {
            "marker": {
             "colorbar": {
              "outlinewidth": 0,
              "ticks": ""
             }
            },
            "type": "scattercarpet"
           }
          ],
          "scattergeo": [
           {
            "marker": {
             "colorbar": {
              "outlinewidth": 0,
              "ticks": ""
             }
            },
            "type": "scattergeo"
           }
          ],
          "scattergl": [
           {
            "marker": {
             "colorbar": {
              "outlinewidth": 0,
              "ticks": ""
             }
            },
            "type": "scattergl"
           }
          ],
          "scattermap": [
           {
            "marker": {
             "colorbar": {
              "outlinewidth": 0,
              "ticks": ""
             }
            },
            "type": "scattermap"
           }
          ],
          "scattermapbox": [
           {
            "marker": {
             "colorbar": {
              "outlinewidth": 0,
              "ticks": ""
             }
            },
            "type": "scattermapbox"
           }
          ],
          "scatterpolar": [
           {
            "marker": {
             "colorbar": {
              "outlinewidth": 0,
              "ticks": ""
             }
            },
            "type": "scatterpolar"
           }
          ],
          "scatterpolargl": [
           {
            "marker": {
             "colorbar": {
              "outlinewidth": 0,
              "ticks": ""
             }
            },
            "type": "scatterpolargl"
           }
          ],
          "scatterternary": [
           {
            "marker": {
             "colorbar": {
              "outlinewidth": 0,
              "ticks": ""
             }
            },
            "type": "scatterternary"
           }
          ],
          "surface": [
           {
            "colorbar": {
             "outlinewidth": 0,
             "ticks": ""
            },
            "colorscale": [
             [
              0,
              "#0d0887"
             ],
             [
              0.1111111111111111,
              "#46039f"
             ],
             [
              0.2222222222222222,
              "#7201a8"
             ],
             [
              0.3333333333333333,
              "#9c179e"
             ],
             [
              0.4444444444444444,
              "#bd3786"
             ],
             [
              0.5555555555555556,
              "#d8576b"
             ],
             [
              0.6666666666666666,
              "#ed7953"
             ],
             [
              0.7777777777777778,
              "#fb9f3a"
             ],
             [
              0.8888888888888888,
              "#fdca26"
             ],
             [
              1,
              "#f0f921"
             ]
            ],
            "type": "surface"
           }
          ],
          "table": [
           {
            "cells": {
             "fill": {
              "color": "#EBF0F8"
             },
             "line": {
              "color": "white"
             }
            },
            "header": {
             "fill": {
              "color": "#C8D4E3"
             },
             "line": {
              "color": "white"
             }
            },
            "type": "table"
           }
          ]
         },
         "layout": {
          "annotationdefaults": {
           "arrowcolor": "#2a3f5f",
           "arrowhead": 0,
           "arrowwidth": 1
          },
          "autotypenumbers": "strict",
          "coloraxis": {
           "colorbar": {
            "outlinewidth": 0,
            "ticks": ""
           }
          },
          "colorscale": {
           "diverging": [
            [
             0,
             "#8e0152"
            ],
            [
             0.1,
             "#c51b7d"
            ],
            [
             0.2,
             "#de77ae"
            ],
            [
             0.3,
             "#f1b6da"
            ],
            [
             0.4,
             "#fde0ef"
            ],
            [
             0.5,
             "#f7f7f7"
            ],
            [
             0.6,
             "#e6f5d0"
            ],
            [
             0.7,
             "#b8e186"
            ],
            [
             0.8,
             "#7fbc41"
            ],
            [
             0.9,
             "#4d9221"
            ],
            [
             1,
             "#276419"
            ]
           ],
           "sequential": [
            [
             0,
             "#0d0887"
            ],
            [
             0.1111111111111111,
             "#46039f"
            ],
            [
             0.2222222222222222,
             "#7201a8"
            ],
            [
             0.3333333333333333,
             "#9c179e"
            ],
            [
             0.4444444444444444,
             "#bd3786"
            ],
            [
             0.5555555555555556,
             "#d8576b"
            ],
            [
             0.6666666666666666,
             "#ed7953"
            ],
            [
             0.7777777777777778,
             "#fb9f3a"
            ],
            [
             0.8888888888888888,
             "#fdca26"
            ],
            [
             1,
             "#f0f921"
            ]
           ],
           "sequentialminus": [
            [
             0,
             "#0d0887"
            ],
            [
             0.1111111111111111,
             "#46039f"
            ],
            [
             0.2222222222222222,
             "#7201a8"
            ],
            [
             0.3333333333333333,
             "#9c179e"
            ],
            [
             0.4444444444444444,
             "#bd3786"
            ],
            [
             0.5555555555555556,
             "#d8576b"
            ],
            [
             0.6666666666666666,
             "#ed7953"
            ],
            [
             0.7777777777777778,
             "#fb9f3a"
            ],
            [
             0.8888888888888888,
             "#fdca26"
            ],
            [
             1,
             "#f0f921"
            ]
           ]
          },
          "colorway": [
           "#636efa",
           "#EF553B",
           "#00cc96",
           "#ab63fa",
           "#FFA15A",
           "#19d3f3",
           "#FF6692",
           "#B6E880",
           "#FF97FF",
           "#FECB52"
          ],
          "font": {
           "color": "#2a3f5f"
          },
          "geo": {
           "bgcolor": "white",
           "lakecolor": "white",
           "landcolor": "#E5ECF6",
           "showlakes": true,
           "showland": true,
           "subunitcolor": "white"
          },
          "hoverlabel": {
           "align": "left"
          },
          "hovermode": "closest",
          "mapbox": {
           "style": "light"
          },
          "paper_bgcolor": "white",
          "plot_bgcolor": "#E5ECF6",
          "polar": {
           "angularaxis": {
            "gridcolor": "white",
            "linecolor": "white",
            "ticks": ""
           },
           "bgcolor": "#E5ECF6",
           "radialaxis": {
            "gridcolor": "white",
            "linecolor": "white",
            "ticks": ""
           }
          },
          "scene": {
           "xaxis": {
            "backgroundcolor": "#E5ECF6",
            "gridcolor": "white",
            "gridwidth": 2,
            "linecolor": "white",
            "showbackground": true,
            "ticks": "",
            "zerolinecolor": "white"
           },
           "yaxis": {
            "backgroundcolor": "#E5ECF6",
            "gridcolor": "white",
            "gridwidth": 2,
            "linecolor": "white",
            "showbackground": true,
            "ticks": "",
            "zerolinecolor": "white"
           },
           "zaxis": {
            "backgroundcolor": "#E5ECF6",
            "gridcolor": "white",
            "gridwidth": 2,
            "linecolor": "white",
            "showbackground": true,
            "ticks": "",
            "zerolinecolor": "white"
           }
          },
          "shapedefaults": {
           "line": {
            "color": "#2a3f5f"
           }
          },
          "ternary": {
           "aaxis": {
            "gridcolor": "white",
            "linecolor": "white",
            "ticks": ""
           },
           "baxis": {
            "gridcolor": "white",
            "linecolor": "white",
            "ticks": ""
           },
           "bgcolor": "#E5ECF6",
           "caxis": {
            "gridcolor": "white",
            "linecolor": "white",
            "ticks": ""
           }
          },
          "title": {
           "x": 0.05
          },
          "xaxis": {
           "automargin": true,
           "gridcolor": "white",
           "linecolor": "white",
           "ticks": "",
           "title": {
            "standoff": 15
           },
           "zerolinecolor": "white",
           "zerolinewidth": 2
          },
          "yaxis": {
           "automargin": true,
           "gridcolor": "white",
           "linecolor": "white",
           "ticks": "",
           "title": {
            "standoff": 15
           },
           "zerolinecolor": "white",
           "zerolinewidth": 2
          }
         }
        },
        "title": {
         "text": "Time Series Components Analysis"
        },
        "xaxis": {
         "anchor": "y",
         "domain": [
          0,
          0.45
         ]
        },
        "xaxis2": {
         "anchor": "y2",
         "domain": [
          0.55,
          1
         ]
        },
        "xaxis3": {
         "anchor": "y3",
         "domain": [
          0,
          0.45
         ],
         "title": {
          "text": "Year"
         }
        },
        "xaxis4": {
         "anchor": "y4",
         "domain": [
          0.55,
          1
         ]
        },
        "yaxis": {
         "anchor": "x",
         "domain": [
          0.625,
          1
         ],
         "title": {
          "text": "Number of Births"
         }
        },
        "yaxis2": {
         "anchor": "x2",
         "domain": [
          0.625,
          1
         ],
         "title": {
          "text": "Average Births"
         }
        },
        "yaxis3": {
         "anchor": "x3",
         "domain": [
          0,
          0.375
         ],
         "title": {
          "text": "Average Births"
         }
        },
        "yaxis4": {
         "anchor": "x4",
         "domain": [
          0,
          0.375
         ],
         "title": {
          "text": "Number of Births"
         }
        }
       }
      }
     },
     "metadata": {},
     "output_type": "display_data"
    }
   ],
   "source": [
    "# Create a time series visualization to identify components\n",
    "# Use the existing date column from our polars DataFrame\n",
    "dates = births_subset['date'].to_list()\n",
    "births_values = births_subset['births'].to_numpy()\n",
    "\n",
    "# Create a comprehensive visualization using plotly subplots\n",
    "fig = make_subplots(\n",
    "    rows=2, cols=2,\n",
    "    subplot_titles=(\n",
    "        '📈 Monthly Births (1970-1988)',\n",
    "        '🗓️ Average Births by Month',\n",
    "        '📊 Average Births by Year',\n",
    "        '📈 Trend and Variability'\n",
    "    ),\n",
    "    specs=[[{}, {}], [{}, {}]]\n",
    ")\n",
    "\n",
    "# Plot 1: Original time series\n",
    "fig.add_trace(\n",
    "    go.Scatter(\n",
    "        x=dates,\n",
    "        y=births_values,\n",
    "        mode='lines',\n",
    "        line=dict(color='steelblue', width=1.5),\n",
    "        name='Monthly Births',\n",
    "        showlegend=False\n",
    "    ),\n",
    "    row=1, col=1\n",
    ")\n",
    "\n",
    "# Plot 2: Seasonal patterns (by month)\n",
    "monthly_avg = (births_subset\n",
    "    .group_by('month')\n",
    "    .agg(pl.col('births').mean())\n",
    "    .sort('month')\n",
    "    .select('births')\n",
    "    .to_numpy().flatten()\n",
    ")\n",
    "month_names = ['Jan', 'Feb', 'Mar', 'Apr', 'May', 'Jun', \n",
    "               'Jul', 'Aug', 'Sep', 'Oct', 'Nov', 'Dec']\n",
    "fig.add_trace(\n",
    "    go.Bar(\n",
    "        x=month_names,\n",
    "        y=monthly_avg,\n",
    "        marker_color='lightcoral',\n",
    "        opacity=0.7,\n",
    "        name='Average Births',\n",
    "        showlegend=False\n",
    "    ),\n",
    "    row=1, col=2\n",
    ")\n",
    "\n",
    "# Plot 3: Year-over-year trends\n",
    "yearly_data = (births_subset\n",
    "    .group_by('year')\n",
    "    .agg(pl.col('births').mean())\n",
    "    .sort('year')\n",
    ")\n",
    "yearly_years = yearly_data.select('year').to_numpy().flatten()\n",
    "yearly_avg = yearly_data.select('births').to_numpy().flatten()\n",
    "\n",
    "fig.add_trace(\n",
    "    go.Scatter(\n",
    "        x=yearly_years,\n",
    "        y=yearly_avg,\n",
    "        mode='lines+markers',\n",
    "        line=dict(color='darkgreen', width=2),\n",
    "        marker=dict(size=6),\n",
    "        name='Yearly Average',\n",
    "        showlegend=False\n",
    "    ),\n",
    "    row=2, col=1\n",
    ")\n",
    "\n",
    "# Plot 4: Rolling statistics to show trend and variability\n",
    "# Calculate rolling statistics using numpy\n",
    "def rolling_window(data, window):\n",
    "    \"\"\"Calculate rolling statistics using numpy\"\"\"\n",
    "    shape = data.shape[:-1] + (data.shape[-1] - window + 1, window)\n",
    "    strides = data.strides + (data.strides[-1],)\n",
    "    rolled = np.lib.stride_tricks.as_strided(data, shape=shape, strides=strides)\n",
    "    return rolled\n",
    "\n",
    "window = 12\n",
    "# Pad with NaN for centering\n",
    "pad_size = window // 2\n",
    "rolling_mean = np.full(len(births_values), np.nan)\n",
    "rolling_std = np.full(len(births_values), np.nan)\n",
    "\n",
    "# Calculate rolling statistics for the middle portion\n",
    "for i in range(pad_size, len(births_values) - pad_size):\n",
    "    start_idx = i - pad_size\n",
    "    end_idx = i + pad_size + 1\n",
    "    window_data = births_values[start_idx:end_idx]\n",
    "    rolling_mean[i] = np.mean(window_data)\n",
    "    rolling_std[i] = np.std(window_data)\n",
    "\n",
    "# Original data (light)\n",
    "fig.add_trace(\n",
    "    go.Scatter(\n",
    "        x=dates,\n",
    "        y=births_values,\n",
    "        mode='lines',\n",
    "        line=dict(color='lightblue', width=1),\n",
    "        opacity=0.3,\n",
    "        name='Original',\n",
    "        legendgroup='trend'\n",
    "    ),\n",
    "    row=2, col=2\n",
    ")\n",
    "\n",
    "# Rolling mean\n",
    "fig.add_trace(\n",
    "    go.Scatter(\n",
    "        x=dates,\n",
    "        y=rolling_mean,\n",
    "        mode='lines',\n",
    "        line=dict(color='red', width=2),\n",
    "        name='12-Month Trend',\n",
    "        legendgroup='trend'\n",
    "    ),\n",
    "    row=2, col=2\n",
    ")\n",
    "\n",
    "# Standard deviation band\n",
    "fig.add_trace(\n",
    "    go.Scatter(\n",
    "        x=dates,\n",
    "        y=rolling_mean + rolling_std,\n",
    "        mode='lines',\n",
    "        line=dict(width=0),\n",
    "        showlegend=False,\n",
    "        hoverinfo='skip'\n",
    "    ),\n",
    "    row=2, col=2\n",
    ")\n",
    "\n",
    "fig.add_trace(\n",
    "    go.Scatter(\n",
    "        x=dates,\n",
    "        y=rolling_mean - rolling_std,\n",
    "        mode='lines',\n",
    "        line=dict(width=0),\n",
    "        fill='tonexty',\n",
    "        fillcolor='rgba(255,0,0,0.2)',\n",
    "        name='±1 Std Dev',\n",
    "        legendgroup='trend'\n",
    "    ),\n",
    "    row=2, col=2\n",
    ")\n",
    "\n",
    "# Update layout\n",
    "fig.update_layout(\n",
    "    height=700,\n",
    "    title_text='Time Series Components Analysis',\n",
    "    showlegend=True,\n",
    "    legend=dict(x=0.7, y=0.3)\n",
    ")\n",
    "\n",
    "# Update y-axis labels\n",
    "fig.update_yaxes(title_text='Number of Births', row=1, col=1)\n",
    "fig.update_yaxes(title_text='Average Births', row=1, col=2)\n",
    "fig.update_yaxes(title_text='Average Births', row=2, col=1)\n",
    "fig.update_yaxes(title_text='Number of Births', row=2, col=2)\n",
    "\n",
    "# Update x-axis labels\n",
    "fig.update_xaxes(title_text='Year', row=2, col=1)\n",
    "\n",
    "fig.show()"
   ]
  },
  {
   "cell_type": "markdown",
   "metadata": {},
   "source": [
    "## Classical Time Series Decomposition\n",
    "\n",
    "Now let's perform a formal decomposition of the births time series to separate it into its constituent components. This classical approach will help us understand what each component looks like in practice."
   ]
  },
  {
   "cell_type": "code",
   "execution_count": 10,
   "metadata": {},
   "outputs": [
    {
     "data": {
      "application/vnd.plotly.v1+json": {
       "config": {
        "plotlyServerURL": "https://plot.ly"
       },
       "data": [
        {
         "line": {
          "color": "steelblue",
          "width": 1.5
         },
         "mode": "lines",
         "name": "Observed",
         "showlegend": false,
         "type": "scatter",
         "x": [
          "1970-01-01",
          "1970-02-01",
          "1970-03-01",
          "1970-04-01",
          "1970-05-01",
          "1970-06-01",
          "1970-07-01",
          "1970-08-01",
          "1970-09-01",
          "1970-10-01",
          "1970-11-01",
          "1970-12-01",
          "1971-01-01",
          "1971-02-01",
          "1971-03-01",
          "1971-04-01",
          "1971-05-01",
          "1971-06-01",
          "1971-07-01",
          "1971-08-01",
          "1971-09-01",
          "1971-10-01",
          "1971-11-01",
          "1971-12-01",
          "1972-01-01",
          "1972-02-01",
          "1972-03-01",
          "1972-04-01",
          "1972-05-01",
          "1972-06-01",
          "1972-07-01",
          "1972-08-01",
          "1972-09-01",
          "1972-10-01",
          "1972-11-01",
          "1972-12-01",
          "1973-01-01",
          "1973-02-01",
          "1973-03-01",
          "1973-04-01",
          "1973-05-01",
          "1973-06-01",
          "1973-07-01",
          "1973-08-01",
          "1973-09-01",
          "1973-10-01",
          "1973-11-01",
          "1973-12-01",
          "1974-01-01",
          "1974-02-01",
          "1974-03-01",
          "1974-04-01",
          "1974-05-01",
          "1974-06-01",
          "1974-07-01",
          "1974-08-01",
          "1974-09-01",
          "1974-10-01",
          "1974-11-01",
          "1974-12-01",
          "1975-01-01",
          "1975-02-01",
          "1975-03-01",
          "1975-04-01",
          "1975-05-01",
          "1975-06-01",
          "1975-07-01",
          "1975-08-01",
          "1975-09-01",
          "1975-10-01",
          "1975-11-01",
          "1975-12-01",
          "1976-01-01",
          "1976-02-01",
          "1976-03-01",
          "1976-04-01",
          "1976-05-01",
          "1976-06-01",
          "1976-07-01",
          "1976-08-01",
          "1976-09-01",
          "1976-10-01",
          "1976-11-01",
          "1976-12-01",
          "1977-01-01",
          "1977-02-01",
          "1977-03-01",
          "1977-04-01",
          "1977-05-01",
          "1977-06-01",
          "1977-07-01",
          "1977-08-01",
          "1977-09-01",
          "1977-10-01",
          "1977-11-01",
          "1977-12-01",
          "1978-01-01",
          "1978-02-01",
          "1978-03-01",
          "1978-04-01",
          "1978-05-01",
          "1978-06-01",
          "1978-07-01",
          "1978-08-01",
          "1978-09-01",
          "1978-10-01",
          "1978-11-01",
          "1978-12-01",
          "1979-01-01",
          "1979-02-01",
          "1979-03-01",
          "1979-04-01",
          "1979-05-01",
          "1979-06-01",
          "1979-07-01",
          "1979-08-01",
          "1979-09-01",
          "1979-10-01",
          "1979-11-01",
          "1979-12-01",
          "1980-01-01",
          "1980-02-01",
          "1980-03-01",
          "1980-04-01",
          "1980-05-01",
          "1980-06-01",
          "1980-07-01",
          "1980-08-01",
          "1980-09-01",
          "1980-10-01",
          "1980-11-01",
          "1980-12-01",
          "1981-01-01",
          "1981-02-01",
          "1981-03-01",
          "1981-04-01",
          "1981-05-01",
          "1981-06-01",
          "1981-07-01",
          "1981-08-01",
          "1981-09-01",
          "1981-10-01",
          "1981-11-01",
          "1981-12-01",
          "1982-01-01",
          "1982-02-01",
          "1982-03-01",
          "1982-04-01",
          "1982-05-01",
          "1982-06-01",
          "1982-07-01",
          "1982-08-01",
          "1982-09-01",
          "1982-10-01",
          "1982-11-01",
          "1982-12-01",
          "1983-01-01",
          "1983-02-01",
          "1983-03-01",
          "1983-04-01",
          "1983-05-01",
          "1983-06-01",
          "1983-07-01",
          "1983-08-01",
          "1983-09-01",
          "1983-10-01",
          "1983-11-01",
          "1983-12-01",
          "1984-01-01",
          "1984-02-01",
          "1984-03-01",
          "1984-04-01",
          "1984-05-01",
          "1984-06-01",
          "1984-07-01",
          "1984-08-01",
          "1984-09-01",
          "1984-10-01",
          "1984-11-01",
          "1984-12-01",
          "1985-01-01",
          "1985-02-01",
          "1985-03-01",
          "1985-04-01",
          "1985-05-01",
          "1985-06-01",
          "1985-07-01",
          "1985-08-01",
          "1985-09-01",
          "1985-10-01",
          "1985-11-01",
          "1985-12-01",
          "1986-01-01",
          "1986-02-01",
          "1986-03-01",
          "1986-04-01",
          "1986-05-01",
          "1986-06-01",
          "1986-07-01",
          "1986-08-01",
          "1986-09-01",
          "1986-10-01",
          "1986-11-01",
          "1986-12-01",
          "1987-01-01",
          "1987-02-01",
          "1987-03-01",
          "1987-04-01",
          "1987-05-01",
          "1987-06-01",
          "1987-07-01",
          "1987-08-01",
          "1987-09-01",
          "1987-10-01",
          "1987-11-01",
          "1987-12-01",
          "1988-01-01",
          "1988-02-01",
          "1988-03-01",
          "1988-04-01",
          "1988-05-01",
          "1988-06-01",
          "1988-07-01",
          "1988-08-01",
          "1988-09-01",
          "1988-10-01",
          "1988-11-01",
          "1988-12-01"
         ],
         "xaxis": "x",
         "y": {
          "bdata": "xpwEAJBLBAD4sAQAcmEEAJyMBAASoQQA1AoFAD4OBQDQEgUARvMEAGS5BADOBwUA+sUEAJRVBABYtAQAYF4EAP5YBABOWwQAfqkEACLHBADuwAQAkKAEAKJMBADKXgQAQDgEAM4CBADtLAQAY+QDAMcfBACF+AMA/D4EADpnBADEUQQAvzUEAN0JBAB7OgQA8xAEABywAwDCHAQAEskDACPlAwBP4wMA3jUEAE1OBAD1JAQAsBAEAGzbAwD8/AMA+fADAPaeAwAb8wMA/cUDAO/uAwDg1QMA/EcEAP5iBAAHWAQA0UoEAHTzAwArEgQAwPcDAOKkAwDxAAQAR9cDAEoABACi6QMAIkgEANpIBACrMAQAcBkEAG/TAwBIEQQAye8DAFa3AwA/8wMASboDANXZAwAo7QMAPT4EAKJQBABoUgQA8UEEAIYHBAC6MQQAiCYEAGvfAwDjSwQAzgIEAOQyBABxLQQAz3IEAK6SBABPeAQAXl4EAHgcBACkKgQA1iIEAKfRAwDmOQQA1eMDAEUjBADeIgQA1oAEAPCgBAD+fQQAkmoEAMcyBADEWgQAxlgEAPn8AwAmaQQAxyQEAEljBABgUAQAW8EEACncBADbrwQA1KUEAPtnBACQdAQAh3YEAEpHBAAWiwQA3mEEAOV8BABYegQAM+sEADvwBAA15gQA+MEEADRtBADsoQQAsYAEAO4sBABOnAQAD10EAIqHBAC5jQQAcfwEAB8LBQBF5AQAsbkEAD5yBAA4pQQAZY0EAEg7BAAyrAQABnQEANatBAAOtAQAAAUFAJQHBQCW/QQAAMwEAIeFBADXlQQAIowEABw7BACzvwQATX0EALChBABspAQAYdsEADDzBADQzQQAz6sEAMhxBABzkQQAs3YEACtNBADSpAQAr10EANSSBADTkAQAFfkEADIfBQD6/AQAy+gEANuIBADznAQAI6UEAO1LBADvvgQAL5wEADraBAB+tgQAVxgFAHskBQCbDwUAMe8EAGibBABcvwQAVK0EAKpQBACqxQQAQqUEAJ/TBAArswQAQBwFALgZBQD3GgUA798EAMR6BADhxgQAtqgEAHNUBABV2QQAYrMEAG/iBABN5wQATiMFAKgPBQBjGgUATvwEAOGtBAA85AQA5LwEAP+OBADD6gQA17gEAIn6BAAGBgUAz0oFACdpBQCNTAUAcQ8FACrNBAAX6wQA",
          "dtype": "i4"
         },
         "yaxis": "y"
        },
        {
         "line": {
          "color": "darkred",
          "width": 1.5
         },
         "mode": "lines",
         "name": "Trend",
         "showlegend": false,
         "type": "scatter",
         "x": [
          "1970-01-01",
          "1970-02-01",
          "1970-03-01",
          "1970-04-01",
          "1970-05-01",
          "1970-06-01",
          "1970-07-01",
          "1970-08-01",
          "1970-09-01",
          "1970-10-01",
          "1970-11-01",
          "1970-12-01",
          "1971-01-01",
          "1971-02-01",
          "1971-03-01",
          "1971-04-01",
          "1971-05-01",
          "1971-06-01",
          "1971-07-01",
          "1971-08-01",
          "1971-09-01",
          "1971-10-01",
          "1971-11-01",
          "1971-12-01",
          "1972-01-01",
          "1972-02-01",
          "1972-03-01",
          "1972-04-01",
          "1972-05-01",
          "1972-06-01",
          "1972-07-01",
          "1972-08-01",
          "1972-09-01",
          "1972-10-01",
          "1972-11-01",
          "1972-12-01",
          "1973-01-01",
          "1973-02-01",
          "1973-03-01",
          "1973-04-01",
          "1973-05-01",
          "1973-06-01",
          "1973-07-01",
          "1973-08-01",
          "1973-09-01",
          "1973-10-01",
          "1973-11-01",
          "1973-12-01",
          "1974-01-01",
          "1974-02-01",
          "1974-03-01",
          "1974-04-01",
          "1974-05-01",
          "1974-06-01",
          "1974-07-01",
          "1974-08-01",
          "1974-09-01",
          "1974-10-01",
          "1974-11-01",
          "1974-12-01",
          "1975-01-01",
          "1975-02-01",
          "1975-03-01",
          "1975-04-01",
          "1975-05-01",
          "1975-06-01",
          "1975-07-01",
          "1975-08-01",
          "1975-09-01",
          "1975-10-01",
          "1975-11-01",
          "1975-12-01",
          "1976-01-01",
          "1976-02-01",
          "1976-03-01",
          "1976-04-01",
          "1976-05-01",
          "1976-06-01",
          "1976-07-01",
          "1976-08-01",
          "1976-09-01",
          "1976-10-01",
          "1976-11-01",
          "1976-12-01",
          "1977-01-01",
          "1977-02-01",
          "1977-03-01",
          "1977-04-01",
          "1977-05-01",
          "1977-06-01",
          "1977-07-01",
          "1977-08-01",
          "1977-09-01",
          "1977-10-01",
          "1977-11-01",
          "1977-12-01",
          "1978-01-01",
          "1978-02-01",
          "1978-03-01",
          "1978-04-01",
          "1978-05-01",
          "1978-06-01",
          "1978-07-01",
          "1978-08-01",
          "1978-09-01",
          "1978-10-01",
          "1978-11-01",
          "1978-12-01",
          "1979-01-01",
          "1979-02-01",
          "1979-03-01",
          "1979-04-01",
          "1979-05-01",
          "1979-06-01",
          "1979-07-01",
          "1979-08-01",
          "1979-09-01",
          "1979-10-01",
          "1979-11-01",
          "1979-12-01",
          "1980-01-01",
          "1980-02-01",
          "1980-03-01",
          "1980-04-01",
          "1980-05-01",
          "1980-06-01",
          "1980-07-01",
          "1980-08-01",
          "1980-09-01",
          "1980-10-01",
          "1980-11-01",
          "1980-12-01",
          "1981-01-01",
          "1981-02-01",
          "1981-03-01",
          "1981-04-01",
          "1981-05-01",
          "1981-06-01",
          "1981-07-01",
          "1981-08-01",
          "1981-09-01",
          "1981-10-01",
          "1981-11-01",
          "1981-12-01",
          "1982-01-01",
          "1982-02-01",
          "1982-03-01",
          "1982-04-01",
          "1982-05-01",
          "1982-06-01",
          "1982-07-01",
          "1982-08-01",
          "1982-09-01",
          "1982-10-01",
          "1982-11-01",
          "1982-12-01",
          "1983-01-01",
          "1983-02-01",
          "1983-03-01",
          "1983-04-01",
          "1983-05-01",
          "1983-06-01",
          "1983-07-01",
          "1983-08-01",
          "1983-09-01",
          "1983-10-01",
          "1983-11-01",
          "1983-12-01",
          "1984-01-01",
          "1984-02-01",
          "1984-03-01",
          "1984-04-01",
          "1984-05-01",
          "1984-06-01",
          "1984-07-01",
          "1984-08-01",
          "1984-09-01",
          "1984-10-01",
          "1984-11-01",
          "1984-12-01",
          "1985-01-01",
          "1985-02-01",
          "1985-03-01",
          "1985-04-01",
          "1985-05-01",
          "1985-06-01",
          "1985-07-01",
          "1985-08-01",
          "1985-09-01",
          "1985-10-01",
          "1985-11-01",
          "1985-12-01",
          "1986-01-01",
          "1986-02-01",
          "1986-03-01",
          "1986-04-01",
          "1986-05-01",
          "1986-06-01",
          "1986-07-01",
          "1986-08-01",
          "1986-09-01",
          "1986-10-01",
          "1986-11-01",
          "1986-12-01",
          "1987-01-01",
          "1987-02-01",
          "1987-03-01",
          "1987-04-01",
          "1987-05-01",
          "1987-06-01",
          "1987-07-01",
          "1987-08-01",
          "1987-09-01",
          "1987-10-01",
          "1987-11-01",
          "1987-12-01",
          "1988-01-01",
          "1988-02-01",
          "1988-03-01",
          "1988-04-01",
          "1988-05-01",
          "1988-06-01",
          "1988-07-01",
          "1988-08-01",
          "1988-09-01",
          "1988-10-01",
          "1988-11-01",
          "1988-12-01"
         ],
         "xaxis": "x2",
         "y": {
          "bdata": "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",
          "dtype": "f8"
         },
         "yaxis": "y2"
        },
        {
         "line": {
          "color": "darkgreen",
          "width": 1.5
         },
         "mode": "lines",
         "name": "Seasonal",
         "showlegend": false,
         "type": "scatter",
         "x": [
          "1970-01-01",
          "1970-02-01",
          "1970-03-01",
          "1970-04-01",
          "1970-05-01",
          "1970-06-01",
          "1970-07-01",
          "1970-08-01",
          "1970-09-01",
          "1970-10-01",
          "1970-11-01",
          "1970-12-01",
          "1971-01-01",
          "1971-02-01",
          "1971-03-01",
          "1971-04-01",
          "1971-05-01",
          "1971-06-01",
          "1971-07-01",
          "1971-08-01",
          "1971-09-01",
          "1971-10-01",
          "1971-11-01",
          "1971-12-01",
          "1972-01-01",
          "1972-02-01",
          "1972-03-01",
          "1972-04-01",
          "1972-05-01",
          "1972-06-01",
          "1972-07-01",
          "1972-08-01",
          "1972-09-01",
          "1972-10-01",
          "1972-11-01",
          "1972-12-01",
          "1973-01-01",
          "1973-02-01",
          "1973-03-01",
          "1973-04-01",
          "1973-05-01",
          "1973-06-01",
          "1973-07-01",
          "1973-08-01",
          "1973-09-01",
          "1973-10-01",
          "1973-11-01",
          "1973-12-01",
          "1974-01-01",
          "1974-02-01",
          "1974-03-01",
          "1974-04-01",
          "1974-05-01",
          "1974-06-01",
          "1974-07-01",
          "1974-08-01",
          "1974-09-01",
          "1974-10-01",
          "1974-11-01",
          "1974-12-01",
          "1975-01-01",
          "1975-02-01",
          "1975-03-01",
          "1975-04-01",
          "1975-05-01",
          "1975-06-01",
          "1975-07-01",
          "1975-08-01",
          "1975-09-01",
          "1975-10-01",
          "1975-11-01",
          "1975-12-01",
          "1976-01-01",
          "1976-02-01",
          "1976-03-01",
          "1976-04-01",
          "1976-05-01",
          "1976-06-01",
          "1976-07-01",
          "1976-08-01",
          "1976-09-01",
          "1976-10-01",
          "1976-11-01",
          "1976-12-01",
          "1977-01-01",
          "1977-02-01",
          "1977-03-01",
          "1977-04-01",
          "1977-05-01",
          "1977-06-01",
          "1977-07-01",
          "1977-08-01",
          "1977-09-01",
          "1977-10-01",
          "1977-11-01",
          "1977-12-01",
          "1978-01-01",
          "1978-02-01",
          "1978-03-01",
          "1978-04-01",
          "1978-05-01",
          "1978-06-01",
          "1978-07-01",
          "1978-08-01",
          "1978-09-01",
          "1978-10-01",
          "1978-11-01",
          "1978-12-01",
          "1979-01-01",
          "1979-02-01",
          "1979-03-01",
          "1979-04-01",
          "1979-05-01",
          "1979-06-01",
          "1979-07-01",
          "1979-08-01",
          "1979-09-01",
          "1979-10-01",
          "1979-11-01",
          "1979-12-01",
          "1980-01-01",
          "1980-02-01",
          "1980-03-01",
          "1980-04-01",
          "1980-05-01",
          "1980-06-01",
          "1980-07-01",
          "1980-08-01",
          "1980-09-01",
          "1980-10-01",
          "1980-11-01",
          "1980-12-01",
          "1981-01-01",
          "1981-02-01",
          "1981-03-01",
          "1981-04-01",
          "1981-05-01",
          "1981-06-01",
          "1981-07-01",
          "1981-08-01",
          "1981-09-01",
          "1981-10-01",
          "1981-11-01",
          "1981-12-01",
          "1982-01-01",
          "1982-02-01",
          "1982-03-01",
          "1982-04-01",
          "1982-05-01",
          "1982-06-01",
          "1982-07-01",
          "1982-08-01",
          "1982-09-01",
          "1982-10-01",
          "1982-11-01",
          "1982-12-01",
          "1983-01-01",
          "1983-02-01",
          "1983-03-01",
          "1983-04-01",
          "1983-05-01",
          "1983-06-01",
          "1983-07-01",
          "1983-08-01",
          "1983-09-01",
          "1983-10-01",
          "1983-11-01",
          "1983-12-01",
          "1984-01-01",
          "1984-02-01",
          "1984-03-01",
          "1984-04-01",
          "1984-05-01",
          "1984-06-01",
          "1984-07-01",
          "1984-08-01",
          "1984-09-01",
          "1984-10-01",
          "1984-11-01",
          "1984-12-01",
          "1985-01-01",
          "1985-02-01",
          "1985-03-01",
          "1985-04-01",
          "1985-05-01",
          "1985-06-01",
          "1985-07-01",
          "1985-08-01",
          "1985-09-01",
          "1985-10-01",
          "1985-11-01",
          "1985-12-01",
          "1986-01-01",
          "1986-02-01",
          "1986-03-01",
          "1986-04-01",
          "1986-05-01",
          "1986-06-01",
          "1986-07-01",
          "1986-08-01",
          "1986-09-01",
          "1986-10-01",
          "1986-11-01",
          "1986-12-01",
          "1987-01-01",
          "1987-02-01",
          "1987-03-01",
          "1987-04-01",
          "1987-05-01",
          "1987-06-01",
          "1987-07-01",
          "1987-08-01",
          "1987-09-01",
          "1987-10-01",
          "1987-11-01",
          "1987-12-01",
          "1988-01-01",
          "1988-02-01",
          "1988-03-01",
          "1988-04-01",
          "1988-05-01",
          "1988-06-01",
          "1988-07-01",
          "1988-08-01",
          "1988-09-01",
          "1988-10-01",
          "1988-11-01",
          "1988-12-01"
         ],
         "xaxis": "x3",
         "y": {
          "bdata": "sOlimx3/zMSw9vbty0sVYxdIWS2/4joKsOlimx3/zMSw9vbty0sVYxdIWS2/4joKsOlimx3/zMSw9vbty0sVYxdIWS2/4joKsOlimx3/zMSw9vbty0sVYxdIWS2/4joKsOlimx3/zMSw9vbty0sVYxdIWS2/4joKsOlimx3/zMSw9vbty0sVYxdIWS2/4joKsOlimx3/zMSw9vbty0sVYxdIWS2/4joKsOlimx3/zMSw9vbty0sVYxdIWS2/4joKsOlimx3/zMSw9vbty0sVYxdIWS2/4joKsOlimx3/zMSw9vbty0sVYxdIWS2/4joKsOlimx3/zMSw9vbty0sVYxdIWS2/4joKsOlimx3/zMSw9vbty0sVYxdIWS2/4joKsOlimx3/zMSw9vbty0sVYxdIWS2/4joKsOlimx3/zMSw9vbty0sVYxdIWS2/4joKsOlimx3/zMSw9vbty0sVYxdIWS2/4joKsOlimx3/zMSw9vbty0sVYxdIWS2/4joKsOlimx3/zMSw9vbty0sVYxdIWS2/4joKsOlimx3/zMSw9vbty0sVYxdIWS2/4joKsOlimx3/zMSw9vbty0sVYxdIWS2/4joK",
          "dtype": "i2"
         },
         "yaxis": "y3"
        },
        {
         "line": {
          "color": "purple",
          "width": 1.5
         },
         "mode": "lines",
         "name": "Resid",
         "showlegend": false,
         "type": "scatter",
         "x": [
          "1970-01-01",
          "1970-02-01",
          "1970-03-01",
          "1970-04-01",
          "1970-05-01",
          "1970-06-01",
          "1970-07-01",
          "1970-08-01",
          "1970-09-01",
          "1970-10-01",
          "1970-11-01",
          "1970-12-01",
          "1971-01-01",
          "1971-02-01",
          "1971-03-01",
          "1971-04-01",
          "1971-05-01",
          "1971-06-01",
          "1971-07-01",
          "1971-08-01",
          "1971-09-01",
          "1971-10-01",
          "1971-11-01",
          "1971-12-01",
          "1972-01-01",
          "1972-02-01",
          "1972-03-01",
          "1972-04-01",
          "1972-05-01",
          "1972-06-01",
          "1972-07-01",
          "1972-08-01",
          "1972-09-01",
          "1972-10-01",
          "1972-11-01",
          "1972-12-01",
          "1973-01-01",
          "1973-02-01",
          "1973-03-01",
          "1973-04-01",
          "1973-05-01",
          "1973-06-01",
          "1973-07-01",
          "1973-08-01",
          "1973-09-01",
          "1973-10-01",
          "1973-11-01",
          "1973-12-01",
          "1974-01-01",
          "1974-02-01",
          "1974-03-01",
          "1974-04-01",
          "1974-05-01",
          "1974-06-01",
          "1974-07-01",
          "1974-08-01",
          "1974-09-01",
          "1974-10-01",
          "1974-11-01",
          "1974-12-01",
          "1975-01-01",
          "1975-02-01",
          "1975-03-01",
          "1975-04-01",
          "1975-05-01",
          "1975-06-01",
          "1975-07-01",
          "1975-08-01",
          "1975-09-01",
          "1975-10-01",
          "1975-11-01",
          "1975-12-01",
          "1976-01-01",
          "1976-02-01",
          "1976-03-01",
          "1976-04-01",
          "1976-05-01",
          "1976-06-01",
          "1976-07-01",
          "1976-08-01",
          "1976-09-01",
          "1976-10-01",
          "1976-11-01",
          "1976-12-01",
          "1977-01-01",
          "1977-02-01",
          "1977-03-01",
          "1977-04-01",
          "1977-05-01",
          "1977-06-01",
          "1977-07-01",
          "1977-08-01",
          "1977-09-01",
          "1977-10-01",
          "1977-11-01",
          "1977-12-01",
          "1978-01-01",
          "1978-02-01",
          "1978-03-01",
          "1978-04-01",
          "1978-05-01",
          "1978-06-01",
          "1978-07-01",
          "1978-08-01",
          "1978-09-01",
          "1978-10-01",
          "1978-11-01",
          "1978-12-01",
          "1979-01-01",
          "1979-02-01",
          "1979-03-01",
          "1979-04-01",
          "1979-05-01",
          "1979-06-01",
          "1979-07-01",
          "1979-08-01",
          "1979-09-01",
          "1979-10-01",
          "1979-11-01",
          "1979-12-01",
          "1980-01-01",
          "1980-02-01",
          "1980-03-01",
          "1980-04-01",
          "1980-05-01",
          "1980-06-01",
          "1980-07-01",
          "1980-08-01",
          "1980-09-01",
          "1980-10-01",
          "1980-11-01",
          "1980-12-01",
          "1981-01-01",
          "1981-02-01",
          "1981-03-01",
          "1981-04-01",
          "1981-05-01",
          "1981-06-01",
          "1981-07-01",
          "1981-08-01",
          "1981-09-01",
          "1981-10-01",
          "1981-11-01",
          "1981-12-01",
          "1982-01-01",
          "1982-02-01",
          "1982-03-01",
          "1982-04-01",
          "1982-05-01",
          "1982-06-01",
          "1982-07-01",
          "1982-08-01",
          "1982-09-01",
          "1982-10-01",
          "1982-11-01",
          "1982-12-01",
          "1983-01-01",
          "1983-02-01",
          "1983-03-01",
          "1983-04-01",
          "1983-05-01",
          "1983-06-01",
          "1983-07-01",
          "1983-08-01",
          "1983-09-01",
          "1983-10-01",
          "1983-11-01",
          "1983-12-01",
          "1984-01-01",
          "1984-02-01",
          "1984-03-01",
          "1984-04-01",
          "1984-05-01",
          "1984-06-01",
          "1984-07-01",
          "1984-08-01",
          "1984-09-01",
          "1984-10-01",
          "1984-11-01",
          "1984-12-01",
          "1985-01-01",
          "1985-02-01",
          "1985-03-01",
          "1985-04-01",
          "1985-05-01",
          "1985-06-01",
          "1985-07-01",
          "1985-08-01",
          "1985-09-01",
          "1985-10-01",
          "1985-11-01",
          "1985-12-01",
          "1986-01-01",
          "1986-02-01",
          "1986-03-01",
          "1986-04-01",
          "1986-05-01",
          "1986-06-01",
          "1986-07-01",
          "1986-08-01",
          "1986-09-01",
          "1986-10-01",
          "1986-11-01",
          "1986-12-01",
          "1987-01-01",
          "1987-02-01",
          "1987-03-01",
          "1987-04-01",
          "1987-05-01",
          "1987-06-01",
          "1987-07-01",
          "1987-08-01",
          "1987-09-01",
          "1987-10-01",
          "1987-11-01",
          "1987-12-01",
          "1988-01-01",
          "1988-02-01",
          "1988-03-01",
          "1988-04-01",
          "1988-05-01",
          "1988-06-01",
          "1988-07-01",
          "1988-08-01",
          "1988-09-01",
          "1988-10-01",
          "1988-11-01",
          "1988-12-01"
         ],
         "xaxis": "x4",
         "y": {
          "bdata": "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",
          "dtype": "f8"
         },
         "yaxis": "y4"
        }
       ],
       "layout": {
        "annotations": [
         {
          "font": {
           "size": 16
          },
          "showarrow": false,
          "text": "📊 Original Data",
          "x": 0.5,
          "xanchor": "center",
          "xref": "paper",
          "y": 1,
          "yanchor": "bottom",
          "yref": "paper"
         },
         {
          "font": {
           "size": 16
          },
          "showarrow": false,
          "text": "📈 Trend Component",
          "x": 0.5,
          "xanchor": "center",
          "xref": "paper",
          "y": 0.73,
          "yanchor": "bottom",
          "yref": "paper"
         },
         {
          "font": {
           "size": 16
          },
          "showarrow": false,
          "text": "🗓️ Seasonal Component",
          "x": 0.5,
          "xanchor": "center",
          "xref": "paper",
          "y": 0.46,
          "yanchor": "bottom",
          "yref": "paper"
         },
         {
          "font": {
           "size": 16
          },
          "showarrow": false,
          "text": "🎲 Residual Component",
          "x": 0.5,
          "xanchor": "center",
          "xref": "paper",
          "y": 0.19,
          "yanchor": "bottom",
          "yref": "paper"
         }
        ],
        "height": 800,
        "showlegend": false,
        "template": {
         "data": {
          "bar": [
           {
            "error_x": {
             "color": "#2a3f5f"
            },
            "error_y": {
             "color": "#2a3f5f"
            },
            "marker": {
             "line": {
              "color": "#E5ECF6",
              "width": 0.5
             },
             "pattern": {
              "fillmode": "overlay",
              "size": 10,
              "solidity": 0.2
             }
            },
            "type": "bar"
           }
          ],
          "barpolar": [
           {
            "marker": {
             "line": {
              "color": "#E5ECF6",
              "width": 0.5
             },
             "pattern": {
              "fillmode": "overlay",
              "size": 10,
              "solidity": 0.2
             }
            },
            "type": "barpolar"
           }
          ],
          "carpet": [
           {
            "aaxis": {
             "endlinecolor": "#2a3f5f",
             "gridcolor": "white",
             "linecolor": "white",
             "minorgridcolor": "white",
             "startlinecolor": "#2a3f5f"
            },
            "baxis": {
             "endlinecolor": "#2a3f5f",
             "gridcolor": "white",
             "linecolor": "white",
             "minorgridcolor": "white",
             "startlinecolor": "#2a3f5f"
            },
            "type": "carpet"
           }
          ],
          "choropleth": [
           {
            "colorbar": {
             "outlinewidth": 0,
             "ticks": ""
            },
            "type": "choropleth"
           }
          ],
          "contour": [
           {
            "colorbar": {
             "outlinewidth": 0,
             "ticks": ""
            },
            "colorscale": [
             [
              0,
              "#0d0887"
             ],
             [
              0.1111111111111111,
              "#46039f"
             ],
             [
              0.2222222222222222,
              "#7201a8"
             ],
             [
              0.3333333333333333,
              "#9c179e"
             ],
             [
              0.4444444444444444,
              "#bd3786"
             ],
             [
              0.5555555555555556,
              "#d8576b"
             ],
             [
              0.6666666666666666,
              "#ed7953"
             ],
             [
              0.7777777777777778,
              "#fb9f3a"
             ],
             [
              0.8888888888888888,
              "#fdca26"
             ],
             [
              1,
              "#f0f921"
             ]
            ],
            "type": "contour"
           }
          ],
          "contourcarpet": [
           {
            "colorbar": {
             "outlinewidth": 0,
             "ticks": ""
            },
            "type": "contourcarpet"
           }
          ],
          "heatmap": [
           {
            "colorbar": {
             "outlinewidth": 0,
             "ticks": ""
            },
            "colorscale": [
             [
              0,
              "#0d0887"
             ],
             [
              0.1111111111111111,
              "#46039f"
             ],
             [
              0.2222222222222222,
              "#7201a8"
             ],
             [
              0.3333333333333333,
              "#9c179e"
             ],
             [
              0.4444444444444444,
              "#bd3786"
             ],
             [
              0.5555555555555556,
              "#d8576b"
             ],
             [
              0.6666666666666666,
              "#ed7953"
             ],
             [
              0.7777777777777778,
              "#fb9f3a"
             ],
             [
              0.8888888888888888,
              "#fdca26"
             ],
             [
              1,
              "#f0f921"
             ]
            ],
            "type": "heatmap"
           }
          ],
          "histogram": [
           {
            "marker": {
             "pattern": {
              "fillmode": "overlay",
              "size": 10,
              "solidity": 0.2
             }
            },
            "type": "histogram"
           }
          ],
          "histogram2d": [
           {
            "colorbar": {
             "outlinewidth": 0,
             "ticks": ""
            },
            "colorscale": [
             [
              0,
              "#0d0887"
             ],
             [
              0.1111111111111111,
              "#46039f"
             ],
             [
              0.2222222222222222,
              "#7201a8"
             ],
             [
              0.3333333333333333,
              "#9c179e"
             ],
             [
              0.4444444444444444,
              "#bd3786"
             ],
             [
              0.5555555555555556,
              "#d8576b"
             ],
             [
              0.6666666666666666,
              "#ed7953"
             ],
             [
              0.7777777777777778,
              "#fb9f3a"
             ],
             [
              0.8888888888888888,
              "#fdca26"
             ],
             [
              1,
              "#f0f921"
             ]
            ],
            "type": "histogram2d"
           }
          ],
          "histogram2dcontour": [
           {
            "colorbar": {
             "outlinewidth": 0,
             "ticks": ""
            },
            "colorscale": [
             [
              0,
              "#0d0887"
             ],
             [
              0.1111111111111111,
              "#46039f"
             ],
             [
              0.2222222222222222,
              "#7201a8"
             ],
             [
              0.3333333333333333,
              "#9c179e"
             ],
             [
              0.4444444444444444,
              "#bd3786"
             ],
             [
              0.5555555555555556,
              "#d8576b"
             ],
             [
              0.6666666666666666,
              "#ed7953"
             ],
             [
              0.7777777777777778,
              "#fb9f3a"
             ],
             [
              0.8888888888888888,
              "#fdca26"
             ],
             [
              1,
              "#f0f921"
             ]
            ],
            "type": "histogram2dcontour"
           }
          ],
          "mesh3d": [
           {
            "colorbar": {
             "outlinewidth": 0,
             "ticks": ""
            },
            "type": "mesh3d"
           }
          ],
          "parcoords": [
           {
            "line": {
             "colorbar": {
              "outlinewidth": 0,
              "ticks": ""
             }
            },
            "type": "parcoords"
           }
          ],
          "pie": [
           {
            "automargin": true,
            "type": "pie"
           }
          ],
          "scatter": [
           {
            "fillpattern": {
             "fillmode": "overlay",
             "size": 10,
             "solidity": 0.2
            },
            "type": "scatter"
           }
          ],
          "scatter3d": [
           {
            "line": {
             "colorbar": {
              "outlinewidth": 0,
              "ticks": ""
             }
            },
            "marker": {
             "colorbar": {
              "outlinewidth": 0,
              "ticks": ""
             }
            },
            "type": "scatter3d"
           }
          ],
          "scattercarpet": [
           {
            "marker": {
             "colorbar": {
              "outlinewidth": 0,
              "ticks": ""
             }
            },
            "type": "scattercarpet"
           }
          ],
          "scattergeo": [
           {
            "marker": {
             "colorbar": {
              "outlinewidth": 0,
              "ticks": ""
             }
            },
            "type": "scattergeo"
           }
          ],
          "scattergl": [
           {
            "marker": {
             "colorbar": {
              "outlinewidth": 0,
              "ticks": ""
             }
            },
            "type": "scattergl"
           }
          ],
          "scattermap": [
           {
            "marker": {
             "colorbar": {
              "outlinewidth": 0,
              "ticks": ""
             }
            },
            "type": "scattermap"
           }
          ],
          "scattermapbox": [
           {
            "marker": {
             "colorbar": {
              "outlinewidth": 0,
              "ticks": ""
             }
            },
            "type": "scattermapbox"
           }
          ],
          "scatterpolar": [
           {
            "marker": {
             "colorbar": {
              "outlinewidth": 0,
              "ticks": ""
             }
            },
            "type": "scatterpolar"
           }
          ],
          "scatterpolargl": [
           {
            "marker": {
             "colorbar": {
              "outlinewidth": 0,
              "ticks": ""
             }
            },
            "type": "scatterpolargl"
           }
          ],
          "scatterternary": [
           {
            "marker": {
             "colorbar": {
              "outlinewidth": 0,
              "ticks": ""
             }
            },
            "type": "scatterternary"
           }
          ],
          "surface": [
           {
            "colorbar": {
             "outlinewidth": 0,
             "ticks": ""
            },
            "colorscale": [
             [
              0,
              "#0d0887"
             ],
             [
              0.1111111111111111,
              "#46039f"
             ],
             [
              0.2222222222222222,
              "#7201a8"
             ],
             [
              0.3333333333333333,
              "#9c179e"
             ],
             [
              0.4444444444444444,
              "#bd3786"
             ],
             [
              0.5555555555555556,
              "#d8576b"
             ],
             [
              0.6666666666666666,
              "#ed7953"
             ],
             [
              0.7777777777777778,
              "#fb9f3a"
             ],
             [
              0.8888888888888888,
              "#fdca26"
             ],
             [
              1,
              "#f0f921"
             ]
            ],
            "type": "surface"
           }
          ],
          "table": [
           {
            "cells": {
             "fill": {
              "color": "#EBF0F8"
             },
             "line": {
              "color": "white"
             }
            },
            "header": {
             "fill": {
              "color": "#C8D4E3"
             },
             "line": {
              "color": "white"
             }
            },
            "type": "table"
           }
          ]
         },
         "layout": {
          "annotationdefaults": {
           "arrowcolor": "#2a3f5f",
           "arrowhead": 0,
           "arrowwidth": 1
          },
          "autotypenumbers": "strict",
          "coloraxis": {
           "colorbar": {
            "outlinewidth": 0,
            "ticks": ""
           }
          },
          "colorscale": {
           "diverging": [
            [
             0,
             "#8e0152"
            ],
            [
             0.1,
             "#c51b7d"
            ],
            [
             0.2,
             "#de77ae"
            ],
            [
             0.3,
             "#f1b6da"
            ],
            [
             0.4,
             "#fde0ef"
            ],
            [
             0.5,
             "#f7f7f7"
            ],
            [
             0.6,
             "#e6f5d0"
            ],
            [
             0.7,
             "#b8e186"
            ],
            [
             0.8,
             "#7fbc41"
            ],
            [
             0.9,
             "#4d9221"
            ],
            [
             1,
             "#276419"
            ]
           ],
           "sequential": [
            [
             0,
             "#0d0887"
            ],
            [
             0.1111111111111111,
             "#46039f"
            ],
            [
             0.2222222222222222,
             "#7201a8"
            ],
            [
             0.3333333333333333,
             "#9c179e"
            ],
            [
             0.4444444444444444,
             "#bd3786"
            ],
            [
             0.5555555555555556,
             "#d8576b"
            ],
            [
             0.6666666666666666,
             "#ed7953"
            ],
            [
             0.7777777777777778,
             "#fb9f3a"
            ],
            [
             0.8888888888888888,
             "#fdca26"
            ],
            [
             1,
             "#f0f921"
            ]
           ],
           "sequentialminus": [
            [
             0,
             "#0d0887"
            ],
            [
             0.1111111111111111,
             "#46039f"
            ],
            [
             0.2222222222222222,
             "#7201a8"
            ],
            [
             0.3333333333333333,
             "#9c179e"
            ],
            [
             0.4444444444444444,
             "#bd3786"
            ],
            [
             0.5555555555555556,
             "#d8576b"
            ],
            [
             0.6666666666666666,
             "#ed7953"
            ],
            [
             0.7777777777777778,
             "#fb9f3a"
            ],
            [
             0.8888888888888888,
             "#fdca26"
            ],
            [
             1,
             "#f0f921"
            ]
           ]
          },
          "colorway": [
           "#636efa",
           "#EF553B",
           "#00cc96",
           "#ab63fa",
           "#FFA15A",
           "#19d3f3",
           "#FF6692",
           "#B6E880",
           "#FF97FF",
           "#FECB52"
          ],
          "font": {
           "color": "#2a3f5f"
          },
          "geo": {
           "bgcolor": "white",
           "lakecolor": "white",
           "landcolor": "#E5ECF6",
           "showlakes": true,
           "showland": true,
           "subunitcolor": "white"
          },
          "hoverlabel": {
           "align": "left"
          },
          "hovermode": "closest",
          "mapbox": {
           "style": "light"
          },
          "paper_bgcolor": "white",
          "plot_bgcolor": "#E5ECF6",
          "polar": {
           "angularaxis": {
            "gridcolor": "white",
            "linecolor": "white",
            "ticks": ""
           },
           "bgcolor": "#E5ECF6",
           "radialaxis": {
            "gridcolor": "white",
            "linecolor": "white",
            "ticks": ""
           }
          },
          "scene": {
           "xaxis": {
            "backgroundcolor": "#E5ECF6",
            "gridcolor": "white",
            "gridwidth": 2,
            "linecolor": "white",
            "showbackground": true,
            "ticks": "",
            "zerolinecolor": "white"
           },
           "yaxis": {
            "backgroundcolor": "#E5ECF6",
            "gridcolor": "white",
            "gridwidth": 2,
            "linecolor": "white",
            "showbackground": true,
            "ticks": "",
            "zerolinecolor": "white"
           },
           "zaxis": {
            "backgroundcolor": "#E5ECF6",
            "gridcolor": "white",
            "gridwidth": 2,
            "linecolor": "white",
            "showbackground": true,
            "ticks": "",
            "zerolinecolor": "white"
           }
          },
          "shapedefaults": {
           "line": {
            "color": "#2a3f5f"
           }
          },
          "ternary": {
           "aaxis": {
            "gridcolor": "white",
            "linecolor": "white",
            "ticks": ""
           },
           "baxis": {
            "gridcolor": "white",
            "linecolor": "white",
            "ticks": ""
           },
           "bgcolor": "#E5ECF6",
           "caxis": {
            "gridcolor": "white",
            "linecolor": "white",
            "ticks": ""
           }
          },
          "title": {
           "x": 0.05
          },
          "xaxis": {
           "automargin": true,
           "gridcolor": "white",
           "linecolor": "white",
           "ticks": "",
           "title": {
            "standoff": 15
           },
           "zerolinecolor": "white",
           "zerolinewidth": 2
          },
          "yaxis": {
           "automargin": true,
           "gridcolor": "white",
           "linecolor": "white",
           "ticks": "",
           "title": {
            "standoff": 15
           },
           "zerolinecolor": "white",
           "zerolinewidth": 2
          }
         }
        },
        "title": {
         "text": "Seasonal Decomposition of Monthly Births Data"
        },
        "xaxis": {
         "anchor": "y",
         "domain": [
          0,
          1
         ]
        },
        "xaxis2": {
         "anchor": "y2",
         "domain": [
          0,
          1
         ]
        },
        "xaxis3": {
         "anchor": "y3",
         "domain": [
          0,
          1
         ]
        },
        "xaxis4": {
         "anchor": "y4",
         "domain": [
          0,
          1
         ]
        },
        "yaxis": {
         "anchor": "x",
         "domain": [
          0.81,
          1
         ],
         "title": {
          "text": "Births"
         }
        },
        "yaxis2": {
         "anchor": "x2",
         "domain": [
          0.54,
          0.73
         ],
         "title": {
          "text": "Trend Level"
         }
        },
        "yaxis3": {
         "anchor": "x3",
         "domain": [
          0.27,
          0.46
         ],
         "title": {
          "text": "Seasonal Effect"
         }
        },
        "yaxis4": {
         "anchor": "x4",
         "domain": [
          0,
          0.19
         ],
         "title": {
          "text": "Residual"
         }
        }
       }
      }
     },
     "metadata": {},
     "output_type": "display_data"
    },
    {
     "name": "stdout",
     "output_type": "stream",
     "text": [
      "📊 Residual variance (additive model): 5.38e+07\n"
     ]
    }
   ],
   "source": [
    "# Perform classical seasonal decomposition using pure numpy\n",
    "# We'll implement a simple additive decomposition without pandas dependency\n",
    "\n",
    "# Simple moving average for trend estimation (12-month centered)\n",
    "def simple_moving_average(data, window=12):\n",
    "    \"\"\"Calculate centered moving average for trend estimation\"\"\"\n",
    "    trend = np.full_like(data, np.nan, dtype=float)\n",
    "    half_window = window // 2\n",
    "    \n",
    "    for i in range(half_window, len(data) - half_window):\n",
    "        trend[i] = np.mean(data[i - half_window:i + half_window + 1])\n",
    "    \n",
    "    return trend\n",
    "\n",
    "# Calculate trend component\n",
    "trend_component = simple_moving_average(births_values, window=12)\n",
    "\n",
    "# Calculate seasonal component (average for each month)\n",
    "trend_filled = np.where(np.isnan(trend_component), np.nanmean(trend_component), trend_component)\n",
    "detrended = births_values - trend_filled\n",
    "seasonal_component = np.zeros_like(births_values)\n",
    "\n",
    "# Calculate average seasonal effect for each month\n",
    "for month in range(12):\n",
    "    month_indices = np.arange(month, len(births_values), 12)\n",
    "    month_values = detrended[month_indices]\n",
    "    # Remove NaN values for calculation\n",
    "    month_values_clean = month_values[~np.isnan(month_values)]\n",
    "    if len(month_values_clean) > 0:\n",
    "        seasonal_effect = np.mean(month_values_clean)\n",
    "        seasonal_component[month_indices] = seasonal_effect\n",
    "\n",
    "# Calculate residual component\n",
    "residual_component = births_values - trend_filled - seasonal_component\n",
    "\n",
    "# Create decomposition object-like structure for compatibility\n",
    "class SimpleDecomposition:\n",
    "    def __init__(self, observed, trend, seasonal, resid):\n",
    "        self.observed = observed\n",
    "        self.trend = trend\n",
    "        self.seasonal = seasonal\n",
    "        self.resid = resid\n",
    "\n",
    "decomp_add = SimpleDecomposition(births_values, trend_component, seasonal_component, residual_component)\n",
    "\n",
    "# Create decomposition plots using plotly subplots\n",
    "fig = make_subplots(\n",
    "    rows=4, cols=1,\n",
    "    subplot_titles=(\n",
    "        '📊 Original Data',\n",
    "        '📈 Trend Component',\n",
    "        '🗓️ Seasonal Component',\n",
    "        '🎲 Residual Component'\n",
    "    ),\n",
    "    vertical_spacing=0.08\n",
    ")\n",
    "\n",
    "# Additive decomposition components\n",
    "components_add = ['observed', 'trend', 'seasonal', 'resid']\n",
    "colors = ['steelblue', 'darkred', 'darkgreen', 'purple']\n",
    "y_labels = ['Births', 'Trend Level', 'Seasonal Effect', 'Residual']\n",
    "\n",
    "for i, (comp, color, ylabel) in enumerate(zip(components_add, colors, y_labels)):\n",
    "    data = getattr(decomp_add, comp)\n",
    "    fig.add_trace(\n",
    "        go.Scatter(\n",
    "            x=dates,\n",
    "            y=data,\n",
    "            mode='lines',\n",
    "            line=dict(color=color, width=1.5),\n",
    "            name=comp.title(),\n",
    "            showlegend=False\n",
    "        ),\n",
    "        row=i+1, col=1\n",
    "    )\n",
    "    \n",
    "    # Update y-axis labels\n",
    "    fig.update_yaxes(title_text=ylabel, row=i+1, col=1)\n",
    "\n",
    "# Update layout\n",
    "fig.update_layout(\n",
    "    height=800,\n",
    "    title_text='Seasonal Decomposition of Monthly Births Data',\n",
    "    showlegend=False\n",
    ")\n",
    "\n",
    "fig.show()\n",
    "\n",
    "# Examine the residual variance\n",
    "# Remove NaN values from residuals before calculating variance\n",
    "residuals_clean = decomp_add.resid[~np.isnan(decomp_add.resid)]\n",
    "resid_var_add = np.var(residuals_clean)\n",
    "print(f\"📊 Residual variance (additive model): {resid_var_add:.2e}\")"
   ]
  },
  {
   "cell_type": "markdown",
   "metadata": {},
   "source": [
    "## Autocorrelation Analysis\n",
    "\n",
    "Let's examine the temporal dependence in our births data by computing and visualizing the autocorrelation function (ACF). This will help us understand how past values influence future values."
   ]
  },
  {
   "cell_type": "code",
   "execution_count": 11,
   "metadata": {},
   "outputs": [
    {
     "data": {
      "application/vnd.plotly.v1+json": {
       "config": {
        "plotlyServerURL": "https://plot.ly"
       },
       "data": [
        {
         "line": {
          "color": "steelblue",
          "width": 2
         },
         "mode": "lines",
         "showlegend": false,
         "type": "scatter",
         "x": [
          0,
          0
         ],
         "xaxis": "x",
         "y": [
          0,
          1
         ],
         "yaxis": "y"
        },
        {
         "line": {
          "color": "steelblue",
          "width": 2
         },
         "mode": "lines",
         "showlegend": false,
         "type": "scatter",
         "x": [
          1,
          1
         ],
         "xaxis": "x",
         "y": [
          0,
          0.8150267802424488
         ],
         "yaxis": "y"
        },
        {
         "line": {
          "color": "steelblue",
          "width": 2
         },
         "mode": "lines",
         "showlegend": false,
         "type": "scatter",
         "x": [
          2,
          2
         ],
         "xaxis": "x",
         "y": [
          0,
          0.769498800384032
         ],
         "yaxis": "y"
        },
        {
         "line": {
          "color": "steelblue",
          "width": 2
         },
         "mode": "lines",
         "showlegend": false,
         "type": "scatter",
         "x": [
          3,
          3
         ],
         "xaxis": "x",
         "y": [
          0,
          0.6533713699235832
         ],
         "yaxis": "y"
        },
        {
         "line": {
          "color": "steelblue",
          "width": 2
         },
         "mode": "lines",
         "showlegend": false,
         "type": "scatter",
         "x": [
          4,
          4
         ],
         "xaxis": "x",
         "y": [
          0,
          0.55021324746884
         ],
         "yaxis": "y"
        },
        {
         "line": {
          "color": "steelblue",
          "width": 2
         },
         "mode": "lines",
         "showlegend": false,
         "type": "scatter",
         "x": [
          5,
          5
         ],
         "xaxis": "x",
         "y": [
          0,
          0.49844051248490073
         ],
         "yaxis": "y"
        },
        {
         "line": {
          "color": "steelblue",
          "width": 2
         },
         "mode": "lines",
         "showlegend": false,
         "type": "scatter",
         "x": [
          6,
          6
         ],
         "xaxis": "x",
         "y": [
          0,
          0.42656259594687246
         ],
         "yaxis": "y"
        },
        {
         "line": {
          "color": "steelblue",
          "width": 2
         },
         "mode": "lines",
         "showlegend": false,
         "type": "scatter",
         "x": [
          7,
          7
         ],
         "xaxis": "x",
         "y": [
          0,
          0.4715586303837277
         ],
         "yaxis": "y"
        },
        {
         "line": {
          "color": "steelblue",
          "width": 2
         },
         "mode": "lines",
         "showlegend": false,
         "type": "scatter",
         "x": [
          8,
          8
         ],
         "xaxis": "x",
         "y": [
          0,
          0.4963453476600104
         ],
         "yaxis": "y"
        },
        {
         "line": {
          "color": "steelblue",
          "width": 2
         },
         "mode": "lines",
         "showlegend": false,
         "type": "scatter",
         "x": [
          9,
          9
         ],
         "xaxis": "x",
         "y": [
          0,
          0.5714224942394321
         ],
         "yaxis": "y"
        },
        {
         "line": {
          "color": "steelblue",
          "width": 2
         },
         "mode": "lines",
         "showlegend": false,
         "type": "scatter",
         "x": [
          10,
          10
         ],
         "xaxis": "x",
         "y": [
          0,
          0.650769429277352
         ],
         "yaxis": "y"
        },
        {
         "line": {
          "color": "steelblue",
          "width": 2
         },
         "mode": "lines",
         "showlegend": false,
         "type": "scatter",
         "x": [
          11,
          11
         ],
         "xaxis": "x",
         "y": [
          0,
          0.6773276311025488
         ],
         "yaxis": "y"
        },
        {
         "line": {
          "color": "steelblue",
          "width": 2
         },
         "mode": "lines",
         "showlegend": false,
         "type": "scatter",
         "x": [
          12,
          12
         ],
         "xaxis": "x",
         "y": [
          0,
          0.8199090245621605
         ],
         "yaxis": "y"
        },
        {
         "line": {
          "color": "steelblue",
          "width": 2
         },
         "mode": "lines",
         "showlegend": false,
         "type": "scatter",
         "x": [
          13,
          13
         ],
         "xaxis": "x",
         "y": [
          0,
          0.6458339603416706
         ],
         "yaxis": "y"
        },
        {
         "line": {
          "color": "steelblue",
          "width": 2
         },
         "mode": "lines",
         "showlegend": false,
         "type": "scatter",
         "x": [
          14,
          14
         ],
         "xaxis": "x",
         "y": [
          0,
          0.6035304825923407
         ],
         "yaxis": "y"
        },
        {
         "line": {
          "color": "steelblue",
          "width": 2
         },
         "mode": "lines",
         "showlegend": false,
         "type": "scatter",
         "x": [
          15,
          15
         ],
         "xaxis": "x",
         "y": [
          0,
          0.4828766849404608
         ],
         "yaxis": "y"
        },
        {
         "line": {
          "color": "steelblue",
          "width": 2
         },
         "mode": "lines",
         "showlegend": false,
         "type": "scatter",
         "x": [
          16,
          16
         ],
         "xaxis": "x",
         "y": [
          0,
          0.389563689727222
         ],
         "yaxis": "y"
        },
        {
         "line": {
          "color": "steelblue",
          "width": 2
         },
         "mode": "lines",
         "showlegend": false,
         "type": "scatter",
         "x": [
          17,
          17
         ],
         "xaxis": "x",
         "y": [
          0,
          0.34762845309479
         ],
         "yaxis": "y"
        },
        {
         "line": {
          "color": "steelblue",
          "width": 2
         },
         "mode": "lines",
         "showlegend": false,
         "type": "scatter",
         "x": [
          18,
          18
         ],
         "xaxis": "x",
         "y": [
          0,
          0.27724923840962357
         ],
         "yaxis": "y"
        },
        {
         "line": {
          "color": "steelblue",
          "width": 2
         },
         "mode": "lines",
         "showlegend": false,
         "type": "scatter",
         "x": [
          19,
          19
         ],
         "xaxis": "x",
         "y": [
          0,
          0.3274205926765318
         ],
         "yaxis": "y"
        },
        {
         "line": {
          "color": "steelblue",
          "width": 2
         },
         "mode": "lines",
         "showlegend": false,
         "type": "scatter",
         "x": [
          20,
          20
         ],
         "xaxis": "x",
         "y": [
          0,
          0.35614969757576515
         ],
         "yaxis": "y"
        },
        {
         "line": {
          "color": "steelblue",
          "width": 2
         },
         "mode": "lines",
         "showlegend": false,
         "type": "scatter",
         "x": [
          21,
          21
         ],
         "xaxis": "x",
         "y": [
          0,
          0.4278771464187303
         ],
         "yaxis": "y"
        },
        {
         "line": {
          "color": "steelblue",
          "width": 2
         },
         "mode": "lines",
         "showlegend": false,
         "type": "scatter",
         "x": [
          22,
          22
         ],
         "xaxis": "x",
         "y": [
          0,
          0.506190313114981
         ],
         "yaxis": "y"
        },
        {
         "line": {
          "color": "steelblue",
          "width": 2
         },
         "mode": "lines",
         "showlegend": false,
         "type": "scatter",
         "x": [
          23,
          23
         ],
         "xaxis": "x",
         "y": [
          0,
          0.5352975894052948
         ],
         "yaxis": "y"
        },
        {
         "line": {
          "color": "steelblue",
          "width": 2
         },
         "mode": "lines",
         "showlegend": false,
         "type": "scatter",
         "x": [
          24,
          24
         ],
         "xaxis": "x",
         "y": [
          0,
          0.665510246384271
         ],
         "yaxis": "y"
        },
        {
         "line": {
          "color": "steelblue",
          "width": 2
         },
         "mode": "lines",
         "showlegend": false,
         "type": "scatter",
         "x": [
          25,
          25
         ],
         "xaxis": "x",
         "y": [
          0,
          0.5008711743474641
         ],
         "yaxis": "y"
        },
        {
         "line": {
          "color": "steelblue",
          "width": 2
         },
         "mode": "lines",
         "showlegend": false,
         "type": "scatter",
         "x": [
          26,
          26
         ],
         "xaxis": "x",
         "y": [
          0,
          0.4581986390755291
         ],
         "yaxis": "y"
        },
        {
         "line": {
          "color": "steelblue",
          "width": 2
         },
         "mode": "lines",
         "showlegend": false,
         "type": "scatter",
         "x": [
          27,
          27
         ],
         "xaxis": "x",
         "y": [
          0,
          0.3440352637497925
         ],
         "yaxis": "y"
        },
        {
         "line": {
          "color": "steelblue",
          "width": 2
         },
         "mode": "lines",
         "showlegend": false,
         "type": "scatter",
         "x": [
          28,
          28
         ],
         "xaxis": "x",
         "y": [
          0,
          0.26314769894398926
         ],
         "yaxis": "y"
        },
        {
         "line": {
          "color": "steelblue",
          "width": 2
         },
         "mode": "lines",
         "showlegend": false,
         "type": "scatter",
         "x": [
          29,
          29
         ],
         "xaxis": "x",
         "y": [
          0,
          0.2257272762802541
         ],
         "yaxis": "y"
        },
        {
         "line": {
          "color": "steelblue",
          "width": 2
         },
         "mode": "lines",
         "showlegend": false,
         "type": "scatter",
         "x": [
          30,
          30
         ],
         "xaxis": "x",
         "y": [
          0,
          0.1649173477079121
         ],
         "yaxis": "y"
        },
        {
         "line": {
          "color": "steelblue",
          "width": 2
         },
         "mode": "lines",
         "showlegend": false,
         "type": "scatter",
         "x": [
          31,
          31
         ],
         "xaxis": "x",
         "y": [
          0,
          0.21896990911839018
         ],
         "yaxis": "y"
        },
        {
         "line": {
          "color": "steelblue",
          "width": 2
         },
         "mode": "lines",
         "showlegend": false,
         "type": "scatter",
         "x": [
          32,
          32
         ],
         "xaxis": "x",
         "y": [
          0,
          0.24414441481327503
         ],
         "yaxis": "y"
        },
        {
         "line": {
          "color": "steelblue",
          "width": 2
         },
         "mode": "lines",
         "showlegend": false,
         "type": "scatter",
         "x": [
          33,
          33
         ],
         "xaxis": "x",
         "y": [
          0,
          0.3098930514866341
         ],
         "yaxis": "y"
        },
        {
         "line": {
          "color": "steelblue",
          "width": 2
         },
         "mode": "lines",
         "showlegend": false,
         "type": "scatter",
         "x": [
          34,
          34
         ],
         "xaxis": "x",
         "y": [
          0,
          0.38358961191077684
         ],
         "yaxis": "y"
        },
        {
         "line": {
          "color": "steelblue",
          "width": 2
         },
         "mode": "lines",
         "showlegend": false,
         "type": "scatter",
         "x": [
          35,
          35
         ],
         "xaxis": "x",
         "y": [
          0,
          0.40320834598297495
         ],
         "yaxis": "y"
        },
        {
         "line": {
          "color": "steelblue",
          "width": 2
         },
         "mode": "lines",
         "showlegend": false,
         "type": "scatter",
         "x": [
          36,
          36
         ],
         "xaxis": "x",
         "y": [
          0,
          0.5212855511312074
         ],
         "yaxis": "y"
        },
        {
         "marker": {
          "color": "steelblue",
          "size": 6
         },
         "mode": "markers",
         "name": "ACF",
         "showlegend": false,
         "type": "scatter",
         "x": {
          "bdata": "AAECAwQFBgcICQoLDA0ODxAREhMUFRYXGBkaGxwdHh8gISIjJA==",
          "dtype": "i1"
         },
         "xaxis": "x",
         "y": {
          "bdata": "AAAAAAAA8D8HLdAKsxTqP6S9vvK7n+g/QN0+E2vo5D9FjPbPWJvhP7jxBwlz5t8/uXnSM81M2z8mQuk/BC7eP/ks7kYfxN8/pKCe0xdJ4j8yc/9oGtPkPzdnCP+qrOU/WhLG2bE86j9PCUr7q6rkP0LxmygfUOM/v310nHPn3j/CmcWKnO7YP1ngTGmLP9Y/+trzlnO+0T/+SWWAdfTUP2td5Bkoy9Y/hMCk01Zi2z/eLwwHtjLgP7XyA2koIeE/dPLrJNxL5T9smyr8IgfgP7WreWIgU90/T3iee6wE1j+G2j5yadfQPyssuKKh5Mw/3Gl5+wIcxT+rXDy7NAfMP6rhj8ofQM8/nSJZqknV0z/ffo9xu4zYPwAn3mAqztk/Q4w/CV+u4D8=",
          "dtype": "f8"
         },
         "yaxis": "y"
        },
        {
         "marker": {
          "color": "lightcoral"
         },
         "name": "Seasonal ACF",
         "opacity": 0.7,
         "showlegend": false,
         "type": "bar",
         "x": [
          "1 Year",
          "2 Years",
          "3 Years"
         ],
         "xaxis": "x2",
         "y": [
          0.8199090245621605,
          0.665510246384271,
          0.5212855511312074
         ],
         "yaxis": "y2"
        }
       ],
       "layout": {
        "annotations": [
         {
          "font": {
           "size": 16
          },
          "showarrow": false,
          "text": "📊 Autocorrelation Function (ACF)",
          "x": 0.225,
          "xanchor": "center",
          "xref": "paper",
          "y": 1,
          "yanchor": "bottom",
          "yref": "paper"
         },
         {
          "font": {
           "size": 16
          },
          "showarrow": false,
          "text": "🗓️ Seasonal Autocorrelations",
          "x": 0.775,
          "xanchor": "center",
          "xref": "paper",
          "y": 1,
          "yanchor": "bottom",
          "yref": "paper"
         }
        ],
        "height": 400,
        "shapes": [
         {
          "line": {
           "color": "black",
           "width": 1
          },
          "opacity": 0.3,
          "type": "line",
          "x0": 0,
          "x1": 1,
          "xref": "x domain",
          "y0": 0,
          "y1": 0,
          "yref": "y"
         },
         {
          "line": {
           "color": "red",
           "dash": "dash"
          },
          "opacity": 0.5,
          "type": "line",
          "x0": 0,
          "x1": 1,
          "xref": "x domain",
          "y0": 0.2,
          "y1": 0.2,
          "yref": "y"
         },
         {
          "line": {
           "color": "red",
           "dash": "dash"
          },
          "opacity": 0.5,
          "type": "line",
          "x0": 0,
          "x1": 1,
          "xref": "x domain",
          "y0": -0.2,
          "y1": -0.2,
          "yref": "y"
         },
         {
          "line": {
           "color": "black",
           "width": 1
          },
          "opacity": 0.3,
          "type": "line",
          "x0": 0,
          "x1": 1,
          "xref": "x2 domain",
          "y0": 0,
          "y1": 0,
          "yref": "y2"
         }
        ],
        "showlegend": false,
        "template": {
         "data": {
          "bar": [
           {
            "error_x": {
             "color": "#2a3f5f"
            },
            "error_y": {
             "color": "#2a3f5f"
            },
            "marker": {
             "line": {
              "color": "#E5ECF6",
              "width": 0.5
             },
             "pattern": {
              "fillmode": "overlay",
              "size": 10,
              "solidity": 0.2
             }
            },
            "type": "bar"
           }
          ],
          "barpolar": [
           {
            "marker": {
             "line": {
              "color": "#E5ECF6",
              "width": 0.5
             },
             "pattern": {
              "fillmode": "overlay",
              "size": 10,
              "solidity": 0.2
             }
            },
            "type": "barpolar"
           }
          ],
          "carpet": [
           {
            "aaxis": {
             "endlinecolor": "#2a3f5f",
             "gridcolor": "white",
             "linecolor": "white",
             "minorgridcolor": "white",
             "startlinecolor": "#2a3f5f"
            },
            "baxis": {
             "endlinecolor": "#2a3f5f",
             "gridcolor": "white",
             "linecolor": "white",
             "minorgridcolor": "white",
             "startlinecolor": "#2a3f5f"
            },
            "type": "carpet"
           }
          ],
          "choropleth": [
           {
            "colorbar": {
             "outlinewidth": 0,
             "ticks": ""
            },
            "type": "choropleth"
           }
          ],
          "contour": [
           {
            "colorbar": {
             "outlinewidth": 0,
             "ticks": ""
            },
            "colorscale": [
             [
              0,
              "#0d0887"
             ],
             [
              0.1111111111111111,
              "#46039f"
             ],
             [
              0.2222222222222222,
              "#7201a8"
             ],
             [
              0.3333333333333333,
              "#9c179e"
             ],
             [
              0.4444444444444444,
              "#bd3786"
             ],
             [
              0.5555555555555556,
              "#d8576b"
             ],
             [
              0.6666666666666666,
              "#ed7953"
             ],
             [
              0.7777777777777778,
              "#fb9f3a"
             ],
             [
              0.8888888888888888,
              "#fdca26"
             ],
             [
              1,
              "#f0f921"
             ]
            ],
            "type": "contour"
           }
          ],
          "contourcarpet": [
           {
            "colorbar": {
             "outlinewidth": 0,
             "ticks": ""
            },
            "type": "contourcarpet"
           }
          ],
          "heatmap": [
           {
            "colorbar": {
             "outlinewidth": 0,
             "ticks": ""
            },
            "colorscale": [
             [
              0,
              "#0d0887"
             ],
             [
              0.1111111111111111,
              "#46039f"
             ],
             [
              0.2222222222222222,
              "#7201a8"
             ],
             [
              0.3333333333333333,
              "#9c179e"
             ],
             [
              0.4444444444444444,
              "#bd3786"
             ],
             [
              0.5555555555555556,
              "#d8576b"
             ],
             [
              0.6666666666666666,
              "#ed7953"
             ],
             [
              0.7777777777777778,
              "#fb9f3a"
             ],
             [
              0.8888888888888888,
              "#fdca26"
             ],
             [
              1,
              "#f0f921"
             ]
            ],
            "type": "heatmap"
           }
          ],
          "histogram": [
           {
            "marker": {
             "pattern": {
              "fillmode": "overlay",
              "size": 10,
              "solidity": 0.2
             }
            },
            "type": "histogram"
           }
          ],
          "histogram2d": [
           {
            "colorbar": {
             "outlinewidth": 0,
             "ticks": ""
            },
            "colorscale": [
             [
              0,
              "#0d0887"
             ],
             [
              0.1111111111111111,
              "#46039f"
             ],
             [
              0.2222222222222222,
              "#7201a8"
             ],
             [
              0.3333333333333333,
              "#9c179e"
             ],
             [
              0.4444444444444444,
              "#bd3786"
             ],
             [
              0.5555555555555556,
              "#d8576b"
             ],
             [
              0.6666666666666666,
              "#ed7953"
             ],
             [
              0.7777777777777778,
              "#fb9f3a"
             ],
             [
              0.8888888888888888,
              "#fdca26"
             ],
             [
              1,
              "#f0f921"
             ]
            ],
            "type": "histogram2d"
           }
          ],
          "histogram2dcontour": [
           {
            "colorbar": {
             "outlinewidth": 0,
             "ticks": ""
            },
            "colorscale": [
             [
              0,
              "#0d0887"
             ],
             [
              0.1111111111111111,
              "#46039f"
             ],
             [
              0.2222222222222222,
              "#7201a8"
             ],
             [
              0.3333333333333333,
              "#9c179e"
             ],
             [
              0.4444444444444444,
              "#bd3786"
             ],
             [
              0.5555555555555556,
              "#d8576b"
             ],
             [
              0.6666666666666666,
              "#ed7953"
             ],
             [
              0.7777777777777778,
              "#fb9f3a"
             ],
             [
              0.8888888888888888,
              "#fdca26"
             ],
             [
              1,
              "#f0f921"
             ]
            ],
            "type": "histogram2dcontour"
           }
          ],
          "mesh3d": [
           {
            "colorbar": {
             "outlinewidth": 0,
             "ticks": ""
            },
            "type": "mesh3d"
           }
          ],
          "parcoords": [
           {
            "line": {
             "colorbar": {
              "outlinewidth": 0,
              "ticks": ""
             }
            },
            "type": "parcoords"
           }
          ],
          "pie": [
           {
            "automargin": true,
            "type": "pie"
           }
          ],
          "scatter": [
           {
            "fillpattern": {
             "fillmode": "overlay",
             "size": 10,
             "solidity": 0.2
            },
            "type": "scatter"
           }
          ],
          "scatter3d": [
           {
            "line": {
             "colorbar": {
              "outlinewidth": 0,
              "ticks": ""
             }
            },
            "marker": {
             "colorbar": {
              "outlinewidth": 0,
              "ticks": ""
             }
            },
            "type": "scatter3d"
           }
          ],
          "scattercarpet": [
           {
            "marker": {
             "colorbar": {
              "outlinewidth": 0,
              "ticks": ""
             }
            },
            "type": "scattercarpet"
           }
          ],
          "scattergeo": [
           {
            "marker": {
             "colorbar": {
              "outlinewidth": 0,
              "ticks": ""
             }
            },
            "type": "scattergeo"
           }
          ],
          "scattergl": [
           {
            "marker": {
             "colorbar": {
              "outlinewidth": 0,
              "ticks": ""
             }
            },
            "type": "scattergl"
           }
          ],
          "scattermap": [
           {
            "marker": {
             "colorbar": {
              "outlinewidth": 0,
              "ticks": ""
             }
            },
            "type": "scattermap"
           }
          ],
          "scattermapbox": [
           {
            "marker": {
             "colorbar": {
              "outlinewidth": 0,
              "ticks": ""
             }
            },
            "type": "scattermapbox"
           }
          ],
          "scatterpolar": [
           {
            "marker": {
             "colorbar": {
              "outlinewidth": 0,
              "ticks": ""
             }
            },
            "type": "scatterpolar"
           }
          ],
          "scatterpolargl": [
           {
            "marker": {
             "colorbar": {
              "outlinewidth": 0,
              "ticks": ""
             }
            },
            "type": "scatterpolargl"
           }
          ],
          "scatterternary": [
           {
            "marker": {
             "colorbar": {
              "outlinewidth": 0,
              "ticks": ""
             }
            },
            "type": "scatterternary"
           }
          ],
          "surface": [
           {
            "colorbar": {
             "outlinewidth": 0,
             "ticks": ""
            },
            "colorscale": [
             [
              0,
              "#0d0887"
             ],
             [
              0.1111111111111111,
              "#46039f"
             ],
             [
              0.2222222222222222,
              "#7201a8"
             ],
             [
              0.3333333333333333,
              "#9c179e"
             ],
             [
              0.4444444444444444,
              "#bd3786"
             ],
             [
              0.5555555555555556,
              "#d8576b"
             ],
             [
              0.6666666666666666,
              "#ed7953"
             ],
             [
              0.7777777777777778,
              "#fb9f3a"
             ],
             [
              0.8888888888888888,
              "#fdca26"
             ],
             [
              1,
              "#f0f921"
             ]
            ],
            "type": "surface"
           }
          ],
          "table": [
           {
            "cells": {
             "fill": {
              "color": "#EBF0F8"
             },
             "line": {
              "color": "white"
             }
            },
            "header": {
             "fill": {
              "color": "#C8D4E3"
             },
             "line": {
              "color": "white"
             }
            },
            "type": "table"
           }
          ]
         },
         "layout": {
          "annotationdefaults": {
           "arrowcolor": "#2a3f5f",
           "arrowhead": 0,
           "arrowwidth": 1
          },
          "autotypenumbers": "strict",
          "coloraxis": {
           "colorbar": {
            "outlinewidth": 0,
            "ticks": ""
           }
          },
          "colorscale": {
           "diverging": [
            [
             0,
             "#8e0152"
            ],
            [
             0.1,
             "#c51b7d"
            ],
            [
             0.2,
             "#de77ae"
            ],
            [
             0.3,
             "#f1b6da"
            ],
            [
             0.4,
             "#fde0ef"
            ],
            [
             0.5,
             "#f7f7f7"
            ],
            [
             0.6,
             "#e6f5d0"
            ],
            [
             0.7,
             "#b8e186"
            ],
            [
             0.8,
             "#7fbc41"
            ],
            [
             0.9,
             "#4d9221"
            ],
            [
             1,
             "#276419"
            ]
           ],
           "sequential": [
            [
             0,
             "#0d0887"
            ],
            [
             0.1111111111111111,
             "#46039f"
            ],
            [
             0.2222222222222222,
             "#7201a8"
            ],
            [
             0.3333333333333333,
             "#9c179e"
            ],
            [
             0.4444444444444444,
             "#bd3786"
            ],
            [
             0.5555555555555556,
             "#d8576b"
            ],
            [
             0.6666666666666666,
             "#ed7953"
            ],
            [
             0.7777777777777778,
             "#fb9f3a"
            ],
            [
             0.8888888888888888,
             "#fdca26"
            ],
            [
             1,
             "#f0f921"
            ]
           ],
           "sequentialminus": [
            [
             0,
             "#0d0887"
            ],
            [
             0.1111111111111111,
             "#46039f"
            ],
            [
             0.2222222222222222,
             "#7201a8"
            ],
            [
             0.3333333333333333,
             "#9c179e"
            ],
            [
             0.4444444444444444,
             "#bd3786"
            ],
            [
             0.5555555555555556,
             "#d8576b"
            ],
            [
             0.6666666666666666,
             "#ed7953"
            ],
            [
             0.7777777777777778,
             "#fb9f3a"
            ],
            [
             0.8888888888888888,
             "#fdca26"
            ],
            [
             1,
             "#f0f921"
            ]
           ]
          },
          "colorway": [
           "#636efa",
           "#EF553B",
           "#00cc96",
           "#ab63fa",
           "#FFA15A",
           "#19d3f3",
           "#FF6692",
           "#B6E880",
           "#FF97FF",
           "#FECB52"
          ],
          "font": {
           "color": "#2a3f5f"
          },
          "geo": {
           "bgcolor": "white",
           "lakecolor": "white",
           "landcolor": "#E5ECF6",
           "showlakes": true,
           "showland": true,
           "subunitcolor": "white"
          },
          "hoverlabel": {
           "align": "left"
          },
          "hovermode": "closest",
          "mapbox": {
           "style": "light"
          },
          "paper_bgcolor": "white",
          "plot_bgcolor": "#E5ECF6",
          "polar": {
           "angularaxis": {
            "gridcolor": "white",
            "linecolor": "white",
            "ticks": ""
           },
           "bgcolor": "#E5ECF6",
           "radialaxis": {
            "gridcolor": "white",
            "linecolor": "white",
            "ticks": ""
           }
          },
          "scene": {
           "xaxis": {
            "backgroundcolor": "#E5ECF6",
            "gridcolor": "white",
            "gridwidth": 2,
            "linecolor": "white",
            "showbackground": true,
            "ticks": "",
            "zerolinecolor": "white"
           },
           "yaxis": {
            "backgroundcolor": "#E5ECF6",
            "gridcolor": "white",
            "gridwidth": 2,
            "linecolor": "white",
            "showbackground": true,
            "ticks": "",
            "zerolinecolor": "white"
           },
           "zaxis": {
            "backgroundcolor": "#E5ECF6",
            "gridcolor": "white",
            "gridwidth": 2,
            "linecolor": "white",
            "showbackground": true,
            "ticks": "",
            "zerolinecolor": "white"
           }
          },
          "shapedefaults": {
           "line": {
            "color": "#2a3f5f"
           }
          },
          "ternary": {
           "aaxis": {
            "gridcolor": "white",
            "linecolor": "white",
            "ticks": ""
           },
           "baxis": {
            "gridcolor": "white",
            "linecolor": "white",
            "ticks": ""
           },
           "bgcolor": "#E5ECF6",
           "caxis": {
            "gridcolor": "white",
            "linecolor": "white",
            "ticks": ""
           }
          },
          "title": {
           "x": 0.05
          },
          "xaxis": {
           "automargin": true,
           "gridcolor": "white",
           "linecolor": "white",
           "ticks": "",
           "title": {
            "standoff": 15
           },
           "zerolinecolor": "white",
           "zerolinewidth": 2
          },
          "yaxis": {
           "automargin": true,
           "gridcolor": "white",
           "linecolor": "white",
           "ticks": "",
           "title": {
            "standoff": 15
           },
           "zerolinecolor": "white",
           "zerolinewidth": 2
          }
         }
        },
        "title": {
         "text": "Autocorrelation Analysis"
        },
        "xaxis": {
         "anchor": "y",
         "domain": [
          0,
          0.45
         ],
         "title": {
          "text": "Lag (months)"
         }
        },
        "xaxis2": {
         "anchor": "y2",
         "domain": [
          0.55,
          1
         ],
         "title": {
          "text": "Lag (months)"
         }
        },
        "yaxis": {
         "anchor": "x",
         "domain": [
          0,
          1
         ],
         "title": {
          "text": "Autocorrelation"
         }
        },
        "yaxis2": {
         "anchor": "x2",
         "domain": [
          0,
          1
         ],
         "title": {
          "text": "Autocorrelation"
         }
        }
       }
      }
     },
     "metadata": {},
     "output_type": "display_data"
    }
   ],
   "source": [
    "# Compute autocorrelation function\n",
    "max_lags = 36  # 3 years of monthly data\n",
    "autocorr = acf(births_values, nlags=max_lags, fft=True)\n",
    "\n",
    "# Create autocorrelation plots using plotly subplots\n",
    "fig = make_subplots(\n",
    "    rows=1, cols=2,\n",
    "    subplot_titles=(\n",
    "        '📊 Autocorrelation Function (ACF)',\n",
    "        '🗓️ Seasonal Autocorrelations'\n",
    "    ),\n",
    "    horizontal_spacing=0.1\n",
    ")\n",
    "\n",
    "# Plot 1: Autocorrelation function\n",
    "lags = np.arange(max_lags + 1)\n",
    "\n",
    "# Add stem plot for autocorrelation\n",
    "for i, (lag, corr) in enumerate(zip(lags, autocorr)):\n",
    "    fig.add_trace(\n",
    "        go.Scatter(\n",
    "            x=[lag, lag],\n",
    "            y=[0, corr],\n",
    "            mode='lines',\n",
    "            line=dict(color='steelblue', width=2),\n",
    "            showlegend=False\n",
    "        ),\n",
    "        row=1, col=1\n",
    "    )\n",
    "    \n",
    "# Add markers at the top of stems\n",
    "fig.add_trace(\n",
    "    go.Scatter(\n",
    "        x=lags,\n",
    "        y=autocorr,\n",
    "        mode='markers',\n",
    "        marker=dict(color='steelblue', size=6),\n",
    "        name='ACF',\n",
    "        showlegend=False\n",
    "    ),\n",
    "    row=1, col=1\n",
    ")\n",
    "\n",
    "# Add significance threshold lines\n",
    "fig.add_hline(y=0, line_color='black', line_width=1, opacity=0.3, row=1, col=1)\n",
    "fig.add_hline(y=0.2, line_color='red', line_dash='dash', opacity=0.5, row=1, col=1)\n",
    "fig.add_hline(y=-0.2, line_color='red', line_dash='dash', opacity=0.5, row=1, col=1)\n",
    "\n",
    "# Plot 2: Seasonal autocorrelation pattern\n",
    "seasonal_lags = [12, 24, 36]  # 1, 2, 3 years\n",
    "seasonal_autocorr = [autocorr[lag] for lag in seasonal_lags]\n",
    "\n",
    "fig.add_trace(\n",
    "    go.Bar(\n",
    "        x=['1 Year', '2 Years', '3 Years'],\n",
    "        y=seasonal_autocorr,\n",
    "        marker_color='lightcoral',\n",
    "        opacity=0.7,\n",
    "        name='Seasonal ACF',\n",
    "        showlegend=False\n",
    "    ),\n",
    "    row=1, col=2\n",
    ")\n",
    "\n",
    "# Add zero line for seasonal plot\n",
    "fig.add_hline(y=0, line_color='black', line_width=1, opacity=0.3, row=1, col=2)\n",
    "\n",
    "# Update layout\n",
    "fig.update_layout(\n",
    "    height=400,\n",
    "    title_text='Autocorrelation Analysis',\n",
    "    showlegend=False\n",
    ")\n",
    "\n",
    "# Update axis labels\n",
    "fig.update_xaxes(title_text='Lag (months)', row=1, col=1)\n",
    "fig.update_yaxes(title_text='Autocorrelation', row=1, col=1)\n",
    "fig.update_xaxes(title_text='Lag (months)', row=1, col=2)\n",
    "fig.update_yaxes(title_text='Autocorrelation', row=1, col=2)\n",
    "\n",
    "fig.show()"
   ]
  },
  {
   "cell_type": "markdown",
   "metadata": {},
   "source": [
    "## Data Preprocessing Techniques\n",
    "\n",
    "Before building Bayesian models, proper data preprocessing is essential for ensuring reliable and interpretable results. This section demonstrates key preprocessing techniques that prepare time series data for effective modeling.\n",
    "\n",
    "### Why Preprocessing Matters\n",
    "\n",
    "Time series preprocessing serves several critical purposes that directly impact the success of Bayesian modeling. **Numerical stability** is perhaps the most important consideration—standardization helps MCMC samplers converge more reliably by ensuring that all variables operate on similar scales, preventing numerical overflow or underflow issues that can cause sampling algorithms to fail.\n",
    "\n",
    "**Prior specification** becomes much more intuitive with normalized data. When variables are standardized to have zero mean and unit variance, it's easier to specify reasonable prior distributions since we know the approximate scale of the data. **Model interpretation** is also enhanced because standardized coefficients can be directly compared in terms of their relative importance, and the magnitude of effects becomes more meaningful.\n",
    "\n",
    "Finally, **computational efficiency** improves significantly with well-scaled data. MCMC algorithms explore the parameter space more effectively when the posterior distribution is well-conditioned, leading to faster sampling and better mixing of the chains.\n",
    "\n",
    "### Common Preprocessing Techniques\n",
    "\n",
    "Several preprocessing techniques are commonly used in time series analysis, each serving specific purposes. **Standardization** using the formula $(x - \\mu) / \\sigma$ centers data at zero with unit variance, making it the most popular choice for Bayesian modeling. **Min-Max normalization** scales data to the [0,1] range using $(x - \\min) / (\\max - \\min)$, which is useful when you need bounded variables.\n",
    "\n",
    "**Log transformation** $\\log(x)$ serves multiple purposes: it stabilizes variance in series with changing variability, handles exponential growth patterns, and can make multiplicative relationships additive. **Differencing** computes $x_t - x_{t-1}$ to remove trends and induce stationarity, which is essential for many time series models. Finally, **seasonal decomposition** separates the series into trend, seasonal, and residual components, allowing you to model each component separately or remove seasonal effects before modeling."
   ]
  },
  {
   "cell_type": "code",
   "execution_count": 12,
   "metadata": {},
   "outputs": [
    {
     "name": "stdout",
     "output_type": "stream",
     "text": [
      "📊 Preprocessing Results:\n",
      "   • Original data: mean=293389, std=25027\n",
      "   • Standardized: mean=-0.000, std=1.000\n",
      "   • Min-Max norm: min=0.000, max=1.000\n",
      "   • Log transform: mean=12.586, std=0.086\n",
      "\n",
      "✅ **Selected preprocessing**: Standardized data (mean=0, std=1)\n",
      "   This choice provides:\n",
      "   • Numerical stability for MCMC sampling\n",
      "   • Easy interpretation of parameters\n",
      "   • Natural scale for prior specification\n"
     ]
    }
   ],
   "source": [
    "# Demonstrate different preprocessing transformations\n",
    "original_data = births_subset['births'].to_numpy()\n",
    "\n",
    "# 1. Standardization (most common for Bayesian modeling)\n",
    "standardized = (original_data - original_data.mean()) / original_data.std()\n",
    "\n",
    "# 2. Min-Max normalization  \n",
    "min_max_norm = (original_data - original_data.min()) / (original_data.max() - original_data.min())\n",
    "\n",
    "# 3. Log transformation\n",
    "log_transform = np.log(original_data)\n",
    "\n",
    "print(\"📊 Preprocessing Results:\")\n",
    "print(f\"   • Original data: mean={original_data.mean():.0f}, std={original_data.std():.0f}\")\n",
    "print(f\"   • Standardized: mean={standardized.mean():.3f}, std={standardized.std():.3f}\")\n",
    "print(f\"   • Min-Max norm: min={min_max_norm.min():.3f}, max={min_max_norm.max():.3f}\")\n",
    "print(f\"   • Log transform: mean={log_transform.mean():.3f}, std={log_transform.std():.3f}\")\n",
    "\n",
    "# Choose standardized data for modeling (most common choice)\n",
    "births_standardized = standardized\n",
    "print(f\"\\n✅ **Selected preprocessing**: Standardized data (mean=0, std=1)\")\n",
    "print(f\"   This choice provides:\")\n",
    "print(f\"   • Numerical stability for MCMC sampling\")\n",
    "print(f\"   • Easy interpretation of parameters\")\n",
    "print(f\"   • Natural scale for prior specification\")"
   ]
  },
  {
   "cell_type": "markdown",
   "metadata": {},
   "source": [
    "## Summary\n",
    "\n",
    "In this section, we've built a comprehensive foundation for Bayesian time series analysis by exploring both theoretical concepts and practical applications using the births dataset.\n",
    "\n",
    "### 🎯 **Core Concepts Covered**\n",
    "\n",
    "We began by establishing the **motivation for Bayesian time series analysis**, emphasizing how this approach treats uncertainty quantification as a first-class citizen rather than an afterthought. The Bayesian framework provides principled methods for incorporating prior knowledge and naturally handles complex patterns and missing data that often challenge classical approaches.\n",
    "\n",
    "Our exploration of **time series components and decomposition** revealed the fundamental building blocks of temporal data. We examined how **trend** captures long-term directional movement, **seasonality** represents predictable recurring patterns, **cycles** reflect irregular long-term fluctuations, and **noise** accounts for random unexplained variation. The distinction between additive and multiplicative decomposition models provides crucial guidance for choosing appropriate modeling approaches.\n",
    "\n",
    "The concept of **temporal dependence and autocorrelation** forms the mathematical foundation of time series prediction. Through the autocorrelation function (ACF), we can quantify how past observations influence future values and identify seasonal correlation patterns that inform model specification.\n",
    "\n",
    "**Stationarity concepts** introduced the importance of constant statistical properties over time for many modeling assumptions. We explored how transformation techniques like differencing and detrending can induce stationarity when needed.\n",
    "\n",
    "Finally, our **practical data exploration** demonstrated visual identification of time series components, classical decomposition techniques, and preprocessing considerations essential for Bayesian modeling success.\n",
    "\n",
    "### 📊 **Births Dataset Insights**\n",
    "\n",
    "Through our comprehensive analysis of the births dataset, we discovered several important characteristics. The data exhibits **clear seasonal patterns** with peak births occurring in late summer and early fall, reflecting biological and social factors that influence birth timing. We identified **moderate temporal dependence** that makes this series well-suited for time series modeling approaches. Our decomposition analysis revealed that an **additive model** works well for this dataset, as seasonal fluctuations remain relatively constant over time. These findings also highlighted important **preprocessing considerations** for ensuring Bayesian model stability and convergence.\n",
    "\n",
    "### 🔄 **Connection to Bayesian Modeling**\n",
    "\n",
    "Understanding these time series characteristics proves crucial for effective Bayesian modeling. **Component identification** directly guides model structure choices, helping us decide whether to include trend, seasonal, or cyclical components in our models. **Autocorrelation patterns** inform prior specifications by revealing the strength and nature of temporal dependence. **Decomposition insights** help design hierarchical models that can capture different sources of variation at appropriate levels. Finally, **preprocessing decisions** significantly affect MCMC sampling efficiency and convergence, making proper data preparation essential for successful Bayesian inference.\n",
    "\n",
    "**Next**: In Section 2, we'll dive into the fundamentals of Bayesian inference and learn how to use PyMC to build probabilistic time series models that capture these patterns we've identified.\n",
    "\n",
    "---\n",
    "\n",
    "**Key Takeaways**:\n",
    "- Time series data possess unique characteristics that require specialized modeling approaches, fundamentally different from cross-sectional data analysis\n",
    "- Decomposition techniques reveal interpretable components that guide model design decisions and help us understand the underlying data generating processes\n",
    "- Autocorrelation analysis provides quantitative measures of temporal dependence that inform both model specification and prior choices\n",
    "- Visual exploration and classical methods offer valuable insights that should precede Bayesian modeling, helping us understand data structure before building complex probabilistic models\n",
    "- Proper preprocessing remains essential for successful Bayesian time series modeling, ensuring numerical stability and interpretable results"
   ]
  },
  {
   "cell_type": "code",
   "execution_count": 13,
   "metadata": {},
   "outputs": [
    {
     "name": "stdout",
     "output_type": "stream",
     "text": [
      "Last updated: Sun Jun 01 2025\n",
      "\n",
      "Python implementation: CPython\n",
      "Python version       : 3.13.3\n",
      "IPython version      : 9.1.0\n",
      "\n",
      "polars     : 1.27.1\n",
      "numpy      : 2.2.5\n",
      "statsmodels: 0.14.4\n",
      "plotly     : 6.0.1\n",
      "\n",
      "Watermark: 2.5.0\n",
      "\n"
     ]
    }
   ],
   "source": [
    "%load_ext watermark\n",
    "%watermark -n -u -v -iv -w"
   ]
  }
 ],
 "metadata": {
  "kernelspec": {
   "display_name": "default",
   "language": "python",
   "name": "python3"
  },
  "language_info": {
   "codemirror_mode": {
    "name": "ipython",
    "version": 3
   },
   "file_extension": ".py",
   "mimetype": "text/x-python",
   "name": "python",
   "nbconvert_exporter": "python",
   "pygments_lexer": "ipython3",
   "version": "3.13.3"
  }
 },
 "nbformat": 4,
 "nbformat_minor": 4
}
